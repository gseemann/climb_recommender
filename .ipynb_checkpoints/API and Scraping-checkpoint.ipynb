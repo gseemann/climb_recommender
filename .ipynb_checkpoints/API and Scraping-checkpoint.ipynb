{
 "cells": [
  {
   "cell_type": "markdown",
   "metadata": {},
   "source": [
    "# Gather Data"
   ]
  },
  {
   "cell_type": "code",
   "execution_count": 1,
   "metadata": {
    "ExecuteTime": {
     "end_time": "2020-01-06T21:38:45.203742Z",
     "start_time": "2020-01-06T21:38:44.000461Z"
    }
   },
   "outputs": [],
   "source": [
    "#import libraries\n",
    "import pandas as pd\n",
    "import matplotlib.pyplot as plt\n",
    "%matplotlib inline\n",
    "import seaborn as sns\n",
    "\n",
    "#for api calls\n",
    "import requests\n",
    "import json\n",
    "import time\n",
    "\n",
    "#personal api and aws keys\n",
    "import config\n",
    "\n",
    "import query_helper\n",
    "# import websrcape_wiki_table"
   ]
  },
  {
   "cell_type": "markdown",
   "metadata": {
    "heading_collapsed": true
   },
   "source": [
    "## Create climbs db"
   ]
  },
  {
   "cell_type": "code",
   "execution_count": 2,
   "metadata": {
    "ExecuteTime": {
     "end_time": "2020-01-06T21:38:47.835213Z",
     "start_time": "2020-01-06T21:38:47.265264Z"
    },
    "hidden": true,
    "scrolled": true
   },
   "outputs": [],
   "source": [
    "query_helper.create_db('climbs')"
   ]
  },
  {
   "cell_type": "markdown",
   "metadata": {
    "heading_collapsed": true
   },
   "source": [
    "## Create route table"
   ]
  },
  {
   "cell_type": "code",
   "execution_count": null,
   "metadata": {
    "ExecuteTime": {
     "end_time": "2020-01-06T20:34:40.531667Z",
     "start_time": "2020-01-06T20:34:40.529437Z"
    },
    "hidden": true
   },
   "outputs": [],
   "source": [
    "route_table = \"\"\"\n",
    "CREATE TABLE routes (\n",
    "    id int NOT NULL,\n",
    "    name varchar(100),\n",
    "    type varchar(30),\n",
    "    rating varchar(20),\n",
    "    stars float,\n",
    "    starVotes int,\n",
    "    pitches int,\n",
    "    location varchar(255),\n",
    "    url varchar(255),\n",
    "    longitude float,\n",
    "    latitude float,\n",
    "    PRIMARY KEY (id)\n",
    "    );\n",
    "\"\"\""
   ]
  },
  {
   "cell_type": "code",
   "execution_count": null,
   "metadata": {
    "ExecuteTime": {
     "end_time": "2020-01-06T20:38:57.233287Z",
     "start_time": "2020-01-06T20:38:57.228385Z"
    },
    "hidden": true
   },
   "outputs": [],
   "source": [
    "data['routes'][0]"
   ]
  },
  {
   "cell_type": "code",
   "execution_count": null,
   "metadata": {
    "ExecuteTime": {
     "end_time": "2020-01-06T20:34:45.300611Z",
     "start_time": "2020-01-06T20:34:44.702193Z"
    },
    "hidden": true
   },
   "outputs": [],
   "source": [
    "query_helper.create_table(route_table)"
   ]
  },
  {
   "cell_type": "markdown",
   "metadata": {},
   "source": [
    "## Use Mountain Project Api"
   ]
  },
  {
   "cell_type": "markdown",
   "metadata": {},
   "source": [
    "### Get GPS Coordinates"
   ]
  },
  {
   "cell_type": "code",
   "execution_count": 3,
   "metadata": {
    "ExecuteTime": {
     "end_time": "2020-01-06T21:39:27.266873Z",
     "start_time": "2020-01-06T21:39:27.257947Z"
    }
   },
   "outputs": [],
   "source": [
    "import xml.etree.ElementTree as ET\n",
    "tree = ET.parse('waypoints (1).xml')\n",
    "root = tree.getroot()"
   ]
  },
  {
   "cell_type": "code",
   "execution_count": 7,
   "metadata": {
    "ExecuteTime": {
     "end_time": "2020-01-06T21:39:45.507644Z",
     "start_time": "2020-01-06T21:39:45.505035Z"
    }
   },
   "outputs": [],
   "source": [
    "coordinates = []\n",
    "for child in root:\n",
    "    coordinates.append(child.attrib)"
   ]
  },
  {
   "cell_type": "code",
   "execution_count": 10,
   "metadata": {
    "ExecuteTime": {
     "end_time": "2020-01-06T21:39:51.663589Z",
     "start_time": "2020-01-06T21:39:51.660422Z"
    }
   },
   "outputs": [
    {
     "data": {
      "text/plain": [
       "321"
      ]
     },
     "execution_count": 10,
     "metadata": {},
     "output_type": "execute_result"
    }
   ],
   "source": [
    "len(coordinates)"
   ]
  },
  {
   "cell_type": "markdown",
   "metadata": {},
   "source": [
    "### Using GPS Coordinates to get routes and store to db"
   ]
  },
  {
   "cell_type": "code",
   "execution_count": 11,
   "metadata": {
    "ExecuteTime": {
     "end_time": "2020-01-06T21:39:54.069077Z",
     "start_time": "2020-01-06T21:39:54.066225Z"
    }
   },
   "outputs": [],
   "source": [
    "def mp_gps_call(url_params, api_key):\n",
    "# https://www.mountainproject.com/data/get-routes-for-lat-lon?lat=40.03&lon=-105.25&maxDistance=10&minDiff=5.6&maxDiff=5.10&key=112327568-ec557ff70496df7d0a43436ab9df1201\n",
    "    url = 'https://www.mountainproject.com/data/get-routes-for-lat-lon'\n",
    "#     headers = {'Authorization': 'Bearer {}'.format(api_key)}\n",
    "    response = requests.get(url, params=url_params)\n",
    "    \n",
    "    return response.json()"
   ]
  },
  {
   "cell_type": "markdown",
   "metadata": {},
   "source": [
    "#### Loop over list of GPS coordinates, get routes and insert into db"
   ]
  },
  {
   "cell_type": "code",
   "execution_count": 12,
   "metadata": {
    "ExecuteTime": {
     "end_time": "2020-01-06T23:11:45.550362Z",
     "start_time": "2020-01-06T21:40:39.819520Z"
    }
   },
   "outputs": [],
   "source": [
    "for i,coord in enumerate(coordinates):\n",
    "    ##assign new lat long and use api\n",
    "    api_key = config.api_key\n",
    "    lat = coord['lat']   #32.904600\n",
    "    lon = coord['lon']  #-116.818400\n",
    "    maxResults =500\n",
    "    maxDistance = 10\n",
    "    minDiff = '5.0'\n",
    "    maxDiff = '5.16'\n",
    "\n",
    "    url_params = {  'lat': str(lat),\n",
    "                    'lon': str(lon),\n",
    "                    'maxResults': maxResults,\n",
    "    #                 'maxDistance' : str(maxDistance),\n",
    "    #                 'minDiff': str(minDiff),\n",
    "    #                 'maxDiff': str(maxDiff)\n",
    "                    'key': api_key\n",
    "                 }\n",
    "    # call function and return 5000 route details\n",
    "    data = mp_gps_call(url_params, api_key)\n",
    "    \n",
    "    #check that call successful \n",
    "    if data['success']:\n",
    "        routes = data['routes']\n",
    "        \n",
    "        #store route data in mysql\n",
    "        query_helper.route_to_tup(routes)\n",
    "        \n",
    "        #track our progress\n",
    "        f = open(\"so_far_we_got.txt\", \"a\")\n",
    "        f.write(f'{i} iteration {lat},{lon}')\n",
    "        f.close()\n",
    "        \n",
    "    #print error message if something goes wrong\n",
    "    else:\n",
    "        f'Error!! stopped at {i} iteration {lat},{lon}'\n",
    "        f = open(\"stopped_at.txt\", \"a\")\n",
    "        f.write(f'Error!! stopped at {i} iteration {lat},{lon}')\n",
    "        f.close()\n",
    "        break\n",
    "        \n",
    "    #sleep for a bit to avoid being blocked\n",
    "    time.sleep(3)\n"
   ]
  },
  {
   "cell_type": "markdown",
   "metadata": {},
   "source": [
    "## Webscrape Mountai Project for  Route Descriptions and Reviews"
   ]
  },
  {
   "cell_type": "code",
   "execution_count": 2,
   "metadata": {
    "ExecuteTime": {
     "end_time": "2020-01-09T17:35:47.823959Z",
     "start_time": "2020-01-09T17:35:47.821014Z"
    }
   },
   "outputs": [],
   "source": [
    "import json\n",
    "import requests\n",
    "from bs4 import BeautifulSoup\n",
    "\n",
    "\n",
    "\n",
    "# def get_mush_table(web_address):\n",
    "# web_address = 'https://www.mountainproject.com/route/105792316/robbins-crack'\n",
    "    \n",
    "# page = requests.get(web_address)\n",
    "# soup = BeautifulSoup(page.content, 'html.parser')\n",
    "\n",
    "\n",
    "soup\n",
    "soup_save = soup\n",
    "# ### IF IMPORT IS MESSED UP LOOK HERE. ASSUMES mush Box is always second\n",
    "# info = soup.find_all('table',{\"class\":\"infobox\"})\n",
    "\n",
    "# #get mushroom name \n",
    "# name = [i.string for i in info[1].findAll('i')]\n",
    "\n",
    "# #get mushroom info\n",
    "# divs = info[1].findAll(\"td\")\n",
    "# stuff= divs[1:]\n",
    "# text = []\n",
    "# for i in stuff:\n",
    "#     text.append(i.get_text())\n",
    "\n",
    "# name_and_info = name+text"
   ]
  },
  {
   "cell_type": "code",
   "execution_count": 5,
   "metadata": {
    "ExecuteTime": {
     "end_time": "2020-01-09T17:37:32.499688Z",
     "start_time": "2020-01-09T17:37:32.489546Z"
    }
   },
   "outputs": [
    {
     "data": {
      "text/plain": [
       "[<div class=\"fr-view\">This perfect hand crack is the Woodson classic. The rock is a little slick but keep your feet in the crack and you will have no problem. The crux is the first half of the climb. After the first 15 feet the crack widens for perect hands.</div>,\n",
       " <div class=\"fr-view\">Use #1 and 2 camalot. Some people do this as a high ball boulder problem. Crack is the same size the entire climb. There is a bolt anchor and rap rings at top of rock.</div>]"
      ]
     },
     "execution_count": 5,
     "metadata": {},
     "output_type": "execute_result"
    }
   ],
   "source": [
    "info =soup_save.find_all(class_='fr-view')\n",
    "info"
   ]
  },
  {
   "cell_type": "code",
   "execution_count": 12,
   "metadata": {
    "ExecuteTime": {
     "end_time": "2020-01-09T17:42:13.331135Z",
     "start_time": "2020-01-09T17:42:13.328199Z"
    }
   },
   "outputs": [],
   "source": [
    "describe=[]\n",
    "for i in range(len(info)):\n",
    "    info[i].get_text()"
   ]
  },
  {
   "cell_type": "code",
   "execution_count": 9,
   "metadata": {
    "ExecuteTime": {
     "end_time": "2020-01-09T17:40:43.904574Z",
     "start_time": "2020-01-09T17:40:43.900904Z"
    }
   },
   "outputs": [
    {
     "data": {
      "text/plain": [
       "'This perfect hand crack is the Woodson classic. The rock is a little slick but keep your feet in the crack and you will have no problem. The crux is the first half of the climb. After the first 15 feet the crack widens for perect hands.'"
      ]
     },
     "execution_count": 9,
     "metadata": {},
     "output_type": "execute_result"
    }
   ],
   "source": [
    "info[0].get_text()"
   ]
  },
  {
   "cell_type": "code",
   "execution_count": 11,
   "metadata": {
    "ExecuteTime": {
     "end_time": "2020-01-09T17:41:59.629121Z",
     "start_time": "2020-01-09T17:41:59.625776Z"
    }
   },
   "outputs": [
    {
     "data": {
      "text/plain": [
       "2"
      ]
     },
     "execution_count": 11,
     "metadata": {},
     "output_type": "execute_result"
    }
   ],
   "source": [
    "len(info)"
   ]
  },
  {
   "cell_type": "code",
   "execution_count": null,
   "metadata": {},
   "outputs": [],
   "source": []
  },
  {
   "cell_type": "code",
   "execution_count": null,
   "metadata": {},
   "outputs": [],
   "source": []
  }
 ],
 "metadata": {
  "kernelspec": {
   "display_name": "Python 3",
   "language": "python",
   "name": "python3"
  },
  "language_info": {
   "codemirror_mode": {
    "name": "ipython",
    "version": 3
   },
   "file_extension": ".py",
   "mimetype": "text/x-python",
   "name": "python",
   "nbconvert_exporter": "python",
   "pygments_lexer": "ipython3",
   "version": "3.7.3"
  },
  "varInspector": {
   "cols": {
    "lenName": 16,
    "lenType": 16,
    "lenVar": 40
   },
   "kernels_config": {
    "python": {
     "delete_cmd_postfix": "",
     "delete_cmd_prefix": "del ",
     "library": "var_list.py",
     "varRefreshCmd": "print(var_dic_list())"
    },
    "r": {
     "delete_cmd_postfix": ") ",
     "delete_cmd_prefix": "rm(",
     "library": "var_list.r",
     "varRefreshCmd": "cat(var_dic_list()) "
    }
   },
   "types_to_exclude": [
    "module",
    "function",
    "builtin_function_or_method",
    "instance",
    "_Feature"
   ],
   "window_display": false
  }
 },
 "nbformat": 4,
 "nbformat_minor": 2
}
