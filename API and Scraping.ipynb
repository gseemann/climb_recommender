{
 "cells": [
  {
   "cell_type": "markdown",
   "metadata": {},
   "source": [
    "# Gather Data"
   ]
  },
  {
   "cell_type": "code",
   "execution_count": 1,
   "metadata": {
    "ExecuteTime": {
     "end_time": "2020-09-19T23:18:35.681816Z",
     "start_time": "2020-09-19T23:18:34.955044Z"
    }
   },
   "outputs": [],
   "source": [
    "#import libraries\n",
    "import pandas as pd\n",
    "import matplotlib.pyplot as plt\n",
    "%matplotlib inline\n",
    "import seaborn as sns\n",
    "\n",
    "#for api calls\n",
    "from bs4 import BeautifulSoup\n",
    "import requests\n",
    "import json\n",
    "import time\n",
    "\n",
    "#personal api and aws keys\n",
    "import config\n",
    "\n",
    "import query_helper\n",
    "# import websrcape_wiki_table"
   ]
  },
  {
   "cell_type": "markdown",
   "metadata": {
    "heading_collapsed": true
   },
   "source": [
    "## Create climbs db"
   ]
  },
  {
   "cell_type": "code",
   "execution_count": null,
   "metadata": {
    "ExecuteTime": {
     "end_time": "2020-01-06T21:38:47.835213Z",
     "start_time": "2020-01-06T21:38:47.265264Z"
    },
    "hidden": true,
    "scrolled": true
   },
   "outputs": [],
   "source": [
    "query_helper.create_db('climbs')"
   ]
  },
  {
   "cell_type": "markdown",
   "metadata": {
    "heading_collapsed": true
   },
   "source": [
    "## Create route tables"
   ]
  },
  {
   "cell_type": "code",
   "execution_count": null,
   "metadata": {
    "ExecuteTime": {
     "end_time": "2020-01-06T20:34:40.531667Z",
     "start_time": "2020-01-06T20:34:40.529437Z"
    },
    "hidden": true
   },
   "outputs": [],
   "source": [
    "route_table = \"\"\"\n",
    "CREATE TABLE routes (\n",
    "    id int NOT NULL,\n",
    "    name varchar(100),\n",
    "    type varchar(30),\n",
    "    rating varchar(20),\n",
    "    stars float,\n",
    "    starVotes int,\n",
    "    pitches int,\n",
    "    location varchar(255),\n",
    "    url varchar(255),\n",
    "    longitude float,\n",
    "    latitude float,\n",
    "    PRIMARY KEY (id)\n",
    "    );\n",
    "\"\"\""
   ]
  },
  {
   "cell_type": "code",
   "execution_count": null,
   "metadata": {
    "ExecuteTime": {
     "end_time": "2020-01-06T20:34:45.300611Z",
     "start_time": "2020-01-06T20:34:44.702193Z"
    },
    "hidden": true
   },
   "outputs": [],
   "source": [
    "query_helper.create_table(route_table)"
   ]
  },
  {
   "cell_type": "code",
   "execution_count": null,
   "metadata": {
    "ExecuteTime": {
     "end_time": "2020-01-10T01:59:12.556862Z",
     "start_time": "2020-01-10T01:59:12.554378Z"
    },
    "hidden": true
   },
   "outputs": [],
   "source": [
    "route_describe_table = \"\"\"\n",
    "CREATE TABLE route_description (\n",
    "    id int NOT NULL,\n",
    "    info TEXT,\n",
    "    PRIMARY KEY (id)\n",
    "    );\n",
    "\"\"\""
   ]
  },
  {
   "cell_type": "code",
   "execution_count": null,
   "metadata": {
    "ExecuteTime": {
     "end_time": "2020-01-10T01:59:14.284659Z",
     "start_time": "2020-01-10T01:59:13.693870Z"
    },
    "hidden": true
   },
   "outputs": [],
   "source": [
    "query_helper.create_table(route_describe_table)"
   ]
  },
  {
   "cell_type": "markdown",
   "metadata": {},
   "source": [
    "## Use Mountain Project Api"
   ]
  },
  {
   "cell_type": "markdown",
   "metadata": {},
   "source": [
    "### Get GPS Coordinates"
   ]
  },
  {
   "cell_type": "code",
   "execution_count": 49,
   "metadata": {
    "ExecuteTime": {
     "end_time": "2020-09-07T19:37:09.285559Z",
     "start_time": "2020-09-07T19:37:09.281992Z"
    }
   },
   "outputs": [],
   "source": [
    "import xml.etree.ElementTree as ET\n",
    "tree = ET.parse('waypoints (11).xml')\n",
    "root = tree.getroot()"
   ]
  },
  {
   "cell_type": "code",
   "execution_count": 50,
   "metadata": {
    "ExecuteTime": {
     "end_time": "2020-09-07T19:37:10.244239Z",
     "start_time": "2020-09-07T19:37:10.241589Z"
    }
   },
   "outputs": [],
   "source": [
    "coordinates = []\n",
    "for child in root:\n",
    "    coordinates.append(child.attrib)"
   ]
  },
  {
   "cell_type": "code",
   "execution_count": 51,
   "metadata": {
    "ExecuteTime": {
     "end_time": "2020-09-07T19:37:10.752202Z",
     "start_time": "2020-09-07T19:37:10.746955Z"
    }
   },
   "outputs": [
    {
     "data": {
      "text/plain": [
       "[{'lat': '41.653', 'lon': '-74.37805'},\n",
       " {'lat': '41.66351', 'lon': '-74.36363'},\n",
       " {'lat': '41.67607', 'lon': '-74.3468'},\n",
       " {'lat': '41.68402', 'lon': '-74.3365'},\n",
       " {'lat': '41.68914', 'lon': '-74.32551'},\n",
       " {'lat': '41.68658', 'lon': '-74.31177'},\n",
       " {'lat': '41.75223', 'lon': '-74.24806'},\n",
       " {'lat': '41.75914', 'lon': '-74.25939'},\n",
       " {'lat': '41.77245', 'lon': '-74.23844'},\n",
       " {'lat': '41.7617', 'lon': '-74.22882'},\n",
       " {'lat': '41.77142', 'lon': '-74.24806'},\n",
       " {'lat': '41.70357', 'lon': '-74.26351'},\n",
       " {'lat': '41.71049', 'lon': '-74.24325'},\n",
       " {'lat': '41.71715', 'lon': '-74.22848'},\n",
       " {'lat': '41.72406', 'lon': '-74.22161'},\n",
       " {'lat': '41.72791', 'lon': '-74.21165'},\n",
       " {'lat': '41.73533', 'lon': '-74.19414'},\n",
       " {'lat': '41.74327', 'lon': '-74.18555'},\n",
       " {'lat': '41.74914', 'lon': '-74.17448'},\n",
       " {'lat': '41.75298', 'lon': '-74.16074'},\n",
       " {'lat': '41.76296', 'lon': '-74.1683'},\n",
       " {'lat': '41.77755', 'lon': '-74.15113'},\n",
       " {'lat': '41.77115', 'lon': '-74.15628'},\n",
       " {'lat': '41.78113', 'lon': '-74.14014'},\n",
       " {'lat': '41.78011', 'lon': '-74.12777'},\n",
       " {'lat': '41.77934', 'lon': '-74.14426'},\n",
       " {'lat': '41.75887', 'lon': '-74.17963'}]"
      ]
     },
     "execution_count": 51,
     "metadata": {},
     "output_type": "execute_result"
    }
   ],
   "source": [
    "coordinates"
   ]
  },
  {
   "cell_type": "code",
   "execution_count": 121,
   "metadata": {
    "ExecuteTime": {
     "end_time": "2020-08-09T17:19:39.556418Z",
     "start_time": "2020-08-09T17:19:39.553084Z"
    }
   },
   "outputs": [],
   "source": [
    "for cord in coordinates:\n",
    "    cord['lon'] = str(round((float(cord['lon']) + .5), 5))"
   ]
  },
  {
   "cell_type": "code",
   "execution_count": 122,
   "metadata": {
    "ExecuteTime": {
     "end_time": "2020-08-09T17:19:41.137853Z",
     "start_time": "2020-08-09T17:19:41.115813Z"
    }
   },
   "outputs": [
    {
     "data": {
      "text/plain": [
       "[{'lat': '31.47494', 'lon': '-114.34096'},\n",
       " {'lat': '30.64721', 'lon': '-113.81346'},\n",
       " {'lat': '29.73609', 'lon': '-113.11013'},\n",
       " {'lat': '28.73963', 'lon': '-112.31888'},\n",
       " {'lat': '27.34411', 'lon': '-111.08805'},\n",
       " {'lat': '26.32513', 'lon': '-110.03305'},\n",
       " {'lat': '25.45584', 'lon': '-109.68139'},\n",
       " {'lat': '24.50032', 'lon': '-108.97805'},\n",
       " {'lat': '23.37632', 'lon': '-108.01097'},\n",
       " {'lat': '30.04073', 'lon': '-107.30764'},\n",
       " {'lat': '28.89356', 'lon': '-104.75806'},\n",
       " {'lat': '27.42211', 'lon': '-99.6589'},\n",
       " {'lat': '22.89163', 'lon': '-97.98849'},\n",
       " {'lat': '24.97901', 'lon': '-102.47223'},\n",
       " {'lat': '21.99856', 'lon': '-100.09849'},\n",
       " {'lat': '20.27804', 'lon': '-96.05433'},\n",
       " {'lat': '18.62149', 'lon': '-98.6039'},\n",
       " {'lat': '18.12129', 'lon': '-94.03225'},\n",
       " {'lat': '16.27522', 'lon': '-89.37267'},\n",
       " {'lat': '14.15624', 'lon': '-84.36143'},\n",
       " {'lat': '11.15678', 'lon': '-83.04268'},\n",
       " {'lat': '36.13252', 'lon': '-85.1411'},\n",
       " {'lat': '36.09704', 'lon': '-84.74548'},\n",
       " {'lat': '36.27429', 'lon': '-83.80037'},\n",
       " {'lat': '36.20344', 'lon': '-82.086'},\n",
       " {'lat': '35.86602', 'lon': '-80.32767'},\n",
       " {'lat': '35.27654', 'lon': '-80.30569'},\n",
       " {'lat': '35.41984', 'lon': '-82.17392'},\n",
       " {'lat': '35.52715', 'lon': '-83.95423'},\n",
       " {'lat': '35.29447', 'lon': '-83.0311'},\n",
       " {'lat': '35.13299', 'lon': '-83.40475'},\n",
       " {'lat': '34.89917', 'lon': '-81.51454'},\n",
       " {'lat': '34.17556', 'lon': '-81.58048'},\n",
       " {'lat': '34.53815', 'lon': '-78.94299'},\n",
       " {'lat': '37.87799', 'lon': '-83.53972'},\n",
       " {'lat': '37.87799', 'lon': '-82.90232'},\n",
       " {'lat': '37.89532', 'lon': '-82.22097'},\n",
       " {'lat': '37.72182', 'lon': '-82.22097'},\n",
       " {'lat': '37.68707', 'lon': '-82.9243'},\n",
       " {'lat': '37.6523', 'lon': '-83.4518'},\n",
       " {'lat': '37.58272', 'lon': '-82.15503'},\n",
       " {'lat': '44.94508', 'lon': '-66.48321'},\n",
       " {'lat': '45.99232', 'lon': '-67.40633'},\n",
       " {'lat': '46.90021', 'lon': '-66.76894'},\n",
       " {'lat': '45.88542', 'lon': '-70.30758'},\n",
       " {'lat': '44.74266', 'lon': '-70.19768'},\n",
       " {'lat': '43.86255', 'lon': '-70.96695'},\n",
       " {'lat': '43.97329', 'lon': '-69.71414'},\n",
       " {'lat': '44.30426', 'lon': '-70.35154'},\n",
       " {'lat': '43.33774', 'lon': '-70.65924'},\n",
       " {'lat': '42.79224', 'lon': '-71.05487'},\n",
       " {'lat': '42.98532', 'lon': '-69.60425'},\n",
       " {'lat': '42.95319', 'lon': '-68.85695'},\n",
       " {'lat': '42.22563', 'lon': '-69.73612'},\n",
       " {'lat': '42.29064', 'lon': '-70.85706'},\n",
       " {'lat': '44.72706', 'lon': '-67.93383'},\n",
       " {'lat': '44.19414', 'lon': '-67.95581'},\n",
       " {'lat': '44.02068', 'lon': '-68.04373'},\n",
       " {'lat': '44.02068', 'lon': '-69.09873'},\n",
       " {'lat': '43.33114', 'lon': '-72.98287'},\n",
       " {'lat': '43.32315', 'lon': '-72.72461'},\n",
       " {'lat': '43.26521', 'lon': '-72.44438'},\n",
       " {'lat': '43.23122', 'lon': '-72.0515'},\n",
       " {'lat': '43.51656', 'lon': '-71.70533'},\n",
       " {'lat': '43.87128', 'lon': '-71.53874'},\n",
       " {'lat': '43.7544', 'lon': '-71.98292'},\n",
       " {'lat': '43.69489', 'lon': '-72.54064'},\n",
       " {'lat': '43.75242', 'lon': '-73.06813'},\n",
       " {'lat': '44.02346', 'lon': '-73.1066'},\n",
       " {'lat': '44.01557', 'lon': '-72.91428'},\n",
       " {'lat': '43.99385', 'lon': '-72.74944'},\n",
       " {'lat': '44.00964', 'lon': '-72.29612'},\n",
       " {'lat': '44.06884', 'lon': '-71.76312'},\n",
       " {'lat': '44.29327', 'lon': '-71.70818'},\n",
       " {'lat': '44.28934', 'lon': '-72.04611'},\n",
       " {'lat': '44.19494', 'lon': '-72.70273'},\n",
       " {'lat': '44.33059', 'lon': '-72.99396'},\n",
       " {'lat': '44.28148', 'lon': '-72.25491'},\n",
       " {'lat': '44.54032', 'lon': '-72.54888'},\n",
       " {'lat': '44.60095', 'lon': '-71.98841'},\n",
       " {'lat': '44.78049', 'lon': '-72.07907'},\n",
       " {'lat': '44.58922', 'lon': '-72.27414'},\n",
       " {'lat': '40.5929', 'lon': '-73.18627'},\n",
       " {'lat': '39.98987', 'lon': '-73.03242'},\n",
       " {'lat': '40.00669', 'lon': '-74.37314'},\n",
       " {'lat': '39.21151', 'lon': '-75.27429'},\n",
       " {'lat': '41.78278', 'lon': '-70.21909'},\n",
       " {'lat': '41.65164', 'lon': '-71.31804'},\n",
       " {'lat': '41.55311', 'lon': '-70.17513'},\n",
       " {'lat': '38.02215', 'lon': '-78.06507'},\n",
       " {'lat': '36.9461', 'lon': '-79.35634'},\n",
       " {'lat': '37.26136', 'lon': '-78.4552'},\n",
       " {'lat': '37.50131', 'lon': '-78.05957'},\n",
       " {'lat': '37.71009', 'lon': '-77.49911'},\n",
       " {'lat': '38.16474', 'lon': '-76.83424'},\n",
       " {'lat': '38.75372', 'lon': '-76.31773'},\n",
       " {'lat': '39.54987', 'lon': '-76.08695'},\n",
       " {'lat': '39.54515', 'lon': '-77.04517'},\n",
       " {'lat': '38.85164', 'lon': '-78.39689'},\n",
       " {'lat': '38.66326', 'lon': '-79.9574'},\n",
       " {'lat': '38.76607', 'lon': '-80.58381'},\n",
       " {'lat': '39.77339', 'lon': '-81.06186'},\n",
       " {'lat': '39.93355', 'lon': '-79.71014'},\n",
       " {'lat': '39.86195', 'lon': '-78.20457'},\n",
       " {'lat': '39.61286', 'lon': '-77.58366'},\n",
       " {'lat': '38.48298', 'lon': '-77.36387'},\n",
       " {'lat': '37.66179', 'lon': '-80.42996'},\n",
       " {'lat': '67.18576', 'lon': '-154.1702'},\n",
       " {'lat': '66.66939', 'lon': '-145.20271'},\n",
       " {'lat': '65.16434', 'lon': '-154.08228'},\n",
       " {'lat': '65.01635', 'lon': '-142.65313'},\n",
       " {'lat': '58.5661', 'lon': '-157.15936'},\n",
       " {'lat': '61.08159', 'lon': '-146.43354'},\n",
       " {'lat': '60.69697', 'lon': '-138.87272'},\n",
       " {'lat': '60.00168', 'lon': '-133.50981'},\n",
       " {'lat': '56.73338', 'lon': '-128.32274'},\n",
       " {'lat': '56.19959', 'lon': '-132.54273'},\n",
       " {'lat': '53.83331', 'lon': '-123.75108'},\n",
       " {'lat': '52.83672', 'lon': '-120.1465'},\n",
       " {'lat': '51.97935', 'lon': '-119.35525'},\n",
       " {'lat': '49.98892', 'lon': '-117.77276'},\n",
       " {'lat': '49.59195', 'lon': '-114.51985'},\n",
       " {'lat': '48.27905', 'lon': '-114.365'},\n",
       " {'lat': '47.12633', 'lon': '-113.70563'},\n",
       " {'lat': '45.62649', 'lon': '-113.70563'},\n",
       " {'lat': '43.56256', 'lon': '-113.15615'},\n",
       " {'lat': '42.50313', 'lon': '-112.76052'},\n",
       " {'lat': '41.81943', 'lon': '-109.94719'},\n",
       " {'lat': '42.58403', 'lon': '-102.51818'},\n",
       " {'lat': '43.81664', 'lon': '-105.85901'},\n",
       " {'lat': '44.27441', 'lon': '-108.27672'},\n",
       " {'lat': '42.06445', 'lon': '-108.45255'},\n",
       " {'lat': '41.68836', 'lon': '-102.84787'},\n",
       " {'lat': '44.5098', 'lon': '-102.84787'},\n",
       " {'lat': '45.67255', 'lon': '-103.28745'},\n",
       " {'lat': '46.03963', 'lon': '-106.87005'},\n",
       " {'lat': '46.94673', 'lon': '-110.7164'},\n",
       " {'lat': '47.92708', 'lon': '-106.14474'},\n",
       " {'lat': '47.73543', 'lon': '-102.84787'},\n",
       " {'lat': '48.67576', 'lon': '-94.22089'},\n",
       " {'lat': '47.68', 'lon': '-92.50651'},\n",
       " {'lat': '46.89047', 'lon': '-91.20975'},\n",
       " {'lat': '45.49194', 'lon': '-89.91298'},\n",
       " {'lat': '43.96303', 'lon': '-88.02277'},\n",
       " {'lat': '49.18075', 'lon': '-84.22038'},\n",
       " {'lat': '52.10536', 'lon': '-68.7493'},\n",
       " {'lat': '54.36551', 'lon': '-61.97973'},\n",
       " {'lat': '49.32542', 'lon': '-76.39803'},\n",
       " {'lat': '54.87412', 'lon': '-114.02631'},\n",
       " {'lat': '52.90736', 'lon': '-104.61924'},\n",
       " {'lat': '51.34358', 'lon': '-99.25633'},\n",
       " {'lat': '31.80242', 'lon': '-106.11799'},\n",
       " {'lat': '31.82109', 'lon': '-105.17289'},\n",
       " {'lat': '31.82109', 'lon': '-104.22778'},\n",
       " {'lat': '31.18447', 'lon': '-103.85414'},\n",
       " {'lat': '31.70906', 'lon': '-104.44757'},\n",
       " {'lat': '34.90189', 'lon': '-106.27184'},\n",
       " {'lat': '34.41416', 'lon': '-108.16205'},\n",
       " {'lat': '33.7594', 'lon': '-110.00829'},\n",
       " {'lat': '33.39347', 'lon': '-108.51371'},\n",
       " {'lat': '31.97025', 'lon': '-107.94226'},\n",
       " {'lat': '33.15478', 'lon': '-107.3708'},\n",
       " {'lat': '34.37792', 'lon': '-107.48069'},\n",
       " {'lat': '35.99318', 'lon': '-110.40392'},\n",
       " {'lat': '36.24154', 'lon': '-107.85434'},\n",
       " {'lat': '36.7711', 'lon': '-108.99725'},\n",
       " {'lat': '37.03452', 'lon': '-110.05225'},\n",
       " {'lat': '36.71831', 'lon': '-111.19517'},\n",
       " {'lat': '34.13562', 'lon': '-96.9267'},\n",
       " {'lat': '31.55295', 'lon': '-93.23421'},\n",
       " {'lat': '45.23118', 'lon': '18.46715'},\n",
       " {'lat': '38.69225', 'lon': '-0.69021'},\n",
       " {'lat': '41.71061', 'lon': '1.5077'},\n",
       " {'lat': '45.58588', 'lon': '5.63978'},\n",
       " {'lat': '45.02987', 'lon': '9.42019'},\n",
       " {'lat': '46.19729', 'lon': '13.64018'},\n",
       " {'lat': '44.781', 'lon': '20.05809'},\n",
       " {'lat': '48.28427', 'lon': '16.54143'},\n",
       " {'lat': '47.99116', 'lon': '19.61851'},\n",
       " {'lat': '61.76794', 'lon': '14.16768'},\n",
       " {'lat': '44.2171', 'lon': '22.69559'}]"
      ]
     },
     "execution_count": 122,
     "metadata": {},
     "output_type": "execute_result"
    }
   ],
   "source": [
    "coordinates"
   ]
  },
  {
   "cell_type": "code",
   "execution_count": 110,
   "metadata": {
    "ExecuteTime": {
     "end_time": "2020-08-06T22:02:22.473576Z",
     "start_time": "2020-08-06T22:02:22.470080Z"
    }
   },
   "outputs": [
    {
     "data": {
      "text/plain": [
       "181"
      ]
     },
     "execution_count": 110,
     "metadata": {},
     "output_type": "execute_result"
    }
   ],
   "source": [
    "len(coordinates)"
   ]
  },
  {
   "cell_type": "markdown",
   "metadata": {},
   "source": [
    "### Using GPS Coordinates to get routes and store to db"
   ]
  },
  {
   "cell_type": "code",
   "execution_count": 35,
   "metadata": {
    "ExecuteTime": {
     "end_time": "2020-09-07T19:00:53.173757Z",
     "start_time": "2020-09-07T19:00:53.168614Z"
    }
   },
   "outputs": [],
   "source": [
    "def mp_gps_call(url_params, api_key):\n",
    "    url = 'https://www.mountainproject.com/data/get-routes-for-lat-lon'\n",
    "    response = requests.get(url, params=url_params)\n",
    "    \n",
    "    return response.json()"
   ]
  },
  {
   "cell_type": "markdown",
   "metadata": {},
   "source": [
    "#### Loop over list of GPS coordinates, get routes and insert into db"
   ]
  },
  {
   "cell_type": "code",
   "execution_count": 36,
   "metadata": {
    "ExecuteTime": {
     "end_time": "2020-09-07T19:01:14.079947Z",
     "start_time": "2020-09-07T19:00:53.892042Z"
    }
   },
   "outputs": [],
   "source": [
    "for i,coord in enumerate(coordinates):\n",
    "    ##assign new lat long and use api\n",
    "    api_key = config.api_key\n",
    "    lat = coord['lat']   #32.904600\n",
    "    lon = coord['lon']  #-116.818400\n",
    "    maxResults =500\n",
    "    maxDistance = 10\n",
    "    minDiff = '5.0'\n",
    "    maxDiff = '5.16'\n",
    "\n",
    "    url_params = {  'lat': str(lat),\n",
    "                    'lon': str(lon),\n",
    "                    'maxResults': maxResults,\n",
    "    #                 'maxDistance' : str(maxDistance),\n",
    "    #                 'minDiff': str(minDiff),\n",
    "    #                 'maxDiff': str(maxDiff)\n",
    "                    'key': api_key\n",
    "                 }\n",
    "    # call function and return 5000 route details\n",
    "    data = mp_gps_call(url_params, api_key)\n",
    "    \n",
    "    #check that call successful \n",
    "    if data['success']:\n",
    "        routes = data['routes']\n",
    "        \n",
    "        #store route data in mysql\n",
    "        query_helper.route_to_tup(routes)\n",
    "        \n",
    "        #track our progress\n",
    "        f = open(\"so_far_we_got.txt\", \"a\")\n",
    "        f.write(f'{i} iteration {lat},{lon}')\n",
    "        f.close()\n",
    "        \n",
    "    #print error message if something goes wrong\n",
    "    else:\n",
    "        f'Error!! stopped at {i} iteration {lat},{lon}'\n",
    "        f = open(\"stopped_at.txt\", \"a\")\n",
    "        f.write(f'Error!! stopped at {i} iteration {lat},{lon}')\n",
    "        f.close()\n",
    "        break\n",
    "        \n",
    "    #sleep for a bit to avoid being blocked\n",
    "    time.sleep(.1)\n"
   ]
  },
  {
   "cell_type": "markdown",
   "metadata": {},
   "source": [
    "## Webscrape Mountain Project for  Route Descriptions and Reviews"
   ]
  },
  {
   "cell_type": "markdown",
   "metadata": {},
   "source": [
    "### Get route ids from MySql db"
   ]
  },
  {
   "cell_type": "code",
   "execution_count": 2,
   "metadata": {
    "ExecuteTime": {
     "end_time": "2020-09-19T23:20:22.464964Z",
     "start_time": "2020-09-19T23:20:21.635696Z"
    }
   },
   "outputs": [
    {
     "data": {
      "text/html": [
       "<div>\n",
       "<style scoped>\n",
       "    .dataframe tbody tr th:only-of-type {\n",
       "        vertical-align: middle;\n",
       "    }\n",
       "\n",
       "    .dataframe tbody tr th {\n",
       "        vertical-align: top;\n",
       "    }\n",
       "\n",
       "    .dataframe thead th {\n",
       "        text-align: right;\n",
       "    }\n",
       "</style>\n",
       "<table border=\"1\" class=\"dataframe\">\n",
       "  <thead>\n",
       "    <tr style=\"text-align: right;\">\n",
       "      <th></th>\n",
       "      <th>id</th>\n",
       "    </tr>\n",
       "  </thead>\n",
       "  <tbody>\n",
       "    <tr>\n",
       "      <th>0</th>\n",
       "      <td>105714722</td>\n",
       "    </tr>\n",
       "    <tr>\n",
       "      <th>1</th>\n",
       "      <td>105714728</td>\n",
       "    </tr>\n",
       "    <tr>\n",
       "      <th>2</th>\n",
       "      <td>105714731</td>\n",
       "    </tr>\n",
       "    <tr>\n",
       "      <th>3</th>\n",
       "      <td>105714734</td>\n",
       "    </tr>\n",
       "    <tr>\n",
       "      <th>4</th>\n",
       "      <td>105714737</td>\n",
       "    </tr>\n",
       "  </tbody>\n",
       "</table>\n",
       "</div>"
      ],
      "text/plain": [
       "          id\n",
       "0  105714722\n",
       "1  105714728\n",
       "2  105714731\n",
       "3  105714734\n",
       "4  105714737"
      ]
     },
     "execution_count": 2,
     "metadata": {},
     "output_type": "execute_result"
    }
   ],
   "source": [
    "id_df = query_helper.query_to_df(\"SELECT id FROM climbs.routes;\")\n",
    "id_df.head()"
   ]
  },
  {
   "cell_type": "code",
   "execution_count": 3,
   "metadata": {
    "ExecuteTime": {
     "end_time": "2020-09-19T23:20:22.606126Z",
     "start_time": "2020-09-19T23:20:22.603581Z"
    }
   },
   "outputs": [],
   "source": [
    "# import config\n",
    "# import json\n",
    "# import requests\n",
    "# api_key = config.api_key\n",
    "# import time \n",
    "# import datetime\n",
    "# import mysql.connector\n",
    "# from mysql.connector import errorcode\n",
    "# import pandas as pd\n",
    "\n",
    "\n",
    "# #creates connection, all functions will start by calling this\n",
    "# def connect():\n",
    "#     global cnx\n",
    "#     cnx = mysql.connector.connect(\n",
    "#     host = config.host,\n",
    "#     user = config.user,\n",
    "#     passwd = config.password,\n",
    "#     database = 'climbs')\n",
    "#     global cursor\n",
    "#     cursor = cnx.cursor()"
   ]
  },
  {
   "cell_type": "code",
   "execution_count": 4,
   "metadata": {
    "ExecuteTime": {
     "end_time": "2020-09-19T23:20:25.953080Z",
     "start_time": "2020-09-19T23:20:25.949128Z"
    }
   },
   "outputs": [],
   "source": [
    "def get_route_info(id_):\n",
    "    \n",
    "    #get page content\n",
    "    web_address = f'https://www.mountainproject.com/route/{id_}'\n",
    "    \n",
    "    page = requests.get(web_address)\n",
    "    soup = BeautifulSoup(page.content, 'html.parser')\n",
    "    \n",
    "    #grab section of interest\n",
    "    info =soup.find_all(class_='fr-view')\n",
    "    \n",
    "    describe=[]\n",
    "    for i in range(len(info)):\n",
    "        describe.append(info[i].get_text())\n",
    "    \n",
    "    return describe"
   ]
  },
  {
   "cell_type": "code",
   "execution_count": 8,
   "metadata": {
    "ExecuteTime": {
     "end_time": "2020-09-19T23:23:18.984050Z",
     "start_time": "2020-09-19T23:20:50.560277Z"
    }
   },
   "outputs": [],
   "source": [
    "for climb_id in remaining:\n",
    "    ##assign new lat long and use api\n",
    "\n",
    "    # call function and return 5000 route details\n",
    "    description = get_route_info(climb_id)\n",
    "    \n",
    "    query_helper.route_info_to_db((climb_id, '-'.join(description)))\n",
    "\n",
    "    #sleep for a bit to avoid being blocked\n",
    "#     time.sleep(.1)"
   ]
  },
  {
   "cell_type": "markdown",
   "metadata": {},
   "source": [
    "### Use below to get remaining descriptions"
   ]
  },
  {
   "cell_type": "code",
   "execution_count": 5,
   "metadata": {
    "ExecuteTime": {
     "end_time": "2020-09-19T23:20:38.355598Z",
     "start_time": "2020-09-19T23:20:35.130008Z"
    }
   },
   "outputs": [
    {
     "data": {
      "text/plain": [
       "304"
      ]
     },
     "execution_count": 5,
     "metadata": {},
     "output_type": "execute_result"
    }
   ],
   "source": [
    "df_describe = query_helper.query_to_df(\"SELECT id FROM climbs.route_description\")\n",
    "remaining=[]\n",
    "x=[]\n",
    "for i in id_df.id:\n",
    "    if i in df_describe.id.values:\n",
    "        x.append(i)\n",
    "    else:\n",
    "        remaining.append(i)\n",
    "len(remaining)"
   ]
  },
  {
   "cell_type": "code",
   "execution_count": 6,
   "metadata": {
    "ExecuteTime": {
     "end_time": "2020-09-19T23:20:45.544860Z",
     "start_time": "2020-09-19T23:20:45.541011Z"
    }
   },
   "outputs": [
    {
     "data": {
      "text/plain": [
       "77230"
      ]
     },
     "execution_count": 6,
     "metadata": {},
     "output_type": "execute_result"
    }
   ],
   "source": [
    "len(x)"
   ]
  },
  {
   "cell_type": "code",
   "execution_count": 7,
   "metadata": {
    "ExecuteTime": {
     "end_time": "2020-09-19T23:20:46.245995Z",
     "start_time": "2020-09-19T23:20:46.242485Z"
    }
   },
   "outputs": [
    {
     "data": {
      "text/plain": [
       "(77534, 1)"
      ]
     },
     "execution_count": 7,
     "metadata": {},
     "output_type": "execute_result"
    }
   ],
   "source": [
    "id_df.shape"
   ]
  },
  {
   "cell_type": "code",
   "execution_count": 129,
   "metadata": {
    "ExecuteTime": {
     "end_time": "2020-08-09T18:02:00.566397Z",
     "start_time": "2020-08-09T18:01:58.307250Z"
    }
   },
   "outputs": [],
   "source": [
    "df_describe = query_helper.query_to_df(\"SELECT id FROM climbs.route_description\")"
   ]
  },
  {
   "cell_type": "code",
   "execution_count": 130,
   "metadata": {
    "ExecuteTime": {
     "end_time": "2020-08-09T18:02:00.609801Z",
     "start_time": "2020-08-09T18:02:00.606710Z"
    }
   },
   "outputs": [
    {
     "data": {
      "text/plain": [
       "(70702, 1)"
      ]
     },
     "execution_count": 130,
     "metadata": {},
     "output_type": "execute_result"
    }
   ],
   "source": [
    "df_describe.shape"
   ]
  },
  {
   "cell_type": "code",
   "execution_count": null,
   "metadata": {},
   "outputs": [],
   "source": []
  }
 ],
 "metadata": {
  "kernelspec": {
   "display_name": "Python 3",
   "language": "python",
   "name": "python3"
  },
  "language_info": {
   "codemirror_mode": {
    "name": "ipython",
    "version": 3
   },
   "file_extension": ".py",
   "mimetype": "text/x-python",
   "name": "python",
   "nbconvert_exporter": "python",
   "pygments_lexer": "ipython3",
   "version": "3.7.7"
  },
  "varInspector": {
   "cols": {
    "lenName": 16,
    "lenType": 16,
    "lenVar": 40
   },
   "kernels_config": {
    "python": {
     "delete_cmd_postfix": "",
     "delete_cmd_prefix": "del ",
     "library": "var_list.py",
     "varRefreshCmd": "print(var_dic_list())"
    },
    "r": {
     "delete_cmd_postfix": ") ",
     "delete_cmd_prefix": "rm(",
     "library": "var_list.r",
     "varRefreshCmd": "cat(var_dic_list()) "
    }
   },
   "types_to_exclude": [
    "module",
    "function",
    "builtin_function_or_method",
    "instance",
    "_Feature"
   ],
   "window_display": false
  }
 },
 "nbformat": 4,
 "nbformat_minor": 2
}
