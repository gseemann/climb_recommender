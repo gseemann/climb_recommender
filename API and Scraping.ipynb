{
 "cells": [
  {
   "cell_type": "markdown",
   "metadata": {},
   "source": [
    "# Gather Data"
   ]
  },
  {
   "cell_type": "code",
   "execution_count": 9,
   "metadata": {
    "ExecuteTime": {
     "end_time": "2020-01-10T02:36:43.005129Z",
     "start_time": "2020-01-10T02:36:42.877089Z"
    }
   },
   "outputs": [],
   "source": [
    "#import libraries\n",
    "import pandas as pd\n",
    "import matplotlib.pyplot as plt\n",
    "%matplotlib inline\n",
    "import seaborn as sns\n",
    "\n",
    "#for api calls\n",
    "from bs4 import BeautifulSoup\n",
    "import requests\n",
    "import json\n",
    "import time\n",
    "\n",
    "#personal api and aws keys\n",
    "import config\n",
    "\n",
    "import query_helper\n",
    "# import websrcape_wiki_table"
   ]
  },
  {
   "cell_type": "markdown",
   "metadata": {
    "heading_collapsed": true
   },
   "source": [
    "## Create climbs db"
   ]
  },
  {
   "cell_type": "code",
   "execution_count": null,
   "metadata": {
    "ExecuteTime": {
     "end_time": "2020-01-06T21:38:47.835213Z",
     "start_time": "2020-01-06T21:38:47.265264Z"
    },
    "hidden": true,
    "scrolled": true
   },
   "outputs": [],
   "source": [
    "query_helper.create_db('climbs')"
   ]
  },
  {
   "cell_type": "markdown",
   "metadata": {
    "heading_collapsed": true
   },
   "source": [
    "## Create route tables"
   ]
  },
  {
   "cell_type": "code",
   "execution_count": null,
   "metadata": {
    "ExecuteTime": {
     "end_time": "2020-01-06T20:34:40.531667Z",
     "start_time": "2020-01-06T20:34:40.529437Z"
    },
    "hidden": true
   },
   "outputs": [],
   "source": [
    "route_table = \"\"\"\n",
    "CREATE TABLE routes (\n",
    "    id int NOT NULL,\n",
    "    name varchar(100),\n",
    "    type varchar(30),\n",
    "    rating varchar(20),\n",
    "    stars float,\n",
    "    starVotes int,\n",
    "    pitches int,\n",
    "    location varchar(255),\n",
    "    url varchar(255),\n",
    "    longitude float,\n",
    "    latitude float,\n",
    "    PRIMARY KEY (id)\n",
    "    );\n",
    "\"\"\""
   ]
  },
  {
   "cell_type": "code",
   "execution_count": null,
   "metadata": {
    "ExecuteTime": {
     "end_time": "2020-01-06T20:34:45.300611Z",
     "start_time": "2020-01-06T20:34:44.702193Z"
    },
    "hidden": true
   },
   "outputs": [],
   "source": [
    "query_helper.create_table(route_table)"
   ]
  },
  {
   "cell_type": "code",
   "execution_count": null,
   "metadata": {
    "ExecuteTime": {
     "end_time": "2020-01-10T01:59:12.556862Z",
     "start_time": "2020-01-10T01:59:12.554378Z"
    },
    "hidden": true
   },
   "outputs": [],
   "source": [
    "route_describe_table = \"\"\"\n",
    "CREATE TABLE route_description (\n",
    "    id int NOT NULL,\n",
    "    info TEXT,\n",
    "    PRIMARY KEY (id)\n",
    "    );\n",
    "\"\"\""
   ]
  },
  {
   "cell_type": "code",
   "execution_count": null,
   "metadata": {
    "ExecuteTime": {
     "end_time": "2020-01-10T01:59:14.284659Z",
     "start_time": "2020-01-10T01:59:13.693870Z"
    },
    "hidden": true
   },
   "outputs": [],
   "source": [
    "query_helper.create_table(route_describe_table)"
   ]
  },
  {
   "cell_type": "markdown",
   "metadata": {},
   "source": [
    "## Use Mountain Project Api"
   ]
  },
  {
   "cell_type": "markdown",
   "metadata": {
    "heading_collapsed": true
   },
   "source": [
    "### Get GPS Coordinates"
   ]
  },
  {
   "cell_type": "code",
   "execution_count": null,
   "metadata": {
    "ExecuteTime": {
     "end_time": "2020-01-06T21:39:27.266873Z",
     "start_time": "2020-01-06T21:39:27.257947Z"
    },
    "hidden": true
   },
   "outputs": [],
   "source": [
    "import xml.etree.ElementTree as ET\n",
    "tree = ET.parse('waypoints (1).xml')\n",
    "root = tree.getroot()"
   ]
  },
  {
   "cell_type": "code",
   "execution_count": null,
   "metadata": {
    "ExecuteTime": {
     "end_time": "2020-01-06T21:39:45.507644Z",
     "start_time": "2020-01-06T21:39:45.505035Z"
    },
    "hidden": true
   },
   "outputs": [],
   "source": [
    "coordinates = []\n",
    "for child in root:\n",
    "    coordinates.append(child.attrib)"
   ]
  },
  {
   "cell_type": "code",
   "execution_count": null,
   "metadata": {
    "ExecuteTime": {
     "end_time": "2020-01-06T21:39:51.663589Z",
     "start_time": "2020-01-06T21:39:51.660422Z"
    },
    "hidden": true
   },
   "outputs": [],
   "source": [
    "len(coordinates)"
   ]
  },
  {
   "cell_type": "markdown",
   "metadata": {
    "heading_collapsed": true
   },
   "source": [
    "### Using GPS Coordinates to get routes and store to db"
   ]
  },
  {
   "cell_type": "code",
   "execution_count": null,
   "metadata": {
    "ExecuteTime": {
     "end_time": "2020-01-06T21:39:54.069077Z",
     "start_time": "2020-01-06T21:39:54.066225Z"
    },
    "hidden": true
   },
   "outputs": [],
   "source": [
    "def mp_gps_call(url_params, api_key):\n",
    "    url = 'https://www.mountainproject.com/data/get-routes-for-lat-lon'\n",
    "    response = requests.get(url, params=url_params)\n",
    "    \n",
    "    return response.json()"
   ]
  },
  {
   "cell_type": "markdown",
   "metadata": {
    "hidden": true
   },
   "source": [
    "#### Loop over list of GPS coordinates, get routes and insert into db"
   ]
  },
  {
   "cell_type": "code",
   "execution_count": null,
   "metadata": {
    "ExecuteTime": {
     "end_time": "2020-01-06T23:11:45.550362Z",
     "start_time": "2020-01-06T21:40:39.819520Z"
    },
    "hidden": true
   },
   "outputs": [],
   "source": [
    "for i,coord in enumerate(coordinates):\n",
    "    ##assign new lat long and use api\n",
    "    api_key = config.api_key\n",
    "    lat = coord['lat']   #32.904600\n",
    "    lon = coord['lon']  #-116.818400\n",
    "    maxResults =500\n",
    "    maxDistance = 10\n",
    "    minDiff = '5.0'\n",
    "    maxDiff = '5.16'\n",
    "\n",
    "    url_params = {  'lat': str(lat),\n",
    "                    'lon': str(lon),\n",
    "                    'maxResults': maxResults,\n",
    "    #                 'maxDistance' : str(maxDistance),\n",
    "    #                 'minDiff': str(minDiff),\n",
    "    #                 'maxDiff': str(maxDiff)\n",
    "                    'key': api_key\n",
    "                 }\n",
    "    # call function and return 5000 route details\n",
    "    data = mp_gps_call(url_params, api_key)\n",
    "    \n",
    "    #check that call successful \n",
    "    if data['success']:\n",
    "        routes = data['routes']\n",
    "        \n",
    "        #store route data in mysql\n",
    "        query_helper.route_to_tup(routes)\n",
    "        \n",
    "        #track our progress\n",
    "        f = open(\"so_far_we_got.txt\", \"a\")\n",
    "        f.write(f'{i} iteration {lat},{lon}')\n",
    "        f.close()\n",
    "        \n",
    "    #print error message if something goes wrong\n",
    "    else:\n",
    "        f'Error!! stopped at {i} iteration {lat},{lon}'\n",
    "        f = open(\"stopped_at.txt\", \"a\")\n",
    "        f.write(f'Error!! stopped at {i} iteration {lat},{lon}')\n",
    "        f.close()\n",
    "        break\n",
    "        \n",
    "    #sleep for a bit to avoid being blocked\n",
    "    time.sleep(3)\n"
   ]
  },
  {
   "cell_type": "markdown",
   "metadata": {},
   "source": [
    "## Webscrape Mountain Project for  Route Descriptions and Reviews"
   ]
  },
  {
   "cell_type": "markdown",
   "metadata": {
    "heading_collapsed": true
   },
   "source": [
    "### Get route ids from MySql db"
   ]
  },
  {
   "cell_type": "code",
   "execution_count": 2,
   "metadata": {
    "ExecuteTime": {
     "end_time": "2020-01-10T02:30:57.923388Z",
     "start_time": "2020-01-10T02:30:56.986250Z"
    },
    "hidden": true
   },
   "outputs": [
    {
     "data": {
      "text/html": [
       "<div>\n",
       "<style scoped>\n",
       "    .dataframe tbody tr th:only-of-type {\n",
       "        vertical-align: middle;\n",
       "    }\n",
       "\n",
       "    .dataframe tbody tr th {\n",
       "        vertical-align: top;\n",
       "    }\n",
       "\n",
       "    .dataframe thead th {\n",
       "        text-align: right;\n",
       "    }\n",
       "</style>\n",
       "<table border=\"1\" class=\"dataframe\">\n",
       "  <thead>\n",
       "    <tr style=\"text-align: right;\">\n",
       "      <th></th>\n",
       "      <th>id</th>\n",
       "    </tr>\n",
       "  </thead>\n",
       "  <tbody>\n",
       "    <tr>\n",
       "      <th>0</th>\n",
       "      <td>105714722</td>\n",
       "    </tr>\n",
       "    <tr>\n",
       "      <th>1</th>\n",
       "      <td>105714728</td>\n",
       "    </tr>\n",
       "    <tr>\n",
       "      <th>2</th>\n",
       "      <td>105714731</td>\n",
       "    </tr>\n",
       "    <tr>\n",
       "      <th>3</th>\n",
       "      <td>105714734</td>\n",
       "    </tr>\n",
       "    <tr>\n",
       "      <th>4</th>\n",
       "      <td>105714737</td>\n",
       "    </tr>\n",
       "  </tbody>\n",
       "</table>\n",
       "</div>"
      ],
      "text/plain": [
       "          id\n",
       "0  105714722\n",
       "1  105714728\n",
       "2  105714731\n",
       "3  105714734\n",
       "4  105714737"
      ]
     },
     "execution_count": 2,
     "metadata": {},
     "output_type": "execute_result"
    }
   ],
   "source": [
    "id_df = query_helper.query_to_df(\"SELECT id FROM climbs.routes;\")\n",
    "id_df.head()"
   ]
  },
  {
   "cell_type": "code",
   "execution_count": null,
   "metadata": {
    "ExecuteTime": {
     "end_time": "2020-01-10T02:26:41.624249Z",
     "start_time": "2020-01-10T02:26:41.619913Z"
    },
    "hidden": true
   },
   "outputs": [],
   "source": [
    "# import config\n",
    "# import json\n",
    "# import requests\n",
    "# api_key = config.api_key\n",
    "# import time \n",
    "# import datetime\n",
    "# import mysql.connector\n",
    "# from mysql.connector import errorcode\n",
    "# import pandas as pd\n",
    "\n",
    "\n",
    "# #creates connection, all functions will start by calling this\n",
    "# def connect():\n",
    "#     global cnx\n",
    "#     cnx = mysql.connector.connect(\n",
    "#     host = config.host,\n",
    "#     user = config.user,\n",
    "#     passwd = config.password,\n",
    "#     database = 'climbs')\n",
    "#     global cursor\n",
    "#     cursor = cnx.cursor()"
   ]
  },
  {
   "cell_type": "code",
   "execution_count": 10,
   "metadata": {
    "ExecuteTime": {
     "end_time": "2020-01-10T02:36:49.331637Z",
     "start_time": "2020-01-10T02:36:49.327927Z"
    },
    "hidden": true
   },
   "outputs": [],
   "source": [
    "def get_route_info(id_):\n",
    "    \n",
    "    #get page content\n",
    "    web_address = f'https://www.mountainproject.com/route/{id_}'\n",
    "    \n",
    "    page = requests.get(web_address)\n",
    "    soup = BeautifulSoup(page.content, 'html.parser')\n",
    "    \n",
    "    #grab section of interest\n",
    "    info =soup.find_all(class_='fr-view')\n",
    "    \n",
    "    describe=[]\n",
    "    for i in range(len(info)):\n",
    "        describe.append(info[i].get_text())\n",
    "    \n",
    "    return describe"
   ]
  },
  {
   "cell_type": "code",
   "execution_count": 57,
   "metadata": {
    "ExecuteTime": {
     "end_time": "2020-01-10T20:54:42.320026Z",
     "start_time": "2020-01-10T18:17:33.389307Z"
    },
    "hidden": true
   },
   "outputs": [],
   "source": [
    "for climb_id in remaining:\n",
    "    ##assign new lat long and use api\n",
    "\n",
    "    # call function and return 5000 route details\n",
    "    description = get_route_info(climb_id)\n",
    "    \n",
    "    query_helper.route_info_to_db((climb_id, '-'.join(description)))\n",
    "\n",
    "    #sleep for a bit to avoid being blocked\n",
    "#     time.sleep(1)"
   ]
  },
  {
   "cell_type": "markdown",
   "metadata": {
    "heading_collapsed": true
   },
   "source": [
    "### Use below to get remaining descriptions"
   ]
  },
  {
   "cell_type": "code",
   "execution_count": 55,
   "metadata": {
    "ExecuteTime": {
     "end_time": "2020-01-10T18:17:28.825209Z",
     "start_time": "2020-01-10T18:17:28.254333Z"
    },
    "hidden": true
   },
   "outputs": [],
   "source": [
    "# df_describe = query_helper.query_to_df(\"SELECT id FROM climbs.route_description\")\n",
    "# remaining=[]\n",
    "# x=[]\n",
    "# for i in id_df.id:\n",
    "#     if i in df_describe.id.values:\n",
    "#         x.append(i)\n",
    "#     else:\n",
    "#         remaining.append(i)\n",
    "# len(remaining)"
   ]
  }
 ],
 "metadata": {
  "kernelspec": {
   "display_name": "Python 3",
   "language": "python",
   "name": "python3"
  },
  "language_info": {
   "codemirror_mode": {
    "name": "ipython",
    "version": 3
   },
   "file_extension": ".py",
   "mimetype": "text/x-python",
   "name": "python",
   "nbconvert_exporter": "python",
   "pygments_lexer": "ipython3",
   "version": "3.7.3"
  },
  "varInspector": {
   "cols": {
    "lenName": 16,
    "lenType": 16,
    "lenVar": 40
   },
   "kernels_config": {
    "python": {
     "delete_cmd_postfix": "",
     "delete_cmd_prefix": "del ",
     "library": "var_list.py",
     "varRefreshCmd": "print(var_dic_list())"
    },
    "r": {
     "delete_cmd_postfix": ") ",
     "delete_cmd_prefix": "rm(",
     "library": "var_list.r",
     "varRefreshCmd": "cat(var_dic_list()) "
    }
   },
   "types_to_exclude": [
    "module",
    "function",
    "builtin_function_or_method",
    "instance",
    "_Feature"
   ],
   "window_display": false
  }
 },
 "nbformat": 4,
 "nbformat_minor": 2
}
