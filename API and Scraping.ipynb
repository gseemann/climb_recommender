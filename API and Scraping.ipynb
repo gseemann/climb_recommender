{
 "cells": [
  {
   "cell_type": "markdown",
   "metadata": {},
   "source": [
    "# Gather Data"
   ]
  },
  {
   "cell_type": "code",
   "execution_count": 9,
   "metadata": {
    "ExecuteTime": {
     "end_time": "2020-01-10T02:36:43.005129Z",
     "start_time": "2020-01-10T02:36:42.877089Z"
    }
   },
   "outputs": [],
   "source": [
    "#import libraries\n",
    "import pandas as pd\n",
    "import matplotlib.pyplot as plt\n",
    "%matplotlib inline\n",
    "import seaborn as sns\n",
    "\n",
    "#for api calls\n",
    "from bs4 import BeautifulSoup\n",
    "import requests\n",
    "import json\n",
    "import time\n",
    "\n",
    "#personal api and aws keys\n",
    "import config\n",
    "\n",
    "import query_helper\n",
    "# import websrcape_wiki_table"
   ]
  },
  {
   "cell_type": "markdown",
   "metadata": {
    "heading_collapsed": true
   },
   "source": [
    "## Create climbs db"
   ]
  },
  {
   "cell_type": "code",
   "execution_count": null,
   "metadata": {
    "ExecuteTime": {
     "end_time": "2020-01-06T21:38:47.835213Z",
     "start_time": "2020-01-06T21:38:47.265264Z"
    },
    "hidden": true,
    "scrolled": true
   },
   "outputs": [],
   "source": [
    "query_helper.create_db('climbs')"
   ]
  },
  {
   "cell_type": "markdown",
   "metadata": {},
   "source": [
    "## Create route tables"
   ]
  },
  {
   "cell_type": "code",
   "execution_count": null,
   "metadata": {
    "ExecuteTime": {
     "end_time": "2020-01-06T20:34:40.531667Z",
     "start_time": "2020-01-06T20:34:40.529437Z"
    }
   },
   "outputs": [],
   "source": [
    "route_table = \"\"\"\n",
    "CREATE TABLE routes (\n",
    "    id int NOT NULL,\n",
    "    name varchar(100),\n",
    "    type varchar(30),\n",
    "    rating varchar(20),\n",
    "    stars float,\n",
    "    starVotes int,\n",
    "    pitches int,\n",
    "    location varchar(255),\n",
    "    url varchar(255),\n",
    "    longitude float,\n",
    "    latitude float,\n",
    "    PRIMARY KEY (id)\n",
    "    );\n",
    "\"\"\""
   ]
  },
  {
   "cell_type": "code",
   "execution_count": null,
   "metadata": {
    "ExecuteTime": {
     "end_time": "2020-01-06T20:34:45.300611Z",
     "start_time": "2020-01-06T20:34:44.702193Z"
    }
   },
   "outputs": [],
   "source": [
    "query_helper.create_table(route_table)"
   ]
  },
  {
   "cell_type": "code",
   "execution_count": null,
   "metadata": {
    "ExecuteTime": {
     "end_time": "2020-01-10T01:59:12.556862Z",
     "start_time": "2020-01-10T01:59:12.554378Z"
    }
   },
   "outputs": [],
   "source": [
    "route_describe_table = \"\"\"\n",
    "CREATE TABLE route_description (\n",
    "    id int NOT NULL,\n",
    "    info TEXT,\n",
    "    PRIMARY KEY (id)\n",
    "    );\n",
    "\"\"\""
   ]
  },
  {
   "cell_type": "code",
   "execution_count": null,
   "metadata": {
    "ExecuteTime": {
     "end_time": "2020-01-10T01:59:14.284659Z",
     "start_time": "2020-01-10T01:59:13.693870Z"
    }
   },
   "outputs": [],
   "source": [
    "query_helper.create_table(route_describe_table)"
   ]
  },
  {
   "cell_type": "markdown",
   "metadata": {},
   "source": [
    "## Use Mountain Project Api"
   ]
  },
  {
   "cell_type": "markdown",
   "metadata": {},
   "source": [
    "### Get GPS Coordinates"
   ]
  },
  {
   "cell_type": "code",
   "execution_count": null,
   "metadata": {
    "ExecuteTime": {
     "end_time": "2020-01-06T21:39:27.266873Z",
     "start_time": "2020-01-06T21:39:27.257947Z"
    }
   },
   "outputs": [],
   "source": [
    "import xml.etree.ElementTree as ET\n",
    "tree = ET.parse('waypoints (1).xml')\n",
    "root = tree.getroot()"
   ]
  },
  {
   "cell_type": "code",
   "execution_count": null,
   "metadata": {
    "ExecuteTime": {
     "end_time": "2020-01-06T21:39:45.507644Z",
     "start_time": "2020-01-06T21:39:45.505035Z"
    }
   },
   "outputs": [],
   "source": [
    "coordinates = []\n",
    "for child in root:\n",
    "    coordinates.append(child.attrib)"
   ]
  },
  {
   "cell_type": "code",
   "execution_count": null,
   "metadata": {
    "ExecuteTime": {
     "end_time": "2020-01-06T21:39:51.663589Z",
     "start_time": "2020-01-06T21:39:51.660422Z"
    }
   },
   "outputs": [],
   "source": [
    "len(coordinates)"
   ]
  },
  {
   "cell_type": "markdown",
   "metadata": {
    "heading_collapsed": true
   },
   "source": [
    "### Using GPS Coordinates to get routes and store to db"
   ]
  },
  {
   "cell_type": "code",
   "execution_count": null,
   "metadata": {
    "ExecuteTime": {
     "end_time": "2020-01-06T21:39:54.069077Z",
     "start_time": "2020-01-06T21:39:54.066225Z"
    },
    "hidden": true
   },
   "outputs": [],
   "source": [
    "def mp_gps_call(url_params, api_key):\n",
    "# https://www.mountainproject.com/data/get-routes-for-lat-lon?lat=40.03&lon=-105.25&maxDistance=10&minDiff=5.6&maxDiff=5.10&key=112327568-ec557ff70496df7d0a43436ab9df1201\n",
    "    url = 'https://www.mountainproject.com/data/get-routes-for-lat-lon'\n",
    "#     headers = {'Authorization': 'Bearer {}'.format(api_key)}\n",
    "    response = requests.get(url, params=url_params)\n",
    "    \n",
    "    return response.json()"
   ]
  },
  {
   "cell_type": "markdown",
   "metadata": {
    "heading_collapsed": true,
    "hidden": true
   },
   "source": [
    "#### Loop over list of GPS coordinates, get routes and insert into db"
   ]
  },
  {
   "cell_type": "code",
   "execution_count": null,
   "metadata": {
    "ExecuteTime": {
     "end_time": "2020-01-06T23:11:45.550362Z",
     "start_time": "2020-01-06T21:40:39.819520Z"
    },
    "hidden": true
   },
   "outputs": [],
   "source": [
    "for i,coord in enumerate(coordinates):\n",
    "    ##assign new lat long and use api\n",
    "    api_key = config.api_key\n",
    "    lat = coord['lat']   #32.904600\n",
    "    lon = coord['lon']  #-116.818400\n",
    "    maxResults =500\n",
    "    maxDistance = 10\n",
    "    minDiff = '5.0'\n",
    "    maxDiff = '5.16'\n",
    "\n",
    "    url_params = {  'lat': str(lat),\n",
    "                    'lon': str(lon),\n",
    "                    'maxResults': maxResults,\n",
    "    #                 'maxDistance' : str(maxDistance),\n",
    "    #                 'minDiff': str(minDiff),\n",
    "    #                 'maxDiff': str(maxDiff)\n",
    "                    'key': api_key\n",
    "                 }\n",
    "    # call function and return 5000 route details\n",
    "    data = mp_gps_call(url_params, api_key)\n",
    "    \n",
    "    #check that call successful \n",
    "    if data['success']:\n",
    "        routes = data['routes']\n",
    "        \n",
    "        #store route data in mysql\n",
    "        query_helper.route_to_tup(routes)\n",
    "        \n",
    "        #track our progress\n",
    "        f = open(\"so_far_we_got.txt\", \"a\")\n",
    "        f.write(f'{i} iteration {lat},{lon}')\n",
    "        f.close()\n",
    "        \n",
    "    #print error message if something goes wrong\n",
    "    else:\n",
    "        f'Error!! stopped at {i} iteration {lat},{lon}'\n",
    "        f = open(\"stopped_at.txt\", \"a\")\n",
    "        f.write(f'Error!! stopped at {i} iteration {lat},{lon}')\n",
    "        f.close()\n",
    "        break\n",
    "        \n",
    "    #sleep for a bit to avoid being blocked\n",
    "    time.sleep(3)\n"
   ]
  },
  {
   "cell_type": "markdown",
   "metadata": {},
   "source": [
    "## Webscrape Mountain Project for  Route Descriptions and Reviews"
   ]
  },
  {
   "cell_type": "markdown",
   "metadata": {},
   "source": [
    "### Get route ids from MySql db"
   ]
  },
  {
   "cell_type": "code",
   "execution_count": 2,
   "metadata": {
    "ExecuteTime": {
     "end_time": "2020-01-10T02:30:57.923388Z",
     "start_time": "2020-01-10T02:30:56.986250Z"
    }
   },
   "outputs": [
    {
     "data": {
      "text/html": [
       "<div>\n",
       "<style scoped>\n",
       "    .dataframe tbody tr th:only-of-type {\n",
       "        vertical-align: middle;\n",
       "    }\n",
       "\n",
       "    .dataframe tbody tr th {\n",
       "        vertical-align: top;\n",
       "    }\n",
       "\n",
       "    .dataframe thead th {\n",
       "        text-align: right;\n",
       "    }\n",
       "</style>\n",
       "<table border=\"1\" class=\"dataframe\">\n",
       "  <thead>\n",
       "    <tr style=\"text-align: right;\">\n",
       "      <th></th>\n",
       "      <th>id</th>\n",
       "    </tr>\n",
       "  </thead>\n",
       "  <tbody>\n",
       "    <tr>\n",
       "      <th>0</th>\n",
       "      <td>105714722</td>\n",
       "    </tr>\n",
       "    <tr>\n",
       "      <th>1</th>\n",
       "      <td>105714728</td>\n",
       "    </tr>\n",
       "    <tr>\n",
       "      <th>2</th>\n",
       "      <td>105714731</td>\n",
       "    </tr>\n",
       "    <tr>\n",
       "      <th>3</th>\n",
       "      <td>105714734</td>\n",
       "    </tr>\n",
       "    <tr>\n",
       "      <th>4</th>\n",
       "      <td>105714737</td>\n",
       "    </tr>\n",
       "  </tbody>\n",
       "</table>\n",
       "</div>"
      ],
      "text/plain": [
       "          id\n",
       "0  105714722\n",
       "1  105714728\n",
       "2  105714731\n",
       "3  105714734\n",
       "4  105714737"
      ]
     },
     "execution_count": 2,
     "metadata": {},
     "output_type": "execute_result"
    }
   ],
   "source": [
    "id_df = query_helper.query_to_df(\"SELECT id FROM climbs.routes;\")\n",
    "id_df.head()"
   ]
  },
  {
   "cell_type": "code",
   "execution_count": null,
   "metadata": {
    "ExecuteTime": {
     "end_time": "2020-01-10T02:26:41.624249Z",
     "start_time": "2020-01-10T02:26:41.619913Z"
    }
   },
   "outputs": [],
   "source": [
    "# import config\n",
    "# import json\n",
    "# import requests\n",
    "# api_key = config.api_key\n",
    "# import time \n",
    "# import datetime\n",
    "# import mysql.connector\n",
    "# from mysql.connector import errorcode\n",
    "# import pandas as pd\n",
    "\n",
    "\n",
    "# #creates connection, all functions will start by calling this\n",
    "# def connect():\n",
    "#     global cnx\n",
    "#     cnx = mysql.connector.connect(\n",
    "#     host = config.host,\n",
    "#     user = config.user,\n",
    "#     passwd = config.password,\n",
    "#     database = 'climbs')\n",
    "#     global cursor\n",
    "#     cursor = cnx.cursor()"
   ]
  },
  {
   "cell_type": "code",
   "execution_count": 10,
   "metadata": {
    "ExecuteTime": {
     "end_time": "2020-01-10T02:36:49.331637Z",
     "start_time": "2020-01-10T02:36:49.327927Z"
    }
   },
   "outputs": [],
   "source": [
    "def get_route_info(id_):\n",
    "    \n",
    "    #get page content\n",
    "    web_address = f'https://www.mountainproject.com/route/{id_}'\n",
    "    \n",
    "    page = requests.get(web_address)\n",
    "    soup = BeautifulSoup(page.content, 'html.parser')\n",
    "    \n",
    "    #grab section of interest\n",
    "    info =soup.find_all(class_='fr-view')\n",
    "    \n",
    "    describe=[]\n",
    "    for i in range(len(info)):\n",
    "        describe.append(info[i].get_text())\n",
    "    \n",
    "    return describe"
   ]
  },
  {
   "cell_type": "code",
   "execution_count": null,
   "metadata": {
    "ExecuteTime": {
     "end_time": "2020-01-10T02:26:49.118536Z",
     "start_time": "2020-01-10T02:26:49.114954Z"
    }
   },
   "outputs": [],
   "source": [
    "# def route_info_to_db(info):\n",
    "#     connect()\n",
    "#     insert_statement = \"\"\"INSERT IGNORE INTO route_description(\n",
    "#                     id,\n",
    "#                     info)\n",
    "#                     VALUES (%s,%s)\"\"\"\n",
    "\n",
    "#     cursor.execute(insert_statement, info)\n",
    "#     cnx.commit()\n",
    "#     cursor.close()\n",
    "#     cnx.close()\n",
    "    "
   ]
  },
  {
   "cell_type": "code",
   "execution_count": null,
   "metadata": {
    "ExecuteTime": {
     "start_time": "2020-01-10T18:17:33.387Z"
    }
   },
   "outputs": [],
   "source": [
    "for climb_id in remaining:\n",
    "    ##assign new lat long and use api\n",
    "\n",
    "    # call function and return 5000 route details\n",
    "    description = get_route_info(climb_id)\n",
    "    \n",
    "    query_helper.route_info_to_db((climb_id, '-'.join(description)))\n",
    "\n",
    "    #sleep for a bit to avoid being blocked\n",
    "#     time.sleep(1)"
   ]
  },
  {
   "cell_type": "code",
   "execution_count": 54,
   "metadata": {
    "ExecuteTime": {
     "end_time": "2020-01-10T18:17:27.398568Z",
     "start_time": "2020-01-10T18:17:26.707823Z"
    }
   },
   "outputs": [],
   "source": [
    "df_describe = query_helper.query_to_df(\"SELECT id FROM climbs.route_description\")"
   ]
  },
  {
   "cell_type": "code",
   "execution_count": 55,
   "metadata": {
    "ExecuteTime": {
     "end_time": "2020-01-10T18:17:28.825209Z",
     "start_time": "2020-01-10T18:17:28.254333Z"
    }
   },
   "outputs": [],
   "source": [
    "remaining=[]\n",
    "x=[]\n",
    "for i in id_df.id:\n",
    "    if i in df_describe.id.values:\n",
    "        x.append(i)\n",
    "    else:\n",
    "        remaining.append(i)"
   ]
  },
  {
   "cell_type": "code",
   "execution_count": 56,
   "metadata": {
    "ExecuteTime": {
     "end_time": "2020-01-10T18:17:29.615839Z",
     "start_time": "2020-01-10T18:17:29.612560Z"
    }
   },
   "outputs": [
    {
     "data": {
      "text/plain": [
       "16851"
      ]
     },
     "execution_count": 56,
     "metadata": {},
     "output_type": "execute_result"
    }
   ],
   "source": [
    "len(remaining)"
   ]
  },
  {
   "cell_type": "code",
   "execution_count": null,
   "metadata": {},
   "outputs": [],
   "source": []
  },
  {
   "cell_type": "markdown",
   "metadata": {},
   "source": [
    "### Route info and description"
   ]
  },
  {
   "cell_type": "code",
   "execution_count": null,
   "metadata": {
    "ExecuteTime": {
     "end_time": "2020-01-09T17:35:47.823959Z",
     "start_time": "2020-01-09T17:35:47.821014Z"
    }
   },
   "outputs": [],
   "source": [
    "import json\n",
    "import requests\n",
    "from bs4 import BeautifulSoup\n",
    "\n",
    "\n",
    "\n",
    "def get_mush_table(web_address):\n",
    "web_address = 'https://www.mountainproject.com/route/105792316/robbins-crack'\n",
    "    \n",
    "page = requests.get(web_address)\n",
    "soup = BeautifulSoup(page.content, 'html.parser')\n",
    "\n",
    "\n",
    "soup\n",
    "soup_save = soup\n",
    "# ### IF IMPORT IS MESSED UP LOOK HERE. ASSUMES mush Box is always second\n",
    "# info = soup.find_all('table',{\"class\":\"infobox\"})\n",
    "\n",
    "# #get mushroom name \n",
    "# name = [i.string for i in info[1].findAll('i')]\n",
    "\n",
    "# #get mushroom info\n",
    "# divs = info[1].findAll(\"td\")\n",
    "# stuff= divs[1:]\n",
    "# text = []\n",
    "# for i in stuff:\n",
    "#     text.append(i.get_text())\n",
    "\n",
    "# name_and_info = name+text"
   ]
  },
  {
   "cell_type": "code",
   "execution_count": null,
   "metadata": {
    "ExecuteTime": {
     "end_time": "2020-01-09T17:37:32.499688Z",
     "start_time": "2020-01-09T17:37:32.489546Z"
    }
   },
   "outputs": [],
   "source": [
    "info =soup_save.find_all(class_='fr-view')\n",
    "info"
   ]
  },
  {
   "cell_type": "code",
   "execution_count": null,
   "metadata": {
    "ExecuteTime": {
     "end_time": "2020-01-09T17:42:37.117301Z",
     "start_time": "2020-01-09T17:42:37.114567Z"
    }
   },
   "outputs": [],
   "source": [
    "describe=[]\n",
    "for i in range(len(info)):\n",
    "    describe.append(info[i].get_text())"
   ]
  },
  {
   "cell_type": "code",
   "execution_count": null,
   "metadata": {
    "ExecuteTime": {
     "end_time": "2020-01-09T17:42:38.155153Z",
     "start_time": "2020-01-09T17:42:38.151430Z"
    }
   },
   "outputs": [],
   "source": [
    "describe"
   ]
  },
  {
   "cell_type": "code",
   "execution_count": null,
   "metadata": {
    "ExecuteTime": {
     "end_time": "2020-01-09T17:44:52.879554Z",
     "start_time": "2020-01-09T17:44:52.124709Z"
    }
   },
   "outputs": [],
   "source": [
    "# def get_mush_table(web_address):\n",
    "web_address = 'https://www.mountainproject.com/route/117346798/fangbanger'\n",
    "    \n",
    "page = requests.get(web_address)\n",
    "soup = BeautifulSoup(page.content, 'html.parser')\n",
    "\n",
    "\n",
    "soup\n",
    "soup_save = soup"
   ]
  },
  {
   "cell_type": "code",
   "execution_count": null,
   "metadata": {
    "ExecuteTime": {
     "end_time": "2020-01-09T17:45:04.609799Z",
     "start_time": "2020-01-09T17:45:04.599085Z"
    }
   },
   "outputs": [],
   "source": [
    "info =soup_save.find_all(class_='fr-view')\n",
    "info"
   ]
  },
  {
   "cell_type": "code",
   "execution_count": null,
   "metadata": {
    "ExecuteTime": {
     "end_time": "2020-01-09T17:48:51.352631Z",
     "start_time": "2020-01-09T17:48:51.348677Z"
    },
    "scrolled": true
   },
   "outputs": [],
   "source": [
    "describe=[]\n",
    "for i in range(len(info)):\n",
    "    describe.append(info[i].get_text())\n",
    "describe"
   ]
  },
  {
   "cell_type": "code",
   "execution_count": null,
   "metadata": {},
   "outputs": [],
   "source": []
  },
  {
   "cell_type": "code",
   "execution_count": null,
   "metadata": {},
   "outputs": [],
   "source": []
  },
  {
   "cell_type": "code",
   "execution_count": null,
   "metadata": {},
   "outputs": [],
   "source": []
  },
  {
   "cell_type": "markdown",
   "metadata": {
    "heading_collapsed": true
   },
   "source": [
    "### Comments"
   ]
  },
  {
   "cell_type": "code",
   "execution_count": null,
   "metadata": {
    "ExecuteTime": {
     "end_time": "2020-01-09T18:05:13.908504Z",
     "start_time": "2020-01-09T18:05:13.629426Z"
    },
    "hidden": true
   },
   "outputs": [],
   "source": [
    "# def get_mush_table(web_address):\n",
    "web_address = 'https://www.mountainproject.com/route/105883232/the-swiftness'\n",
    "    \n",
    "page = requests.get(web_address)\n",
    "soup = BeautifulSoup(page.content, 'html.parser')\n",
    "\n",
    "\n",
    "soup\n",
    "soup_save = soup"
   ]
  },
  {
   "cell_type": "code",
   "execution_count": null,
   "metadata": {
    "ExecuteTime": {
     "end_time": "2020-01-09T18:09:49.717195Z",
     "start_time": "2020-01-09T18:09:49.712150Z"
    },
    "hidden": true
   },
   "outputs": [],
   "source": [
    "page.content"
   ]
  },
  {
   "cell_type": "code",
   "execution_count": null,
   "metadata": {
    "ExecuteTime": {
     "end_time": "2020-01-09T18:05:15.754545Z",
     "start_time": "2020-01-09T18:05:15.661312Z"
    },
    "hidden": true
   },
   "outputs": [],
   "source": [
    "soup_save\n"
   ]
  },
  {
   "cell_type": "code",
   "execution_count": null,
   "metadata": {
    "ExecuteTime": {
     "end_time": "2020-01-09T18:05:27.442917Z",
     "start_time": "2020-01-09T18:05:27.433172Z"
    },
    "hidden": true
   },
   "outputs": [],
   "source": [
    "info =soup_save.find_all(class_='comment-body')\n",
    "info"
   ]
  },
  {
   "cell_type": "code",
   "execution_count": null,
   "metadata": {
    "hidden": true
   },
   "outputs": [],
   "source": [
    "# info = soup.find_all('table',{\"class\":\"infobox\"})"
   ]
  },
  {
   "cell_type": "code",
   "execution_count": null,
   "metadata": {
    "hidden": true
   },
   "outputs": [],
   "source": []
  },
  {
   "cell_type": "code",
   "execution_count": null,
   "metadata": {
    "hidden": true
   },
   "outputs": [],
   "source": []
  },
  {
   "cell_type": "code",
   "execution_count": null,
   "metadata": {
    "hidden": true
   },
   "outputs": [],
   "source": []
  }
 ],
 "metadata": {
  "kernelspec": {
   "display_name": "Python 3",
   "language": "python",
   "name": "python3"
  },
  "varInspector": {
   "cols": {
    "lenName": 16,
    "lenType": 16,
    "lenVar": 40
   },
   "kernels_config": {
    "python": {
     "delete_cmd_postfix": "",
     "delete_cmd_prefix": "del ",
     "library": "var_list.py",
     "varRefreshCmd": "print(var_dic_list())"
    },
    "r": {
     "delete_cmd_postfix": ") ",
     "delete_cmd_prefix": "rm(",
     "library": "var_list.r",
     "varRefreshCmd": "cat(var_dic_list()) "
    }
   },
   "types_to_exclude": [
    "module",
    "function",
    "builtin_function_or_method",
    "instance",
    "_Feature"
   ],
   "window_display": false
  }
 },
 "nbformat": 4,
 "nbformat_minor": 2
}
