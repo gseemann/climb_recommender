{
 "cells": [
  {
   "cell_type": "markdown",
   "metadata": {},
   "source": [
    "# Gather Data"
   ]
  },
  {
   "cell_type": "code",
   "execution_count": 1,
   "metadata": {
    "ExecuteTime": {
     "end_time": "2020-07-28T17:00:42.572258Z",
     "start_time": "2020-07-28T17:00:40.568950Z"
    }
   },
   "outputs": [],
   "source": [
    "#import libraries\n",
    "import pandas as pd\n",
    "import matplotlib.pyplot as plt\n",
    "%matplotlib inline\n",
    "import seaborn as sns\n",
    "\n",
    "#for api calls\n",
    "from bs4 import BeautifulSoup\n",
    "import requests\n",
    "import json\n",
    "import time\n",
    "\n",
    "#personal api and aws keys\n",
    "import config\n",
    "\n",
    "import query_helper\n",
    "# import websrcape_wiki_table"
   ]
  },
  {
   "cell_type": "markdown",
   "metadata": {
    "heading_collapsed": true
   },
   "source": [
    "## Create climbs db"
   ]
  },
  {
   "cell_type": "code",
   "execution_count": null,
   "metadata": {
    "ExecuteTime": {
     "end_time": "2020-01-06T21:38:47.835213Z",
     "start_time": "2020-01-06T21:38:47.265264Z"
    },
    "hidden": true,
    "scrolled": true
   },
   "outputs": [],
   "source": [
    "query_helper.create_db('climbs')"
   ]
  },
  {
   "cell_type": "markdown",
   "metadata": {
    "heading_collapsed": true
   },
   "source": [
    "## Create route tables"
   ]
  },
  {
   "cell_type": "code",
   "execution_count": null,
   "metadata": {
    "ExecuteTime": {
     "end_time": "2020-01-06T20:34:40.531667Z",
     "start_time": "2020-01-06T20:34:40.529437Z"
    },
    "hidden": true
   },
   "outputs": [],
   "source": [
    "route_table = \"\"\"\n",
    "CREATE TABLE routes (\n",
    "    id int NOT NULL,\n",
    "    name varchar(100),\n",
    "    type varchar(30),\n",
    "    rating varchar(20),\n",
    "    stars float,\n",
    "    starVotes int,\n",
    "    pitches int,\n",
    "    location varchar(255),\n",
    "    url varchar(255),\n",
    "    longitude float,\n",
    "    latitude float,\n",
    "    PRIMARY KEY (id)\n",
    "    );\n",
    "\"\"\""
   ]
  },
  {
   "cell_type": "code",
   "execution_count": null,
   "metadata": {
    "ExecuteTime": {
     "end_time": "2020-01-06T20:34:45.300611Z",
     "start_time": "2020-01-06T20:34:44.702193Z"
    },
    "hidden": true
   },
   "outputs": [],
   "source": [
    "query_helper.create_table(route_table)"
   ]
  },
  {
   "cell_type": "code",
   "execution_count": null,
   "metadata": {
    "ExecuteTime": {
     "end_time": "2020-01-10T01:59:12.556862Z",
     "start_time": "2020-01-10T01:59:12.554378Z"
    },
    "hidden": true
   },
   "outputs": [],
   "source": [
    "route_describe_table = \"\"\"\n",
    "CREATE TABLE route_description (\n",
    "    id int NOT NULL,\n",
    "    info TEXT,\n",
    "    PRIMARY KEY (id)\n",
    "    );\n",
    "\"\"\""
   ]
  },
  {
   "cell_type": "code",
   "execution_count": null,
   "metadata": {
    "ExecuteTime": {
     "end_time": "2020-01-10T01:59:14.284659Z",
     "start_time": "2020-01-10T01:59:13.693870Z"
    },
    "hidden": true
   },
   "outputs": [],
   "source": [
    "query_helper.create_table(route_describe_table)"
   ]
  },
  {
   "cell_type": "markdown",
   "metadata": {},
   "source": [
    "## Use Mountain Project Api"
   ]
  },
  {
   "cell_type": "markdown",
   "metadata": {},
   "source": [
    "### Get GPS Coordinates"
   ]
  },
  {
   "cell_type": "code",
   "execution_count": 45,
   "metadata": {
    "ExecuteTime": {
     "end_time": "2020-07-28T18:29:56.680728Z",
     "start_time": "2020-07-28T18:29:56.676856Z"
    }
   },
   "outputs": [],
   "source": [
    "import xml.etree.ElementTree as ET\n",
    "tree = ET.parse('waypoints (3).xml')\n",
    "root = tree.getroot()"
   ]
  },
  {
   "cell_type": "code",
   "execution_count": 46,
   "metadata": {
    "ExecuteTime": {
     "end_time": "2020-07-28T18:29:57.136261Z",
     "start_time": "2020-07-28T18:29:57.133430Z"
    }
   },
   "outputs": [],
   "source": [
    "coordinates = []\n",
    "for child in root:\n",
    "    coordinates.append(child.attrib)"
   ]
  },
  {
   "cell_type": "code",
   "execution_count": 47,
   "metadata": {
    "ExecuteTime": {
     "end_time": "2020-07-28T18:29:57.626479Z",
     "start_time": "2020-07-28T18:29:57.604379Z"
    }
   },
   "outputs": [
    {
     "data": {
      "text/plain": [
       "[{'lat': '50.88524', 'lon': '-122.53935'},\n",
       " {'lat': '50.78816', 'lon': '-122.05581'},\n",
       " {'lat': '50.78816', 'lon': '-121.48435'},\n",
       " {'lat': '50.78816', 'lon': '-122.07779'},\n",
       " {'lat': '50.57945', 'lon': '-122.58331'},\n",
       " {'lat': '50.62126', 'lon': '-122.18768'},\n",
       " {'lat': '50.64912', 'lon': '-121.61622'},\n",
       " {'lat': '50.63519', 'lon': '-121.04477'},\n",
       " {'lat': '50.38381', 'lon': '-120.86893'},\n",
       " {'lat': '50.57945', 'lon': '-122.42945'},\n",
       " {'lat': '50.31375', 'lon': '-122.25362'},\n",
       " {'lat': '50.28569', 'lon': '-121.57227'},\n",
       " {'lat': '50.25762', 'lon': '-121.02279'},\n",
       " {'lat': '49.83456', 'lon': '-121.02279'},\n",
       " {'lat': '50.21548', 'lon': '-122.47341'},\n",
       " {'lat': '50.03245', 'lon': '-122.6932'},\n",
       " {'lat': '49.80622', 'lon': '-122.82508'},\n",
       " {'lat': '49.70691', 'lon': '-122.53935'},\n",
       " {'lat': '49.91947', 'lon': '-121.90195'},\n",
       " {'lat': '49.7495', 'lon': '-121.41841'},\n",
       " {'lat': '49.47915', 'lon': '-120.82498'},\n",
       " {'lat': '49.46488', 'lon': '-122.18768'},\n",
       " {'lat': '49.36488', 'lon': '-122.78112'},\n",
       " {'lat': '49.17861', 'lon': '-121.57227'},\n",
       " {'lat': '49.16425', 'lon': '-120.78102'},\n",
       " {'lat': '48.41191', 'lon': '-120.89091'},\n",
       " {'lat': '48.2517', 'lon': '-121.44039'},\n",
       " {'lat': '47.61906', 'lon': '-121.6382'},\n",
       " {'lat': '47.53017', 'lon': '-121.6382'},\n",
       " {'lat': '46.6028', 'lon': '-121.94591'},\n",
       " {'lat': '46.17869', 'lon': '-121.2206'},\n",
       " {'lat': '46.6028', 'lon': '-120.31946'},\n",
       " {'lat': '46.97868', 'lon': '-121.08873'},\n",
       " {'lat': '47.85537', 'lon': '-120.47331'},\n",
       " {'lat': '50.89945', 'lon': '-118.14352'},\n",
       " {'lat': '50.07512', 'lon': '-118.71498'},\n",
       " {'lat': '49.65044', 'lon': '-117.92373'},\n",
       " {'lat': '49.69308', 'lon': '-116.45113'},\n",
       " {'lat': '46.93372', 'lon': '-114.89061'},\n",
       " {'lat': '47.76688', 'lon': '-115.76978'},\n",
       " {'lat': '47.88483', 'lon': '-116.71488'},\n",
       " {'lat': '48.0172', 'lon': '-118.03363'},\n",
       " {'lat': '47.32218', 'lon': '-116.95665'},\n",
       " {'lat': '46.17869', 'lon': '-115.81373'},\n",
       " {'lat': '45.37975', 'lon': '-116.4527'},\n",
       " {'lat': '44.44668', 'lon': '-116.3428'},\n",
       " {'lat': '43.76866', 'lon': '-116.16697'},\n",
       " {'lat': '43.17903', 'lon': '-115.94718'},\n",
       " {'lat': '42.79348', 'lon': '-114.95812'},\n",
       " {'lat': '43.64166', 'lon': '-111.1777'},\n",
       " {'lat': '45.24076', 'lon': '-112.47447'},\n",
       " {'lat': '46.41892', 'lon': '-111.26562'},\n",
       " {'lat': '45.65672', 'lon': '-110.18864'},\n",
       " {'lat': '44.61888', 'lon': '-108.62813'},\n",
       " {'lat': '43.48253', 'lon': '-109.15562'},\n",
       " {'lat': '43.307', 'lon': '-110.01281'},\n",
       " {'lat': '42.47035', 'lon': '-110.01281'},\n",
       " {'lat': '43.16301', 'lon': '-108.14458'},\n",
       " {'lat': '43.99027', 'lon': '-107.08959'},\n",
       " {'lat': '44.21105', 'lon': '-108.05667'},\n",
       " {'lat': '44.21105', 'lon': '-105.2873'},\n",
       " {'lat': '42.82571', 'lon': '-105.24334'},\n",
       " {'lat': '44.57197', 'lon': '-109.52927'},\n",
       " {'lat': '44.1638', 'lon': '-110.21062'},\n",
       " {'lat': '43.16301', 'lon': '-109.2875'},\n",
       " {'lat': '40.39257', 'lon': '-106.45648'},\n",
       " {'lat': '40.14122', 'lon': '-106.41253'},\n",
       " {'lat': '39.60189', 'lon': '-106.41253'},\n",
       " {'lat': '39.27966', 'lon': '-106.41253'},\n",
       " {'lat': '38.83985', 'lon': '-106.41253'},\n",
       " {'lat': '39.02775', 'lon': '-105.79711'},\n",
       " {'lat': '38.56564', 'lon': '-106.19274'},\n",
       " {'lat': '38.10054', 'lon': '-106.36857'},\n",
       " {'lat': '38.10054', 'lon': '-105.37951'},\n",
       " {'lat': '37.68462', 'lon': '-107.81919'},\n",
       " {'lat': '39.24918', 'lon': '-111.33585'},\n",
       " {'lat': '40.39603', 'lon': '-111.48971'},\n",
       " {'lat': '41.5894', 'lon': '-111.75345'},\n",
       " {'lat': '41.39201', 'lon': '-111.40179'},\n",
       " {'lat': '40.92908', 'lon': '-110.91825'},\n",
       " {'lat': '41.21054', 'lon': '-111.7095'},\n",
       " {'lat': '40.17826', 'lon': '-110.98419'},\n",
       " {'lat': '41.11134', 'lon': '-111.75345'},\n",
       " {'lat': '39.01069', 'lon': '-108.41263'},\n",
       " {'lat': '39.04481', 'lon': '-110.17096'},\n",
       " {'lat': '40.17826', 'lon': '-110.23689'},\n",
       " {'lat': '40.59642', 'lon': '-107.95107'},\n",
       " {'lat': '41.50723', 'lon': '-109.55554'},\n",
       " {'lat': '25.53893', 'lon': '-100.32274'},\n",
       " {'lat': '25.93456', 'lon': '-100.65243'},\n",
       " {'lat': '26.07272', 'lon': '-99.79524'},\n",
       " {'lat': '26.46657', 'lon': '-101.77336'},\n",
       " {'lat': '26.70223', 'lon': '-100.96013'},\n",
       " {'lat': '26.9374', 'lon': '-100.14691'},\n",
       " {'lat': '29.91407', 'lon': '-97.97293'},\n",
       " {'lat': '30.04722', 'lon': '-97.55533'},\n",
       " {'lat': '30.7103', 'lon': '-97.11575'},\n",
       " {'lat': '30.86122', 'lon': '-98.4345'},\n",
       " {'lat': '36.47168', 'lon': '-115.36856'},\n",
       " {'lat': '36.6833', 'lon': '-116.00595'},\n",
       " {'lat': '37.83681', 'lon': '-116.88512'},\n",
       " {'lat': '37.68055', 'lon': '-115.28064'},\n",
       " {'lat': '37.64578', 'lon': '-114.44543'},\n",
       " {'lat': '37.64578', 'lon': '-113.78606'},\n",
       " {'lat': '37.48913', 'lon': '-113.58825'},\n",
       " {'lat': '37.29977', 'lon': '-113.45867'},\n",
       " {'lat': '37.25171', 'lon': '-113.2114'},\n",
       " {'lat': '37.06795', 'lon': '-113.26085'},\n",
       " {'lat': '37.19488', 'lon': '-113.59604'},\n",
       " {'lat': '37.21237', 'lon': '-113.94221'},\n",
       " {'lat': '37.36961', 'lon': '-111.93661'},\n",
       " {'lat': '37.63094', 'lon': '-112.32125'},\n",
       " {'lat': '37.90002', 'lon': '-112.49708'},\n",
       " {'lat': '37.87403', 'lon': '-111.85969'},\n",
       " {'lat': '37.5657', 'lon': '-111.39263'},\n",
       " {'lat': '37.39579', 'lon': '-110.78271'},\n",
       " {'lat': '37.5744', 'lon': '-110.30466'},\n",
       " {'lat': '37.33906', 'lon': '-110.31016'},\n",
       " {'lat': '37.31287', 'lon': '-110.81568'},\n",
       " {'lat': '33.75448', 'lon': '-114.03777'},\n",
       " {'lat': '37.47861', 'lon': '-111.19482'},\n",
       " {'lat': '37.3827', 'lon': '-112.77182'},\n",
       " {'lat': '40.47119', 'lon': '-111.75549'},\n",
       " {'lat': '40.76707', 'lon': '-111.75549'},\n",
       " {'lat': '41.0285', 'lon': '-111.46427'},\n",
       " {'lat': '40.99951', 'lon': '-111.80494'},\n",
       " {'lat': '40.73795', 'lon': '-111.65658'},\n",
       " {'lat': '40.71715', 'lon': '-111.38734'},\n",
       " {'lat': '40.71715', 'lon': '-111.03018'},\n",
       " {'lat': '40.68385', 'lon': '-110.75544'},\n",
       " {'lat': '40.68385', 'lon': '-110.33234'},\n",
       " {'lat': '40.68385', 'lon': '-109.92023'},\n",
       " {'lat': '40.47954', 'lon': '-111.20052'},\n",
       " {'lat': '40.22014', 'lon': '-111.33789'},\n",
       " {'lat': '39.70678', 'lon': '-111.38184'},\n",
       " {'lat': '39.07033', 'lon': '-111.67307'},\n",
       " {'lat': '39.711', 'lon': '-110.3708'},\n",
       " {'lat': '39.95973', 'lon': '-110.88182'},\n",
       " {'lat': '40.14044', 'lon': '-111.37086'},\n",
       " {'lat': '40.20013', 'lon': '-107.21103'},\n",
       " {'lat': '40.01538', 'lon': '-107.21103'},\n",
       " {'lat': '39.77951', 'lon': '-107.17806'},\n",
       " {'lat': '39.66127', 'lon': '-107.17806'},\n",
       " {'lat': '39.41571', 'lon': '-107.25499'},\n",
       " {'lat': '39.01587', 'lon': '-107.21103'},\n",
       " {'lat': '38.52792', 'lon': '-107.17806'},\n",
       " {'lat': '38.25253', 'lon': '-107.17806'},\n",
       " {'lat': '37.77674', 'lon': '-106.72749'},\n",
       " {'lat': '37.35026', 'lon': '-105.80436'},\n",
       " {'lat': '37.32407', 'lon': '-105.29884'},\n",
       " {'lat': '37.31534', 'lon': '-104.91116'},\n",
       " {'lat': '37.15799', 'lon': '-104.47158'},\n",
       " {'lat': '37.15799', 'lon': '-105.13095'},\n",
       " {'lat': '37.15799', 'lon': '-105.44965'},\n",
       " {'lat': '35.7708', 'lon': '-106.23674'},\n",
       " {'lat': '36.00209', 'lon': '-108.48961'},\n",
       " {'lat': '34.98297', 'lon': '-108.43466'},\n",
       " {'lat': '34.29641', 'lon': '-108.32476'},\n",
       " {'lat': '34.47763', 'lon': '-106.42357'},\n",
       " {'lat': '38.02798', 'lon': '-80.16766'},\n",
       " {'lat': '38.03663', 'lon': '-79.77204'},\n",
       " {'lat': '38.64807', 'lon': '-80.16766'},\n",
       " {'lat': '38.66522', 'lon': '-79.61818'},\n",
       " {'lat': '38.64807', 'lon': '-79.23355'},\n",
       " {'lat': '39.22882', 'lon': '-78.95881'},\n",
       " {'lat': '39.12668', 'lon': '-80.4424'},\n",
       " {'lat': '38.26976', 'lon': '-80.5413'},\n",
       " {'lat': '38.0885', 'lon': '-81.21167'},\n",
       " {'lat': '37.77166', 'lon': '-84.21145'},\n",
       " {'lat': '37.75213', 'lon': '-84.03287'},\n",
       " {'lat': '37.71305', 'lon': '-83.88451'},\n",
       " {'lat': '37.63483', 'lon': '-83.7856'},\n",
       " {'lat': '37.74996', 'lon': '-84.44223'},\n",
       " {'lat': '37.91689', 'lon': '-84.2664'},\n",
       " {'lat': '37.94071', 'lon': '-83.91473'},\n",
       " {'lat': '37.57176', 'lon': '-83.33778'},\n",
       " {'lat': '37.29276', 'lon': '-83.2114'},\n",
       " {'lat': '37.34733', 'lon': '-84.35157'},\n",
       " {'lat': '42.83951', 'lon': '-71.92182'},\n",
       " {'lat': '42.84152', 'lon': '-71.84764'},\n",
       " {'lat': '42.84051', 'lon': '-71.78033'},\n",
       " {'lat': '42.84152', 'lon': '-71.65945'},\n",
       " {'lat': '42.82541', 'lon': '-71.5207'},\n",
       " {'lat': '42.74382', 'lon': '-71.56054'},\n",
       " {'lat': '42.74785', 'lon': '-71.89984'},\n",
       " {'lat': '43.10082', 'lon': '-71.42332'},\n",
       " {'lat': '43.12086', 'lon': '-71.19528'},\n",
       " {'lat': '43.18594', 'lon': '-71.53459'},\n",
       " {'lat': '43.50106', 'lon': '-72.18409'},\n",
       " {'lat': '43.65617', 'lon': '-71.79396'},\n",
       " {'lat': '43.98494', 'lon': '-72.50279'},\n",
       " {'lat': '44.1388', 'lon': '-72.98633'},\n",
       " {'lat': '43.87028', 'lon': '-72.98633'},\n",
       " {'lat': '43.50504', 'lon': '-72.97534'},\n",
       " {'lat': '43.22966', 'lon': '-72.99182'},\n",
       " {'lat': '45.03075', 'lon': '-67.73146'},\n",
       " {'lat': '44.75045', 'lon': '-67.34117'},\n",
       " {'lat': '44.57473', 'lon': '-67.90164'},\n",
       " {'lat': '44.52778', 'lon': '-68.40166'},\n",
       " {'lat': '44.31998', 'lon': '-69.05004'},\n",
       " {'lat': '44.26103', 'lon': '-69.57754'},\n",
       " {'lat': '44.52503', 'lon': '-72.76312'},\n",
       " {'lat': '43.93778', 'lon': '-74.79572'},\n",
       " {'lat': '44.19813', 'lon': '-74.71879'},\n",
       " {'lat': '44.24534', 'lon': '-74.48801'},\n",
       " {'lat': '44.28072', 'lon': '-74.27921'},\n",
       " {'lat': '44.21387', 'lon': '-73.98799'},\n",
       " {'lat': '44.51608', 'lon': '-74.17481'},\n",
       " {'lat': '44.02469', 'lon': '-73.87809'},\n",
       " {'lat': '43.64451', 'lon': '-73.88359'},\n",
       " {'lat': '43.40168', 'lon': '-74.26273'},\n",
       " {'lat': '43.41763', 'lon': '-74.82869'},\n",
       " {'lat': '43.65643', 'lon': '-74.85616'},\n",
       " {'lat': '43.60477', 'lon': '-74.51549'},\n",
       " {'lat': '43.88636', 'lon': '-74.38911'},\n",
       " {'lat': '41.6741', 'lon': '-74.31567'},\n",
       " {'lat': '41.68743', 'lon': '-74.29746'},\n",
       " {'lat': '41.70049', 'lon': '-74.28132'},\n",
       " {'lat': '41.7069', 'lon': '-74.26965'},\n",
       " {'lat': '41.71586', 'lon': '-74.25866'},\n",
       " {'lat': '41.71868', 'lon': '-74.24904'},\n",
       " {'lat': '41.7279', 'lon': '-74.23427'},\n",
       " {'lat': '41.73123', 'lon': '-74.22535'},\n",
       " {'lat': '41.73558', 'lon': '-74.21676'},\n",
       " {'lat': '41.74301', 'lon': '-74.20749'},\n",
       " {'lat': '41.75222', 'lon': '-74.19512'},\n",
       " {'lat': '41.75478', 'lon': '-74.18551'},\n",
       " {'lat': '41.76758', 'lon': '-74.16868'},\n",
       " {'lat': '41.78638', 'lon': '-74.12649'},\n",
       " {'lat': '41.78587', 'lon': '-74.11859'},\n",
       " {'lat': '41.7851', 'lon': '-74.10657'},\n",
       " {'lat': '41.78484', 'lon': '-74.15156'},\n",
       " {'lat': '40.90587', 'lon': '-74.4529'},\n",
       " {'lat': '39.93951', 'lon': '-74.89095'},\n",
       " {'lat': '37.41991', 'lon': '-77.07787'},\n",
       " {'lat': '36.01672', 'lon': '-86.68176'},\n",
       " {'lat': '35.35678', 'lon': '-86.03338'},\n",
       " {'lat': '35.30303', 'lon': '-85.73666'},\n",
       " {'lat': '35.32095', 'lon': '-84.78057'},\n",
       " {'lat': '35.33887', 'lon': '-84.18713'},\n",
       " {'lat': '35.36574', 'lon': '-83.57171'},\n",
       " {'lat': '35.60713', 'lon': '-83.12114'},\n",
       " {'lat': '35.77657', 'lon': '-83.96734'},\n",
       " {'lat': '35.38364', 'lon': '-83.9014'},\n",
       " {'lat': '35.19543', 'lon': '-85.374'},\n",
       " {'lat': '35.10565', 'lon': '-81.24193'},\n",
       " {'lat': '35.47311', 'lon': '-80.71443'},\n",
       " {'lat': '36.38001', 'lon': '-80.25287'},\n",
       " {'lat': '36.29156', 'lon': '-81.53864'},\n",
       " {'lat': '35.09667', 'lon': '-82.38484'},\n",
       " {'lat': '34.49254', 'lon': '-83.34093'},\n",
       " {'lat': '34.56491', 'lon': '-82.08812'},\n",
       " {'lat': '35.22234', 'lon': '-81.78041'},\n",
       " {'lat': '35.8389', 'lon': '-82.32989'},\n",
       " {'lat': '36.46836', 'lon': '-85.40697'},\n",
       " {'lat': '34.85375', 'lon': '-87.3741'},\n",
       " {'lat': '25.83371', 'lon': '-101.77353'},\n",
       " {'lat': '25.31869', 'lon': '-100.47676'},\n",
       " {'lat': '51.29735', 'lon': '-115.4104'},\n",
       " {'lat': '50.24188', 'lon': '-114.83895'},\n",
       " {'lat': '48.49754', 'lon': '-113.87187'},\n",
       " {'lat': '48.55571', 'lon': '-111.10249'},\n",
       " {'lat': '48.17638', 'lon': '-108.20125'},\n",
       " {'lat': '49.9319', 'lon': '-107.41'},\n",
       " {'lat': '50.21379', 'lon': '-110.13541'},\n",
       " {'lat': '51.37966', 'lon': '-112.37728'},\n",
       " {'lat': '51.37966', 'lon': '-112.37728'},\n",
       " {'lat': '51.37966', 'lon': '-112.37728'},\n",
       " {'lat': '51.37967', 'lon': '-112.37728'},\n",
       " {'lat': '51.37967', 'lon': '-112.37728'}]"
      ]
     },
     "execution_count": 47,
     "metadata": {},
     "output_type": "execute_result"
    }
   ],
   "source": [
    "coordinates"
   ]
  },
  {
   "cell_type": "code",
   "execution_count": 48,
   "metadata": {
    "ExecuteTime": {
     "end_time": "2020-07-28T18:29:59.216556Z",
     "start_time": "2020-07-28T18:29:59.213575Z"
    }
   },
   "outputs": [
    {
     "data": {
      "text/plain": [
       "270"
      ]
     },
     "execution_count": 48,
     "metadata": {},
     "output_type": "execute_result"
    }
   ],
   "source": [
    "len(coordinates)"
   ]
  },
  {
   "cell_type": "markdown",
   "metadata": {},
   "source": [
    "### Using GPS Coordinates to get routes and store to db"
   ]
  },
  {
   "cell_type": "code",
   "execution_count": 49,
   "metadata": {
    "ExecuteTime": {
     "end_time": "2020-07-28T18:30:26.808497Z",
     "start_time": "2020-07-28T18:30:26.804419Z"
    }
   },
   "outputs": [],
   "source": [
    "def mp_gps_call(url_params, api_key):\n",
    "    url = 'https://www.mountainproject.com/data/get-routes-for-lat-lon'\n",
    "    response = requests.get(url, params=url_params)\n",
    "    \n",
    "    return response.json()"
   ]
  },
  {
   "cell_type": "markdown",
   "metadata": {},
   "source": [
    "#### Loop over list of GPS coordinates, get routes and insert into db"
   ]
  },
  {
   "cell_type": "code",
   "execution_count": 50,
   "metadata": {
    "ExecuteTime": {
     "end_time": "2020-07-28T19:30:34.298210Z",
     "start_time": "2020-07-28T18:31:32.726808Z"
    }
   },
   "outputs": [],
   "source": [
    "for i,coord in enumerate(coordinates):\n",
    "    ##assign new lat long and use api\n",
    "    api_key = config.api_key\n",
    "    lat = coord['lat']   #32.904600\n",
    "    lon = coord['lon']  #-116.818400\n",
    "    maxResults =500\n",
    "    maxDistance = 10\n",
    "    minDiff = '5.0'\n",
    "    maxDiff = '5.16'\n",
    "\n",
    "    url_params = {  'lat': str(lat),\n",
    "                    'lon': str(lon),\n",
    "                    'maxResults': maxResults,\n",
    "    #                 'maxDistance' : str(maxDistance),\n",
    "    #                 'minDiff': str(minDiff),\n",
    "    #                 'maxDiff': str(maxDiff)\n",
    "                    'key': api_key\n",
    "                 }\n",
    "    # call function and return 5000 route details\n",
    "    data = mp_gps_call(url_params, api_key)\n",
    "    \n",
    "    #check that call successful \n",
    "    if data['success']:\n",
    "        routes = data['routes']\n",
    "        \n",
    "        #store route data in mysql\n",
    "        query_helper.route_to_tup(routes)\n",
    "        \n",
    "        #track our progress\n",
    "        f = open(\"so_far_we_got.txt\", \"a\")\n",
    "        f.write(f'{i} iteration {lat},{lon}')\n",
    "        f.close()\n",
    "        \n",
    "    #print error message if something goes wrong\n",
    "    else:\n",
    "        f'Error!! stopped at {i} iteration {lat},{lon}'\n",
    "        f = open(\"stopped_at.txt\", \"a\")\n",
    "        f.write(f'Error!! stopped at {i} iteration {lat},{lon}')\n",
    "        f.close()\n",
    "        break\n",
    "        \n",
    "    #sleep for a bit to avoid being blocked\n",
    "    time.sleep(.1)\n"
   ]
  },
  {
   "cell_type": "markdown",
   "metadata": {},
   "source": [
    "## Webscrape Mountain Project for  Route Descriptions and Reviews"
   ]
  },
  {
   "cell_type": "markdown",
   "metadata": {},
   "source": [
    "### Get route ids from MySql db"
   ]
  },
  {
   "cell_type": "code",
   "execution_count": 51,
   "metadata": {
    "ExecuteTime": {
     "end_time": "2020-07-28T19:36:42.650125Z",
     "start_time": "2020-07-28T19:36:39.879290Z"
    }
   },
   "outputs": [
    {
     "data": {
      "text/html": [
       "<div>\n",
       "<style scoped>\n",
       "    .dataframe tbody tr th:only-of-type {\n",
       "        vertical-align: middle;\n",
       "    }\n",
       "\n",
       "    .dataframe tbody tr th {\n",
       "        vertical-align: top;\n",
       "    }\n",
       "\n",
       "    .dataframe thead th {\n",
       "        text-align: right;\n",
       "    }\n",
       "</style>\n",
       "<table border=\"1\" class=\"dataframe\">\n",
       "  <thead>\n",
       "    <tr style=\"text-align: right;\">\n",
       "      <th></th>\n",
       "      <th>id</th>\n",
       "    </tr>\n",
       "  </thead>\n",
       "  <tbody>\n",
       "    <tr>\n",
       "      <th>0</th>\n",
       "      <td>105714722</td>\n",
       "    </tr>\n",
       "    <tr>\n",
       "      <th>1</th>\n",
       "      <td>105714728</td>\n",
       "    </tr>\n",
       "    <tr>\n",
       "      <th>2</th>\n",
       "      <td>105714731</td>\n",
       "    </tr>\n",
       "    <tr>\n",
       "      <th>3</th>\n",
       "      <td>105714734</td>\n",
       "    </tr>\n",
       "    <tr>\n",
       "      <th>4</th>\n",
       "      <td>105714737</td>\n",
       "    </tr>\n",
       "  </tbody>\n",
       "</table>\n",
       "</div>"
      ],
      "text/plain": [
       "          id\n",
       "0  105714722\n",
       "1  105714728\n",
       "2  105714731\n",
       "3  105714734\n",
       "4  105714737"
      ]
     },
     "execution_count": 51,
     "metadata": {},
     "output_type": "execute_result"
    }
   ],
   "source": [
    "id_df = query_helper.query_to_df(\"SELECT id FROM climbs.routes;\")\n",
    "id_df.head()"
   ]
  },
  {
   "cell_type": "code",
   "execution_count": null,
   "metadata": {
    "ExecuteTime": {
     "end_time": "2020-01-10T02:26:41.624249Z",
     "start_time": "2020-01-10T02:26:41.619913Z"
    }
   },
   "outputs": [],
   "source": [
    "# import config\n",
    "# import json\n",
    "# import requests\n",
    "# api_key = config.api_key\n",
    "# import time \n",
    "# import datetime\n",
    "# import mysql.connector\n",
    "# from mysql.connector import errorcode\n",
    "# import pandas as pd\n",
    "\n",
    "\n",
    "# #creates connection, all functions will start by calling this\n",
    "# def connect():\n",
    "#     global cnx\n",
    "#     cnx = mysql.connector.connect(\n",
    "#     host = config.host,\n",
    "#     user = config.user,\n",
    "#     passwd = config.password,\n",
    "#     database = 'climbs')\n",
    "#     global cursor\n",
    "#     cursor = cnx.cursor()"
   ]
  },
  {
   "cell_type": "code",
   "execution_count": 60,
   "metadata": {
    "ExecuteTime": {
     "end_time": "2020-07-28T19:44:53.472625Z",
     "start_time": "2020-07-28T19:44:53.468452Z"
    }
   },
   "outputs": [],
   "source": [
    "def get_route_info(id_):\n",
    "    \n",
    "    #get page content\n",
    "    web_address = f'https://www.mountainproject.com/route/{id_}'\n",
    "    \n",
    "    page = requests.get(web_address)\n",
    "    soup = BeautifulSoup(page.content, 'html.parser')\n",
    "    \n",
    "    #grab section of interest\n",
    "    info =soup.find_all(class_='fr-view')\n",
    "    \n",
    "    describe=[]\n",
    "    for i in range(len(info)):\n",
    "        describe.append(info[i].get_text())\n",
    "    \n",
    "    return describe"
   ]
  },
  {
   "cell_type": "code",
   "execution_count": 61,
   "metadata": {
    "ExecuteTime": {
     "end_time": "2020-07-29T04:28:06.038283Z",
     "start_time": "2020-07-28T19:45:13.308695Z"
    }
   },
   "outputs": [],
   "source": [
    "for climb_id in remaining:\n",
    "    ##assign new lat long and use api\n",
    "\n",
    "    # call function and return 5000 route details\n",
    "    description = get_route_info(climb_id)\n",
    "    \n",
    "    query_helper.route_info_to_db((climb_id, '-'.join(description)))\n",
    "\n",
    "    #sleep for a bit to avoid being blocked\n",
    "    time.sleep(.1)"
   ]
  },
  {
   "cell_type": "markdown",
   "metadata": {},
   "source": [
    "### Use below to get remaining descriptions"
   ]
  },
  {
   "cell_type": "code",
   "execution_count": 53,
   "metadata": {
    "ExecuteTime": {
     "end_time": "2020-07-28T19:39:19.694721Z",
     "start_time": "2020-07-28T19:39:16.838384Z"
    }
   },
   "outputs": [
    {
     "data": {
      "text/plain": [
       "19382"
      ]
     },
     "execution_count": 53,
     "metadata": {},
     "output_type": "execute_result"
    }
   ],
   "source": [
    "df_describe = query_helper.query_to_df(\"SELECT id FROM climbs.route_description\")\n",
    "remaining=[]\n",
    "x=[]\n",
    "for i in id_df.id:\n",
    "    if i in df_describe.id.values:\n",
    "        x.append(i)\n",
    "    else:\n",
    "        remaining.append(i)\n",
    "len(remaining)"
   ]
  },
  {
   "cell_type": "code",
   "execution_count": 59,
   "metadata": {
    "ExecuteTime": {
     "end_time": "2020-07-28T19:44:39.281743Z",
     "start_time": "2020-07-28T19:44:39.278234Z"
    }
   },
   "outputs": [
    {
     "data": {
      "text/plain": [
       "36641"
      ]
     },
     "execution_count": 59,
     "metadata": {},
     "output_type": "execute_result"
    }
   ],
   "source": [
    "len(x)"
   ]
  },
  {
   "cell_type": "code",
   "execution_count": 54,
   "metadata": {
    "ExecuteTime": {
     "end_time": "2020-07-28T19:39:52.874878Z",
     "start_time": "2020-07-28T19:39:52.871415Z"
    }
   },
   "outputs": [
    {
     "data": {
      "text/plain": [
       "(56023, 1)"
      ]
     },
     "execution_count": 54,
     "metadata": {},
     "output_type": "execute_result"
    }
   ],
   "source": [
    "id_df.shape"
   ]
  },
  {
   "cell_type": "code",
   "execution_count": 55,
   "metadata": {
    "ExecuteTime": {
     "end_time": "2020-07-28T19:42:21.978672Z",
     "start_time": "2020-07-28T19:42:20.254946Z"
    }
   },
   "outputs": [],
   "source": [
    "df_describe = query_helper.query_to_df(\"SELECT id FROM climbs.route_description\")"
   ]
  },
  {
   "cell_type": "code",
   "execution_count": 56,
   "metadata": {
    "ExecuteTime": {
     "end_time": "2020-07-28T19:42:28.705135Z",
     "start_time": "2020-07-28T19:42:28.701486Z"
    }
   },
   "outputs": [
    {
     "data": {
      "text/plain": [
       "(36642, 1)"
      ]
     },
     "execution_count": 56,
     "metadata": {},
     "output_type": "execute_result"
    }
   ],
   "source": [
    "df_describe.shape"
   ]
  }
 ],
 "metadata": {
  "kernelspec": {
   "display_name": "Python 3",
   "language": "python",
   "name": "python3"
  },
  "language_info": {
   "codemirror_mode": {
    "name": "ipython",
    "version": 3
   },
   "file_extension": ".py",
   "mimetype": "text/x-python",
   "name": "python",
   "nbconvert_exporter": "python",
   "pygments_lexer": "ipython3",
   "version": "3.7.7"
  },
  "varInspector": {
   "cols": {
    "lenName": 16,
    "lenType": 16,
    "lenVar": 40
   },
   "kernels_config": {
    "python": {
     "delete_cmd_postfix": "",
     "delete_cmd_prefix": "del ",
     "library": "var_list.py",
     "varRefreshCmd": "print(var_dic_list())"
    },
    "r": {
     "delete_cmd_postfix": ") ",
     "delete_cmd_prefix": "rm(",
     "library": "var_list.r",
     "varRefreshCmd": "cat(var_dic_list()) "
    }
   },
   "types_to_exclude": [
    "module",
    "function",
    "builtin_function_or_method",
    "instance",
    "_Feature"
   ],
   "window_display": false
  }
 },
 "nbformat": 4,
 "nbformat_minor": 2
}
