{
 "cells": [
  {
   "cell_type": "markdown",
   "metadata": {},
   "source": [
    "# Gather Data"
   ]
  },
  {
   "cell_type": "code",
   "execution_count": 1,
   "metadata": {
    "ExecuteTime": {
     "end_time": "2020-07-28T17:00:42.572258Z",
     "start_time": "2020-07-28T17:00:40.568950Z"
    }
   },
   "outputs": [],
   "source": [
    "#import libraries\n",
    "import pandas as pd\n",
    "import matplotlib.pyplot as plt\n",
    "%matplotlib inline\n",
    "import seaborn as sns\n",
    "\n",
    "#for api calls\n",
    "from bs4 import BeautifulSoup\n",
    "import requests\n",
    "import json\n",
    "import time\n",
    "\n",
    "#personal api and aws keys\n",
    "import config\n",
    "\n",
    "import query_helper\n",
    "# import websrcape_wiki_table"
   ]
  },
  {
   "cell_type": "markdown",
   "metadata": {
    "heading_collapsed": true
   },
   "source": [
    "## Create climbs db"
   ]
  },
  {
   "cell_type": "code",
   "execution_count": null,
   "metadata": {
    "ExecuteTime": {
     "end_time": "2020-01-06T21:38:47.835213Z",
     "start_time": "2020-01-06T21:38:47.265264Z"
    },
    "hidden": true,
    "scrolled": true
   },
   "outputs": [],
   "source": [
    "query_helper.create_db('climbs')"
   ]
  },
  {
   "cell_type": "markdown",
   "metadata": {
    "heading_collapsed": true
   },
   "source": [
    "## Create route tables"
   ]
  },
  {
   "cell_type": "code",
   "execution_count": null,
   "metadata": {
    "ExecuteTime": {
     "end_time": "2020-01-06T20:34:40.531667Z",
     "start_time": "2020-01-06T20:34:40.529437Z"
    },
    "hidden": true
   },
   "outputs": [],
   "source": [
    "route_table = \"\"\"\n",
    "CREATE TABLE routes (\n",
    "    id int NOT NULL,\n",
    "    name varchar(100),\n",
    "    type varchar(30),\n",
    "    rating varchar(20),\n",
    "    stars float,\n",
    "    starVotes int,\n",
    "    pitches int,\n",
    "    location varchar(255),\n",
    "    url varchar(255),\n",
    "    longitude float,\n",
    "    latitude float,\n",
    "    PRIMARY KEY (id)\n",
    "    );\n",
    "\"\"\""
   ]
  },
  {
   "cell_type": "code",
   "execution_count": null,
   "metadata": {
    "ExecuteTime": {
     "end_time": "2020-01-06T20:34:45.300611Z",
     "start_time": "2020-01-06T20:34:44.702193Z"
    },
    "hidden": true
   },
   "outputs": [],
   "source": [
    "query_helper.create_table(route_table)"
   ]
  },
  {
   "cell_type": "code",
   "execution_count": null,
   "metadata": {
    "ExecuteTime": {
     "end_time": "2020-01-10T01:59:12.556862Z",
     "start_time": "2020-01-10T01:59:12.554378Z"
    },
    "hidden": true
   },
   "outputs": [],
   "source": [
    "route_describe_table = \"\"\"\n",
    "CREATE TABLE route_description (\n",
    "    id int NOT NULL,\n",
    "    info TEXT,\n",
    "    PRIMARY KEY (id)\n",
    "    );\n",
    "\"\"\""
   ]
  },
  {
   "cell_type": "code",
   "execution_count": null,
   "metadata": {
    "ExecuteTime": {
     "end_time": "2020-01-10T01:59:14.284659Z",
     "start_time": "2020-01-10T01:59:13.693870Z"
    },
    "hidden": true
   },
   "outputs": [],
   "source": [
    "query_helper.create_table(route_describe_table)"
   ]
  },
  {
   "cell_type": "markdown",
   "metadata": {},
   "source": [
    "## Use Mountain Project Api"
   ]
  },
  {
   "cell_type": "markdown",
   "metadata": {},
   "source": [
    "### Get GPS Coordinates"
   ]
  },
  {
   "cell_type": "code",
   "execution_count": 2,
   "metadata": {
    "ExecuteTime": {
     "end_time": "2020-07-28T17:04:50.980497Z",
     "start_time": "2020-07-28T17:04:50.974002Z"
    }
   },
   "outputs": [],
   "source": [
    "import xml.etree.ElementTree as ET\n",
    "tree = ET.parse('waypoints (1).xml')\n",
    "root = tree.getroot()"
   ]
  },
  {
   "cell_type": "code",
   "execution_count": 4,
   "metadata": {
    "ExecuteTime": {
     "end_time": "2020-07-28T17:05:08.837131Z",
     "start_time": "2020-07-28T17:05:08.833041Z"
    }
   },
   "outputs": [],
   "source": [
    "coordinates = []\n",
    "for child in root:\n",
    "    coordinates.append(child.attrib)"
   ]
  },
  {
   "cell_type": "code",
   "execution_count": 5,
   "metadata": {
    "ExecuteTime": {
     "end_time": "2020-07-28T17:05:14.477945Z",
     "start_time": "2020-07-28T17:05:14.446087Z"
    }
   },
   "outputs": [
    {
     "data": {
      "text/plain": [
       "[{'lat': '32.72415', 'lon': '-116.97993'},\n",
       " {'lat': '32.90872', 'lon': '-117.00192'},\n",
       " {'lat': '33.12049', 'lon': '-117.07061'},\n",
       " {'lat': '33.00776', 'lon': '-116.48267'},\n",
       " {'lat': '33.52393', 'lon': '-117.59544'},\n",
       " {'lat': '34.13403', 'lon': '-116.3363'},\n",
       " {'lat': '34.08403', 'lon': '-116.28684'},\n",
       " {'lat': '34.06129', 'lon': '-116.24288'},\n",
       " {'lat': '34.02831', 'lon': '-116.21678'},\n",
       " {'lat': '34.02148', 'lon': '-116.17969'},\n",
       " {'lat': '34.03058', 'lon': '-116.13024'},\n",
       " {'lat': '34.08289', 'lon': '-116.14535'},\n",
       " {'lat': '34.08517', 'lon': '-116.18794'},\n",
       " {'lat': '34.06925', 'lon': '-116.16046'},\n",
       " {'lat': '34.02831', 'lon': '-116.09452'},\n",
       " {'lat': '33.99987', 'lon': '-116.13574'},\n",
       " {'lat': '34.22034', 'lon': '-117.08074'},\n",
       " {'lat': '33.98394', 'lon': '-117.4956'},\n",
       " {'lat': '33.968', 'lon': '-118.3418'},\n",
       " {'lat': '34.38135', 'lon': '-117.92145'},\n",
       " {'lat': '34.44581', 'lon': '-119.20785'},\n",
       " {'lat': '34.58152', 'lon': '-119.97712'},\n",
       " {'lat': '34.64478', 'lon': '-119.69139'},\n",
       " {'lat': '35.42697', 'lon': '-118.04296'},\n",
       " {'lat': '35.48064', 'lon': '-119.16389'},\n",
       " {'lat': '35.52533', 'lon': '-120.68045'},\n",
       " {'lat': '36.27248', 'lon': '-119.40566'},\n",
       " {'lat': '36.52596', 'lon': '-118.21329'},\n",
       " {'lat': '35.93668', 'lon': '-120.89595'},\n",
       " {'lat': '36.61828', 'lon': '-121.59928'},\n",
       " {'lat': '37.30264', 'lon': '-121.99491'},\n",
       " {'lat': '40.29436', 'lon': '-123.03421'},\n",
       " {'lat': '38.9267', 'lon': '-121.00584'},\n",
       " {'lat': '38.95673', 'lon': '-119.95385'},\n",
       " {'lat': '38.93751', 'lon': '-119.99507'},\n",
       " {'lat': '38.91829', 'lon': '-119.95385'},\n",
       " {'lat': '38.88411', 'lon': '-120.12694'},\n",
       " {'lat': '38.9802', 'lon': '-120.22035'},\n",
       " {'lat': '39.14433', 'lon': '-120.22035'},\n",
       " {'lat': '39.23794', 'lon': '-120.1654'},\n",
       " {'lat': '39.29745', 'lon': '-120.0143'},\n",
       " {'lat': '35.80545', 'lon': '-117.48531'},\n",
       " {'lat': '37.74192', 'lon': '-119.71865'},\n",
       " {'lat': '37.73758', 'lon': '-119.68019'},\n",
       " {'lat': '37.76579', 'lon': '-119.61425'},\n",
       " {'lat': '37.82436', 'lon': '-119.54282'},\n",
       " {'lat': '37.82653', 'lon': '-119.45765'},\n",
       " {'lat': '37.82436', 'lon': '-119.36698'},\n",
       " {'lat': '37.71152', 'lon': '-119.47138'},\n",
       " {'lat': '37.68763', 'lon': '-119.56205'},\n",
       " {'lat': '37.6898', 'lon': '-119.65821'},\n",
       " {'lat': '37.74192', 'lon': '-119.61425'},\n",
       " {'lat': '37.75544', 'lon': '-119.57423'},\n",
       " {'lat': '37.76656', 'lon': '-119.53817'},\n",
       " {'lat': '37.7226', 'lon': '-119.6072'},\n",
       " {'lat': '37.72885', 'lon': '-119.56976'},\n",
       " {'lat': '37.73753', 'lon': '-119.53233'},\n",
       " {'lat': '37.58105', 'lon': '-119.46019'},\n",
       " {'lat': '37.5854', 'lon': '-119.24589'},\n",
       " {'lat': '37.38718', 'lon': '-119.28985'},\n",
       " {'lat': '37.5397', 'lon': '-118.96017'},\n",
       " {'lat': '37.56147', 'lon': '-118.80906'},\n",
       " {'lat': '37.61802', 'lon': '-118.67444'},\n",
       " {'lat': '37.69192', 'lon': '-118.88873'},\n",
       " {'lat': '37.77442', 'lon': '-118.75686'},\n",
       " {'lat': '37.78309', 'lon': '-118.63872'},\n",
       " {'lat': '37.92676', 'lon': '-118.98607'},\n",
       " {'lat': '38.15808', 'lon': '-119.23334'},\n",
       " {'lat': '38.28748', 'lon': '-119.89546'},\n",
       " {'lat': '41.8386', 'lon': '-122.62717'},\n",
       " {'lat': '40.74829', 'lon': '-124.06297'},\n",
       " {'lat': '40.00381', 'lon': '-123.86516'},\n",
       " {'lat': '39.56503', 'lon': '-123.62339'},\n",
       " {'lat': '38.91018', 'lon': '-123.11787'},\n",
       " {'lat': '39.58196', 'lon': '-122.68928'},\n",
       " {'lat': '39.9954', 'lon': '-121.75516'},\n",
       " {'lat': '40.38126', 'lon': '-120.60126'},\n",
       " {'lat': '41.5092', 'lon': '-120.86501'},\n",
       " {'lat': '41.32804', 'lon': '-122.08485'},\n",
       " {'lat': '41.59958', 'lon': '-123.48052'},\n",
       " {'lat': '40.92275', 'lon': '-122.51344'},\n",
       " {'lat': '34.65064', 'lon': '-115.39214'},\n",
       " {'lat': '35.18187', 'lon': '-116.82079'},\n",
       " {'lat': '35.22673', 'lon': '-117.62302'},\n",
       " {'lat': '36.17193', 'lon': '-117.49115'},\n",
       " {'lat': '33.85655', 'lon': '-116.58296'},\n",
       " {'lat': '33.65114', 'lon': '-116.65989'},\n",
       " {'lat': '33.94314', 'lon': '-116.83572'},\n",
       " {'lat': '33.42232', 'lon': '-116.39614'},\n",
       " {'lat': '35.90488', 'lon': '-116.32209'},\n",
       " {'lat': '38.36432', 'lon': '-121.12453'},\n",
       " {'lat': '37.88058', 'lon': '-120.78385'},\n",
       " {'lat': '37.2277', 'lon': '-120.15745'},\n",
       " {'lat': '40.11846', 'lon': '-121.06738'},\n",
       " {'lat': '41.16823', 'lon': '-121.58389'},\n",
       " {'lat': '41.31685', 'lon': '-120.59483'},\n",
       " {'lat': '42.23938', 'lon': '-123.94227'},\n",
       " {'lat': '42.23125', 'lon': '-123.55764'},\n",
       " {'lat': '42.2597', 'lon': '-122.62902'},\n",
       " {'lat': '42.19465', 'lon': '-121.76085'},\n",
       " {'lat': '42.61626', 'lon': '-121.82678'},\n",
       " {'lat': '43.26882', 'lon': '-121.74948'},\n",
       " {'lat': '43.2928', 'lon': '-123.60672'},\n",
       " {'lat': '44.0986', 'lon': '-123.11769'},\n",
       " {'lat': '44.03154', 'lon': '-121.46925'},\n",
       " {'lat': '42.79407', 'lon': '-121.82503'},\n",
       " {'lat': '44.37797', 'lon': '-121.20519'},\n",
       " {'lat': '44.38581', 'lon': '-121.47169'},\n",
       " {'lat': '44.36815', 'lon': '-120.83979'},\n",
       " {'lat': '44.20899', 'lon': '-120.87825'},\n",
       " {'lat': '43.87155', 'lon': '-121.01012'},\n",
       " {'lat': '44.39758', 'lon': '-119.85347'},\n",
       " {'lat': '44.4466', 'lon': '-120.31229'},\n",
       " {'lat': '43.81809', 'lon': '-119.99908'},\n",
       " {'lat': '45.17461', 'lon': '-123.06861'},\n",
       " {'lat': '45.39094', 'lon': '-122.29934'},\n",
       " {'lat': '45.36008', 'lon': '-121.2883'},\n",
       " {'lat': '45.468', 'lon': '-120.12341'},\n",
       " {'lat': '45.49879', 'lon': '-118.80466'},\n",
       " {'lat': '45.75987', 'lon': '-117.70571'},\n",
       " {'lat': '46.85211', 'lon': '-117.85956'},\n",
       " {'lat': '46.80704', 'lon': '-119.42008'},\n",
       " {'lat': '46.82207', 'lon': '-120.89268'},\n",
       " {'lat': '46.76193', 'lon': '-122.62903'},\n",
       " {'lat': '47.62742', 'lon': '-123.53017'},\n",
       " {'lat': '48.15753', 'lon': '-122.29934'},\n",
       " {'lat': '48.36221', 'lon': '-120.93664'},\n",
       " {'lat': '48.42055', 'lon': '-119.68383'},\n",
       " {'lat': '48.62418', 'lon': '-118.12331'},\n",
       " {'lat': '49.47338', 'lon': '-120.93664'},\n",
       " {'lat': '49.97029', 'lon': '-122.14549'},\n",
       " {'lat': '50.9904', 'lon': '-122.62903'},\n",
       " {'lat': '51.00422', 'lon': '-120.82674'},\n",
       " {'lat': '51.00422', 'lon': '-119.00247'},\n",
       " {'lat': '51.40325', 'lon': '-115.68363'},\n",
       " {'lat': '50.1817', 'lon': '-116.91446'},\n",
       " {'lat': '50.57384', 'lon': '-120.4531'},\n",
       " {'lat': '49.81467', 'lon': '-115.68363'},\n",
       " {'lat': '50.08316', 'lon': '-118.69477'},\n",
       " {'lat': '48.86761', 'lon': '-116.71617'},\n",
       " {'lat': '48.83871', 'lon': '-115.57325'},\n",
       " {'lat': '48.67946', 'lon': '-114.14461'},\n",
       " {'lat': '48.44692', 'lon': '-115.46336'},\n",
       " {'lat': '48.50515', 'lon': '-116.67221'},\n",
       " {'lat': '48.06676', 'lon': '-114.16659'},\n",
       " {'lat': '47.74288', 'lon': '-116.60627'},\n",
       " {'lat': '46.38163', 'lon': '-116.45242'},\n",
       " {'lat': '46.30583', 'lon': '-113.59513'},\n",
       " {'lat': '45.81821', 'lon': '-112.27638'},\n",
       " {'lat': '46.66872', 'lon': '-115.37544'},\n",
       " {'lat': '44.29807', 'lon': '-115.66117'},\n",
       " {'lat': '44.17219', 'lon': '-117.11179'},\n",
       " {'lat': '44.61158', 'lon': '-118.7822'},\n",
       " {'lat': '43.44317', 'lon': '-118.65033'},\n",
       " {'lat': '43.07532', 'lon': '-116.40846'},\n",
       " {'lat': '43.18751', 'lon': '-113.88086'},\n",
       " {'lat': '43.41127', 'lon': '-111.74888'},\n",
       " {'lat': '45.20263', 'lon': '-113.85888'},\n",
       " {'lat': '39.95797', 'lon': '-118.71625'},\n",
       " {'lat': '39.19627', 'lon': '-118.47448'},\n",
       " {'lat': '38.39181', 'lon': '-118.25469'},\n",
       " {'lat': '37.89092', 'lon': '-117.55136'},\n",
       " {'lat': '37.24688', 'lon': '-116.47438'},\n",
       " {'lat': '36.7206', 'lon': '-114.40835'},\n",
       " {'lat': '37.28183', 'lon': '-113.11158'},\n",
       " {'lat': '37.6131', 'lon': '-113.63908'},\n",
       " {'lat': '36.9491', 'lon': '-113.63908'},\n",
       " {'lat': '37.36915', 'lon': '-109.85867'},\n",
       " {'lat': '37.21191', 'lon': '-110.62794'},\n",
       " {'lat': '37.15942', 'lon': '-109.57294'},\n",
       " {'lat': '40.51121', 'lon': '-111.33127'},\n",
       " {'lat': '41.42322', 'lon': '-111.11148'},\n",
       " {'lat': '41.52195', 'lon': '-112.01262'},\n",
       " {'lat': '41.34084', 'lon': '-111.15543'},\n",
       " {'lat': '40.94392', 'lon': '-110.67189'},\n",
       " {'lat': '40.27705', 'lon': '-112.16647'},\n",
       " {'lat': '38.68383', 'lon': '-109.33117'},\n",
       " {'lat': '39.46806', 'lon': '-105.35294'},\n",
       " {'lat': '38.71811', 'lon': '-104.93534'},\n",
       " {'lat': '39.8906', 'lon': '-104.38586'},\n",
       " {'lat': '40.22677', 'lon': '-105.83648'},\n",
       " {'lat': '39.2511', 'lon': '-105.14691'},\n",
       " {'lat': '39.23834', 'lon': '-104.95459'},\n",
       " {'lat': '39.29573', 'lon': '-105.40791'},\n",
       " {'lat': '39.51632', 'lon': '-105.19361'},\n",
       " {'lat': '39.74254', 'lon': '-105.309'},\n",
       " {'lat': '39.87118', 'lon': '-105.53154'},\n",
       " {'lat': '40.07104', 'lon': '-105.66891'},\n",
       " {'lat': '40.06877', 'lon': '-105.31365'},\n",
       " {'lat': '40.59194', 'lon': '-105.33013'},\n",
       " {'lat': '40.01833', 'lon': '-105.30266'},\n",
       " {'lat': '40.02928', 'lon': '-105.38298'},\n",
       " {'lat': '39.95777', 'lon': '-105.3088'},\n",
       " {'lat': '39.97881', 'lon': '-105.39672'},\n",
       " {'lat': '39.89672', 'lon': '-105.40771'},\n",
       " {'lat': '39.89251', 'lon': '-105.28957'},\n",
       " {'lat': '39.97881', 'lon': '-105.3665'},\n",
       " {'lat': '39.87987', 'lon': '-105.36924'},\n",
       " {'lat': '39.87952', 'lon': '-105.64911'},\n",
       " {'lat': '39.71079', 'lon': '-105.52273'},\n",
       " {'lat': '39.95952', 'lon': '-106.01727'},\n",
       " {'lat': '40.38324', 'lon': '-105.47878'},\n",
       " {'lat': '40.72946', 'lon': '-105.79198'},\n",
       " {'lat': '40.40415', 'lon': '-106.59422'},\n",
       " {'lat': '40.01841', 'lon': '-106.75906'},\n",
       " {'lat': '39.73798', 'lon': '-106.74083'},\n",
       " {'lat': '39.3145', 'lon': '-105.94958'},\n",
       " {'lat': '38.66587', 'lon': '-106.01552'},\n",
       " {'lat': '38.4082', 'lon': '-104.8726'},\n",
       " {'lat': '38.4082', 'lon': '-106.60895'},\n",
       " {'lat': '39.94033', 'lon': '-107.4002'},\n",
       " {'lat': '39.41637', 'lon': '-108.8728'},\n",
       " {'lat': '38.51138', 'lon': '-108.21343'},\n",
       " {'lat': '37.33341', 'lon': '-105.04843'},\n",
       " {'lat': '38.28764', 'lon': '-111.13665'},\n",
       " {'lat': '40.02447', 'lon': '-111.11467'},\n",
       " {'lat': '39.65349', 'lon': '-112.47738'},\n",
       " {'lat': '39.78862', 'lon': '-110.25749'},\n",
       " {'lat': '40.74377', 'lon': '-108.10353'},\n",
       " {'lat': '39.4842', 'lon': '-108.43322'},\n",
       " {'lat': '42.54874', 'lon': '-107.02656'},\n",
       " {'lat': '41.25756', 'lon': '-107.11447'},\n",
       " {'lat': '41.55405', 'lon': '-106.05947'},\n",
       " {'lat': '41.57048', 'lon': '-109.26843'},\n",
       " {'lat': '42.40297', 'lon': '-107.99364'},\n",
       " {'lat': '42.75871', 'lon': '-108.65301'},\n",
       " {'lat': '43.6233', 'lon': '-109.42228'},\n",
       " {'lat': '41.80009', 'lon': '-105.33416'},\n",
       " {'lat': '43.16051', 'lon': '-105.37812'},\n",
       " {'lat': '44.051', 'lon': '-107.46614'},\n",
       " {'lat': '44.71021', 'lon': '-105.8177'},\n",
       " {'lat': '39.51468', 'lon': '-116.4191'},\n",
       " {'lat': '38.31863', 'lon': '-115.62785'},\n",
       " {'lat': '39.92009', 'lon': '-114.02337'},\n",
       " {'lat': '39.75146', 'lon': '-117.34222'},\n",
       " {'lat': '41.10547', 'lon': '-119.07857'},\n",
       " {'lat': '41.17163', 'lon': '-117.03451'},\n",
       " {'lat': '41.2212', 'lon': '-116.06743'},\n",
       " {'lat': '39.53162', 'lon': '-115.73775'},\n",
       " {'lat': '32.50193', 'lon': '-110.58138'},\n",
       " {'lat': '33.23972', 'lon': '-113.3068'},\n",
       " {'lat': '36.4118', 'lon': '-113.08701'},\n",
       " {'lat': '35.59457', 'lon': '-112.38367'},\n",
       " {'lat': '35.45158', 'lon': '-110.71326'},\n",
       " {'lat': '33.93491', 'lon': '-106.84493'},\n",
       " {'lat': '36.16397', 'lon': '-108.47139'},\n",
       " {'lat': '33.20298', 'lon': '-108.51535'},\n",
       " {'lat': '32.76086', 'lon': '-106.88889'},\n",
       " {'lat': '32.94535', 'lon': '-104.16348'},\n",
       " {'lat': '34.9131', 'lon': '-104.99869'},\n",
       " {'lat': '46.18211', 'lon': '-109.87805'},\n",
       " {'lat': '46.66652', 'lon': '-108.29556'},\n",
       " {'lat': '48.1526', 'lon': '-111.24076'},\n",
       " {'lat': '48.12329', 'lon': '-108.5593'},\n",
       " {'lat': '48.26968', 'lon': '-105.17452'},\n",
       " {'lat': '46.8771', 'lon': '-102.97661'},\n",
       " {'lat': '46.36427', 'lon': '-102.36119'},\n",
       " {'lat': '45.93829', 'lon': '-103.67994'},\n",
       " {'lat': '43.98056', 'lon': '-102.80077'},\n",
       " {'lat': '43.66366', 'lon': '-103.76785'},\n",
       " {'lat': '43.31314', 'lon': '-101.39411'},\n",
       " {'lat': '30.78198', 'lon': '-104.47119'},\n",
       " {'lat': '30.55531', 'lon': '-102.80077'},\n",
       " {'lat': '29.79591', 'lon': '-99.98744'},\n",
       " {'lat': '29.33748', 'lon': '-97.17412'},\n",
       " {'lat': '33.60631', 'lon': '-93.83329'},\n",
       " {'lat': '32.35364', 'lon': '-91.89912'},\n",
       " {'lat': '32.64998', 'lon': '-89.26163'},\n",
       " {'lat': '33.78902', 'lon': '-86.71205'},\n",
       " {'lat': '31.64593', 'lon': '-88.25059'},\n",
       " {'lat': '30.78198', 'lon': '-94.22891'},\n",
       " {'lat': '33.20967', 'lon': '-81.60068'},\n",
       " {'lat': '34.29854', 'lon': '-82.79976'},\n",
       " {'lat': '34.80498', 'lon': '-81.43706'},\n",
       " {'lat': '36.16397', 'lon': '-83.5031'},\n",
       " {'lat': '35.80857', 'lon': '-85.43726'},\n",
       " {'lat': '37.01037', 'lon': '-88.95392'},\n",
       " {'lat': '33.78902', 'lon': '-83.59101'},\n",
       " {'lat': '37.36029', 'lon': '-85.08559'},\n",
       " {'lat': '37.43008', 'lon': '-82.00852'},\n",
       " {'lat': '41.82529', 'lon': '-88.95392'},\n",
       " {'lat': '43.53643', 'lon': '-92.73433'},\n",
       " {'lat': '46.48537', 'lon': '-96.0312'},\n",
       " {'lat': '40.20149', 'lon': '-94.36079'},\n",
       " {'lat': '35.7373', 'lon': '-99.72369'},\n",
       " {'lat': '37.02462', 'lon': '-94.44527'},\n",
       " {'lat': '37.02462', 'lon': '-91.80777'},\n",
       " {'lat': '36.77876', 'lon': '-90.13736'},\n",
       " {'lat': '35.64478', 'lon': '-88.24715'},\n",
       " {'lat': '33.32808', 'lon': '-86.53278'},\n",
       " {'lat': '32.4058', 'lon': '-85.21403'},\n",
       " {'lat': '41.27988', 'lon': '-74.66405'},\n",
       " {'lat': '41.41177', 'lon': '-73.52114'},\n",
       " {'lat': '42.32755', 'lon': '-71.89468'},\n",
       " {'lat': '43.26218', 'lon': '-73.38926'},\n",
       " {'lat': '43.19818', 'lon': '-73.38926'},\n",
       " {'lat': '44.05656', 'lon': '-71.54302'},\n",
       " {'lat': '44.64414', 'lon': '-68.16602'},\n",
       " {'lat': '44.01578', 'lon': '-70.05622'},\n",
       " {'lat': '43.47637', 'lon': '-71.83653'},\n",
       " {'lat': '42.75499', 'lon': '-72.62778'},\n",
       " {'lat': '40.98905', 'lon': '-74.40809'},\n",
       " {'lat': '40.67333', 'lon': '-75.08945'},\n",
       " {'lat': '39.20855', 'lon': '-77.04559'},\n",
       " {'lat': '36.60036', 'lon': '-81.46047'},\n",
       " {'lat': '38.01516', 'lon': '-80.60329'},\n",
       " {'lat': '37.66831', 'lon': '-83.54849'},\n",
       " {'lat': '36.86437', 'lon': '-82.16381'},\n",
       " {'lat': '35.57103', 'lon': '-80.77912'},\n",
       " {'lat': '36.26465', 'lon': '-78.36142'},\n",
       " {'lat': '37.33729', 'lon': '-79.63621'},\n",
       " {'lat': '39.21626', 'lon': '-78.00975'},\n",
       " {'lat': '39.81774', 'lon': '-80.40359'},\n",
       " {'lat': '40.30517', 'lon': '-84.6016'},\n",
       " {'lat': '40.35442', 'lon': '-87.5553'},\n",
       " {'lat': '42.75878', 'lon': '-96.69874'},\n",
       " {'lat': '46.09698', 'lon': '-92.96229'},\n",
       " {'lat': '31.01112', 'lon': '-91.24823'},\n",
       " {'lat': '42.09047', 'lon': '-71.84007'},\n",
       " {'lat': '43.60386', 'lon': '-74.34569'},\n",
       " {'lat': '42.77125', 'lon': '-75.1809'}]"
      ]
     },
     "execution_count": 5,
     "metadata": {},
     "output_type": "execute_result"
    }
   ],
   "source": [
    "coordinates"
   ]
  },
  {
   "cell_type": "code",
   "execution_count": null,
   "metadata": {
    "ExecuteTime": {
     "end_time": "2020-01-06T21:39:51.663589Z",
     "start_time": "2020-01-06T21:39:51.660422Z"
    }
   },
   "outputs": [],
   "source": [
    "len(coordinates)"
   ]
  },
  {
   "cell_type": "markdown",
   "metadata": {
    "heading_collapsed": true
   },
   "source": [
    "### Using GPS Coordinates to get routes and store to db"
   ]
  },
  {
   "cell_type": "code",
   "execution_count": null,
   "metadata": {
    "ExecuteTime": {
     "end_time": "2020-01-06T21:39:54.069077Z",
     "start_time": "2020-01-06T21:39:54.066225Z"
    },
    "hidden": true
   },
   "outputs": [],
   "source": [
    "def mp_gps_call(url_params, api_key):\n",
    "    url = 'https://www.mountainproject.com/data/get-routes-for-lat-lon'\n",
    "    response = requests.get(url, params=url_params)\n",
    "    \n",
    "    return response.json()"
   ]
  },
  {
   "cell_type": "markdown",
   "metadata": {
    "heading_collapsed": true,
    "hidden": true
   },
   "source": [
    "#### Loop over list of GPS coordinates, get routes and insert into db"
   ]
  },
  {
   "cell_type": "code",
   "execution_count": null,
   "metadata": {
    "ExecuteTime": {
     "end_time": "2020-01-06T23:11:45.550362Z",
     "start_time": "2020-01-06T21:40:39.819520Z"
    },
    "hidden": true
   },
   "outputs": [],
   "source": [
    "for i,coord in enumerate(coordinates):\n",
    "    ##assign new lat long and use api\n",
    "    api_key = config.api_key\n",
    "    lat = coord['lat']   #32.904600\n",
    "    lon = coord['lon']  #-116.818400\n",
    "    maxResults =500\n",
    "    maxDistance = 10\n",
    "    minDiff = '5.0'\n",
    "    maxDiff = '5.16'\n",
    "\n",
    "    url_params = {  'lat': str(lat),\n",
    "                    'lon': str(lon),\n",
    "                    'maxResults': maxResults,\n",
    "    #                 'maxDistance' : str(maxDistance),\n",
    "    #                 'minDiff': str(minDiff),\n",
    "    #                 'maxDiff': str(maxDiff)\n",
    "                    'key': api_key\n",
    "                 }\n",
    "    # call function and return 5000 route details\n",
    "    data = mp_gps_call(url_params, api_key)\n",
    "    \n",
    "    #check that call successful \n",
    "    if data['success']:\n",
    "        routes = data['routes']\n",
    "        \n",
    "        #store route data in mysql\n",
    "        query_helper.route_to_tup(routes)\n",
    "        \n",
    "        #track our progress\n",
    "        f = open(\"so_far_we_got.txt\", \"a\")\n",
    "        f.write(f'{i} iteration {lat},{lon}')\n",
    "        f.close()\n",
    "        \n",
    "    #print error message if something goes wrong\n",
    "    else:\n",
    "        f'Error!! stopped at {i} iteration {lat},{lon}'\n",
    "        f = open(\"stopped_at.txt\", \"a\")\n",
    "        f.write(f'Error!! stopped at {i} iteration {lat},{lon}')\n",
    "        f.close()\n",
    "        break\n",
    "        \n",
    "    #sleep for a bit to avoid being blocked\n",
    "    time.sleep(3)\n"
   ]
  },
  {
   "cell_type": "markdown",
   "metadata": {},
   "source": [
    "## Webscrape Mountain Project for  Route Descriptions and Reviews"
   ]
  },
  {
   "cell_type": "markdown",
   "metadata": {
    "heading_collapsed": true
   },
   "source": [
    "### Get route ids from MySql db"
   ]
  },
  {
   "cell_type": "code",
   "execution_count": 2,
   "metadata": {
    "ExecuteTime": {
     "end_time": "2020-01-10T02:30:57.923388Z",
     "start_time": "2020-01-10T02:30:56.986250Z"
    },
    "hidden": true
   },
   "outputs": [
    {
     "data": {
      "text/html": [
       "<div>\n",
       "<style scoped>\n",
       "    .dataframe tbody tr th:only-of-type {\n",
       "        vertical-align: middle;\n",
       "    }\n",
       "\n",
       "    .dataframe tbody tr th {\n",
       "        vertical-align: top;\n",
       "    }\n",
       "\n",
       "    .dataframe thead th {\n",
       "        text-align: right;\n",
       "    }\n",
       "</style>\n",
       "<table border=\"1\" class=\"dataframe\">\n",
       "  <thead>\n",
       "    <tr style=\"text-align: right;\">\n",
       "      <th></th>\n",
       "      <th>id</th>\n",
       "    </tr>\n",
       "  </thead>\n",
       "  <tbody>\n",
       "    <tr>\n",
       "      <th>0</th>\n",
       "      <td>105714722</td>\n",
       "    </tr>\n",
       "    <tr>\n",
       "      <th>1</th>\n",
       "      <td>105714728</td>\n",
       "    </tr>\n",
       "    <tr>\n",
       "      <th>2</th>\n",
       "      <td>105714731</td>\n",
       "    </tr>\n",
       "    <tr>\n",
       "      <th>3</th>\n",
       "      <td>105714734</td>\n",
       "    </tr>\n",
       "    <tr>\n",
       "      <th>4</th>\n",
       "      <td>105714737</td>\n",
       "    </tr>\n",
       "  </tbody>\n",
       "</table>\n",
       "</div>"
      ],
      "text/plain": [
       "          id\n",
       "0  105714722\n",
       "1  105714728\n",
       "2  105714731\n",
       "3  105714734\n",
       "4  105714737"
      ]
     },
     "execution_count": 2,
     "metadata": {},
     "output_type": "execute_result"
    }
   ],
   "source": [
    "id_df = query_helper.query_to_df(\"SELECT id FROM climbs.routes;\")\n",
    "id_df.head()"
   ]
  },
  {
   "cell_type": "code",
   "execution_count": null,
   "metadata": {
    "ExecuteTime": {
     "end_time": "2020-01-10T02:26:41.624249Z",
     "start_time": "2020-01-10T02:26:41.619913Z"
    },
    "hidden": true
   },
   "outputs": [],
   "source": [
    "# import config\n",
    "# import json\n",
    "# import requests\n",
    "# api_key = config.api_key\n",
    "# import time \n",
    "# import datetime\n",
    "# import mysql.connector\n",
    "# from mysql.connector import errorcode\n",
    "# import pandas as pd\n",
    "\n",
    "\n",
    "# #creates connection, all functions will start by calling this\n",
    "# def connect():\n",
    "#     global cnx\n",
    "#     cnx = mysql.connector.connect(\n",
    "#     host = config.host,\n",
    "#     user = config.user,\n",
    "#     passwd = config.password,\n",
    "#     database = 'climbs')\n",
    "#     global cursor\n",
    "#     cursor = cnx.cursor()"
   ]
  },
  {
   "cell_type": "code",
   "execution_count": 10,
   "metadata": {
    "ExecuteTime": {
     "end_time": "2020-01-10T02:36:49.331637Z",
     "start_time": "2020-01-10T02:36:49.327927Z"
    },
    "hidden": true
   },
   "outputs": [],
   "source": [
    "def get_route_info(id_):\n",
    "    \n",
    "    #get page content\n",
    "    web_address = f'https://www.mountainproject.com/route/{id_}'\n",
    "    \n",
    "    page = requests.get(web_address)\n",
    "    soup = BeautifulSoup(page.content, 'html.parser')\n",
    "    \n",
    "    #grab section of interest\n",
    "    info =soup.find_all(class_='fr-view')\n",
    "    \n",
    "    describe=[]\n",
    "    for i in range(len(info)):\n",
    "        describe.append(info[i].get_text())\n",
    "    \n",
    "    return describe"
   ]
  },
  {
   "cell_type": "code",
   "execution_count": 57,
   "metadata": {
    "ExecuteTime": {
     "end_time": "2020-01-10T20:54:42.320026Z",
     "start_time": "2020-01-10T18:17:33.389307Z"
    },
    "hidden": true
   },
   "outputs": [],
   "source": [
    "for climb_id in remaining:\n",
    "    ##assign new lat long and use api\n",
    "\n",
    "    # call function and return 5000 route details\n",
    "    description = get_route_info(climb_id)\n",
    "    \n",
    "    query_helper.route_info_to_db((climb_id, '-'.join(description)))\n",
    "\n",
    "    #sleep for a bit to avoid being blocked\n",
    "#     time.sleep(1)"
   ]
  },
  {
   "cell_type": "markdown",
   "metadata": {
    "heading_collapsed": true
   },
   "source": [
    "### Use below to get remaining descriptions"
   ]
  },
  {
   "cell_type": "code",
   "execution_count": 55,
   "metadata": {
    "ExecuteTime": {
     "end_time": "2020-01-10T18:17:28.825209Z",
     "start_time": "2020-01-10T18:17:28.254333Z"
    },
    "hidden": true
   },
   "outputs": [],
   "source": [
    "# df_describe = query_helper.query_to_df(\"SELECT id FROM climbs.route_description\")\n",
    "# remaining=[]\n",
    "# x=[]\n",
    "# for i in id_df.id:\n",
    "#     if i in df_describe.id.values:\n",
    "#         x.append(i)\n",
    "#     else:\n",
    "#         remaining.append(i)\n",
    "# len(remaining)"
   ]
  }
 ],
 "metadata": {
  "kernelspec": {
   "display_name": "Python 3",
   "language": "python",
   "name": "python3"
  },
  "language_info": {
   "codemirror_mode": {
    "name": "ipython",
    "version": 3
   },
   "file_extension": ".py",
   "mimetype": "text/x-python",
   "name": "python",
   "nbconvert_exporter": "python",
   "pygments_lexer": "ipython3",
   "version": "3.7.7"
  },
  "varInspector": {
   "cols": {
    "lenName": 16,
    "lenType": 16,
    "lenVar": 40
   },
   "kernels_config": {
    "python": {
     "delete_cmd_postfix": "",
     "delete_cmd_prefix": "del ",
     "library": "var_list.py",
     "varRefreshCmd": "print(var_dic_list())"
    },
    "r": {
     "delete_cmd_postfix": ") ",
     "delete_cmd_prefix": "rm(",
     "library": "var_list.r",
     "varRefreshCmd": "cat(var_dic_list()) "
    }
   },
   "types_to_exclude": [
    "module",
    "function",
    "builtin_function_or_method",
    "instance",
    "_Feature"
   ],
   "window_display": false
  }
 },
 "nbformat": 4,
 "nbformat_minor": 2
}
