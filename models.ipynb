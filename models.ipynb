{
 "cells": [
  {
   "cell_type": "markdown",
   "metadata": {},
   "source": [
    "# ML Models"
   ]
  },
  {
   "cell_type": "markdown",
   "metadata": {},
   "source": [
    "## Import Libraries & Load Dataframe from AWS DB"
   ]
  },
  {
   "cell_type": "code",
   "execution_count": 31,
   "metadata": {
    "ExecuteTime": {
     "end_time": "2020-01-21T21:46:18.790102Z",
     "start_time": "2020-01-21T21:46:18.784653Z"
    }
   },
   "outputs": [],
   "source": [
    "import pandas as pd\n",
    "import numpy as np\n",
    "import seaborn as sns\n",
    "import matplotlib.pyplot as plt\n",
    "%matplotlib inline\n",
    "from sklearn import preprocessing\n",
    "from math import sin, cos, sqrt, atan2, radians\n",
    "\n",
    "import query_helper\n",
    "import get_new_route\n",
    "import json\n"
   ]
  },
  {
   "cell_type": "code",
   "execution_count": 32,
   "metadata": {
    "ExecuteTime": {
     "end_time": "2020-01-21T21:46:19.822240Z",
     "start_time": "2020-01-21T21:46:19.282784Z"
    }
   },
   "outputs": [
    {
     "data": {
      "text/html": [
       "<div>\n",
       "<style scoped>\n",
       "    .dataframe tbody tr th:only-of-type {\n",
       "        vertical-align: middle;\n",
       "    }\n",
       "\n",
       "    .dataframe tbody tr th {\n",
       "        vertical-align: top;\n",
       "    }\n",
       "\n",
       "    .dataframe thead th {\n",
       "        text-align: right;\n",
       "    }\n",
       "</style>\n",
       "<table border=\"1\" class=\"dataframe\">\n",
       "  <thead>\n",
       "    <tr style=\"text-align: right;\">\n",
       "      <th></th>\n",
       "      <th>name</th>\n",
       "      <th>rating</th>\n",
       "      <th>stars</th>\n",
       "      <th>starVotes</th>\n",
       "      <th>pitches</th>\n",
       "      <th>location</th>\n",
       "      <th>region</th>\n",
       "      <th>area</th>\n",
       "      <th>sub_area</th>\n",
       "      <th>wall</th>\n",
       "      <th>...</th>\n",
       "      <th>run out</th>\n",
       "      <th>well protected</th>\n",
       "      <th>chimney</th>\n",
       "      <th>offwidth</th>\n",
       "      <th>stem</th>\n",
       "      <th>arete</th>\n",
       "      <th>crimp</th>\n",
       "      <th>vertical</th>\n",
       "      <th>powerful</th>\n",
       "      <th>in_range</th>\n",
       "    </tr>\n",
       "    <tr>\n",
       "      <th>id</th>\n",
       "      <th></th>\n",
       "      <th></th>\n",
       "      <th></th>\n",
       "      <th></th>\n",
       "      <th></th>\n",
       "      <th></th>\n",
       "      <th></th>\n",
       "      <th></th>\n",
       "      <th></th>\n",
       "      <th></th>\n",
       "      <th></th>\n",
       "      <th></th>\n",
       "      <th></th>\n",
       "      <th></th>\n",
       "      <th></th>\n",
       "      <th></th>\n",
       "      <th></th>\n",
       "      <th></th>\n",
       "      <th></th>\n",
       "      <th></th>\n",
       "      <th></th>\n",
       "    </tr>\n",
       "  </thead>\n",
       "  <tbody>\n",
       "    <tr>\n",
       "      <th>105714722</th>\n",
       "      <td>Central Yellow Wall</td>\n",
       "      <td>V3 R</td>\n",
       "      <td>4.4</td>\n",
       "      <td>22</td>\n",
       "      <td>0</td>\n",
       "      <td>South Dakota</td>\n",
       "      <td>Custer State Park</td>\n",
       "      <td>Sylvan Lake</td>\n",
       "      <td>Sylvan Lake Bouldering</td>\n",
       "      <td>Campground Boulder</td>\n",
       "      <td>...</td>\n",
       "      <td>0</td>\n",
       "      <td>0</td>\n",
       "      <td>0</td>\n",
       "      <td>0</td>\n",
       "      <td>0</td>\n",
       "      <td>0</td>\n",
       "      <td>0</td>\n",
       "      <td>0</td>\n",
       "      <td>0</td>\n",
       "      <td>1</td>\n",
       "    </tr>\n",
       "    <tr>\n",
       "      <th>105714728</th>\n",
       "      <td>Waves</td>\n",
       "      <td>5.8</td>\n",
       "      <td>4.6</td>\n",
       "      <td>217</td>\n",
       "      <td>2</td>\n",
       "      <td>South Dakota</td>\n",
       "      <td>The Needles Of Rushmore</td>\n",
       "      <td>Mount Rushmore National Memorial</td>\n",
       "      <td>South Seas</td>\n",
       "      <td>Shipyard Rock</td>\n",
       "      <td>...</td>\n",
       "      <td>0</td>\n",
       "      <td>0</td>\n",
       "      <td>0</td>\n",
       "      <td>0</td>\n",
       "      <td>0</td>\n",
       "      <td>0</td>\n",
       "      <td>0</td>\n",
       "      <td>1</td>\n",
       "      <td>0</td>\n",
       "      <td>1</td>\n",
       "    </tr>\n",
       "    <tr>\n",
       "      <th>105714731</th>\n",
       "      <td>East Chimney Variation</td>\n",
       "      <td>5.7</td>\n",
       "      <td>4.1</td>\n",
       "      <td>40</td>\n",
       "      <td>2</td>\n",
       "      <td>South Dakota</td>\n",
       "      <td>Custer State Park</td>\n",
       "      <td>Cathedral Spires</td>\n",
       "      <td>Station 13</td>\n",
       "      <td>0</td>\n",
       "      <td>...</td>\n",
       "      <td>0</td>\n",
       "      <td>0</td>\n",
       "      <td>0</td>\n",
       "      <td>0</td>\n",
       "      <td>0</td>\n",
       "      <td>0</td>\n",
       "      <td>0</td>\n",
       "      <td>0</td>\n",
       "      <td>0</td>\n",
       "      <td>1</td>\n",
       "    </tr>\n",
       "    <tr>\n",
       "      <th>105714734</th>\n",
       "      <td>Conn Diagonal</td>\n",
       "      <td>5.7</td>\n",
       "      <td>4.9</td>\n",
       "      <td>151</td>\n",
       "      <td>3</td>\n",
       "      <td>South Dakota</td>\n",
       "      <td>Custer State Park</td>\n",
       "      <td>Sylvan Lake</td>\n",
       "      <td>Outlets</td>\n",
       "      <td>Outer Outlet</td>\n",
       "      <td>...</td>\n",
       "      <td>0</td>\n",
       "      <td>0</td>\n",
       "      <td>0</td>\n",
       "      <td>0</td>\n",
       "      <td>1</td>\n",
       "      <td>0</td>\n",
       "      <td>0</td>\n",
       "      <td>0</td>\n",
       "      <td>0</td>\n",
       "      <td>1</td>\n",
       "    </tr>\n",
       "    <tr>\n",
       "      <th>105714737</th>\n",
       "      <td>Bolts for Bobs</td>\n",
       "      <td>5.8</td>\n",
       "      <td>3.5</td>\n",
       "      <td>125</td>\n",
       "      <td>1</td>\n",
       "      <td>South Dakota</td>\n",
       "      <td>The Needles Of Rushmore</td>\n",
       "      <td>Mount Rushmore National Memorial</td>\n",
       "      <td>South Seas</td>\n",
       "      <td>Borneo</td>\n",
       "      <td>...</td>\n",
       "      <td>0</td>\n",
       "      <td>0</td>\n",
       "      <td>0</td>\n",
       "      <td>0</td>\n",
       "      <td>0</td>\n",
       "      <td>0</td>\n",
       "      <td>0</td>\n",
       "      <td>0</td>\n",
       "      <td>0</td>\n",
       "      <td>1</td>\n",
       "    </tr>\n",
       "  </tbody>\n",
       "</table>\n",
       "<p>5 rows × 49 columns</p>\n",
       "</div>"
      ],
      "text/plain": [
       "                             name rating  stars  starVotes  pitches      location                   region                              area                sub_area                wall  ...  run out  well protected chimney  offwidth  stem  arete  crimp  vertical  powerful  in_range\n",
       "id                                                                                                                                                                                        ...                                                                                             \n",
       "105714722     Central Yellow Wall   V3 R    4.4         22        0  South Dakota        Custer State Park                       Sylvan Lake  Sylvan Lake Bouldering  Campground Boulder  ...        0               0       0         0     0      0      0         0         0         1\n",
       "105714728                   Waves    5.8    4.6        217        2  South Dakota  The Needles Of Rushmore  Mount Rushmore National Memorial              South Seas       Shipyard Rock  ...        0               0       0         0     0      0      0         1         0         1\n",
       "105714731  East Chimney Variation    5.7    4.1         40        2  South Dakota        Custer State Park                  Cathedral Spires              Station 13                   0  ...        0               0       0         0     0      0      0         0         0         1\n",
       "105714734           Conn Diagonal    5.7    4.9        151        3  South Dakota        Custer State Park                       Sylvan Lake                 Outlets        Outer Outlet  ...        0               0       0         0     1      0      0         0         0         1\n",
       "105714737          Bolts for Bobs    5.8    3.5        125        1  South Dakota  The Needles Of Rushmore  Mount Rushmore National Memorial              South Seas              Borneo  ...        0               0       0         0     0      0      0         0         0         1\n",
       "\n",
       "[5 rows x 49 columns]"
      ]
     },
     "execution_count": 32,
     "metadata": {},
     "output_type": "execute_result"
    }
   ],
   "source": [
    "df_numeric = pd.read_csv('df.csv', index_col='id')\n",
    "#reorder columns\n",
    "df_numeric =df_numeric[['name', 'rating', 'stars', 'starVotes', 'pitches', 'location', 'region',\n",
    "                               'area', 'sub_area', 'wall', 'longitude', 'latitude', 'url', 'Sport',\n",
    "                               'Trad', 'Boulder', 'TR', 'Alpine', 'Aid', 'Ice', 'Snow', 'Mixed',\n",
    "                               'danger', 'rope_grade', 'boulder_grade', 'infos', 'slab', 'traverse',\n",
    "                               'roof', 'corner', 'crack', 'face', 'flake', 'fingers', 'jug', 'exposed',\n",
    "                               'dihedral', 'sustained', 'technical', 'run out', 'well protected',\n",
    "                               'chimney', 'offwidth', 'stem', 'arete', 'crimp', 'vertical', 'powerful',\n",
    "                               'in_range']]\n",
    "df_numeric.head()"
   ]
  },
  {
   "cell_type": "markdown",
   "metadata": {},
   "source": [
    "## Get input from user for recommendation"
   ]
  },
  {
   "cell_type": "code",
   "execution_count": 33,
   "metadata": {
    "ExecuteTime": {
     "end_time": "2020-01-21T21:46:20.232403Z",
     "start_time": "2020-01-21T21:46:20.229709Z"
    }
   },
   "outputs": [],
   "source": [
    "target_id = 106875741\n",
    "# target_lat = 32.9127 \n",
    "# target_lon = -116.882\n",
    "target_state =''\n",
    "target_city =''\n",
    "target_zipcode = '92008'\n",
    "target_radius_range=60\n",
    "star_limit = 3.5\n",
    "###other parameters to be added here later"
   ]
  },
  {
   "cell_type": "code",
   "execution_count": 34,
   "metadata": {
    "ExecuteTime": {
     "end_time": "2020-01-21T21:46:20.598487Z",
     "start_time": "2020-01-21T21:46:20.595238Z"
    }
   },
   "outputs": [
    {
     "data": {
      "text/plain": [
       "True"
      ]
     },
     "execution_count": 34,
     "metadata": {},
     "output_type": "execute_result"
    }
   ],
   "source": [
    "type('ss') == str"
   ]
  },
  {
   "cell_type": "markdown",
   "metadata": {},
   "source": [
    "### Get coordinates for zip or city"
   ]
  },
  {
   "cell_type": "code",
   "execution_count": 35,
   "metadata": {
    "ExecuteTime": {
     "end_time": "2020-01-21T21:46:21.369536Z",
     "start_time": "2020-01-21T21:46:20.967281Z"
    }
   },
   "outputs": [],
   "source": [
    "with open('us-zip-code-latitude-and-longitude.json') as f:\n",
    "  coord_dict = json.load(f)"
   ]
  },
  {
   "cell_type": "code",
   "execution_count": 36,
   "metadata": {
    "ExecuteTime": {
     "end_time": "2020-01-21T21:46:23.609311Z",
     "start_time": "2020-01-21T21:46:23.605377Z"
    }
   },
   "outputs": [],
   "source": [
    "def get_coords(target_city=None, target_state=None, zipcode=None):\n",
    "    #find the coordinates for city or zip code\n",
    "    for city in coord_dict:\n",
    "        if city['fields']['zip']==zipcode:\n",
    "            return city['fields']['latitude'],city['fields']['longitude']\n",
    "        if (city['fields']['state']==target_state)&(city['fields']['city']==target_city):\n",
    "            return city['fields']['latitude'],city['fields']['longitude']\n",
    "    #if nothing is found return none\n",
    "    return None, None"
   ]
  },
  {
   "cell_type": "code",
   "execution_count": 37,
   "metadata": {
    "ExecuteTime": {
     "end_time": "2020-01-21T21:46:25.746169Z",
     "start_time": "2020-01-21T21:46:25.740296Z"
    }
   },
   "outputs": [],
   "source": [
    "target_lat, target_lon = get_coords(target_city, target_state, target_zipcode)"
   ]
  },
  {
   "cell_type": "code",
   "execution_count": 38,
   "metadata": {
    "ExecuteTime": {
     "end_time": "2020-01-21T21:46:27.884018Z",
     "start_time": "2020-01-21T21:46:27.881364Z"
    }
   },
   "outputs": [
    {
     "name": "stdout",
     "output_type": "stream",
     "text": [
      "33.158137 -117.32646\n"
     ]
    }
   ],
   "source": [
    "print(target_lat, target_lon)"
   ]
  },
  {
   "cell_type": "markdown",
   "metadata": {},
   "source": [
    "### Create fxn to see if climb is in search range"
   ]
  },
  {
   "cell_type": "code",
   "execution_count": 39,
   "metadata": {
    "ExecuteTime": {
     "end_time": "2020-01-21T21:46:30.014925Z",
     "start_time": "2020-01-21T21:46:30.009426Z"
    }
   },
   "outputs": [],
   "source": [
    "#function takes search param range and assigns to original df if climb in_range\n",
    "def in_range(df_fxn, lat, lon, radius_range=None):\n",
    "    if radius_range:\n",
    "        R= 3958.8 \n",
    "        if (lat == None)|(lon==None):\n",
    "            df_fxn['in_range'] = 1\n",
    "        else:\n",
    "            #assign target coords and set to radians for calc\n",
    "            lat1 = radians(lat)\n",
    "            lon1 = radians(lon)\n",
    "            for index, row in df_fxn.iterrows():\n",
    "                #assign the lat and lon for each climb\n",
    "                lat2 = radians(row['latitude'])\n",
    "                lon2 = radians(row['longitude'])\n",
    "\n",
    "                dlon = lon2 - lon1\n",
    "                dlat = lat2 - lat1\n",
    "\n",
    "                a = sin(dlat / 2)**2 + cos(lat1) * cos(lat2) * sin(dlon / 2)**2\n",
    "                c = 2 * atan2(sqrt(a), sqrt(1 - a))\n",
    "\n",
    "                distance = R * c\n",
    "\n",
    "                #assign in_range col to 1 if the climb is in range\n",
    "                if distance < radius_range:\n",
    "                    df_fxn.at[index,'in_range']=1\n",
    "                else:\n",
    "                    df_fxn.at[index,'in_range']=0   \n",
    "    else:\n",
    "        df_fxn['in_range'] =1\n",
    "\n"
   ]
  },
  {
   "cell_type": "code",
   "execution_count": 40,
   "metadata": {
    "ExecuteTime": {
     "end_time": "2020-01-21T21:46:32.149701Z",
     "start_time": "2020-01-21T21:46:32.145635Z"
    }
   },
   "outputs": [],
   "source": [
    "def star_cutoff(df_fxn, star_limit=3.5):\n",
    "    for index, row in df_fxn.iterrows():\n",
    "        #assign in_range col to 1 if the climb is in range\n",
    "        if (df_fxn.at[index, 'stars'] >= star_limit)&(df_fxn.at[index, 'in_range']!=0):\n",
    "            df_fxn.at[index,'in_range']=1\n",
    "        else:\n",
    "            df_fxn.at[index,'in_range']=0   "
   ]
  },
  {
   "cell_type": "code",
   "execution_count": 41,
   "metadata": {
    "ExecuteTime": {
     "end_time": "2020-01-21T21:46:34.288184Z",
     "start_time": "2020-01-21T21:46:34.282636Z"
    }
   },
   "outputs": [
    {
     "data": {
      "text/plain": [
       "name                                            Central Yellow Wall\n",
       "rating                                                         V3 R\n",
       "stars                                                           4.4\n",
       "starVotes                                                        22\n",
       "pitches                                                           0\n",
       "location                                               South Dakota\n",
       "region                                            Custer State Park\n",
       "area                                                    Sylvan Lake\n",
       "sub_area                                     Sylvan Lake Bouldering\n",
       "wall                                             Campground Boulder\n",
       "longitude                                                  -103.564\n",
       "latitude                                                    43.8463\n",
       "url               https://www.mountainproject.com/route/10571472...\n",
       "Sport                                                             0\n",
       "Trad                                                              0\n",
       "Boulder                                                           1\n",
       "TR                                                                1\n",
       "Alpine                                                            0\n",
       "Aid                                                               0\n",
       "Ice                                                               0\n",
       "Snow                                                              0\n",
       "Mixed                                                             0\n",
       "danger                                                            2\n",
       "rope_grade                                                        0\n",
       "boulder_grade                                                    15\n",
       "infos             The Central Yellow Wall is a classic must-do p...\n",
       "slab                                                              0\n",
       "traverse                                                          0\n",
       "roof                                                              0\n",
       "corner                                                            0\n",
       "crack                                                             0\n",
       "face                                                              1\n",
       "flake                                                             1\n",
       "fingers                                                           0\n",
       "jug                                                               0\n",
       "exposed                                                           0\n",
       "dihedral                                                          0\n",
       "sustained                                                         0\n",
       "technical                                                         0\n",
       "run out                                                           0\n",
       "well protected                                                    0\n",
       "chimney                                                           0\n",
       "offwidth                                                          0\n",
       "stem                                                              0\n",
       "arete                                                             0\n",
       "crimp                                                             0\n",
       "vertical                                                          0\n",
       "powerful                                                          0\n",
       "in_range                                                          1\n",
       "Name: 105714722, dtype: object"
      ]
     },
     "execution_count": 41,
     "metadata": {},
     "output_type": "execute_result"
    }
   ],
   "source": [
    "df_numeric.iloc[0,:]"
   ]
  },
  {
   "cell_type": "code",
   "execution_count": 42,
   "metadata": {
    "ExecuteTime": {
     "end_time": "2020-01-21T21:46:36.517813Z",
     "start_time": "2020-01-21T21:46:36.512912Z"
    },
    "scrolled": true
   },
   "outputs": [
    {
     "data": {
      "text/plain": [
       "name                                                    Via Leni 6b\n",
       "rating                                                        5.10b\n",
       "stars                                                             5\n",
       "starVotes                                                         4\n",
       "pitches                                                           6\n",
       "location                                              International\n",
       "region                                                       Europe\n",
       "area                                                    Switzerland\n",
       "sub_area                                             Albigna Valley\n",
       "wall                                                 Spazzacaldeira\n",
       "longitude                                                    9.6383\n",
       "latitude                                                    46.3387\n",
       "url               https://www.mountainproject.com/route/10687574...\n",
       "Sport                                                             1\n",
       "Trad                                                              0\n",
       "Boulder                                                           0\n",
       "TR                                                                0\n",
       "Alpine                                                            1\n",
       "Aid                                                               0\n",
       "Ice                                                               0\n",
       "Snow                                                              0\n",
       "Mixed                                                             0\n",
       "danger                                                            0\n",
       "rope_grade                                                       22\n",
       "boulder_grade                                                     0\n",
       "infos                                                           NaN\n",
       "slab                                                              0\n",
       "traverse                                                          0\n",
       "roof                                                              0\n",
       "corner                                                            0\n",
       "crack                                                             0\n",
       "face                                                              0\n",
       "flake                                                             0\n",
       "fingers                                                           0\n",
       "jug                                                               0\n",
       "exposed                                                           0\n",
       "dihedral                                                          0\n",
       "sustained                                                         0\n",
       "technical                                                         0\n",
       "run out                                                           0\n",
       "well protected                                                    0\n",
       "chimney                                                           0\n",
       "offwidth                                                          0\n",
       "stem                                                              0\n",
       "arete                                                             0\n",
       "crimp                                                             0\n",
       "vertical                                                          0\n",
       "powerful                                                          0\n",
       "in_range                                                          1\n",
       "Name: 106875741, dtype: object"
      ]
     },
     "execution_count": 42,
     "metadata": {},
     "output_type": "execute_result"
    }
   ],
   "source": [
    "df_numeric.loc[target_id,:]"
   ]
  },
  {
   "cell_type": "code",
   "execution_count": 43,
   "metadata": {
    "ExecuteTime": {
     "end_time": "2020-01-21T21:46:38.707606Z",
     "start_time": "2020-01-21T21:46:38.705467Z"
    }
   },
   "outputs": [],
   "source": [
    "# ##difficulity cutoff, function not run until climb is in df\n",
    "# def diff_cutoff(df_fxn, delta=6, target_grade):\n",
    "#     if df_fxn.loc[target_id,'Boulder']==0:\n",
    "#         target_grade = df_fxn.loc[target_id,'rope_grade']\n",
    "#         for index, row in df_fxn.iterrows():\n",
    "#             #assign in_range col to 1 if the climb is in range\n",
    "#             if (df_fxn.at[index, 'rope_grade'] <= target_grade+delta)&(df_fxn.at[index, 'rope_grade'] >= target_grade-delta)\n",
    "#                 &(df_fxn.at[index, 'in_range']!=0):\n",
    "#                 df_fxn.at[index,'in_range']=1\n",
    "#             else:\n",
    "#                 df_fxn.at[index,'in_range']=0                "
   ]
  },
  {
   "cell_type": "markdown",
   "metadata": {},
   "source": [
    "### Call function to assign if climb in range"
   ]
  },
  {
   "cell_type": "code",
   "execution_count": 44,
   "metadata": {
    "ExecuteTime": {
     "end_time": "2020-01-21T21:46:44.248250Z",
     "start_time": "2020-01-21T21:46:40.911882Z"
    }
   },
   "outputs": [],
   "source": [
    "## used to get list of climbs allowed for comparison\n",
    "in_range(df_numeric, lat = target_lat, lon = target_lon, radius_range=target_radius_range)"
   ]
  },
  {
   "cell_type": "markdown",
   "metadata": {},
   "source": [
    "### Star cutoff (ie only give results for routes with above 3.5 stars)"
   ]
  },
  {
   "cell_type": "code",
   "execution_count": 45,
   "metadata": {
    "ExecuteTime": {
     "end_time": "2020-01-21T21:46:49.722836Z",
     "start_time": "2020-01-21T21:46:46.432266Z"
    }
   },
   "outputs": [],
   "source": [
    "star_cutoff(df_numeric, star_limit)"
   ]
  },
  {
   "cell_type": "code",
   "execution_count": 46,
   "metadata": {
    "ExecuteTime": {
     "end_time": "2020-01-21T21:46:52.048199Z",
     "start_time": "2020-01-21T21:46:52.042991Z"
    }
   },
   "outputs": [
    {
     "data": {
      "text/plain": [
       "0    35242\n",
       "1     1372\n",
       "Name: in_range, dtype: int64"
      ]
     },
     "execution_count": 46,
     "metadata": {},
     "output_type": "execute_result"
    }
   ],
   "source": [
    "df_numeric.in_range.value_counts()"
   ]
  },
  {
   "cell_type": "markdown",
   "metadata": {},
   "source": [
    "### To begin, see if if the climb already exists in db"
   ]
  },
  {
   "cell_type": "code",
   "execution_count": 47,
   "metadata": {
    "ExecuteTime": {
     "end_time": "2020-01-21T21:46:54.353905Z",
     "start_time": "2020-01-21T21:46:54.275483Z"
    }
   },
   "outputs": [
    {
     "name": "stdout",
     "output_type": "stream",
     "text": [
      "We have climb already\n"
     ]
    }
   ],
   "source": [
    "if target_id in df_numeric.index:\n",
    "    print('We have climb already')\n",
    "    #make sure reference climb is assigned in_range\n",
    "    df_numeric.loc[target_id,'in_range']=1\n",
    "else:\n",
    "    print('Making API call and Scraping climb data')\n",
    "    if(get_new_route.get_route_details(target_id)):\n",
    "        #the function in the if statement saves target climb to target_climb.csv and returns 1\n",
    "        df_target= pd.read_csv('target_climb.csv', index_col= 'id')\n",
    "        df_target.drop(columns=['Unnamed: 0'], inplace=True)\n",
    "        df_target['in_range'] = 1\n",
    "        #order the same as df_numeric columns\n",
    "        df_target = df_target[['name', 'rating', 'stars', 'starVotes', 'pitches', 'location', 'region',\n",
    "                               'area', 'sub_area', 'wall', 'longitude', 'latitude', 'url', 'Sport',\n",
    "                               'Trad', 'Boulder', 'TR', 'Alpine', 'Aid', 'Ice', 'Snow', 'Mixed',\n",
    "                               'danger', 'rope_grade', 'boulder_grade', 'infos', 'slab', 'traverse',\n",
    "                               'roof', 'corner', 'crack', 'face', 'flake', 'fingers', 'jug', 'exposed',\n",
    "                               'dihedral', 'sustained', 'technical', 'run out', 'well protected',\n",
    "                               'chimney', 'offwidth', 'stem', 'arete', 'crimp', 'vertical', 'powerful',\n",
    "                               'in_range']]\n",
    "        \n",
    "        df_numeric = pd.concat([df_numeric, df_target])\n",
    "    else:\n",
    "        print(\"Something went wrong\")\n"
   ]
  },
  {
   "cell_type": "code",
   "execution_count": 48,
   "metadata": {
    "ExecuteTime": {
     "end_time": "2020-01-21T21:46:54.363020Z",
     "start_time": "2020-01-21T21:46:54.356571Z"
    }
   },
   "outputs": [
    {
     "data": {
      "text/plain": [
       "name                                                    Via Leni 6b\n",
       "rating                                                        5.10b\n",
       "stars                                                             5\n",
       "starVotes                                                         4\n",
       "pitches                                                           6\n",
       "location                                              International\n",
       "region                                                       Europe\n",
       "area                                                    Switzerland\n",
       "sub_area                                             Albigna Valley\n",
       "wall                                                 Spazzacaldeira\n",
       "longitude                                                    9.6383\n",
       "latitude                                                    46.3387\n",
       "url               https://www.mountainproject.com/route/10687574...\n",
       "Sport                                                             1\n",
       "Trad                                                              0\n",
       "Boulder                                                           0\n",
       "TR                                                                0\n",
       "Alpine                                                            1\n",
       "Aid                                                               0\n",
       "Ice                                                               0\n",
       "Snow                                                              0\n",
       "Mixed                                                             0\n",
       "danger                                                            0\n",
       "rope_grade                                                       22\n",
       "boulder_grade                                                     0\n",
       "infos                                                           NaN\n",
       "slab                                                              0\n",
       "traverse                                                          0\n",
       "roof                                                              0\n",
       "corner                                                            0\n",
       "crack                                                             0\n",
       "face                                                              0\n",
       "flake                                                             0\n",
       "fingers                                                           0\n",
       "jug                                                               0\n",
       "exposed                                                           0\n",
       "dihedral                                                          0\n",
       "sustained                                                         0\n",
       "technical                                                         0\n",
       "run out                                                           0\n",
       "well protected                                                    0\n",
       "chimney                                                           0\n",
       "offwidth                                                          0\n",
       "stem                                                              0\n",
       "arete                                                             0\n",
       "crimp                                                             0\n",
       "vertical                                                          0\n",
       "powerful                                                          0\n",
       "in_range                                                          1\n",
       "Name: 106875741, dtype: object"
      ]
     },
     "execution_count": 48,
     "metadata": {},
     "output_type": "execute_result"
    }
   ],
   "source": [
    "df_numeric.loc[target_id,:]"
   ]
  },
  {
   "cell_type": "code",
   "execution_count": 49,
   "metadata": {
    "ExecuteTime": {
     "end_time": "2020-01-21T21:46:58.952722Z",
     "start_time": "2020-01-21T21:46:58.933533Z"
    }
   },
   "outputs": [
    {
     "data": {
      "text/html": [
       "<div>\n",
       "<style scoped>\n",
       "    .dataframe tbody tr th:only-of-type {\n",
       "        vertical-align: middle;\n",
       "    }\n",
       "\n",
       "    .dataframe tbody tr th {\n",
       "        vertical-align: top;\n",
       "    }\n",
       "\n",
       "    .dataframe thead th {\n",
       "        text-align: right;\n",
       "    }\n",
       "</style>\n",
       "<table border=\"1\" class=\"dataframe\">\n",
       "  <thead>\n",
       "    <tr style=\"text-align: right;\">\n",
       "      <th></th>\n",
       "      <th>name</th>\n",
       "      <th>rating</th>\n",
       "      <th>stars</th>\n",
       "      <th>starVotes</th>\n",
       "      <th>pitches</th>\n",
       "      <th>location</th>\n",
       "      <th>region</th>\n",
       "      <th>area</th>\n",
       "      <th>sub_area</th>\n",
       "      <th>wall</th>\n",
       "      <th>...</th>\n",
       "      <th>run out</th>\n",
       "      <th>well protected</th>\n",
       "      <th>chimney</th>\n",
       "      <th>offwidth</th>\n",
       "      <th>stem</th>\n",
       "      <th>arete</th>\n",
       "      <th>crimp</th>\n",
       "      <th>vertical</th>\n",
       "      <th>powerful</th>\n",
       "      <th>in_range</th>\n",
       "    </tr>\n",
       "    <tr>\n",
       "      <th>id</th>\n",
       "      <th></th>\n",
       "      <th></th>\n",
       "      <th></th>\n",
       "      <th></th>\n",
       "      <th></th>\n",
       "      <th></th>\n",
       "      <th></th>\n",
       "      <th></th>\n",
       "      <th></th>\n",
       "      <th></th>\n",
       "      <th></th>\n",
       "      <th></th>\n",
       "      <th></th>\n",
       "      <th></th>\n",
       "      <th></th>\n",
       "      <th></th>\n",
       "      <th></th>\n",
       "      <th></th>\n",
       "      <th></th>\n",
       "      <th></th>\n",
       "      <th></th>\n",
       "    </tr>\n",
       "  </thead>\n",
       "  <tbody>\n",
       "    <tr>\n",
       "      <th>118210398</th>\n",
       "      <td>Dead and Bloated</td>\n",
       "      <td>V5-6</td>\n",
       "      <td>5.0</td>\n",
       "      <td>1</td>\n",
       "      <td>0</td>\n",
       "      <td>California</td>\n",
       "      <td>Southern Sierra</td>\n",
       "      <td>San Joaquin River Gorge</td>\n",
       "      <td>Downstream</td>\n",
       "      <td>Dead and Bloated Boulder</td>\n",
       "      <td>...</td>\n",
       "      <td>0</td>\n",
       "      <td>0</td>\n",
       "      <td>0</td>\n",
       "      <td>0</td>\n",
       "      <td>0</td>\n",
       "      <td>0</td>\n",
       "      <td>0</td>\n",
       "      <td>0</td>\n",
       "      <td>0</td>\n",
       "      <td>0</td>\n",
       "    </tr>\n",
       "    <tr>\n",
       "      <th>118210488</th>\n",
       "      <td>Unknown #1</td>\n",
       "      <td>V0-1</td>\n",
       "      <td>3.0</td>\n",
       "      <td>1</td>\n",
       "      <td>0</td>\n",
       "      <td>California</td>\n",
       "      <td>Lake Tahoe</td>\n",
       "      <td>I-80 Corridor</td>\n",
       "      <td>Auburn and Grass Valley</td>\n",
       "      <td>Auburn SRA,Tall Green Bridge,Riverside Boulder...</td>\n",
       "      <td>...</td>\n",
       "      <td>0</td>\n",
       "      <td>0</td>\n",
       "      <td>0</td>\n",
       "      <td>0</td>\n",
       "      <td>0</td>\n",
       "      <td>0</td>\n",
       "      <td>0</td>\n",
       "      <td>0</td>\n",
       "      <td>0</td>\n",
       "      <td>0</td>\n",
       "    </tr>\n",
       "    <tr>\n",
       "      <th>118210496</th>\n",
       "      <td>Unknown #2</td>\n",
       "      <td>V1-2</td>\n",
       "      <td>3.0</td>\n",
       "      <td>1</td>\n",
       "      <td>0</td>\n",
       "      <td>California</td>\n",
       "      <td>Lake Tahoe</td>\n",
       "      <td>I-80 Corridor</td>\n",
       "      <td>Auburn and Grass Valley</td>\n",
       "      <td>Auburn SRA,Tall Green Bridge,Riverside Boulder...</td>\n",
       "      <td>...</td>\n",
       "      <td>0</td>\n",
       "      <td>0</td>\n",
       "      <td>0</td>\n",
       "      <td>0</td>\n",
       "      <td>0</td>\n",
       "      <td>0</td>\n",
       "      <td>0</td>\n",
       "      <td>0</td>\n",
       "      <td>0</td>\n",
       "      <td>0</td>\n",
       "    </tr>\n",
       "    <tr>\n",
       "      <th>118210504</th>\n",
       "      <td>Unknown #3</td>\n",
       "      <td>V1-2</td>\n",
       "      <td>3.0</td>\n",
       "      <td>1</td>\n",
       "      <td>0</td>\n",
       "      <td>California</td>\n",
       "      <td>Lake Tahoe</td>\n",
       "      <td>I-80 Corridor</td>\n",
       "      <td>Auburn and Grass Valley</td>\n",
       "      <td>Auburn SRA,Tall Green Bridge,Riverside Boulder...</td>\n",
       "      <td>...</td>\n",
       "      <td>0</td>\n",
       "      <td>0</td>\n",
       "      <td>0</td>\n",
       "      <td>0</td>\n",
       "      <td>0</td>\n",
       "      <td>1</td>\n",
       "      <td>0</td>\n",
       "      <td>0</td>\n",
       "      <td>0</td>\n",
       "      <td>0</td>\n",
       "    </tr>\n",
       "    <tr>\n",
       "      <th>118211517</th>\n",
       "      <td>Mertensia Pillar</td>\n",
       "      <td>WI5</td>\n",
       "      <td>4.0</td>\n",
       "      <td>1</td>\n",
       "      <td>1</td>\n",
       "      <td>Colorado</td>\n",
       "      <td>CO Ice &amp; Mixed</td>\n",
       "      <td>RMNP - Mixed/Ice</td>\n",
       "      <td>Wild Basin</td>\n",
       "      <td>Mertensia Falls</td>\n",
       "      <td>...</td>\n",
       "      <td>0</td>\n",
       "      <td>0</td>\n",
       "      <td>0</td>\n",
       "      <td>0</td>\n",
       "      <td>0</td>\n",
       "      <td>0</td>\n",
       "      <td>0</td>\n",
       "      <td>0</td>\n",
       "      <td>0</td>\n",
       "      <td>0</td>\n",
       "    </tr>\n",
       "  </tbody>\n",
       "</table>\n",
       "<p>5 rows × 49 columns</p>\n",
       "</div>"
      ],
      "text/plain": [
       "                       name rating  stars  starVotes  pitches    location           region                     area                 sub_area                                               wall  ...  run out  well protected chimney  offwidth  stem  arete  crimp  vertical  powerful  in_range\n",
       "id                                                                                                                                                                                               ...                                                                                             \n",
       "118210398  Dead and Bloated   V5-6    5.0          1        0  California  Southern Sierra  San Joaquin River Gorge               Downstream                           Dead and Bloated Boulder  ...        0               0       0         0     0      0      0         0         0         0\n",
       "118210488        Unknown #1   V0-1    3.0          1        0  California       Lake Tahoe            I-80 Corridor  Auburn and Grass Valley  Auburn SRA,Tall Green Bridge,Riverside Boulder...  ...        0               0       0         0     0      0      0         0         0         0\n",
       "118210496        Unknown #2   V1-2    3.0          1        0  California       Lake Tahoe            I-80 Corridor  Auburn and Grass Valley  Auburn SRA,Tall Green Bridge,Riverside Boulder...  ...        0               0       0         0     0      0      0         0         0         0\n",
       "118210504        Unknown #3   V1-2    3.0          1        0  California       Lake Tahoe            I-80 Corridor  Auburn and Grass Valley  Auburn SRA,Tall Green Bridge,Riverside Boulder...  ...        0               0       0         0     0      1      0         0         0         0\n",
       "118211517  Mertensia Pillar    WI5    4.0          1        1    Colorado   CO Ice & Mixed         RMNP - Mixed/Ice               Wild Basin                                    Mertensia Falls  ...        0               0       0         0     0      0      0         0         0         0\n",
       "\n",
       "[5 rows x 49 columns]"
      ]
     },
     "execution_count": 49,
     "metadata": {},
     "output_type": "execute_result"
    }
   ],
   "source": [
    "df_numeric.tail()"
   ]
  },
  {
   "cell_type": "markdown",
   "metadata": {},
   "source": [
    "### Diff_grade cutoff WIP"
   ]
  },
  {
   "cell_type": "code",
   "execution_count": 50,
   "metadata": {
    "ExecuteTime": {
     "end_time": "2020-01-21T21:47:01.262109Z",
     "start_time": "2020-01-21T21:47:01.260139Z"
    }
   },
   "outputs": [],
   "source": [
    "###WIP call grade range function\n",
    "# pass in deets for target climb"
   ]
  },
  {
   "cell_type": "markdown",
   "metadata": {},
   "source": [
    "## Reccomender"
   ]
  },
  {
   "cell_type": "markdown",
   "metadata": {},
   "source": [
    "#### Kernel Imports"
   ]
  },
  {
   "cell_type": "code",
   "execution_count": 51,
   "metadata": {
    "ExecuteTime": {
     "end_time": "2020-01-21T21:47:03.607743Z",
     "start_time": "2020-01-21T21:47:03.586794Z"
    }
   },
   "outputs": [],
   "source": [
    "# Import kernels\n",
    "from sklearn.metrics.pairwise import linear_kernel\n",
    "from sklearn.metrics.pairwise import euclidean_distances\n",
    "from sklearn.metrics.pairwise import cosine_similarity\n",
    "from sklearn.metrics.pairwise import polynomial_kernel\n",
    "from sklearn.metrics.pairwise import sigmoid_kernel\n",
    "from sklearn.metrics.pairwise import rbf_kernel\n",
    "from sklearn.metrics.pairwise import laplacian_kernel\n",
    "from sklearn.metrics.pairwise import chi2_kernel\n",
    "\n"
   ]
  },
  {
   "cell_type": "code",
   "execution_count": 52,
   "metadata": {
    "ExecuteTime": {
     "end_time": "2020-01-21T21:47:05.862267Z",
     "start_time": "2020-01-21T21:47:05.858949Z"
    }
   },
   "outputs": [],
   "source": [
    "from sklearn.preprocessing import MinMaxScaler\n",
    "from sklearn.preprocessing import minmax_scale\n",
    "from sklearn.preprocessing import MaxAbsScaler\n",
    "from sklearn.preprocessing import StandardScaler"
   ]
  },
  {
   "cell_type": "markdown",
   "metadata": {},
   "source": [
    "#### Create df_in_range to run recommender in subset"
   ]
  },
  {
   "cell_type": "code",
   "execution_count": 53,
   "metadata": {
    "ExecuteTime": {
     "end_time": "2020-01-21T21:47:08.122110Z",
     "start_time": "2020-01-21T21:47:08.112786Z"
    }
   },
   "outputs": [
    {
     "data": {
      "text/plain": [
       "(1373, 50)"
      ]
     },
     "execution_count": 53,
     "metadata": {},
     "output_type": "execute_result"
    }
   ],
   "source": [
    "df_in_range = df_numeric[df_numeric['in_range']==1].reset_index()      \n",
    "target_index =df_in_range.index[df_in_range['id']==target_id][0] #store target climb index in subset that will be compared\n",
    "df_in_range.shape"
   ]
  },
  {
   "cell_type": "code",
   "execution_count": 56,
   "metadata": {
    "ExecuteTime": {
     "end_time": "2020-01-21T21:47:14.981172Z",
     "start_time": "2020-01-21T21:47:14.977570Z"
    }
   },
   "outputs": [
    {
     "data": {
      "text/plain": [
       "493"
      ]
     },
     "execution_count": 56,
     "metadata": {},
     "output_type": "execute_result"
    }
   ],
   "source": [
    "target_index"
   ]
  },
  {
   "cell_type": "code",
   "execution_count": 57,
   "metadata": {
    "ExecuteTime": {
     "end_time": "2020-01-21T21:47:17.297418Z",
     "start_time": "2020-01-21T21:47:17.278757Z"
    }
   },
   "outputs": [
    {
     "data": {
      "text/html": [
       "<div>\n",
       "<style scoped>\n",
       "    .dataframe tbody tr th:only-of-type {\n",
       "        vertical-align: middle;\n",
       "    }\n",
       "\n",
       "    .dataframe tbody tr th {\n",
       "        vertical-align: top;\n",
       "    }\n",
       "\n",
       "    .dataframe thead th {\n",
       "        text-align: right;\n",
       "    }\n",
       "</style>\n",
       "<table border=\"1\" class=\"dataframe\">\n",
       "  <thead>\n",
       "    <tr style=\"text-align: right;\">\n",
       "      <th></th>\n",
       "      <th>id</th>\n",
       "      <th>name</th>\n",
       "      <th>rating</th>\n",
       "      <th>stars</th>\n",
       "      <th>starVotes</th>\n",
       "      <th>pitches</th>\n",
       "      <th>location</th>\n",
       "      <th>region</th>\n",
       "      <th>area</th>\n",
       "      <th>sub_area</th>\n",
       "      <th>...</th>\n",
       "      <th>run out</th>\n",
       "      <th>well protected</th>\n",
       "      <th>chimney</th>\n",
       "      <th>offwidth</th>\n",
       "      <th>stem</th>\n",
       "      <th>arete</th>\n",
       "      <th>crimp</th>\n",
       "      <th>vertical</th>\n",
       "      <th>powerful</th>\n",
       "      <th>in_range</th>\n",
       "    </tr>\n",
       "  </thead>\n",
       "  <tbody>\n",
       "    <tr>\n",
       "      <th>1368</th>\n",
       "      <td>118175687</td>\n",
       "      <td>Aerial Chariot Direct</td>\n",
       "      <td>V7</td>\n",
       "      <td>5.0</td>\n",
       "      <td>1</td>\n",
       "      <td>0</td>\n",
       "      <td>California</td>\n",
       "      <td>San Diego and Environs</td>\n",
       "      <td>North San Diego County</td>\n",
       "      <td>Lake Ramona</td>\n",
       "      <td>...</td>\n",
       "      <td>0</td>\n",
       "      <td>0</td>\n",
       "      <td>0</td>\n",
       "      <td>0</td>\n",
       "      <td>0</td>\n",
       "      <td>0</td>\n",
       "      <td>0</td>\n",
       "      <td>0</td>\n",
       "      <td>0</td>\n",
       "      <td>1</td>\n",
       "    </tr>\n",
       "    <tr>\n",
       "      <th>1369</th>\n",
       "      <td>118189308</td>\n",
       "      <td>Golgotha</td>\n",
       "      <td>V8-9</td>\n",
       "      <td>5.0</td>\n",
       "      <td>1</td>\n",
       "      <td>0</td>\n",
       "      <td>California</td>\n",
       "      <td>San Diego and Environs</td>\n",
       "      <td>North San Diego County</td>\n",
       "      <td>Lake Ramona</td>\n",
       "      <td>...</td>\n",
       "      <td>0</td>\n",
       "      <td>0</td>\n",
       "      <td>0</td>\n",
       "      <td>0</td>\n",
       "      <td>0</td>\n",
       "      <td>1</td>\n",
       "      <td>1</td>\n",
       "      <td>0</td>\n",
       "      <td>0</td>\n",
       "      <td>1</td>\n",
       "    </tr>\n",
       "    <tr>\n",
       "      <th>1370</th>\n",
       "      <td>118192124</td>\n",
       "      <td>Bloody L</td>\n",
       "      <td>5.7</td>\n",
       "      <td>4.0</td>\n",
       "      <td>2</td>\n",
       "      <td>1</td>\n",
       "      <td>California</td>\n",
       "      <td>Inland Empire</td>\n",
       "      <td>Big Rock Area</td>\n",
       "      <td>L-Slab/Lakeview Slab</td>\n",
       "      <td>...</td>\n",
       "      <td>0</td>\n",
       "      <td>0</td>\n",
       "      <td>0</td>\n",
       "      <td>0</td>\n",
       "      <td>0</td>\n",
       "      <td>0</td>\n",
       "      <td>0</td>\n",
       "      <td>0</td>\n",
       "      <td>0</td>\n",
       "      <td>1</td>\n",
       "    </tr>\n",
       "    <tr>\n",
       "      <th>1371</th>\n",
       "      <td>118202461</td>\n",
       "      <td>Pieces of Eight</td>\n",
       "      <td>5.10c/d PG13</td>\n",
       "      <td>4.0</td>\n",
       "      <td>2</td>\n",
       "      <td>1</td>\n",
       "      <td>California</td>\n",
       "      <td>Tahquitz &amp; Suicide Rocks</td>\n",
       "      <td>Suicide Rock</td>\n",
       "      <td>(l) Buttress of Cracks</td>\n",
       "      <td>...</td>\n",
       "      <td>0</td>\n",
       "      <td>0</td>\n",
       "      <td>0</td>\n",
       "      <td>0</td>\n",
       "      <td>0</td>\n",
       "      <td>0</td>\n",
       "      <td>0</td>\n",
       "      <td>0</td>\n",
       "      <td>0</td>\n",
       "      <td>1</td>\n",
       "    </tr>\n",
       "    <tr>\n",
       "      <th>1372</th>\n",
       "      <td>118208812</td>\n",
       "      <td>Coyote Traverse</td>\n",
       "      <td>5.8 V0+ PG13</td>\n",
       "      <td>3.5</td>\n",
       "      <td>2</td>\n",
       "      <td>1</td>\n",
       "      <td>California</td>\n",
       "      <td>San Diego and Environs</td>\n",
       "      <td>North San Diego County</td>\n",
       "      <td>Calavera lake</td>\n",
       "      <td>...</td>\n",
       "      <td>0</td>\n",
       "      <td>0</td>\n",
       "      <td>0</td>\n",
       "      <td>0</td>\n",
       "      <td>0</td>\n",
       "      <td>0</td>\n",
       "      <td>0</td>\n",
       "      <td>0</td>\n",
       "      <td>0</td>\n",
       "      <td>1</td>\n",
       "    </tr>\n",
       "  </tbody>\n",
       "</table>\n",
       "<p>5 rows × 50 columns</p>\n",
       "</div>"
      ],
      "text/plain": [
       "             id                   name        rating  stars  starVotes  pitches    location                    region                    area                sub_area  ... run out  well protected  chimney offwidth  stem  arete  crimp  vertical  powerful  in_range\n",
       "1368  118175687  Aerial Chariot Direct            V7    5.0          1        0  California    San Diego and Environs  North San Diego County             Lake Ramona  ...       0               0        0        0     0      0      0         0         0         1\n",
       "1369  118189308               Golgotha          V8-9    5.0          1        0  California    San Diego and Environs  North San Diego County             Lake Ramona  ...       0               0        0        0     0      1      1         0         0         1\n",
       "1370  118192124               Bloody L           5.7    4.0          2        1  California             Inland Empire           Big Rock Area    L-Slab/Lakeview Slab  ...       0               0        0        0     0      0      0         0         0         1\n",
       "1371  118202461        Pieces of Eight  5.10c/d PG13    4.0          2        1  California  Tahquitz & Suicide Rocks            Suicide Rock  (l) Buttress of Cracks  ...       0               0        0        0     0      0      0         0         0         1\n",
       "1372  118208812        Coyote Traverse  5.8 V0+ PG13    3.5          2        1  California    San Diego and Environs  North San Diego County           Calavera lake  ...       0               0        0        0     0      0      0         0         0         1\n",
       "\n",
       "[5 rows x 50 columns]"
      ]
     },
     "execution_count": 57,
     "metadata": {},
     "output_type": "execute_result"
    }
   ],
   "source": [
    "df_in_range.tail()"
   ]
  },
  {
   "cell_type": "markdown",
   "metadata": {},
   "source": [
    "### Scale Features"
   ]
  },
  {
   "cell_type": "markdown",
   "metadata": {},
   "source": [
    "#### Create Features DF"
   ]
  },
  {
   "cell_type": "code",
   "execution_count": 58,
   "metadata": {
    "ExecuteTime": {
     "end_time": "2020-01-21T21:47:19.710888Z",
     "start_time": "2020-01-21T21:47:19.705079Z"
    }
   },
   "outputs": [],
   "source": [
    "#creates features from df_in_range used for comparison\n",
    "features = df_in_range.loc[:,['stars', 'pitches', 'Sport', 'Trad', 'Boulder', 'TR', 'Alpine', 'Aid',\n",
    "       'Ice', 'Snow', 'Mixed', 'danger', 'rope_grade', 'boulder_grade', 'slab', 'traverse', 'roof', \n",
    "                'corner', 'crack', 'face','flake', 'fingers',\n",
    "                 'jug', 'exposed', 'dihedral', 'sustained', 'technical','run out', 'well protected',\n",
    "                 'chimney', 'offwidth', 'stem', 'arete','crimp', 'vertical', 'powerful']] #,'longitude','latitude',"
   ]
  },
  {
   "cell_type": "code",
   "execution_count": 59,
   "metadata": {
    "ExecuteTime": {
     "end_time": "2020-01-21T21:47:22.097664Z",
     "start_time": "2020-01-21T21:47:22.094352Z"
    },
    "scrolled": true
   },
   "outputs": [
    {
     "data": {
      "text/plain": [
       "(1373, 36)"
      ]
     },
     "execution_count": 59,
     "metadata": {},
     "output_type": "execute_result"
    }
   ],
   "source": [
    "features.shape"
   ]
  },
  {
   "cell_type": "code",
   "execution_count": 60,
   "metadata": {
    "ExecuteTime": {
     "end_time": "2020-01-21T21:47:24.435187Z",
     "start_time": "2020-01-21T21:47:24.432822Z"
    }
   },
   "outputs": [],
   "source": [
    "# features.iloc[:,[12,13]]"
   ]
  },
  {
   "cell_type": "markdown",
   "metadata": {},
   "source": [
    "#### Pick scaling type (AND UPDATE WEIGHTS)"
   ]
  },
  {
   "cell_type": "code",
   "execution_count": 61,
   "metadata": {
    "ExecuteTime": {
     "end_time": "2020-01-21T21:47:26.936179Z",
     "start_time": "2020-01-21T21:47:26.933879Z"
    }
   },
   "outputs": [],
   "source": [
    "min_max_scaler = MinMaxScaler()\n",
    "scalar = StandardScaler()"
   ]
  },
  {
   "cell_type": "code",
   "execution_count": 62,
   "metadata": {
    "ExecuteTime": {
     "end_time": "2020-01-21T21:47:29.369049Z",
     "start_time": "2020-01-21T21:47:29.359924Z"
    }
   },
   "outputs": [],
   "source": [
    "##### Pick a scaling option ###############################\n",
    "\n",
    "# features_scaled = scalar.fit_transform(features)\n",
    "# features_scaled = min_max_scaler.fit_transform(features.drop(columns=['danger','pitches']))\n",
    "\n",
    "features_scaled = min_max_scaler.fit_transform(features)\n",
    "\n",
    "# scale danger and pitches using ss and add into features scaled df\n",
    "# features_scaled = np.concatenate((features_scaled, scalar.fit_transform(features[['danger', 'pitches']])), axis=1)\n",
    "\n",
    "##################################################################\n",
    "\n",
    "for i in range(features_scaled.shape[0]):\n",
    "    features_scaled[i][10]=features_scaled[i][12]*10  #weight rope_grade higher\n",
    "    features_scaled[i][11]=features_scaled[i][13]*10 #weight boulder_grade higher"
   ]
  },
  {
   "cell_type": "markdown",
   "metadata": {},
   "source": [
    "### Now lets fit the similarity model"
   ]
  },
  {
   "cell_type": "markdown",
   "metadata": {},
   "source": [
    "#### Rec function"
   ]
  },
  {
   "cell_type": "code",
   "execution_count": 63,
   "metadata": {
    "ExecuteTime": {
     "end_time": "2020-01-21T21:47:31.757243Z",
     "start_time": "2020-01-21T21:47:31.751585Z"
    }
   },
   "outputs": [],
   "source": [
    "def get_recommendations(idx, kernel_type):\n",
    "\n",
    "    #value to store scores and indicies\n",
    "    score_matrix = np.ndarray(shape=(len(df_in_range),2), dtype=float)\n",
    "\n",
    "    #go through the target climb vs all onthers in our db and populate score mtx with index and similarity\n",
    "    for i in range(df_in_range.shape[0]):\n",
    "        score = kernel_type(features_scaled[idx].reshape(1,-1),features_scaled[i].reshape(1,-1))\n",
    "        score_matrix[i][0] =  i        ##the index comparison corresponding to the score\n",
    "        score_matrix[i][1] = score     ##the score for the current index\n",
    "\n",
    "    # Sort the climbs based on the similarity scores\n",
    "    score_matrix = sorted(score_matrix, key=lambda x: x[1], reverse=True)\n",
    "    \n",
    "\n",
    "#########################  WIP ADD/calculate SIMilarity VALUE from tf-idf infos comparison #######################\n",
    "\n",
    "    # # Get the scores of the 20 most similar climbs\n",
    "    score_matrix = score_matrix[1:11]\n",
    "\n",
    "    # # Get the climb indices (& cast to ints)\n",
    "    climb_indices = [int(i[0]) for i in score_matrix]\n",
    "    \n",
    "    # Return the top 20 most similar climbs\n",
    "    return df_in_range.loc[climb_indices,:]"
   ]
  },
  {
   "cell_type": "markdown",
   "metadata": {},
   "source": [
    "#### Cells for comparison (delete later)"
   ]
  },
  {
   "cell_type": "code",
   "execution_count": 64,
   "metadata": {
    "ExecuteTime": {
     "end_time": "2020-01-21T21:47:34.017819Z",
     "start_time": "2020-01-21T21:47:34.011749Z"
    },
    "scrolled": true
   },
   "outputs": [
    {
     "data": {
      "text/plain": [
       "name                                                    Via Leni 6b\n",
       "rating                                                        5.10b\n",
       "stars                                                             5\n",
       "starVotes                                                         4\n",
       "pitches                                                           6\n",
       "location                                              International\n",
       "region                                                       Europe\n",
       "area                                                    Switzerland\n",
       "sub_area                                             Albigna Valley\n",
       "wall                                                 Spazzacaldeira\n",
       "longitude                                                    9.6383\n",
       "latitude                                                    46.3387\n",
       "url               https://www.mountainproject.com/route/10687574...\n",
       "Sport                                                             1\n",
       "Trad                                                              0\n",
       "Boulder                                                           0\n",
       "TR                                                                0\n",
       "Alpine                                                            1\n",
       "Aid                                                               0\n",
       "Ice                                                               0\n",
       "Snow                                                              0\n",
       "Mixed                                                             0\n",
       "danger                                                            0\n",
       "rope_grade                                                       22\n",
       "boulder_grade                                                     0\n",
       "infos                                                           NaN\n",
       "slab                                                              0\n",
       "traverse                                                          0\n",
       "roof                                                              0\n",
       "corner                                                            0\n",
       "crack                                                             0\n",
       "face                                                              0\n",
       "flake                                                             0\n",
       "fingers                                                           0\n",
       "jug                                                               0\n",
       "exposed                                                           0\n",
       "dihedral                                                          0\n",
       "sustained                                                         0\n",
       "technical                                                         0\n",
       "run out                                                           0\n",
       "well protected                                                    0\n",
       "chimney                                                           0\n",
       "offwidth                                                          0\n",
       "stem                                                              0\n",
       "arete                                                             0\n",
       "crimp                                                             0\n",
       "vertical                                                          0\n",
       "powerful                                                          0\n",
       "in_range                                                          1\n",
       "Name: 106875741, dtype: object"
      ]
     },
     "execution_count": 64,
     "metadata": {},
     "output_type": "execute_result"
    }
   ],
   "source": [
    "df_numeric.loc[target_id, :]"
   ]
  },
  {
   "cell_type": "code",
   "execution_count": 65,
   "metadata": {
    "ExecuteTime": {
     "end_time": "2020-01-21T21:47:36.299797Z",
     "start_time": "2020-01-21T21:47:36.296401Z"
    }
   },
   "outputs": [
    {
     "data": {
      "text/plain": [
       "493"
      ]
     },
     "execution_count": 65,
     "metadata": {},
     "output_type": "execute_result"
    }
   ],
   "source": [
    "target_index"
   ]
  },
  {
   "cell_type": "markdown",
   "metadata": {},
   "source": [
    "#### Call rec fxn"
   ]
  },
  {
   "cell_type": "code",
   "execution_count": 75,
   "metadata": {
    "ExecuteTime": {
     "end_time": "2020-01-21T21:51:03.819093Z",
     "start_time": "2020-01-21T21:51:03.816136Z"
    }
   },
   "outputs": [],
   "source": [
    "pd.set_option('max_colwidth', 100)"
   ]
  },
  {
   "cell_type": "code",
   "execution_count": 76,
   "metadata": {
    "ExecuteTime": {
     "end_time": "2020-01-21T21:51:06.554571Z",
     "start_time": "2020-01-21T21:51:06.305269Z"
    },
    "scrolled": true
   },
   "outputs": [
    {
     "data": {
      "text/html": [
       "<div>\n",
       "<style scoped>\n",
       "    .dataframe tbody tr th:only-of-type {\n",
       "        vertical-align: middle;\n",
       "    }\n",
       "\n",
       "    .dataframe tbody tr th {\n",
       "        vertical-align: top;\n",
       "    }\n",
       "\n",
       "    .dataframe thead th {\n",
       "        text-align: right;\n",
       "    }\n",
       "</style>\n",
       "<table border=\"1\" class=\"dataframe\">\n",
       "  <thead>\n",
       "    <tr style=\"text-align: right;\">\n",
       "      <th></th>\n",
       "      <th>id</th>\n",
       "      <th>name</th>\n",
       "      <th>rating</th>\n",
       "      <th>stars</th>\n",
       "      <th>starVotes</th>\n",
       "      <th>pitches</th>\n",
       "      <th>location</th>\n",
       "      <th>region</th>\n",
       "      <th>area</th>\n",
       "      <th>sub_area</th>\n",
       "      <th>wall</th>\n",
       "      <th>longitude</th>\n",
       "      <th>latitude</th>\n",
       "      <th>url</th>\n",
       "      <th>Sport</th>\n",
       "      <th>Trad</th>\n",
       "      <th>Boulder</th>\n",
       "      <th>TR</th>\n",
       "      <th>Alpine</th>\n",
       "      <th>Aid</th>\n",
       "      <th>Ice</th>\n",
       "      <th>Snow</th>\n",
       "      <th>Mixed</th>\n",
       "      <th>danger</th>\n",
       "      <th>rope_grade</th>\n",
       "      <th>boulder_grade</th>\n",
       "      <th>infos</th>\n",
       "      <th>slab</th>\n",
       "      <th>traverse</th>\n",
       "      <th>roof</th>\n",
       "      <th>corner</th>\n",
       "      <th>crack</th>\n",
       "      <th>face</th>\n",
       "      <th>flake</th>\n",
       "      <th>fingers</th>\n",
       "      <th>jug</th>\n",
       "      <th>exposed</th>\n",
       "      <th>dihedral</th>\n",
       "      <th>sustained</th>\n",
       "      <th>technical</th>\n",
       "      <th>run out</th>\n",
       "      <th>well protected</th>\n",
       "      <th>chimney</th>\n",
       "      <th>offwidth</th>\n",
       "      <th>stem</th>\n",
       "      <th>arete</th>\n",
       "      <th>crimp</th>\n",
       "      <th>vertical</th>\n",
       "      <th>powerful</th>\n",
       "      <th>in_range</th>\n",
       "    </tr>\n",
       "  </thead>\n",
       "  <tbody>\n",
       "    <tr>\n",
       "      <th>208</th>\n",
       "      <td>105913864</td>\n",
       "      <td>Dont be Fooled</td>\n",
       "      <td>5.10d</td>\n",
       "      <td>5.0</td>\n",
       "      <td>1</td>\n",
       "      <td>1</td>\n",
       "      <td>California</td>\n",
       "      <td>San Diego and Environs</td>\n",
       "      <td>South San Diego County</td>\n",
       "      <td>Otay Mesa</td>\n",
       "      <td>0</td>\n",
       "      <td>-116.907</td>\n",
       "      <td>32.6030</td>\n",
       "      <td>https://www.mountainproject.com/route/105913864/dont-be-fooled</td>\n",
       "      <td>1</td>\n",
       "      <td>0</td>\n",
       "      <td>0</td>\n",
       "      <td>0</td>\n",
       "      <td>0</td>\n",
       "      <td>0</td>\n",
       "      <td>0</td>\n",
       "      <td>0</td>\n",
       "      <td>0</td>\n",
       "      <td>0</td>\n",
       "      <td>28</td>\n",
       "      <td>0</td>\n",
       "      <td>The last route to looker's left on the south side of the canyon. Bouldery but short-lived.-5 bolts</td>\n",
       "      <td>0</td>\n",
       "      <td>0</td>\n",
       "      <td>0</td>\n",
       "      <td>0</td>\n",
       "      <td>0</td>\n",
       "      <td>0</td>\n",
       "      <td>0</td>\n",
       "      <td>0</td>\n",
       "      <td>0</td>\n",
       "      <td>0</td>\n",
       "      <td>0</td>\n",
       "      <td>0</td>\n",
       "      <td>0</td>\n",
       "      <td>0</td>\n",
       "      <td>0</td>\n",
       "      <td>0</td>\n",
       "      <td>0</td>\n",
       "      <td>0</td>\n",
       "      <td>0</td>\n",
       "      <td>0</td>\n",
       "      <td>0</td>\n",
       "      <td>0</td>\n",
       "      <td>1</td>\n",
       "    </tr>\n",
       "    <tr>\n",
       "      <th>167</th>\n",
       "      <td>105835122</td>\n",
       "      <td>Triton Tower</td>\n",
       "      <td>5.11a</td>\n",
       "      <td>4.5</td>\n",
       "      <td>68</td>\n",
       "      <td>3</td>\n",
       "      <td>California</td>\n",
       "      <td>San Diego and Environs</td>\n",
       "      <td>South San Diego County</td>\n",
       "      <td>El Cajon Mountain</td>\n",
       "      <td>The Wedge,Triton Tower</td>\n",
       "      <td>-116.818</td>\n",
       "      <td>32.9043</td>\n",
       "      <td>https://www.mountainproject.com/route/105835122/triton-tower</td>\n",
       "      <td>1</td>\n",
       "      <td>0</td>\n",
       "      <td>0</td>\n",
       "      <td>0</td>\n",
       "      <td>0</td>\n",
       "      <td>0</td>\n",
       "      <td>0</td>\n",
       "      <td>0</td>\n",
       "      <td>0</td>\n",
       "      <td>0</td>\n",
       "      <td>29</td>\n",
       "      <td>0</td>\n",
       "      <td>Climb that climbs the obvious tower of the left wall. The first pitch is 5.8 and goes to the bas...</td>\n",
       "      <td>0</td>\n",
       "      <td>0</td>\n",
       "      <td>0</td>\n",
       "      <td>0</td>\n",
       "      <td>0</td>\n",
       "      <td>0</td>\n",
       "      <td>0</td>\n",
       "      <td>0</td>\n",
       "      <td>0</td>\n",
       "      <td>0</td>\n",
       "      <td>0</td>\n",
       "      <td>0</td>\n",
       "      <td>0</td>\n",
       "      <td>0</td>\n",
       "      <td>0</td>\n",
       "      <td>0</td>\n",
       "      <td>0</td>\n",
       "      <td>0</td>\n",
       "      <td>0</td>\n",
       "      <td>0</td>\n",
       "      <td>0</td>\n",
       "      <td>0</td>\n",
       "      <td>1</td>\n",
       "    </tr>\n",
       "    <tr>\n",
       "      <th>984</th>\n",
       "      <td>111177054</td>\n",
       "      <td>Tears of Envy</td>\n",
       "      <td>5.11b</td>\n",
       "      <td>4.9</td>\n",
       "      <td>26</td>\n",
       "      <td>1</td>\n",
       "      <td>California</td>\n",
       "      <td>San Diego and Environs</td>\n",
       "      <td>South San Diego County</td>\n",
       "      <td>El Cajon Mountain</td>\n",
       "      <td>The Wedge,Center/Headwall</td>\n",
       "      <td>-116.818</td>\n",
       "      <td>32.9046</td>\n",
       "      <td>https://www.mountainproject.com/route/111177054/tears-of-envy</td>\n",
       "      <td>1</td>\n",
       "      <td>0</td>\n",
       "      <td>0</td>\n",
       "      <td>0</td>\n",
       "      <td>0</td>\n",
       "      <td>0</td>\n",
       "      <td>0</td>\n",
       "      <td>0</td>\n",
       "      <td>0</td>\n",
       "      <td>0</td>\n",
       "      <td>32</td>\n",
       "      <td>0</td>\n",
       "      <td>Tears of Envy is a brilliant line that ascends the black, green and orange headwall of ECM. This...</td>\n",
       "      <td>0</td>\n",
       "      <td>0</td>\n",
       "      <td>0</td>\n",
       "      <td>0</td>\n",
       "      <td>0</td>\n",
       "      <td>0</td>\n",
       "      <td>0</td>\n",
       "      <td>0</td>\n",
       "      <td>0</td>\n",
       "      <td>0</td>\n",
       "      <td>0</td>\n",
       "      <td>0</td>\n",
       "      <td>0</td>\n",
       "      <td>0</td>\n",
       "      <td>0</td>\n",
       "      <td>0</td>\n",
       "      <td>0</td>\n",
       "      <td>0</td>\n",
       "      <td>0</td>\n",
       "      <td>0</td>\n",
       "      <td>0</td>\n",
       "      <td>0</td>\n",
       "      <td>1</td>\n",
       "    </tr>\n",
       "    <tr>\n",
       "      <th>366</th>\n",
       "      <td>106306476</td>\n",
       "      <td>Godzilla</td>\n",
       "      <td>5.10b</td>\n",
       "      <td>4.2</td>\n",
       "      <td>11</td>\n",
       "      <td>1</td>\n",
       "      <td>California</td>\n",
       "      <td>San Diego and Environs</td>\n",
       "      <td>North San Diego County</td>\n",
       "      <td>Poway Crags</td>\n",
       "      <td>Poway Crags Proper,Godzilla Buttress</td>\n",
       "      <td>-116.949</td>\n",
       "      <td>32.9850</td>\n",
       "      <td>https://www.mountainproject.com/route/106306476/godzilla</td>\n",
       "      <td>1</td>\n",
       "      <td>0</td>\n",
       "      <td>0</td>\n",
       "      <td>0</td>\n",
       "      <td>0</td>\n",
       "      <td>0</td>\n",
       "      <td>0</td>\n",
       "      <td>0</td>\n",
       "      <td>0</td>\n",
       "      <td>0</td>\n",
       "      <td>22</td>\n",
       "      <td>0</td>\n",
       "      <td>An awesome route. Solid moves and epic climb that is a must do at the Poway crag. You can run it...</td>\n",
       "      <td>0</td>\n",
       "      <td>0</td>\n",
       "      <td>0</td>\n",
       "      <td>0</td>\n",
       "      <td>0</td>\n",
       "      <td>0</td>\n",
       "      <td>0</td>\n",
       "      <td>0</td>\n",
       "      <td>0</td>\n",
       "      <td>0</td>\n",
       "      <td>0</td>\n",
       "      <td>0</td>\n",
       "      <td>0</td>\n",
       "      <td>0</td>\n",
       "      <td>0</td>\n",
       "      <td>0</td>\n",
       "      <td>0</td>\n",
       "      <td>0</td>\n",
       "      <td>0</td>\n",
       "      <td>0</td>\n",
       "      <td>0</td>\n",
       "      <td>0</td>\n",
       "      <td>1</td>\n",
       "    </tr>\n",
       "    <tr>\n",
       "      <th>280</th>\n",
       "      <td>106100920</td>\n",
       "      <td>Blue Collar</td>\n",
       "      <td>5.10c</td>\n",
       "      <td>4.3</td>\n",
       "      <td>6</td>\n",
       "      <td>1</td>\n",
       "      <td>California</td>\n",
       "      <td>Inland Empire</td>\n",
       "      <td>Box Springs Mountain Park</td>\n",
       "      <td>Knob Wall</td>\n",
       "      <td>0</td>\n",
       "      <td>-117.309</td>\n",
       "      <td>33.9889</td>\n",
       "      <td>https://www.mountainproject.com/route/106100920/blue-collar</td>\n",
       "      <td>1</td>\n",
       "      <td>0</td>\n",
       "      <td>0</td>\n",
       "      <td>0</td>\n",
       "      <td>0</td>\n",
       "      <td>0</td>\n",
       "      <td>0</td>\n",
       "      <td>0</td>\n",
       "      <td>0</td>\n",
       "      <td>0</td>\n",
       "      <td>25</td>\n",
       "      <td>0</td>\n",
       "      <td>This is one of the best routes in Box Springs!  Starting just below the right end of the horizon...</td>\n",
       "      <td>0</td>\n",
       "      <td>0</td>\n",
       "      <td>0</td>\n",
       "      <td>0</td>\n",
       "      <td>0</td>\n",
       "      <td>0</td>\n",
       "      <td>0</td>\n",
       "      <td>0</td>\n",
       "      <td>0</td>\n",
       "      <td>0</td>\n",
       "      <td>0</td>\n",
       "      <td>0</td>\n",
       "      <td>0</td>\n",
       "      <td>0</td>\n",
       "      <td>0</td>\n",
       "      <td>0</td>\n",
       "      <td>0</td>\n",
       "      <td>0</td>\n",
       "      <td>0</td>\n",
       "      <td>0</td>\n",
       "      <td>0</td>\n",
       "      <td>0</td>\n",
       "      <td>1</td>\n",
       "    </tr>\n",
       "    <tr>\n",
       "      <th>851</th>\n",
       "      <td>108807165</td>\n",
       "      <td>Thunder Bunny</td>\n",
       "      <td>5.11a</td>\n",
       "      <td>4.5</td>\n",
       "      <td>2</td>\n",
       "      <td>1</td>\n",
       "      <td>California</td>\n",
       "      <td>San Diego and Environs</td>\n",
       "      <td>North San Diego County</td>\n",
       "      <td>Old Castle</td>\n",
       "      <td>Main Wall (aka The Gorilla Head Buttress)</td>\n",
       "      <td>-117.124</td>\n",
       "      <td>33.2539</td>\n",
       "      <td>https://www.mountainproject.com/route/108807165/thunder-bunny</td>\n",
       "      <td>1</td>\n",
       "      <td>0</td>\n",
       "      <td>0</td>\n",
       "      <td>0</td>\n",
       "      <td>0</td>\n",
       "      <td>0</td>\n",
       "      <td>0</td>\n",
       "      <td>0</td>\n",
       "      <td>0</td>\n",
       "      <td>0</td>\n",
       "      <td>29</td>\n",
       "      <td>0</td>\n",
       "      <td>One of the better sport climbs in north county, Thunder Bunny climbs continuous bulges via techn...</td>\n",
       "      <td>0</td>\n",
       "      <td>0</td>\n",
       "      <td>0</td>\n",
       "      <td>0</td>\n",
       "      <td>0</td>\n",
       "      <td>0</td>\n",
       "      <td>0</td>\n",
       "      <td>0</td>\n",
       "      <td>0</td>\n",
       "      <td>0</td>\n",
       "      <td>0</td>\n",
       "      <td>0</td>\n",
       "      <td>0</td>\n",
       "      <td>0</td>\n",
       "      <td>0</td>\n",
       "      <td>0</td>\n",
       "      <td>0</td>\n",
       "      <td>0</td>\n",
       "      <td>0</td>\n",
       "      <td>0</td>\n",
       "      <td>0</td>\n",
       "      <td>0</td>\n",
       "      <td>1</td>\n",
       "    </tr>\n",
       "    <tr>\n",
       "      <th>1253</th>\n",
       "      <td>116180423</td>\n",
       "      <td>Randall Handle</td>\n",
       "      <td>5.9</td>\n",
       "      <td>4.0</td>\n",
       "      <td>1</td>\n",
       "      <td>1</td>\n",
       "      <td>California</td>\n",
       "      <td>San Diego and Environs</td>\n",
       "      <td>South San Diego County</td>\n",
       "      <td>El Cajon Mountain</td>\n",
       "      <td>The Wedge,Not So Grassy Ledge</td>\n",
       "      <td>-116.818</td>\n",
       "      <td>32.9045</td>\n",
       "      <td>https://www.mountainproject.com/route/116180423/randall-handle</td>\n",
       "      <td>1</td>\n",
       "      <td>0</td>\n",
       "      <td>0</td>\n",
       "      <td>0</td>\n",
       "      <td>0</td>\n",
       "      <td>0</td>\n",
       "      <td>0</td>\n",
       "      <td>0</td>\n",
       "      <td>0</td>\n",
       "      <td>0</td>\n",
       "      <td>17</td>\n",
       "      <td>0</td>\n",
       "      <td>Consistent climbing on high quality stone at a moderate grade make for fun climbing past the nam...</td>\n",
       "      <td>0</td>\n",
       "      <td>0</td>\n",
       "      <td>0</td>\n",
       "      <td>0</td>\n",
       "      <td>0</td>\n",
       "      <td>0</td>\n",
       "      <td>0</td>\n",
       "      <td>0</td>\n",
       "      <td>0</td>\n",
       "      <td>0</td>\n",
       "      <td>0</td>\n",
       "      <td>0</td>\n",
       "      <td>0</td>\n",
       "      <td>0</td>\n",
       "      <td>0</td>\n",
       "      <td>0</td>\n",
       "      <td>0</td>\n",
       "      <td>0</td>\n",
       "      <td>0</td>\n",
       "      <td>0</td>\n",
       "      <td>0</td>\n",
       "      <td>0</td>\n",
       "      <td>1</td>\n",
       "    </tr>\n",
       "    <tr>\n",
       "      <th>407</th>\n",
       "      <td>106545739</td>\n",
       "      <td>Swirly Bird</td>\n",
       "      <td>5.12a</td>\n",
       "      <td>5.0</td>\n",
       "      <td>1</td>\n",
       "      <td>1</td>\n",
       "      <td>California</td>\n",
       "      <td>Inland Empire</td>\n",
       "      <td>Box Springs Mountain Park</td>\n",
       "      <td>Sleepers Wall</td>\n",
       "      <td>0</td>\n",
       "      <td>-117.309</td>\n",
       "      <td>33.9892</td>\n",
       "      <td>https://www.mountainproject.com/route/106545739/swirly-bird</td>\n",
       "      <td>1</td>\n",
       "      <td>0</td>\n",
       "      <td>0</td>\n",
       "      <td>0</td>\n",
       "      <td>0</td>\n",
       "      <td>0</td>\n",
       "      <td>0</td>\n",
       "      <td>0</td>\n",
       "      <td>0</td>\n",
       "      <td>0</td>\n",
       "      <td>39</td>\n",
       "      <td>0</td>\n",
       "      <td>Head up the brown slab, then pull the small bulge directly in the center of the wall.  Hard pinc...</td>\n",
       "      <td>0</td>\n",
       "      <td>0</td>\n",
       "      <td>0</td>\n",
       "      <td>0</td>\n",
       "      <td>0</td>\n",
       "      <td>0</td>\n",
       "      <td>0</td>\n",
       "      <td>0</td>\n",
       "      <td>0</td>\n",
       "      <td>0</td>\n",
       "      <td>0</td>\n",
       "      <td>0</td>\n",
       "      <td>0</td>\n",
       "      <td>0</td>\n",
       "      <td>0</td>\n",
       "      <td>0</td>\n",
       "      <td>0</td>\n",
       "      <td>0</td>\n",
       "      <td>0</td>\n",
       "      <td>0</td>\n",
       "      <td>0</td>\n",
       "      <td>0</td>\n",
       "      <td>1</td>\n",
       "    </tr>\n",
       "    <tr>\n",
       "      <th>1008</th>\n",
       "      <td>111571633</td>\n",
       "      <td>Emerald City</td>\n",
       "      <td>5.10a/b</td>\n",
       "      <td>4.0</td>\n",
       "      <td>30</td>\n",
       "      <td>1</td>\n",
       "      <td>California</td>\n",
       "      <td>Inland Empire</td>\n",
       "      <td>Riverside Quarry</td>\n",
       "      <td>(h) Rubble Row</td>\n",
       "      <td>0</td>\n",
       "      <td>-117.417</td>\n",
       "      <td>34.0169</td>\n",
       "      <td>https://www.mountainproject.com/route/111571633/emerald-city</td>\n",
       "      <td>1</td>\n",
       "      <td>0</td>\n",
       "      <td>0</td>\n",
       "      <td>0</td>\n",
       "      <td>0</td>\n",
       "      <td>0</td>\n",
       "      <td>0</td>\n",
       "      <td>0</td>\n",
       "      <td>0</td>\n",
       "      <td>0</td>\n",
       "      <td>21</td>\n",
       "      <td>0</td>\n",
       "      <td>This line follows the green bolts leading up the obvious crack-like feature on the overhanging h...</td>\n",
       "      <td>0</td>\n",
       "      <td>0</td>\n",
       "      <td>0</td>\n",
       "      <td>0</td>\n",
       "      <td>0</td>\n",
       "      <td>0</td>\n",
       "      <td>0</td>\n",
       "      <td>0</td>\n",
       "      <td>0</td>\n",
       "      <td>0</td>\n",
       "      <td>0</td>\n",
       "      <td>0</td>\n",
       "      <td>0</td>\n",
       "      <td>0</td>\n",
       "      <td>0</td>\n",
       "      <td>0</td>\n",
       "      <td>0</td>\n",
       "      <td>0</td>\n",
       "      <td>0</td>\n",
       "      <td>0</td>\n",
       "      <td>0</td>\n",
       "      <td>0</td>\n",
       "      <td>1</td>\n",
       "    </tr>\n",
       "    <tr>\n",
       "      <th>1273</th>\n",
       "      <td>116357491</td>\n",
       "      <td>Rockaledge</td>\n",
       "      <td>5.10b</td>\n",
       "      <td>4.0</td>\n",
       "      <td>1</td>\n",
       "      <td>1</td>\n",
       "      <td>California</td>\n",
       "      <td>San Diego and Environs</td>\n",
       "      <td>North San Diego County</td>\n",
       "      <td>Mt. Gower</td>\n",
       "      <td>Middle Area,Grit Wall</td>\n",
       "      <td>-116.781</td>\n",
       "      <td>33.0114</td>\n",
       "      <td>https://www.mountainproject.com/route/116357491/rockaledge</td>\n",
       "      <td>1</td>\n",
       "      <td>0</td>\n",
       "      <td>0</td>\n",
       "      <td>0</td>\n",
       "      <td>0</td>\n",
       "      <td>0</td>\n",
       "      <td>0</td>\n",
       "      <td>0</td>\n",
       "      <td>0</td>\n",
       "      <td>0</td>\n",
       "      <td>22</td>\n",
       "      <td>0</td>\n",
       "      <td>Rating based on start move getting past the first bolt. Although there isn't much room for a por...</td>\n",
       "      <td>0</td>\n",
       "      <td>0</td>\n",
       "      <td>0</td>\n",
       "      <td>0</td>\n",
       "      <td>0</td>\n",
       "      <td>0</td>\n",
       "      <td>0</td>\n",
       "      <td>0</td>\n",
       "      <td>0</td>\n",
       "      <td>0</td>\n",
       "      <td>0</td>\n",
       "      <td>0</td>\n",
       "      <td>0</td>\n",
       "      <td>0</td>\n",
       "      <td>0</td>\n",
       "      <td>0</td>\n",
       "      <td>0</td>\n",
       "      <td>0</td>\n",
       "      <td>0</td>\n",
       "      <td>0</td>\n",
       "      <td>0</td>\n",
       "      <td>0</td>\n",
       "      <td>1</td>\n",
       "    </tr>\n",
       "  </tbody>\n",
       "</table>\n",
       "</div>"
      ],
      "text/plain": [
       "             id            name   rating  stars  starVotes  pitches    location                  region                       area           sub_area                                       wall  longitude  latitude                                                             url  Sport  Trad  Boulder  TR  Alpine  Aid  Ice  Snow  Mixed  danger  rope_grade  boulder_grade                                                                                                infos  slab  traverse  roof  corner  crack  face  flake  fingers  jug  exposed  dihedral  sustained  technical  run out  well protected  chimney  offwidth  stem  arete  crimp  vertical  powerful  in_range\n",
       "208   105913864  Dont be Fooled    5.10d    5.0          1        1  California  San Diego and Environs     South San Diego County          Otay Mesa                                          0   -116.907   32.6030  https://www.mountainproject.com/route/105913864/dont-be-fooled      1     0        0   0       0    0    0     0      0       0          28              0   The last route to looker's left on the south side of the canyon. Bouldery but short-lived.-5 bolts     0         0     0       0      0     0      0        0    0        0         0          0          0        0               0        0         0     0      0      0         0         0         1\n",
       "167   105835122    Triton Tower    5.11a    4.5         68        3  California  San Diego and Environs     South San Diego County  El Cajon Mountain                     The Wedge,Triton Tower   -116.818   32.9043    https://www.mountainproject.com/route/105835122/triton-tower      1     0        0   0       0    0    0     0      0       0          29              0  Climb that climbs the obvious tower of the left wall. The first pitch is 5.8 and goes to the bas...     0         0     0       0      0     0      0        0    0        0         0          0          0        0               0        0         0     0      0      0         0         0         1\n",
       "984   111177054   Tears of Envy    5.11b    4.9         26        1  California  San Diego and Environs     South San Diego County  El Cajon Mountain                  The Wedge,Center/Headwall   -116.818   32.9046   https://www.mountainproject.com/route/111177054/tears-of-envy      1     0        0   0       0    0    0     0      0       0          32              0  Tears of Envy is a brilliant line that ascends the black, green and orange headwall of ECM. This...     0         0     0       0      0     0      0        0    0        0         0          0          0        0               0        0         0     0      0      0         0         0         1\n",
       "366   106306476        Godzilla    5.10b    4.2         11        1  California  San Diego and Environs     North San Diego County        Poway Crags       Poway Crags Proper,Godzilla Buttress   -116.949   32.9850        https://www.mountainproject.com/route/106306476/godzilla      1     0        0   0       0    0    0     0      0       0          22              0  An awesome route. Solid moves and epic climb that is a must do at the Poway crag. You can run it...     0         0     0       0      0     0      0        0    0        0         0          0          0        0               0        0         0     0      0      0         0         0         1\n",
       "280   106100920     Blue Collar    5.10c    4.3          6        1  California           Inland Empire  Box Springs Mountain Park          Knob Wall                                          0   -117.309   33.9889     https://www.mountainproject.com/route/106100920/blue-collar      1     0        0   0       0    0    0     0      0       0          25              0  This is one of the best routes in Box Springs!  Starting just below the right end of the horizon...     0         0     0       0      0     0      0        0    0        0         0          0          0        0               0        0         0     0      0      0         0         0         1\n",
       "851   108807165   Thunder Bunny    5.11a    4.5          2        1  California  San Diego and Environs     North San Diego County         Old Castle  Main Wall (aka The Gorilla Head Buttress)   -117.124   33.2539   https://www.mountainproject.com/route/108807165/thunder-bunny      1     0        0   0       0    0    0     0      0       0          29              0  One of the better sport climbs in north county, Thunder Bunny climbs continuous bulges via techn...     0         0     0       0      0     0      0        0    0        0         0          0          0        0               0        0         0     0      0      0         0         0         1\n",
       "1253  116180423  Randall Handle      5.9    4.0          1        1  California  San Diego and Environs     South San Diego County  El Cajon Mountain              The Wedge,Not So Grassy Ledge   -116.818   32.9045  https://www.mountainproject.com/route/116180423/randall-handle      1     0        0   0       0    0    0     0      0       0          17              0  Consistent climbing on high quality stone at a moderate grade make for fun climbing past the nam...     0         0     0       0      0     0      0        0    0        0         0          0          0        0               0        0         0     0      0      0         0         0         1\n",
       "407   106545739     Swirly Bird    5.12a    5.0          1        1  California           Inland Empire  Box Springs Mountain Park      Sleepers Wall                                          0   -117.309   33.9892     https://www.mountainproject.com/route/106545739/swirly-bird      1     0        0   0       0    0    0     0      0       0          39              0  Head up the brown slab, then pull the small bulge directly in the center of the wall.  Hard pinc...     0         0     0       0      0     0      0        0    0        0         0          0          0        0               0        0         0     0      0      0         0         0         1\n",
       "1008  111571633    Emerald City  5.10a/b    4.0         30        1  California           Inland Empire           Riverside Quarry     (h) Rubble Row                                          0   -117.417   34.0169    https://www.mountainproject.com/route/111571633/emerald-city      1     0        0   0       0    0    0     0      0       0          21              0  This line follows the green bolts leading up the obvious crack-like feature on the overhanging h...     0         0     0       0      0     0      0        0    0        0         0          0          0        0               0        0         0     0      0      0         0         0         1\n",
       "1273  116357491      Rockaledge    5.10b    4.0          1        1  California  San Diego and Environs     North San Diego County          Mt. Gower                      Middle Area,Grit Wall   -116.781   33.0114      https://www.mountainproject.com/route/116357491/rockaledge      1     0        0   0       0    0    0     0      0       0          22              0  Rating based on start move getting past the first bolt. Although there isn't much room for a por...     0         0     0       0      0     0      0        0    0        0         0          0          0        0               0        0         0     0      0      0         0         0         1"
      ]
     },
     "execution_count": 76,
     "metadata": {},
     "output_type": "execute_result"
    }
   ],
   "source": [
    "rec=get_recommendations(target_index, cosine_similarity)\n",
    "rec"
   ]
  },
  {
   "cell_type": "code",
   "execution_count": 68,
   "metadata": {
    "ExecuteTime": {
     "end_time": "2020-01-21T21:47:43.958404Z",
     "start_time": "2020-01-21T21:47:43.728833Z"
    },
    "scrolled": true
   },
   "outputs": [
    {
     "data": {
      "text/html": [
       "<div>\n",
       "<style scoped>\n",
       "    .dataframe tbody tr th:only-of-type {\n",
       "        vertical-align: middle;\n",
       "    }\n",
       "\n",
       "    .dataframe tbody tr th {\n",
       "        vertical-align: top;\n",
       "    }\n",
       "\n",
       "    .dataframe thead th {\n",
       "        text-align: right;\n",
       "    }\n",
       "</style>\n",
       "<table border=\"1\" class=\"dataframe\">\n",
       "  <thead>\n",
       "    <tr style=\"text-align: right;\">\n",
       "      <th></th>\n",
       "      <th>id</th>\n",
       "      <th>name</th>\n",
       "      <th>rating</th>\n",
       "      <th>stars</th>\n",
       "      <th>starVotes</th>\n",
       "      <th>pitches</th>\n",
       "      <th>location</th>\n",
       "      <th>region</th>\n",
       "      <th>area</th>\n",
       "      <th>sub_area</th>\n",
       "      <th>...</th>\n",
       "      <th>run out</th>\n",
       "      <th>well protected</th>\n",
       "      <th>chimney</th>\n",
       "      <th>offwidth</th>\n",
       "      <th>stem</th>\n",
       "      <th>arete</th>\n",
       "      <th>crimp</th>\n",
       "      <th>vertical</th>\n",
       "      <th>powerful</th>\n",
       "      <th>in_range</th>\n",
       "    </tr>\n",
       "  </thead>\n",
       "  <tbody>\n",
       "    <tr>\n",
       "      <th>366</th>\n",
       "      <td>106306476</td>\n",
       "      <td>Godzilla</td>\n",
       "      <td>5.10b</td>\n",
       "      <td>4.2</td>\n",
       "      <td>11</td>\n",
       "      <td>1</td>\n",
       "      <td>California</td>\n",
       "      <td>San Diego and Environs</td>\n",
       "      <td>North San Diego County</td>\n",
       "      <td>Poway Crags</td>\n",
       "      <td>...</td>\n",
       "      <td>0</td>\n",
       "      <td>0</td>\n",
       "      <td>0</td>\n",
       "      <td>0</td>\n",
       "      <td>0</td>\n",
       "      <td>0</td>\n",
       "      <td>0</td>\n",
       "      <td>0</td>\n",
       "      <td>0</td>\n",
       "      <td>1</td>\n",
       "    </tr>\n",
       "    <tr>\n",
       "      <th>1273</th>\n",
       "      <td>116357491</td>\n",
       "      <td>Rockaledge</td>\n",
       "      <td>5.10b</td>\n",
       "      <td>4.0</td>\n",
       "      <td>1</td>\n",
       "      <td>1</td>\n",
       "      <td>California</td>\n",
       "      <td>San Diego and Environs</td>\n",
       "      <td>North San Diego County</td>\n",
       "      <td>Mt. Gower</td>\n",
       "      <td>...</td>\n",
       "      <td>0</td>\n",
       "      <td>0</td>\n",
       "      <td>0</td>\n",
       "      <td>0</td>\n",
       "      <td>0</td>\n",
       "      <td>0</td>\n",
       "      <td>0</td>\n",
       "      <td>0</td>\n",
       "      <td>0</td>\n",
       "      <td>1</td>\n",
       "    </tr>\n",
       "    <tr>\n",
       "      <th>1008</th>\n",
       "      <td>111571633</td>\n",
       "      <td>Emerald City</td>\n",
       "      <td>5.10a/b</td>\n",
       "      <td>4.0</td>\n",
       "      <td>30</td>\n",
       "      <td>1</td>\n",
       "      <td>California</td>\n",
       "      <td>Inland Empire</td>\n",
       "      <td>Riverside Quarry</td>\n",
       "      <td>(h) Rubble Row</td>\n",
       "      <td>...</td>\n",
       "      <td>0</td>\n",
       "      <td>0</td>\n",
       "      <td>0</td>\n",
       "      <td>0</td>\n",
       "      <td>0</td>\n",
       "      <td>0</td>\n",
       "      <td>0</td>\n",
       "      <td>0</td>\n",
       "      <td>0</td>\n",
       "      <td>1</td>\n",
       "    </tr>\n",
       "    <tr>\n",
       "      <th>280</th>\n",
       "      <td>106100920</td>\n",
       "      <td>Blue Collar</td>\n",
       "      <td>5.10c</td>\n",
       "      <td>4.3</td>\n",
       "      <td>6</td>\n",
       "      <td>1</td>\n",
       "      <td>California</td>\n",
       "      <td>Inland Empire</td>\n",
       "      <td>Box Springs Mountain Park</td>\n",
       "      <td>Knob Wall</td>\n",
       "      <td>...</td>\n",
       "      <td>0</td>\n",
       "      <td>0</td>\n",
       "      <td>0</td>\n",
       "      <td>0</td>\n",
       "      <td>0</td>\n",
       "      <td>0</td>\n",
       "      <td>0</td>\n",
       "      <td>0</td>\n",
       "      <td>0</td>\n",
       "      <td>1</td>\n",
       "    </tr>\n",
       "    <tr>\n",
       "      <th>364</th>\n",
       "      <td>106306456</td>\n",
       "      <td>Don't Pet The Tiger</td>\n",
       "      <td>5.10b</td>\n",
       "      <td>3.7</td>\n",
       "      <td>11</td>\n",
       "      <td>1</td>\n",
       "      <td>California</td>\n",
       "      <td>San Diego and Environs</td>\n",
       "      <td>North San Diego County</td>\n",
       "      <td>Poway Crags</td>\n",
       "      <td>...</td>\n",
       "      <td>0</td>\n",
       "      <td>0</td>\n",
       "      <td>0</td>\n",
       "      <td>0</td>\n",
       "      <td>0</td>\n",
       "      <td>0</td>\n",
       "      <td>0</td>\n",
       "      <td>0</td>\n",
       "      <td>0</td>\n",
       "      <td>1</td>\n",
       "    </tr>\n",
       "    <tr>\n",
       "      <th>490</th>\n",
       "      <td>106866127</td>\n",
       "      <td>Khazaddum</td>\n",
       "      <td>5.10b</td>\n",
       "      <td>3.7</td>\n",
       "      <td>67</td>\n",
       "      <td>1</td>\n",
       "      <td>California</td>\n",
       "      <td>San Diego and Environs</td>\n",
       "      <td>South San Diego County</td>\n",
       "      <td>Mission Gorge</td>\n",
       "      <td>...</td>\n",
       "      <td>0</td>\n",
       "      <td>0</td>\n",
       "      <td>0</td>\n",
       "      <td>0</td>\n",
       "      <td>0</td>\n",
       "      <td>0</td>\n",
       "      <td>0</td>\n",
       "      <td>0</td>\n",
       "      <td>0</td>\n",
       "      <td>1</td>\n",
       "    </tr>\n",
       "    <tr>\n",
       "      <th>313</th>\n",
       "      <td>106152433</td>\n",
       "      <td>Snapping Turtle</td>\n",
       "      <td>5.10b</td>\n",
       "      <td>3.6</td>\n",
       "      <td>5</td>\n",
       "      <td>1</td>\n",
       "      <td>California</td>\n",
       "      <td>San Diego and Environs</td>\n",
       "      <td>North San Diego County</td>\n",
       "      <td>Poway Crags</td>\n",
       "      <td>...</td>\n",
       "      <td>0</td>\n",
       "      <td>0</td>\n",
       "      <td>0</td>\n",
       "      <td>0</td>\n",
       "      <td>0</td>\n",
       "      <td>0</td>\n",
       "      <td>0</td>\n",
       "      <td>0</td>\n",
       "      <td>0</td>\n",
       "      <td>1</td>\n",
       "    </tr>\n",
       "    <tr>\n",
       "      <th>517</th>\n",
       "      <td>106986499</td>\n",
       "      <td>Wish You Were Here</td>\n",
       "      <td>5.10a</td>\n",
       "      <td>3.8</td>\n",
       "      <td>12</td>\n",
       "      <td>1</td>\n",
       "      <td>California</td>\n",
       "      <td>San Diego and Environs</td>\n",
       "      <td>South San Diego County</td>\n",
       "      <td>Corte Madera</td>\n",
       "      <td>...</td>\n",
       "      <td>0</td>\n",
       "      <td>0</td>\n",
       "      <td>0</td>\n",
       "      <td>0</td>\n",
       "      <td>0</td>\n",
       "      <td>0</td>\n",
       "      <td>0</td>\n",
       "      <td>0</td>\n",
       "      <td>0</td>\n",
       "      <td>1</td>\n",
       "    </tr>\n",
       "    <tr>\n",
       "      <th>208</th>\n",
       "      <td>105913864</td>\n",
       "      <td>Dont be Fooled</td>\n",
       "      <td>5.10d</td>\n",
       "      <td>5.0</td>\n",
       "      <td>1</td>\n",
       "      <td>1</td>\n",
       "      <td>California</td>\n",
       "      <td>San Diego and Environs</td>\n",
       "      <td>South San Diego County</td>\n",
       "      <td>Otay Mesa</td>\n",
       "      <td>...</td>\n",
       "      <td>0</td>\n",
       "      <td>0</td>\n",
       "      <td>0</td>\n",
       "      <td>0</td>\n",
       "      <td>0</td>\n",
       "      <td>0</td>\n",
       "      <td>0</td>\n",
       "      <td>0</td>\n",
       "      <td>0</td>\n",
       "      <td>1</td>\n",
       "    </tr>\n",
       "    <tr>\n",
       "      <th>1253</th>\n",
       "      <td>116180423</td>\n",
       "      <td>Randall Handle</td>\n",
       "      <td>5.9</td>\n",
       "      <td>4.0</td>\n",
       "      <td>1</td>\n",
       "      <td>1</td>\n",
       "      <td>California</td>\n",
       "      <td>San Diego and Environs</td>\n",
       "      <td>South San Diego County</td>\n",
       "      <td>El Cajon Mountain</td>\n",
       "      <td>...</td>\n",
       "      <td>0</td>\n",
       "      <td>0</td>\n",
       "      <td>0</td>\n",
       "      <td>0</td>\n",
       "      <td>0</td>\n",
       "      <td>0</td>\n",
       "      <td>0</td>\n",
       "      <td>0</td>\n",
       "      <td>0</td>\n",
       "      <td>1</td>\n",
       "    </tr>\n",
       "  </tbody>\n",
       "</table>\n",
       "<p>10 rows × 50 columns</p>\n",
       "</div>"
      ],
      "text/plain": [
       "             id                 name   rating  stars  starVotes  pitches    location                  region                       area           sub_area  ... run out  well protected  chimney offwidth  stem  arete  crimp  vertical  powerful  in_range\n",
       "366   106306476             Godzilla    5.10b    4.2         11        1  California  San Diego and Environs     North San Diego County        Poway Crags  ...       0               0        0        0     0      0      0         0         0         1\n",
       "1273  116357491           Rockaledge    5.10b    4.0          1        1  California  San Diego and Environs     North San Diego County          Mt. Gower  ...       0               0        0        0     0      0      0         0         0         1\n",
       "1008  111571633         Emerald City  5.10a/b    4.0         30        1  California           Inland Empire           Riverside Quarry     (h) Rubble Row  ...       0               0        0        0     0      0      0         0         0         1\n",
       "280   106100920          Blue Collar    5.10c    4.3          6        1  California           Inland Empire  Box Springs Mountain Park          Knob Wall  ...       0               0        0        0     0      0      0         0         0         1\n",
       "364   106306456  Don't Pet The Tiger    5.10b    3.7         11        1  California  San Diego and Environs     North San Diego County        Poway Crags  ...       0               0        0        0     0      0      0         0         0         1\n",
       "490   106866127            Khazaddum    5.10b    3.7         67        1  California  San Diego and Environs     South San Diego County      Mission Gorge  ...       0               0        0        0     0      0      0         0         0         1\n",
       "313   106152433      Snapping Turtle    5.10b    3.6          5        1  California  San Diego and Environs     North San Diego County        Poway Crags  ...       0               0        0        0     0      0      0         0         0         1\n",
       "517   106986499   Wish You Were Here    5.10a    3.8         12        1  California  San Diego and Environs     South San Diego County       Corte Madera  ...       0               0        0        0     0      0      0         0         0         1\n",
       "208   105913864       Dont be Fooled    5.10d    5.0          1        1  California  San Diego and Environs     South San Diego County          Otay Mesa  ...       0               0        0        0     0      0      0         0         0         1\n",
       "1253  116180423       Randall Handle      5.9    4.0          1        1  California  San Diego and Environs     South San Diego County  El Cajon Mountain  ...       0               0        0        0     0      0      0         0         0         1\n",
       "\n",
       "[10 rows x 50 columns]"
      ]
     },
     "execution_count": 68,
     "metadata": {},
     "output_type": "execute_result"
    }
   ],
   "source": [
    "rec=get_recommendations(target_index, rbf_kernel)\n",
    "rec"
   ]
  },
  {
   "cell_type": "code",
   "execution_count": null,
   "metadata": {
    "ExecuteTime": {
     "end_time": "2020-01-20T19:03:49.445134Z",
     "start_time": "2020-01-20T19:03:49.228855Z"
    }
   },
   "outputs": [],
   "source": [
    "rec=get_recommendations(target_index, laplacian_kernel)\n",
    "rec"
   ]
  },
  {
   "cell_type": "code",
   "execution_count": null,
   "metadata": {
    "ExecuteTime": {
     "end_time": "2020-01-20T19:55:27.247275Z",
     "start_time": "2020-01-20T19:55:27.245160Z"
    }
   },
   "outputs": [],
   "source": [
    "# rec=get_recommendations(target_index, euclidean_distances)\n",
    "# rec"
   ]
  },
  {
   "cell_type": "code",
   "execution_count": null,
   "metadata": {
    "ExecuteTime": {
     "end_time": "2020-01-20T19:55:28.044734Z",
     "start_time": "2020-01-20T19:55:28.042276Z"
    }
   },
   "outputs": [],
   "source": [
    "# rec=get_recommendations(target_index, linear_kernel)\n",
    "# rec"
   ]
  },
  {
   "cell_type": "code",
   "execution_count": null,
   "metadata": {
    "ExecuteTime": {
     "end_time": "2020-01-20T19:55:28.713949Z",
     "start_time": "2020-01-20T19:55:28.711590Z"
    }
   },
   "outputs": [],
   "source": [
    "# rec=get_recommendations(target_index, polynomial_kernel)\n",
    "# rec"
   ]
  },
  {
   "cell_type": "code",
   "execution_count": null,
   "metadata": {
    "ExecuteTime": {
     "end_time": "2020-01-20T19:55:29.384012Z",
     "start_time": "2020-01-20T19:55:29.382299Z"
    }
   },
   "outputs": [],
   "source": [
    "# rec=get_recommendations(target_index, sigmoid_kernel)\n",
    "# rec"
   ]
  },
  {
   "cell_type": "code",
   "execution_count": null,
   "metadata": {
    "ExecuteTime": {
     "end_time": "2020-01-20T19:55:30.059805Z",
     "start_time": "2020-01-20T19:55:30.057957Z"
    }
   },
   "outputs": [],
   "source": [
    "# rec=get_recommendations(climb_id, chi2_kernel)\n",
    "# rec"
   ]
  },
  {
   "cell_type": "markdown",
   "metadata": {
    "heading_collapsed": true
   },
   "source": [
    "## NLP (work in progress)"
   ]
  },
  {
   "cell_type": "markdown",
   "metadata": {
    "heading_collapsed": true,
    "hidden": true
   },
   "source": [
    "### Import NLP Data (redundent delete later)"
   ]
  },
  {
   "cell_type": "code",
   "execution_count": null,
   "metadata": {
    "ExecuteTime": {
     "end_time": "2020-01-21T19:13:20.299633Z",
     "start_time": "2020-01-21T19:13:18.121878Z"
    },
    "hidden": true,
    "scrolled": false
   },
   "outputs": [],
   "source": [
    "df_nlp = query_helper.query_to_df('SELECT * FROM route_description;')\n",
    "df_nlp.set_index('id', inplace=True)\n",
    "df_nlp.head()"
   ]
  },
  {
   "cell_type": "code",
   "execution_count": null,
   "metadata": {
    "hidden": true
   },
   "outputs": [],
   "source": [
    "key_words = ['slab', 'traverse', 'roof', 'corner', 'ledge', 'crack', 'face','flake', 'finger', 'fingers',\n",
    "             'hand', 'hands', 'arch', 'balancy', 'balance', 'jug', 'squeeze', 'mantel', 'sustained',  \n",
    "             'ramp', 'overhung', 'dihedral', 'sporty', 'heady', 'pump', 'pumpy', 'technical',\n",
    "             'run out', 'mental', 'well protected', 'chimney', 'offwidth', 'stem', 'arete', 'exposed', 'exposure',\n",
    "             'crimp','crimpy', 'vertical', 'slabby', 'cave', 'steep', 'bouldery'. 'powerful']"
   ]
  },
  {
   "cell_type": "code",
   "execution_count": null,
   "metadata": {
    "ExecuteTime": {
     "end_time": "2020-01-14T19:29:11.530067Z",
     "start_time": "2020-01-14T19:29:11.526644Z"
    },
    "hidden": true
   },
   "outputs": [],
   "source": [
    "col_key_words = ['slab', 'traverse', 'roof', 'corner', 'ledge', 'crack', 'face','flake', 'finger',\n",
    "             'hand', 'arch', 'balancy', 'jug', 'squeeze', 'mantel', 'exposed', \n",
    "             'ramp', 'overhung', 'dihedral', 'sporty', 'sustained','pump', 'technical',\n",
    "             'run out', 'mental', 'well protected', 'chimney', 'offwidth', 'stem', 'arete',\n",
    "             'crimp', 'vertical', 'cave', 'steep', 'bouldery', 'powerful']"
   ]
  },
  {
   "cell_type": "code",
   "execution_count": null,
   "metadata": {
    "ExecuteTime": {
     "end_time": "2020-01-14T19:34:29.126715Z",
     "start_time": "2020-01-14T19:34:29.067098Z"
    },
    "hidden": true
   },
   "outputs": [],
   "source": [
    "df_numeric"
   ]
  },
  {
   "cell_type": "code",
   "execution_count": null,
   "metadata": {
    "ExecuteTime": {
     "end_time": "2020-01-14T19:49:43.566041Z",
     "start_time": "2020-01-14T19:49:43.535242Z"
    },
    "hidden": true
   },
   "outputs": [],
   "source": [
    "df_full = df_numeric.join(df_nlp)\n",
    "df_full.head()"
   ]
  },
  {
   "cell_type": "code",
   "execution_count": null,
   "metadata": {
    "ExecuteTime": {
     "end_time": "2020-01-14T19:47:23.165606Z",
     "start_time": "2020-01-14T19:47:23.146174Z"
    },
    "hidden": true
   },
   "outputs": [],
   "source": [
    "df_numeric.head()"
   ]
  },
  {
   "cell_type": "markdown",
   "metadata": {
    "heading_collapsed": true,
    "hidden": true
   },
   "source": [
    "### Break descriptions into rope and boulder"
   ]
  },
  {
   "cell_type": "markdown",
   "metadata": {
    "heading_collapsed": true,
    "hidden": true
   },
   "source": [
    "#### Rope"
   ]
  },
  {
   "cell_type": "code",
   "execution_count": null,
   "metadata": {
    "ExecuteTime": {
     "end_time": "2020-01-14T16:51:01.240404Z",
     "start_time": "2020-01-14T16:51:01.204956Z"
    },
    "hidden": true
   },
   "outputs": [],
   "source": [
    "df_sub = df_numeric[(df_numeric['Boulder']==0)]\n",
    "df_sub = df_sub[(df_numeric['Ice']==0)]\n",
    "df_sub = df_sub[(df_numeric['Snow']==0)]\n",
    "\n",
    "df_sub.head()"
   ]
  },
  {
   "cell_type": "code",
   "execution_count": null,
   "metadata": {
    "ExecuteTime": {
     "end_time": "2020-01-14T16:51:43.371737Z",
     "start_time": "2020-01-14T16:51:43.366434Z"
    },
    "hidden": true
   },
   "outputs": [],
   "source": [
    "df_sub.Boulder.value_counts()"
   ]
  },
  {
   "cell_type": "code",
   "execution_count": null,
   "metadata": {
    "ExecuteTime": {
     "end_time": "2020-01-14T16:52:24.275152Z",
     "start_time": "2020-01-14T16:52:24.271602Z"
    },
    "hidden": true
   },
   "outputs": [],
   "source": [
    "len(df_sub.index)"
   ]
  },
  {
   "cell_type": "code",
   "execution_count": null,
   "metadata": {
    "ExecuteTime": {
     "end_time": "2020-01-14T16:53:32.519370Z",
     "start_time": "2020-01-14T16:53:32.513576Z"
    },
    "hidden": true
   },
   "outputs": [],
   "source": [
    "len(df_nlp.loc[df_sub.index])"
   ]
  },
  {
   "cell_type": "code",
   "execution_count": null,
   "metadata": {
    "ExecuteTime": {
     "end_time": "2020-01-14T16:54:01.641269Z",
     "start_time": "2020-01-14T16:54:01.636660Z"
    },
    "hidden": true
   },
   "outputs": [],
   "source": [
    "nlp_rope =df_nlp.loc[df_sub.index]"
   ]
  },
  {
   "cell_type": "code",
   "execution_count": null,
   "metadata": {
    "ExecuteTime": {
     "end_time": "2020-01-14T16:54:20.169674Z",
     "start_time": "2020-01-14T16:54:20.162642Z"
    },
    "hidden": true
   },
   "outputs": [],
   "source": [
    "nlp_rope.head()"
   ]
  },
  {
   "cell_type": "code",
   "execution_count": null,
   "metadata": {
    "hidden": true
   },
   "outputs": [],
   "source": []
  },
  {
   "cell_type": "code",
   "execution_count": null,
   "metadata": {
    "hidden": true
   },
   "outputs": [],
   "source": []
  },
  {
   "cell_type": "code",
   "execution_count": null,
   "metadata": {
    "hidden": true
   },
   "outputs": [],
   "source": []
  },
  {
   "cell_type": "markdown",
   "metadata": {
    "heading_collapsed": true,
    "hidden": true
   },
   "source": [
    "#### Boulder"
   ]
  },
  {
   "cell_type": "code",
   "execution_count": null,
   "metadata": {
    "hidden": true
   },
   "outputs": [],
   "source": []
  },
  {
   "cell_type": "code",
   "execution_count": null,
   "metadata": {
    "hidden": true
   },
   "outputs": [],
   "source": []
  },
  {
   "cell_type": "markdown",
   "metadata": {
    "heading_collapsed": true,
    "hidden": true
   },
   "source": [
    "#### Tokenizer"
   ]
  },
  {
   "cell_type": "code",
   "execution_count": null,
   "metadata": {
    "ExecuteTime": {
     "end_time": "2020-01-15T16:31:30.759654Z",
     "start_time": "2020-01-15T16:31:29.385302Z"
    },
    "hidden": true
   },
   "outputs": [],
   "source": [
    "import string\n",
    "import spacy\n",
    "from spacy.lang.en.stop_words import STOP_WORDS\n",
    "from spacy.lang.en import English\n",
    "\n",
    "# Create our list of punctuation marks\n",
    "punctuations = string.punctuation\n",
    "\n",
    "# Create our list of stopwords\n",
    "nlp = spacy.load('en_core_web_sm')\n",
    "stop_words = spacy.lang.en.stop_words.STOP_WORDS\n",
    "\n",
    "# Load English tokenizer, tagger, parser, NER and word vectors\n",
    "parser = English()"
   ]
  },
  {
   "cell_type": "code",
   "execution_count": null,
   "metadata": {
    "ExecuteTime": {
     "end_time": "2020-01-14T18:07:36.736472Z",
     "start_time": "2020-01-14T18:07:36.732893Z"
    },
    "hidden": true
   },
   "outputs": [],
   "source": [
    "extra_stop = ['climb','climbing', 'crux', 'rope', 'leave', 'use', 'start', 'end',\n",
    "              'look', 'rock', 'tree', 'follow', 'continue', 'belay', 'photo', 'add', 'climber', 'route', \n",
    "              'lot', 'anchor', '...', '1', '2', '3', '4', '--', 'pitch', 'page', 'cold', 'hot', 'warm',\n",
    "              'belayer', 'fun', 'like', 'unknown', 'rap', 'left', 'right', 'wide', 'leader']\n"
   ]
  },
  {
   "cell_type": "code",
   "execution_count": null,
   "metadata": {
    "ExecuteTime": {
     "end_time": "2020-01-14T18:07:37.859618Z",
     "start_time": "2020-01-14T18:07:37.857191Z"
    },
    "hidden": true
   },
   "outputs": [],
   "source": [
    "for word in extra_stop:\n",
    "    stop_words.add(word)"
   ]
  },
  {
   "cell_type": "code",
   "execution_count": null,
   "metadata": {
    "ExecuteTime": {
     "end_time": "2020-01-14T18:06:46.276385Z",
     "start_time": "2020-01-14T18:06:46.270105Z"
    },
    "hidden": true
   },
   "outputs": [],
   "source": [
    "stop_words"
   ]
  },
  {
   "cell_type": "code",
   "execution_count": null,
   "metadata": {
    "hidden": true
   },
   "outputs": [],
   "source": []
  },
  {
   "cell_type": "code",
   "execution_count": null,
   "metadata": {
    "ExecuteTime": {
     "end_time": "2020-01-15T16:31:34.397702Z",
     "start_time": "2020-01-15T16:31:34.393258Z"
    },
    "hidden": true
   },
   "outputs": [],
   "source": [
    "# Creating our tokenizer function\n",
    "def spacy_tokenizer(text):\n",
    "    # Creating our token object, which is used to create documents with linguistic annotations.\n",
    "    mytokens = nlp(text)\n",
    "    \n",
    "#     mytokens = [word for word in mytokens if word.pos_ != \"PROPN\"]\n",
    "    \n",
    "    mytokens = [ word if word.pos_ != \"-PRON-\" else word.lower_ for word in mytokens ]\n",
    "\n",
    "    # Lemmatizing each token and converting each token into lowercase\n",
    "    mytokens = [ word.lemma_.lower().strip() if word.lemma_ != \"-PRON-\" else word.lower_ for word in mytokens ]\n",
    "\n",
    "    # Removing stop words\n",
    "    mytokens = [ word for word in mytokens if word not in stop_words and word not in punctuations ]\n",
    "\n",
    "    # return preprocessed list of tokens\n",
    "    return mytokens"
   ]
  },
  {
   "cell_type": "code",
   "execution_count": null,
   "metadata": {
    "hidden": true
   },
   "outputs": [],
   "source": []
  },
  {
   "cell_type": "code",
   "execution_count": null,
   "metadata": {
    "hidden": true
   },
   "outputs": [],
   "source": []
  },
  {
   "cell_type": "markdown",
   "metadata": {
    "heading_collapsed": true,
    "hidden": true
   },
   "source": [
    "### TF-IDF Vectorizer"
   ]
  },
  {
   "cell_type": "markdown",
   "metadata": {
    "heading_collapsed": true,
    "hidden": true
   },
   "source": [
    "#### Run the vectorizer"
   ]
  },
  {
   "cell_type": "code",
   "execution_count": null,
   "metadata": {
    "ExecuteTime": {
     "end_time": "2020-01-15T16:50:20.810380Z",
     "start_time": "2020-01-15T16:50:20.805679Z"
    },
    "hidden": true
   },
   "outputs": [],
   "source": [
    "df_nlp.loc[105714722,:]"
   ]
  },
  {
   "cell_type": "code",
   "execution_count": null,
   "metadata": {
    "ExecuteTime": {
     "end_time": "2020-01-15T16:50:51.703422Z",
     "start_time": "2020-01-15T16:50:51.693776Z"
    },
    "hidden": true
   },
   "outputs": [],
   "source": [
    "df_nlp[df_nlp.isna().values]"
   ]
  },
  {
   "cell_type": "code",
   "execution_count": null,
   "metadata": {
    "ExecuteTime": {
     "end_time": "2020-01-15T16:40:53.500567Z",
     "start_time": "2020-01-15T16:31:45.054845Z"
    },
    "hidden": true
   },
   "outputs": [],
   "source": [
    "#Import TfIdfVectorizer from scikit-learn\n",
    "from sklearn.feature_extraction.text import TfidfVectorizer\n",
    "\n",
    "#Define a TF-IDF Vectorizer Object. Remove all english stop words such as 'the', 'a'\n",
    "tfidf = TfidfVectorizer(tokenizer=spacy_tokenizer, min_df=5, max_df=.7)\n",
    "\n",
    "\n",
    "#Construct the required TF-IDF matrix by fitting and transforming the data\n",
    "tfidf_matrix = tfidf.fit_transform(df_nlp['infos'])\n",
    "\n",
    "#Output the shape of tfidf_matrix\n",
    "tfidf_matrix.shape"
   ]
  },
  {
   "cell_type": "markdown",
   "metadata": {
    "heading_collapsed": true,
    "hidden": true
   },
   "source": [
    "#### Save it to load later"
   ]
  },
  {
   "cell_type": "code",
   "execution_count": null,
   "metadata": {
    "ExecuteTime": {
     "end_time": "2020-01-13T21:36:36.712942Z",
     "start_time": "2020-01-13T21:36:36.679710Z"
    },
    "hidden": true
   },
   "outputs": [],
   "source": [
    "# Save the trained model as a pickle string. \n",
    "from sklearn.externals import joblib \n",
    "import pickle\n",
    "tfidf_5_7 = pickle.dumps(tfidf_matrix) \n",
    "\n",
    "  \n",
    "# Save the model as a pickle in a file \n",
    "joblib.dump(tfidf_matrix, 'tfidf_5_7.pkl') \n",
    "  \n",
    "# Load the model from the file \n",
    "# tfidf_loaded = joblib.load('tfidf_5_7.pkl')  \n",
    "  "
   ]
  },
  {
   "cell_type": "markdown",
   "metadata": {
    "heading_collapsed": true,
    "hidden": true
   },
   "source": [
    "### Get original index"
   ]
  },
  {
   "cell_type": "code",
   "execution_count": null,
   "metadata": {
    "ExecuteTime": {
     "end_time": "2020-01-14T15:29:30.698327Z",
     "start_time": "2020-01-14T15:29:30.693939Z"
    },
    "hidden": true
   },
   "outputs": [],
   "source": [
    "#get index to iterate over\n",
    "search_range = df_in_range.orig_index\n",
    "\n",
    "# get index for target in reference to whole matrix\n",
    "nlp_target_index = int(df_in_range.orig_index[df_in_range['id']==target_id].values)\n",
    "print('target_index:',nlp_target_index)"
   ]
  },
  {
   "cell_type": "code",
   "execution_count": null,
   "metadata": {
    "ExecuteTime": {
     "end_time": "2020-01-13T22:45:34.714406Z",
     "start_time": "2020-01-13T22:45:34.709962Z"
    },
    "hidden": true
   },
   "outputs": [],
   "source": [
    "df_nlp.loc[105793305]"
   ]
  },
  {
   "cell_type": "code",
   "execution_count": null,
   "metadata": {
    "ExecuteTime": {
     "end_time": "2020-01-13T23:33:49.738992Z",
     "start_time": "2020-01-13T23:33:49.733309Z"
    },
    "hidden": true
   },
   "outputs": [],
   "source": [
    "######NEED TO COMBINE WITH get_recommendations so we can get average weighted score#########################\n",
    "def get_recommendations_for_nlp(idx, kernel_type):\n",
    "\n",
    "    #value to store scores and indicies\n",
    "    score_matrix = np.ndarray(shape=(len(df_in_range),2), dtype=float)\n",
    "    \n",
    "    for iter_,i in enumerate(search_range.values):\n",
    "        score = kernel_type(tfidf_matrix[idx],tfidf_matrix[i])\n",
    "        score_matrix[iter_][0] =  i        ##the index comparison corresponding to the score\n",
    "        score_matrix[iter_][1] = score     ##the score for the current index\n",
    "\n",
    "    # Sort the climbs based on the similarity scores\n",
    "    score_matrix = sorted(score_matrix, key=lambda x: x[1], reverse=True)\n",
    "    \n",
    "    # score_matrix\n",
    "#########################  ADD/calculate SIMilarity VALUE   ###########################\n",
    "\n",
    "    # # Get the scores of the 20 most similar climbs\n",
    "    score_matrix = score_matrix[1:20]\n",
    "\n",
    "    # # Get the climb indices (& cast to ints)\n",
    "    climb_indices = [int(i[0]) for i in score_matrix]\n",
    "    \n",
    "    # Return the top 20 most similar climbs\n",
    "    return df_numeric.iloc[climb_indices,:]"
   ]
  },
  {
   "cell_type": "code",
   "execution_count": null,
   "metadata": {
    "ExecuteTime": {
     "end_time": "2020-01-13T23:34:33.578189Z",
     "start_time": "2020-01-13T23:34:12.616040Z"
    },
    "hidden": true
   },
   "outputs": [],
   "source": [
    "rec = get_recommendations_for_nlp(nlp_target_index, cosine_similarity)\n",
    "rec"
   ]
  },
  {
   "cell_type": "code",
   "execution_count": null,
   "metadata": {
    "ExecuteTime": {
     "end_time": "2020-01-14T15:24:00.009521Z",
     "start_time": "2020-01-14T15:23:59.964685Z"
    },
    "hidden": true
   },
   "outputs": [],
   "source": [
    "df_nlp.loc[rec.index]"
   ]
  },
  {
   "cell_type": "code",
   "execution_count": null,
   "metadata": {
    "hidden": true
   },
   "outputs": [],
   "source": []
  },
  {
   "cell_type": "markdown",
   "metadata": {
    "heading_collapsed": true,
    "hidden": true
   },
   "source": [
    "### LDA"
   ]
  },
  {
   "cell_type": "markdown",
   "metadata": {
    "heading_collapsed": true,
    "hidden": true
   },
   "source": [
    "#### CV"
   ]
  },
  {
   "cell_type": "code",
   "execution_count": null,
   "metadata": {
    "ExecuteTime": {
     "end_time": "2020-01-14T18:07:45.140285Z",
     "start_time": "2020-01-14T18:07:45.137984Z"
    },
    "hidden": true
   },
   "outputs": [],
   "source": [
    "from sklearn.feature_extraction.text import CountVectorizer"
   ]
  },
  {
   "cell_type": "code",
   "execution_count": null,
   "metadata": {
    "ExecuteTime": {
     "end_time": "2020-01-14T18:07:45.641396Z",
     "start_time": "2020-01-14T18:07:45.638002Z"
    },
    "hidden": true
   },
   "outputs": [],
   "source": [
    "cv = CountVectorizer(tokenizer=spacy_tokenizer, max_df=0.90, min_df=5, stop_words='english', ngram_range=(1,1))"
   ]
  },
  {
   "cell_type": "code",
   "execution_count": null,
   "metadata": {
    "ExecuteTime": {
     "end_time": "2020-01-14T18:08:06.432008Z",
     "start_time": "2020-01-14T18:07:46.019752Z"
    },
    "hidden": true
   },
   "outputs": [],
   "source": [
    "dtm = cv.fit_transform(nlp_rope['info'].sample(n=1000, random_state=1))"
   ]
  },
  {
   "cell_type": "markdown",
   "metadata": {
    "heading_collapsed": true,
    "hidden": true
   },
   "source": [
    "#### LDA Model"
   ]
  },
  {
   "cell_type": "code",
   "execution_count": null,
   "metadata": {
    "ExecuteTime": {
     "end_time": "2020-01-14T18:08:06.757781Z",
     "start_time": "2020-01-14T18:08:06.755456Z"
    },
    "hidden": true
   },
   "outputs": [],
   "source": [
    "from sklearn.decomposition import LatentDirichletAllocation"
   ]
  },
  {
   "cell_type": "code",
   "execution_count": null,
   "metadata": {
    "ExecuteTime": {
     "end_time": "2020-01-14T18:08:07.089358Z",
     "start_time": "2020-01-14T18:08:07.085587Z"
    },
    "hidden": true
   },
   "outputs": [],
   "source": [
    "# Build LDA Model\n",
    "lda_model = LatentDirichletAllocation(n_components=10,               # Number of topics\n",
    "                                      max_iter=20,               # Max learning iterations\n",
    "                                      learning_method='online',   \n",
    "                                      random_state=100,          # Random state\n",
    "                                      batch_size=32,            # n docs in each learning iter\n",
    "                                      evaluate_every = -1,       # compute perplexity every n iters, default: Don't\n",
    "                                      n_jobs = -1,               # Use all available CPUs\n",
    "                                     )\n",
    "\n",
    "print(lda_model)  # Model attributes"
   ]
  },
  {
   "cell_type": "code",
   "execution_count": null,
   "metadata": {
    "ExecuteTime": {
     "end_time": "2020-01-14T18:08:16.398220Z",
     "start_time": "2020-01-14T18:08:07.409388Z"
    },
    "hidden": true
   },
   "outputs": [],
   "source": [
    "# This can take awhile, we're dealing with a large amount of documents!\n",
    "\n",
    "lda_output = lda_model.fit_transform(dtm)\n"
   ]
  },
  {
   "cell_type": "markdown",
   "metadata": {
    "heading_collapsed": true,
    "hidden": true
   },
   "source": [
    "#### Diagnose model performance with perplexity and log-likelihood\n",
    "A model with higher log-likelihood and lower perplexity (exp(-1. * log-likelihood per word)) is considered to be good. Let’s check for our model.\n",
    "\n"
   ]
  },
  {
   "cell_type": "code",
   "execution_count": null,
   "metadata": {
    "ExecuteTime": {
     "end_time": "2020-01-14T18:08:16.580319Z",
     "start_time": "2020-01-14T18:08:16.400239Z"
    },
    "hidden": true
   },
   "outputs": [],
   "source": [
    "# Log Likelyhood: Higher the better\n",
    "print(\"Log Likelihood: \", lda_model.score(dtm))\n",
    "\n",
    "# Perplexity: Lower the better. Perplexity = exp(-1. * log-likelihood per word)\n",
    "print(\"Perplexity: \", lda_model.perplexity(dtm))\n",
    "\n",
    "# See model parameters\n",
    "print(lda_model.get_params())"
   ]
  },
  {
   "cell_type": "code",
   "execution_count": null,
   "metadata": {
    "ExecuteTime": {
     "end_time": "2020-01-14T16:21:29.674277Z",
     "start_time": "2020-01-14T16:21:29.664515Z"
    },
    "hidden": true
   },
   "outputs": [],
   "source": []
  },
  {
   "cell_type": "code",
   "execution_count": null,
   "metadata": {
    "ExecuteTime": {
     "end_time": "2020-01-14T18:08:17.193851Z",
     "start_time": "2020-01-14T18:08:17.190761Z"
    },
    "hidden": true
   },
   "outputs": [],
   "source": [
    "len(lda_model.components_)"
   ]
  },
  {
   "cell_type": "code",
   "execution_count": null,
   "metadata": {
    "ExecuteTime": {
     "end_time": "2020-01-14T18:08:17.509158Z",
     "start_time": "2020-01-14T18:08:17.507055Z"
    },
    "hidden": true
   },
   "outputs": [],
   "source": [
    "single_topic = lda_model.components_[0]"
   ]
  },
  {
   "cell_type": "code",
   "execution_count": null,
   "metadata": {
    "ExecuteTime": {
     "end_time": "2020-01-14T18:08:17.841038Z",
     "start_time": "2020-01-14T18:08:17.838450Z"
    },
    "hidden": true,
    "scrolled": true
   },
   "outputs": [],
   "source": [
    "top_word_indices = single_topic.argsort()[-10:]"
   ]
  },
  {
   "cell_type": "code",
   "execution_count": null,
   "metadata": {
    "ExecuteTime": {
     "end_time": "2020-01-14T18:08:18.185324Z",
     "start_time": "2020-01-14T18:08:18.176400Z"
    },
    "hidden": true
   },
   "outputs": [],
   "source": [
    "for index in top_word_indices:\n",
    "    print(cv.get_feature_names()[index])"
   ]
  },
  {
   "cell_type": "markdown",
   "metadata": {
    "heading_collapsed": true,
    "hidden": true
   },
   "source": [
    "#### Top words for all groups"
   ]
  },
  {
   "cell_type": "code",
   "execution_count": null,
   "metadata": {
    "ExecuteTime": {
     "end_time": "2020-01-14T18:16:12.007378Z",
     "start_time": "2020-01-14T18:16:11.843345Z"
    },
    "hidden": true
   },
   "outputs": [],
   "source": [
    "for index,topic in enumerate(lda_model.components_):\n",
    "    print(f'THE TOP 15 WORDS FOR TOPIC #{index}')\n",
    "    print([cv.get_feature_names()[i] for i in topic.argsort()[-30:]])\n",
    "    print('\\n')"
   ]
  },
  {
   "cell_type": "code",
   "execution_count": null,
   "metadata": {
    "hidden": true
   },
   "outputs": [],
   "source": []
  },
  {
   "cell_type": "code",
   "execution_count": null,
   "metadata": {
    "ExecuteTime": {
     "end_time": "2020-01-14T17:31:50.300746Z",
     "start_time": "2020-01-14T17:31:50.297261Z"
    },
    "hidden": true
   },
   "outputs": [],
   "source": [
    "extra_stop = ['climb','climbing', 'crux', 'rope', 'leave', 'use', 'start', 'end',\n",
    "              'look', 'rock', 'tree', 'follow', 'continue', 'belay', 'photo', 'add', 'climber', 'route', \n",
    "              'lot', 'anchor', '...', '1', '2', '3', '4', '--', 'pitch', 'page', 'cold', 'hot', 'warm',\n",
    "              'belayer', 'fun', 'like', 'unknown', 'rap', 'left', 'right']\n",
    "\n"
   ]
  },
  {
   "cell_type": "code",
   "execution_count": null,
   "metadata": {
    "hidden": true
   },
   "outputs": [],
   "source": []
  },
  {
   "cell_type": "markdown",
   "metadata": {
    "heading_collapsed": true,
    "hidden": true
   },
   "source": [
    "### Try new reverse tokenizer"
   ]
  },
  {
   "cell_type": "code",
   "execution_count": null,
   "metadata": {
    "ExecuteTime": {
     "end_time": "2020-01-14T18:18:48.553092Z",
     "start_time": "2020-01-14T18:18:48.549162Z"
    },
    "hidden": true
   },
   "outputs": [],
   "source": [
    "key_words = ['slab', 'traverse', 'roof', 'corner', 'ledge', 'crack', 'face','flake', 'bolt', 'finger', 'fingers'\n",
    "             'cam', 'camalot', 'hand', 'hands', 'arch', 'balancy', 'jug', 'squeeze', 'mantel', 'sustained', 'nut', \n",
    "             'gear', 'ramp', 'overhung', 'balance', 'dihedral', 'sporty', 'heady', 'pump', 'pumpy', 'technical',\n",
    "             'run out', 'mental', 'well protected', 'chimney', 'offwidth', 'stem', 'arete', 'exposed', 'exposure',\n",
    "             'crimp','crimpy', 'vertical', 'slabby', 'cave', 'steep', 'sidepull','bouldery']"
   ]
  },
  {
   "cell_type": "code",
   "execution_count": null,
   "metadata": {
    "ExecuteTime": {
     "end_time": "2020-01-14T18:18:50.597864Z",
     "start_time": "2020-01-14T18:18:50.592592Z"
    },
    "hidden": true
   },
   "outputs": [],
   "source": [
    "# Creating our tokenizer function\n",
    "def spacy_tokenizer_reverse(text):\n",
    "    # Creating our token object, which is used to create documents with linguistic annotations.\n",
    "    mytokens = nlp(text)\n",
    "    \n",
    "#     mytokens = [word for word in mytokens if word.pos_ != \"PROPN\"]\n",
    "    \n",
    "    mytokens = [ word if word.pos_ != \"-PRON-\" else word.lower_ for word in mytokens ]\n",
    "\n",
    "    # Lemmatizing each token and converting each token into lowercase\n",
    "    mytokens = [ word.lemma_.lower().strip() if word.lemma_ != \"-PRON-\" else word.lower_ for word in mytokens ]\n",
    "\n",
    "    # Removing stop words\n",
    "    mytokens = [ word for word in mytokens if word not in stop_words and word not in punctuations ]\n",
    "    \n",
    "    #grab only my key words\n",
    "    my_sub_tokens =[]\n",
    "    for word in set(mytokens):\n",
    "        if word in key_words:\n",
    "            my_sub_tokens.append(word)\n",
    "\n",
    "    # return preprocessed list of tokens\n",
    "    return my_sub_tokens"
   ]
  },
  {
   "cell_type": "markdown",
   "metadata": {
    "heading_collapsed": true,
    "hidden": true
   },
   "source": [
    "#### CV"
   ]
  },
  {
   "cell_type": "code",
   "execution_count": null,
   "metadata": {
    "ExecuteTime": {
     "end_time": "2020-01-14T18:18:53.447866Z",
     "start_time": "2020-01-14T18:18:53.444791Z"
    },
    "hidden": true
   },
   "outputs": [],
   "source": [
    "cv = CountVectorizer(tokenizer=spacy_tokenizer_reverse,  stop_words='english', ngram_range=(1,1))"
   ]
  },
  {
   "cell_type": "code",
   "execution_count": null,
   "metadata": {
    "ExecuteTime": {
     "end_time": "2020-01-14T18:19:11.866458Z",
     "start_time": "2020-01-14T18:18:53.835885Z"
    },
    "hidden": true
   },
   "outputs": [],
   "source": [
    "dtm = cv.fit_transform(nlp_rope['info'].sample(n=1000, random_state=1))"
   ]
  },
  {
   "cell_type": "markdown",
   "metadata": {
    "heading_collapsed": true,
    "hidden": true
   },
   "source": [
    "#### LDA Model"
   ]
  },
  {
   "cell_type": "code",
   "execution_count": null,
   "metadata": {
    "ExecuteTime": {
     "end_time": "2020-01-14T18:19:12.172426Z",
     "start_time": "2020-01-14T18:19:12.170199Z"
    },
    "hidden": true
   },
   "outputs": [],
   "source": [
    "from sklearn.decomposition import LatentDirichletAllocation"
   ]
  },
  {
   "cell_type": "code",
   "execution_count": null,
   "metadata": {
    "ExecuteTime": {
     "end_time": "2020-01-14T18:19:12.482946Z",
     "start_time": "2020-01-14T18:19:12.478894Z"
    },
    "hidden": true
   },
   "outputs": [],
   "source": [
    "# Build LDA Model\n",
    "lda_model = LatentDirichletAllocation(n_components=6,               # Number of topics\n",
    "                                      max_iter=20,               # Max learning iterations\n",
    "                                      learning_method='online',   \n",
    "                                      random_state=100,          # Random state\n",
    "                                      batch_size=32,            # n docs in each learning iter\n",
    "                                      evaluate_every = -1,       # compute perplexity every n iters, default: Don't\n",
    "                                      n_jobs = -1,               # Use all available CPUs\n",
    "                                     )\n",
    "\n",
    "print(lda_model)  # Model attributes"
   ]
  },
  {
   "cell_type": "code",
   "execution_count": null,
   "metadata": {
    "ExecuteTime": {
     "end_time": "2020-01-14T18:19:18.873542Z",
     "start_time": "2020-01-14T18:19:12.798986Z"
    },
    "hidden": true
   },
   "outputs": [],
   "source": [
    "# This can take awhile, we're dealing with a large amount of documents!\n",
    "\n",
    "lda_output = lda_model.fit_transform(dtm)\n"
   ]
  },
  {
   "cell_type": "markdown",
   "metadata": {
    "heading_collapsed": true,
    "hidden": true
   },
   "source": [
    "#### Diagnose model performance with perplexity and log-likelihood\n",
    "A model with higher log-likelihood and lower perplexity (exp(-1. * log-likelihood per word)) is considered to be good. Let’s check for our model.\n",
    "\n"
   ]
  },
  {
   "cell_type": "code",
   "execution_count": null,
   "metadata": {
    "ExecuteTime": {
     "end_time": "2020-01-14T18:19:19.361128Z",
     "start_time": "2020-01-14T18:19:19.209154Z"
    },
    "hidden": true
   },
   "outputs": [],
   "source": [
    "# Log Likelyhood: Higher the better\n",
    "print(\"Log Likelihood: \", lda_model.score(dtm))\n",
    "\n",
    "# Perplexity: Lower the better. Perplexity = exp(-1. * log-likelihood per word)\n",
    "print(\"Perplexity: \", lda_model.perplexity(dtm))\n",
    "\n",
    "# See model parameters\n",
    "print(lda_model.get_params())"
   ]
  },
  {
   "cell_type": "markdown",
   "metadata": {
    "heading_collapsed": true,
    "hidden": true
   },
   "source": [
    "#### Top words for all groups"
   ]
  },
  {
   "cell_type": "code",
   "execution_count": null,
   "metadata": {
    "ExecuteTime": {
     "end_time": "2020-01-14T18:24:15.582488Z",
     "start_time": "2020-01-14T18:24:15.576973Z"
    },
    "hidden": true
   },
   "outputs": [],
   "source": [
    "for index,topic in enumerate(lda_model.components_):\n",
    "    print(f'THE TOP 15 WORDS FOR TOPIC #{index}')\n",
    "    print([cv.get_feature_names()[i] for i in topic.argsort()[-10:]])\n",
    "    print('\\n')"
   ]
  },
  {
   "cell_type": "code",
   "execution_count": null,
   "metadata": {
    "hidden": true
   },
   "outputs": [],
   "source": []
  },
  {
   "cell_type": "code",
   "execution_count": null,
   "metadata": {
    "hidden": true
   },
   "outputs": [],
   "source": []
  }
 ],
 "metadata": {
  "kernelspec": {
   "display_name": "Python 3",
   "language": "python",
   "name": "python3"
  },
  "language_info": {
   "codemirror_mode": {
    "name": "ipython",
    "version": 3
   },
   "file_extension": ".py",
   "mimetype": "text/x-python",
   "name": "python",
   "nbconvert_exporter": "python",
   "pygments_lexer": "ipython3",
   "version": "3.7.3"
  },
  "varInspector": {
   "cols": {
    "lenName": 16,
    "lenType": 16,
    "lenVar": 40
   },
   "kernels_config": {
    "python": {
     "delete_cmd_postfix": "",
     "delete_cmd_prefix": "del ",
     "library": "var_list.py",
     "varRefreshCmd": "print(var_dic_list())"
    },
    "r": {
     "delete_cmd_postfix": ") ",
     "delete_cmd_prefix": "rm(",
     "library": "var_list.r",
     "varRefreshCmd": "cat(var_dic_list()) "
    }
   },
   "position": {
    "height": "567px",
    "left": "1321px",
    "right": "20px",
    "top": "120px",
    "width": "338px"
   },
   "types_to_exclude": [
    "module",
    "function",
    "builtin_function_or_method",
    "instance",
    "_Feature"
   ],
   "window_display": false
  }
 },
 "nbformat": 4,
 "nbformat_minor": 2
}
