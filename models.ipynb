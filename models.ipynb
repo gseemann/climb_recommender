{
 "cells": [
  {
   "cell_type": "markdown",
   "metadata": {},
   "source": [
    "# ML Models"
   ]
  },
  {
   "cell_type": "markdown",
   "metadata": {},
   "source": [
    "## Import Libraries & Load Dataframe from AWS DB"
   ]
  },
  {
   "cell_type": "code",
   "execution_count": 1,
   "metadata": {
    "ExecuteTime": {
     "end_time": "2020-09-21T18:44:34.886254Z",
     "start_time": "2020-09-21T18:44:33.108048Z"
    }
   },
   "outputs": [],
   "source": [
    "import pandas as pd\n",
    "import numpy as np\n",
    "import seaborn as sns\n",
    "import matplotlib.pyplot as plt\n",
    "%matplotlib inline\n",
    "from sklearn import preprocessing\n",
    "from math import sin, cos, sqrt, atan2, radians\n",
    "\n",
    "import query_helper\n",
    "import get_new_route\n",
    "import json\n"
   ]
  },
  {
   "cell_type": "code",
   "execution_count": 2,
   "metadata": {
    "ExecuteTime": {
     "end_time": "2020-09-21T18:44:35.693234Z",
     "start_time": "2020-09-21T18:44:34.896822Z"
    }
   },
   "outputs": [
    {
     "data": {
      "text/html": [
       "<div>\n",
       "<style scoped>\n",
       "    .dataframe tbody tr th:only-of-type {\n",
       "        vertical-align: middle;\n",
       "    }\n",
       "\n",
       "    .dataframe tbody tr th {\n",
       "        vertical-align: top;\n",
       "    }\n",
       "\n",
       "    .dataframe thead th {\n",
       "        text-align: right;\n",
       "    }\n",
       "</style>\n",
       "<table border=\"1\" class=\"dataframe\">\n",
       "  <thead>\n",
       "    <tr style=\"text-align: right;\">\n",
       "      <th></th>\n",
       "      <th>name</th>\n",
       "      <th>rating</th>\n",
       "      <th>stars</th>\n",
       "      <th>starVotes</th>\n",
       "      <th>pitches</th>\n",
       "      <th>location</th>\n",
       "      <th>region</th>\n",
       "      <th>area</th>\n",
       "      <th>sub_area</th>\n",
       "      <th>wall</th>\n",
       "      <th>...</th>\n",
       "      <th>run out</th>\n",
       "      <th>well protected</th>\n",
       "      <th>chimney</th>\n",
       "      <th>offwidth</th>\n",
       "      <th>stem</th>\n",
       "      <th>arete</th>\n",
       "      <th>crimp</th>\n",
       "      <th>vertical</th>\n",
       "      <th>powerful</th>\n",
       "      <th>in_range</th>\n",
       "    </tr>\n",
       "    <tr>\n",
       "      <th>id</th>\n",
       "      <th></th>\n",
       "      <th></th>\n",
       "      <th></th>\n",
       "      <th></th>\n",
       "      <th></th>\n",
       "      <th></th>\n",
       "      <th></th>\n",
       "      <th></th>\n",
       "      <th></th>\n",
       "      <th></th>\n",
       "      <th></th>\n",
       "      <th></th>\n",
       "      <th></th>\n",
       "      <th></th>\n",
       "      <th></th>\n",
       "      <th></th>\n",
       "      <th></th>\n",
       "      <th></th>\n",
       "      <th></th>\n",
       "      <th></th>\n",
       "      <th></th>\n",
       "    </tr>\n",
       "  </thead>\n",
       "  <tbody>\n",
       "    <tr>\n",
       "      <th>105714722</th>\n",
       "      <td>Central Yellow Wall</td>\n",
       "      <td>V3 R</td>\n",
       "      <td>4.4</td>\n",
       "      <td>22</td>\n",
       "      <td>0</td>\n",
       "      <td>South Dakota</td>\n",
       "      <td>Custer State Park</td>\n",
       "      <td>Sylvan Lake</td>\n",
       "      <td>Sylvan Lake Bouldering</td>\n",
       "      <td>Campground Boulder</td>\n",
       "      <td>...</td>\n",
       "      <td>0</td>\n",
       "      <td>0</td>\n",
       "      <td>0</td>\n",
       "      <td>0</td>\n",
       "      <td>0</td>\n",
       "      <td>0</td>\n",
       "      <td>0</td>\n",
       "      <td>0</td>\n",
       "      <td>0</td>\n",
       "      <td>1</td>\n",
       "    </tr>\n",
       "    <tr>\n",
       "      <th>105714728</th>\n",
       "      <td>Waves</td>\n",
       "      <td>5.8</td>\n",
       "      <td>4.6</td>\n",
       "      <td>217</td>\n",
       "      <td>2</td>\n",
       "      <td>South Dakota</td>\n",
       "      <td>The Needles Of Rushmore</td>\n",
       "      <td>Mount Rushmore National Memorial</td>\n",
       "      <td>South Seas</td>\n",
       "      <td>Shipyard Rock</td>\n",
       "      <td>...</td>\n",
       "      <td>0</td>\n",
       "      <td>0</td>\n",
       "      <td>0</td>\n",
       "      <td>0</td>\n",
       "      <td>0</td>\n",
       "      <td>0</td>\n",
       "      <td>0</td>\n",
       "      <td>1</td>\n",
       "      <td>0</td>\n",
       "      <td>1</td>\n",
       "    </tr>\n",
       "    <tr>\n",
       "      <th>105714731</th>\n",
       "      <td>East Chimney Variation</td>\n",
       "      <td>5.7</td>\n",
       "      <td>4.1</td>\n",
       "      <td>40</td>\n",
       "      <td>2</td>\n",
       "      <td>South Dakota</td>\n",
       "      <td>Custer State Park</td>\n",
       "      <td>Cathedral Spires</td>\n",
       "      <td>Station 13</td>\n",
       "      <td>0</td>\n",
       "      <td>...</td>\n",
       "      <td>0</td>\n",
       "      <td>0</td>\n",
       "      <td>0</td>\n",
       "      <td>0</td>\n",
       "      <td>0</td>\n",
       "      <td>0</td>\n",
       "      <td>0</td>\n",
       "      <td>0</td>\n",
       "      <td>0</td>\n",
       "      <td>1</td>\n",
       "    </tr>\n",
       "    <tr>\n",
       "      <th>105714734</th>\n",
       "      <td>Conn Diagonal</td>\n",
       "      <td>5.7</td>\n",
       "      <td>4.9</td>\n",
       "      <td>151</td>\n",
       "      <td>3</td>\n",
       "      <td>South Dakota</td>\n",
       "      <td>Custer State Park</td>\n",
       "      <td>Sylvan Lake</td>\n",
       "      <td>Outlets</td>\n",
       "      <td>Outer Outlet</td>\n",
       "      <td>...</td>\n",
       "      <td>0</td>\n",
       "      <td>0</td>\n",
       "      <td>0</td>\n",
       "      <td>0</td>\n",
       "      <td>1</td>\n",
       "      <td>0</td>\n",
       "      <td>0</td>\n",
       "      <td>0</td>\n",
       "      <td>0</td>\n",
       "      <td>1</td>\n",
       "    </tr>\n",
       "    <tr>\n",
       "      <th>105714737</th>\n",
       "      <td>Bolts for Bobs</td>\n",
       "      <td>5.8</td>\n",
       "      <td>3.5</td>\n",
       "      <td>125</td>\n",
       "      <td>1</td>\n",
       "      <td>South Dakota</td>\n",
       "      <td>The Needles Of Rushmore</td>\n",
       "      <td>Mount Rushmore National Memorial</td>\n",
       "      <td>South Seas</td>\n",
       "      <td>Borneo</td>\n",
       "      <td>...</td>\n",
       "      <td>0</td>\n",
       "      <td>0</td>\n",
       "      <td>0</td>\n",
       "      <td>0</td>\n",
       "      <td>0</td>\n",
       "      <td>0</td>\n",
       "      <td>0</td>\n",
       "      <td>0</td>\n",
       "      <td>0</td>\n",
       "      <td>1</td>\n",
       "    </tr>\n",
       "  </tbody>\n",
       "</table>\n",
       "<p>5 rows × 50 columns</p>\n",
       "</div>"
      ],
      "text/plain": [
       "                             name rating  stars  starVotes  pitches  \\\n",
       "id                                                                    \n",
       "105714722     Central Yellow Wall   V3 R    4.4         22        0   \n",
       "105714728                   Waves    5.8    4.6        217        2   \n",
       "105714731  East Chimney Variation    5.7    4.1         40        2   \n",
       "105714734           Conn Diagonal    5.7    4.9        151        3   \n",
       "105714737          Bolts for Bobs    5.8    3.5        125        1   \n",
       "\n",
       "               location                   region  \\\n",
       "id                                                 \n",
       "105714722  South Dakota        Custer State Park   \n",
       "105714728  South Dakota  The Needles Of Rushmore   \n",
       "105714731  South Dakota        Custer State Park   \n",
       "105714734  South Dakota        Custer State Park   \n",
       "105714737  South Dakota  The Needles Of Rushmore   \n",
       "\n",
       "                                       area                sub_area  \\\n",
       "id                                                                    \n",
       "105714722                       Sylvan Lake  Sylvan Lake Bouldering   \n",
       "105714728  Mount Rushmore National Memorial              South Seas   \n",
       "105714731                  Cathedral Spires              Station 13   \n",
       "105714734                       Sylvan Lake                 Outlets   \n",
       "105714737  Mount Rushmore National Memorial              South Seas   \n",
       "\n",
       "                         wall  ...  run out  well protected chimney  offwidth  \\\n",
       "id                             ...                                              \n",
       "105714722  Campground Boulder  ...        0               0       0         0   \n",
       "105714728       Shipyard Rock  ...        0               0       0         0   \n",
       "105714731                   0  ...        0               0       0         0   \n",
       "105714734        Outer Outlet  ...        0               0       0         0   \n",
       "105714737              Borneo  ...        0               0       0         0   \n",
       "\n",
       "           stem  arete  crimp  vertical  powerful  in_range  \n",
       "id                                                           \n",
       "105714722     0      0      0         0         0         1  \n",
       "105714728     0      0      0         1         0         1  \n",
       "105714731     0      0      0         0         0         1  \n",
       "105714734     1      0      0         0         0         1  \n",
       "105714737     0      0      0         0         0         1  \n",
       "\n",
       "[5 rows x 50 columns]"
      ]
     },
     "execution_count": 2,
     "metadata": {},
     "output_type": "execute_result"
    }
   ],
   "source": [
    "df_numeric = pd.read_csv('data/df.csv', index_col='id')\n",
    "#reorder columns\n",
    "df_numeric =df_numeric[['name', 'rating', 'stars', 'starVotes', 'pitches', 'location', 'region',\n",
    "                               'area', 'sub_area', 'wall', 'longitude', 'latitude', 'url', 'Sport',\n",
    "                               'Trad', 'Boulder', 'TR', 'Alpine', 'Aid', 'Ice', 'Snow', 'Mixed',\n",
    "                               'danger', 'rope_grade', 'boulder_grade', 'infos', 'slab', 'traverse',\n",
    "                               'roof', 'corner', 'crack', 'hand', 'face', 'flake', 'fingers', 'jug', 'exposed',\n",
    "                               'dihedral', 'sustained', 'technical', 'run out', 'well protected',\n",
    "                               'chimney', 'offwidth', 'stem', 'arete', 'crimp', 'vertical', 'powerful',\n",
    "                               'in_range']]\n",
    "df_numeric.head()"
   ]
  },
  {
   "cell_type": "markdown",
   "metadata": {},
   "source": [
    "## Get input from user for recommendation"
   ]
  },
  {
   "cell_type": "code",
   "execution_count": 3,
   "metadata": {
    "ExecuteTime": {
     "end_time": "2020-09-21T18:44:45.063248Z",
     "start_time": "2020-09-21T18:44:45.060302Z"
    }
   },
   "outputs": [],
   "source": [
    "target_id = 105894693\n",
    "# target_lat = 32.9127 \n",
    "# target_lon = -116.882\n",
    "target_state =''\n",
    "target_city =''\n",
    "target_zipcode = '92008'\n",
    "target_radius_range=60\n",
    "star_limit = 3.5\n",
    "###other parameters to be added here later"
   ]
  },
  {
   "cell_type": "markdown",
   "metadata": {},
   "source": [
    "### Get coordinates for zip or city"
   ]
  },
  {
   "cell_type": "code",
   "execution_count": 4,
   "metadata": {
    "ExecuteTime": {
     "end_time": "2020-09-21T18:44:50.528753Z",
     "start_time": "2020-09-21T18:44:50.142637Z"
    }
   },
   "outputs": [],
   "source": [
    "with open('data/us-zip-code-latitude-and-longitude.json') as f:\n",
    "  coord_dict = json.load(f)"
   ]
  },
  {
   "cell_type": "code",
   "execution_count": 5,
   "metadata": {
    "ExecuteTime": {
     "end_time": "2020-09-21T18:45:00.716082Z",
     "start_time": "2020-09-21T18:45:00.711625Z"
    }
   },
   "outputs": [],
   "source": [
    "def get_coords(target_city=None, target_state=None, zipcode=None):\n",
    "    #find the coordinates for city or zip code\n",
    "    for city in coord_dict:\n",
    "        if city['fields']['zip']==zipcode:\n",
    "            return city['fields']['latitude'],city['fields']['longitude']\n",
    "        if (city['fields']['state']==target_state)&(city['fields']['city']==target_city):\n",
    "            return city['fields']['latitude'],city['fields']['longitude']\n",
    "    #if nothing is found return none\n",
    "    return None, None"
   ]
  },
  {
   "cell_type": "code",
   "execution_count": 6,
   "metadata": {
    "ExecuteTime": {
     "end_time": "2020-09-21T18:45:21.244644Z",
     "start_time": "2020-09-21T18:45:21.237494Z"
    }
   },
   "outputs": [],
   "source": [
    "target_lat, target_lon = get_coords(target_city, target_state, target_zipcode)"
   ]
  },
  {
   "cell_type": "code",
   "execution_count": 7,
   "metadata": {
    "ExecuteTime": {
     "end_time": "2020-09-21T18:45:21.854709Z",
     "start_time": "2020-09-21T18:45:21.851996Z"
    }
   },
   "outputs": [
    {
     "name": "stdout",
     "output_type": "stream",
     "text": [
      "33.158137 -117.32646\n"
     ]
    }
   ],
   "source": [
    "print(target_lat, target_lon)"
   ]
  },
  {
   "cell_type": "markdown",
   "metadata": {},
   "source": [
    "### Create fxn to see if climb is in search range"
   ]
  },
  {
   "cell_type": "code",
   "execution_count": 8,
   "metadata": {
    "ExecuteTime": {
     "end_time": "2020-09-21T18:45:28.849232Z",
     "start_time": "2020-09-21T18:45:28.842523Z"
    }
   },
   "outputs": [],
   "source": [
    "#function takes search param range and assigns to original df if climb in_range\n",
    "def in_range(df_fxn, lat, lon, radius_range=None):\n",
    "    if radius_range:\n",
    "        R= 3958.8 \n",
    "        if (lat == None)|(lon==None):\n",
    "            df_fxn['in_range'] = 1\n",
    "        else:\n",
    "            #assign target coords and set to radians for calc\n",
    "            lat1 = radians(lat)\n",
    "            lon1 = radians(lon)\n",
    "            for index, row in df_fxn.iterrows():\n",
    "                #assign the lat and lon for each climb\n",
    "                lat2 = radians(row['latitude'])\n",
    "                lon2 = radians(row['longitude'])\n",
    "\n",
    "                dlon = lon2 - lon1\n",
    "                dlat = lat2 - lat1\n",
    "\n",
    "                a = sin(dlat / 2)**2 + cos(lat1) * cos(lat2) * sin(dlon / 2)**2\n",
    "                c = 2 * atan2(sqrt(a), sqrt(1 - a))\n",
    "\n",
    "                distance = R * c\n",
    "\n",
    "                #assign in_range col to 1 if the climb is in range\n",
    "                if distance < radius_range:\n",
    "                    df_fxn.at[index,'in_range']=1\n",
    "                else:\n",
    "                    df_fxn.at[index,'in_range']=0   \n",
    "    else:\n",
    "        df_fxn['in_range'] =1\n",
    "\n"
   ]
  },
  {
   "cell_type": "code",
   "execution_count": 9,
   "metadata": {
    "ExecuteTime": {
     "end_time": "2020-02-03T22:15:19.300185Z",
     "start_time": "2020-02-03T22:15:19.296321Z"
    }
   },
   "outputs": [],
   "source": [
    "def star_cutoff(df_fxn, star_limit=3.5):\n",
    "    for index, row in df_fxn.iterrows():\n",
    "        #assign in_range col to 1 if the climb is in range\n",
    "        if (df_fxn.at[index, 'stars'] >= star_limit)&(df_fxn.at[index, 'in_range']!=0):\n",
    "            df_fxn.at[index,'in_range']=1\n",
    "        else:\n",
    "            df_fxn.at[index,'in_range']=0   "
   ]
  },
  {
   "cell_type": "code",
   "execution_count": 10,
   "metadata": {
    "ExecuteTime": {
     "end_time": "2020-02-03T22:15:19.304054Z",
     "start_time": "2020-02-03T22:15:19.301860Z"
    }
   },
   "outputs": [],
   "source": [
    "# ##difficulity cutoff, function not run until climb is in df\n",
    "# def diff_cutoff(df_fxn, delta=6, target_grade):\n",
    "#     if df_fxn.loc[target_id,'Boulder']==0:\n",
    "#         target_grade = df_fxn.loc[target_id,'rope_grade']\n",
    "#         for index, row in df_fxn.iterrows():\n",
    "#             #assign in_range col to 1 if the climb is in range\n",
    "#             if (df_fxn.at[index, 'rope_grade'] <= target_grade+delta)&(df_fxn.at[index, 'rope_grade'] >= target_grade-delta)\n",
    "#                 &(df_fxn.at[index, 'in_range']!=0):\n",
    "#                 df_fxn.at[index,'in_range']=1\n",
    "#             else:\n",
    "#                 df_fxn.at[index,'in_range']=0                "
   ]
  },
  {
   "cell_type": "markdown",
   "metadata": {},
   "source": [
    "### Call function to assign if climb in range"
   ]
  },
  {
   "cell_type": "code",
   "execution_count": 11,
   "metadata": {
    "ExecuteTime": {
     "end_time": "2020-02-03T22:15:22.584432Z",
     "start_time": "2020-02-03T22:15:19.305840Z"
    }
   },
   "outputs": [],
   "source": [
    "## used to get list of climbs allowed for comparison\n",
    "in_range(df_numeric, lat = target_lat, lon = target_lon, radius_range=target_radius_range)"
   ]
  },
  {
   "cell_type": "markdown",
   "metadata": {},
   "source": [
    "### Star cutoff (ie only give results for routes with above 3.5 stars)"
   ]
  },
  {
   "cell_type": "code",
   "execution_count": null,
   "metadata": {
    "ExecuteTime": {
     "end_time": "2020-02-03T22:17:49.679067Z",
     "start_time": "2020-02-03T22:16:11.257Z"
    }
   },
   "outputs": [],
   "source": [
    "star_cutoff(df_numeric, star_limit)"
   ]
  },
  {
   "cell_type": "code",
   "execution_count": 13,
   "metadata": {
    "ExecuteTime": {
     "end_time": "2020-02-03T22:17:58.565384Z",
     "start_time": "2020-02-03T22:17:58.559304Z"
    }
   },
   "outputs": [
    {
     "data": {
      "text/plain": [
       "0    35255\n",
       "1     1372\n",
       "Name: in_range, dtype: int64"
      ]
     },
     "execution_count": 13,
     "metadata": {},
     "output_type": "execute_result"
    }
   ],
   "source": [
    "df_numeric.in_range.value_counts()"
   ]
  },
  {
   "cell_type": "markdown",
   "metadata": {},
   "source": [
    "### To begin, see if if the climb already exists in db"
   ]
  },
  {
   "cell_type": "code",
   "execution_count": 14,
   "metadata": {
    "ExecuteTime": {
     "end_time": "2020-02-03T22:18:18.789569Z",
     "start_time": "2020-02-03T22:18:13.561844Z"
    }
   },
   "outputs": [
    {
     "name": "stdout",
     "output_type": "stream",
     "text": [
      "Making API call and Scraping climb data\n"
     ]
    }
   ],
   "source": [
    "if target_id in df_numeric.index:\n",
    "    print('We have climb already')\n",
    "    #make sure reference climb is assigned in_range\n",
    "    df_numeric.loc[target_id,'in_range']=1\n",
    "else:\n",
    "    print('Making API call and Scraping climb data')\n",
    "    if(get_new_route.get_route_details(target_id)):\n",
    "        #the function in the if statement saves target climb to target_climb.csv and returns 1\n",
    "        df_target= pd.read_csv('data/target_climb.csv', index_col= 'id')\n",
    "        df_target.drop(columns=['Unnamed: 0'], inplace=True)\n",
    "        df_target['in_range'] = 1\n",
    "        #order the same as df_numeric columns\n",
    "        df_target = df_target[['name', 'rating', 'stars', 'starVotes', 'pitches', 'location', 'region',\n",
    "                               'area', 'sub_area', 'wall', 'longitude', 'latitude', 'url', 'Sport',\n",
    "                               'Trad', 'Boulder', 'TR', 'Alpine', 'Aid', 'Ice', 'Snow', 'Mixed',\n",
    "                               'danger', 'rope_grade', 'boulder_grade', 'infos', 'slab', 'traverse',\n",
    "                               'roof', 'corner', 'crack', 'hand', 'face', 'flake', 'fingers', 'jug', 'exposed',\n",
    "                               'dihedral', 'sustained', 'technical', 'run out', 'well protected',\n",
    "                               'chimney', 'offwidth', 'stem', 'arete', 'crimp', 'vertical', 'powerful',\n",
    "                               'in_range']]\n",
    "        \n",
    "        df_numeric = pd.concat([df_numeric, df_target])\n",
    "#         save new climb into \n",
    "#         df_numeric.to_csv('data/df.csv', index_col= 'id')\n",
    "    else:\n",
    "        print(\"Something went wrong\")\n"
   ]
  },
  {
   "cell_type": "code",
   "execution_count": 9,
   "metadata": {
    "ExecuteTime": {
     "end_time": "2020-09-22T03:30:04.769860Z",
     "start_time": "2020-09-22T03:30:04.755844Z"
    }
   },
   "outputs": [
    {
     "data": {
      "text/plain": [
       "name                                              White Rastafarian\n",
       "rating                                                         V2 R\n",
       "stars                                                           4.9\n",
       "starVotes                                                       159\n",
       "pitches                                                           0\n",
       "location                                                 California\n",
       "region                                    Joshua Tree National Park\n",
       "area                                       *Joshua Tree Bouldering*\n",
       "sub_area                                         Outback Bouldering\n",
       "wall                                      White Rastafarian Boulder\n",
       "longitude                                                  -116.381\n",
       "latitude                                                     33.719\n",
       "url               https://www.mountainproject.com/route/10572259...\n",
       "Sport                                                             0\n",
       "Trad                                                              0\n",
       "Boulder                                                           1\n",
       "TR                                                                0\n",
       "Alpine                                                            0\n",
       "Aid                                                               0\n",
       "Ice                                                               0\n",
       "Snow                                                              0\n",
       "Mixed                                                             0\n",
       "danger                                                            2\n",
       "rope_grade                                                        0\n",
       "boulder_grade                                                    11\n",
       "infos             This problem is located on a large boulder at ...\n",
       "slab                                                              0\n",
       "traverse                                                          0\n",
       "roof                                                              0\n",
       "corner                                                            0\n",
       "crack                                                             0\n",
       "hand                                                              0\n",
       "face                                                              1\n",
       "flake                                                             1\n",
       "fingers                                                           0\n",
       "jug                                                               1\n",
       "exposed                                                           0\n",
       "dihedral                                                          0\n",
       "sustained                                                         0\n",
       "technical                                                         1\n",
       "run out                                                           0\n",
       "well protected                                                    0\n",
       "chimney                                                           0\n",
       "offwidth                                                          0\n",
       "stem                                                              0\n",
       "arete                                                             1\n",
       "crimp                                                             0\n",
       "vertical                                                          0\n",
       "powerful                                                          0\n",
       "in_range                                                          1\n",
       "Name: 105722593, dtype: object"
      ]
     },
     "execution_count": 9,
     "metadata": {},
     "output_type": "execute_result"
    }
   ],
   "source": [
    "df_numeric.loc[105722593,:]    "
   ]
  },
  {
   "cell_type": "code",
   "execution_count": 15,
   "metadata": {
    "ExecuteTime": {
     "end_time": "2020-02-03T22:18:34.757922Z",
     "start_time": "2020-02-03T22:18:34.725845Z"
    }
   },
   "outputs": [
    {
     "data": {
      "text/plain": [
       "name                                                      Lion King\n",
       "rating                                                        5.11c\n",
       "stars                                                           4.4\n",
       "starVotes                                                        81\n",
       "pitches                                                           1\n",
       "location                                              International\n",
       "region                                                         Asia\n",
       "area                                                       Thailand\n",
       "sub_area                                  South - Islands & Beaches\n",
       "wall              Laem Phra Nang (Railay & Tonsai),Tonsai Bay,Du...\n",
       "longitude                                                   98.9921\n",
       "latitude                                                    18.7689\n",
       "url               https://www.mountainproject.com/route/10589469...\n",
       "Sport                                                             1\n",
       "Trad                                                              0\n",
       "Boulder                                                           0\n",
       "TR                                                                0\n",
       "Alpine                                                            0\n",
       "Aid                                                               0\n",
       "Ice                                                               0\n",
       "Snow                                                              0\n",
       "Mixed                                                             0\n",
       "danger                                                            0\n",
       "rope_grade                                                       35\n",
       "boulder_grade                                                     0\n",
       "infos             The Lion King has a huge distinctive flake on ...\n",
       "slab                                                              0\n",
       "traverse                                                          1\n",
       "roof                                                              0\n",
       "corner                                                            0\n",
       "crack                                                             0\n",
       "hand                                                              0\n",
       "face                                                              0\n",
       "flake                                                             1\n",
       "fingers                                                           0\n",
       "jug                                                               0\n",
       "exposed                                                           0\n",
       "dihedral                                                          0\n",
       "sustained                                                         0\n",
       "technical                                                         0\n",
       "run out                                                           0\n",
       "well protected                                                    0\n",
       "chimney                                                           0\n",
       "offwidth                                                          0\n",
       "stem                                                              0\n",
       "arete                                                             0\n",
       "crimp                                                             0\n",
       "vertical                                                          0\n",
       "powerful                                                          0\n",
       "in_range                                                          1\n",
       "Name: 105894693, dtype: object"
      ]
     },
     "execution_count": 15,
     "metadata": {},
     "output_type": "execute_result"
    }
   ],
   "source": [
    "df_numeric.loc[target_id,:]"
   ]
  },
  {
   "cell_type": "code",
   "execution_count": 16,
   "metadata": {
    "ExecuteTime": {
     "end_time": "2020-02-03T22:18:51.007824Z",
     "start_time": "2020-02-03T22:18:50.991515Z"
    }
   },
   "outputs": [
    {
     "data": {
      "text/html": [
       "<div>\n",
       "<style scoped>\n",
       "    .dataframe tbody tr th:only-of-type {\n",
       "        vertical-align: middle;\n",
       "    }\n",
       "\n",
       "    .dataframe tbody tr th {\n",
       "        vertical-align: top;\n",
       "    }\n",
       "\n",
       "    .dataframe thead th {\n",
       "        text-align: right;\n",
       "    }\n",
       "</style>\n",
       "<table border=\"1\" class=\"dataframe\">\n",
       "  <thead>\n",
       "    <tr style=\"text-align: right;\">\n",
       "      <th></th>\n",
       "      <th>name</th>\n",
       "      <th>rating</th>\n",
       "      <th>stars</th>\n",
       "      <th>starVotes</th>\n",
       "      <th>pitches</th>\n",
       "      <th>location</th>\n",
       "      <th>region</th>\n",
       "      <th>area</th>\n",
       "      <th>sub_area</th>\n",
       "      <th>wall</th>\n",
       "      <th>...</th>\n",
       "      <th>run out</th>\n",
       "      <th>well protected</th>\n",
       "      <th>chimney</th>\n",
       "      <th>offwidth</th>\n",
       "      <th>stem</th>\n",
       "      <th>arete</th>\n",
       "      <th>crimp</th>\n",
       "      <th>vertical</th>\n",
       "      <th>powerful</th>\n",
       "      <th>in_range</th>\n",
       "    </tr>\n",
       "    <tr>\n",
       "      <th>id</th>\n",
       "      <th></th>\n",
       "      <th></th>\n",
       "      <th></th>\n",
       "      <th></th>\n",
       "      <th></th>\n",
       "      <th></th>\n",
       "      <th></th>\n",
       "      <th></th>\n",
       "      <th></th>\n",
       "      <th></th>\n",
       "      <th></th>\n",
       "      <th></th>\n",
       "      <th></th>\n",
       "      <th></th>\n",
       "      <th></th>\n",
       "      <th></th>\n",
       "      <th></th>\n",
       "      <th></th>\n",
       "      <th></th>\n",
       "      <th></th>\n",
       "      <th></th>\n",
       "    </tr>\n",
       "  </thead>\n",
       "  <tbody>\n",
       "    <tr>\n",
       "      <th>118210488</th>\n",
       "      <td>Unknown #1</td>\n",
       "      <td>V0-1</td>\n",
       "      <td>3.0</td>\n",
       "      <td>1</td>\n",
       "      <td>0</td>\n",
       "      <td>California</td>\n",
       "      <td>Lake Tahoe</td>\n",
       "      <td>I-80 Corridor</td>\n",
       "      <td>Auburn and Grass Valley</td>\n",
       "      <td>Auburn SRA,Tall Green Bridge,Riverside Boulder...</td>\n",
       "      <td>...</td>\n",
       "      <td>0</td>\n",
       "      <td>0</td>\n",
       "      <td>0</td>\n",
       "      <td>0</td>\n",
       "      <td>0</td>\n",
       "      <td>0</td>\n",
       "      <td>0</td>\n",
       "      <td>0</td>\n",
       "      <td>0</td>\n",
       "      <td>0</td>\n",
       "    </tr>\n",
       "    <tr>\n",
       "      <th>118210496</th>\n",
       "      <td>Unknown #2</td>\n",
       "      <td>V1-2</td>\n",
       "      <td>3.0</td>\n",
       "      <td>1</td>\n",
       "      <td>0</td>\n",
       "      <td>California</td>\n",
       "      <td>Lake Tahoe</td>\n",
       "      <td>I-80 Corridor</td>\n",
       "      <td>Auburn and Grass Valley</td>\n",
       "      <td>Auburn SRA,Tall Green Bridge,Riverside Boulder...</td>\n",
       "      <td>...</td>\n",
       "      <td>0</td>\n",
       "      <td>0</td>\n",
       "      <td>0</td>\n",
       "      <td>0</td>\n",
       "      <td>0</td>\n",
       "      <td>0</td>\n",
       "      <td>0</td>\n",
       "      <td>0</td>\n",
       "      <td>0</td>\n",
       "      <td>0</td>\n",
       "    </tr>\n",
       "    <tr>\n",
       "      <th>118210504</th>\n",
       "      <td>Unknown #3</td>\n",
       "      <td>V1-2</td>\n",
       "      <td>3.0</td>\n",
       "      <td>1</td>\n",
       "      <td>0</td>\n",
       "      <td>California</td>\n",
       "      <td>Lake Tahoe</td>\n",
       "      <td>I-80 Corridor</td>\n",
       "      <td>Auburn and Grass Valley</td>\n",
       "      <td>Auburn SRA,Tall Green Bridge,Riverside Boulder...</td>\n",
       "      <td>...</td>\n",
       "      <td>0</td>\n",
       "      <td>0</td>\n",
       "      <td>0</td>\n",
       "      <td>0</td>\n",
       "      <td>0</td>\n",
       "      <td>1</td>\n",
       "      <td>0</td>\n",
       "      <td>0</td>\n",
       "      <td>0</td>\n",
       "      <td>0</td>\n",
       "    </tr>\n",
       "    <tr>\n",
       "      <th>118211517</th>\n",
       "      <td>Mertensia Pillar</td>\n",
       "      <td>WI5</td>\n",
       "      <td>4.0</td>\n",
       "      <td>1</td>\n",
       "      <td>1</td>\n",
       "      <td>Colorado</td>\n",
       "      <td>CO Ice &amp; Mixed</td>\n",
       "      <td>RMNP - Mixed/Ice</td>\n",
       "      <td>Wild Basin</td>\n",
       "      <td>Mertensia Falls</td>\n",
       "      <td>...</td>\n",
       "      <td>0</td>\n",
       "      <td>0</td>\n",
       "      <td>0</td>\n",
       "      <td>0</td>\n",
       "      <td>0</td>\n",
       "      <td>0</td>\n",
       "      <td>0</td>\n",
       "      <td>0</td>\n",
       "      <td>0</td>\n",
       "      <td>0</td>\n",
       "    </tr>\n",
       "    <tr>\n",
       "      <th>105894693</th>\n",
       "      <td>Lion King</td>\n",
       "      <td>5.11c</td>\n",
       "      <td>4.4</td>\n",
       "      <td>81</td>\n",
       "      <td>1</td>\n",
       "      <td>International</td>\n",
       "      <td>Asia</td>\n",
       "      <td>Thailand</td>\n",
       "      <td>South - Islands &amp; Beaches</td>\n",
       "      <td>Laem Phra Nang (Railay &amp; Tonsai),Tonsai Bay,Du...</td>\n",
       "      <td>...</td>\n",
       "      <td>0</td>\n",
       "      <td>0</td>\n",
       "      <td>0</td>\n",
       "      <td>0</td>\n",
       "      <td>0</td>\n",
       "      <td>0</td>\n",
       "      <td>0</td>\n",
       "      <td>0</td>\n",
       "      <td>0</td>\n",
       "      <td>1</td>\n",
       "    </tr>\n",
       "  </tbody>\n",
       "</table>\n",
       "<p>5 rows × 50 columns</p>\n",
       "</div>"
      ],
      "text/plain": [
       "                       name rating  stars  starVotes  pitches       location  \\\n",
       "id                                                                             \n",
       "118210488        Unknown #1   V0-1    3.0          1        0     California   \n",
       "118210496        Unknown #2   V1-2    3.0          1        0     California   \n",
       "118210504        Unknown #3   V1-2    3.0          1        0     California   \n",
       "118211517  Mertensia Pillar    WI5    4.0          1        1       Colorado   \n",
       "105894693         Lion King  5.11c    4.4         81        1  International   \n",
       "\n",
       "                   region              area                   sub_area  \\\n",
       "id                                                                       \n",
       "118210488      Lake Tahoe     I-80 Corridor    Auburn and Grass Valley   \n",
       "118210496      Lake Tahoe     I-80 Corridor    Auburn and Grass Valley   \n",
       "118210504      Lake Tahoe     I-80 Corridor    Auburn and Grass Valley   \n",
       "118211517  CO Ice & Mixed  RMNP - Mixed/Ice                 Wild Basin   \n",
       "105894693            Asia          Thailand  South - Islands & Beaches   \n",
       "\n",
       "                                                        wall  ...  run out  \\\n",
       "id                                                            ...            \n",
       "118210488  Auburn SRA,Tall Green Bridge,Riverside Boulder...  ...        0   \n",
       "118210496  Auburn SRA,Tall Green Bridge,Riverside Boulder...  ...        0   \n",
       "118210504  Auburn SRA,Tall Green Bridge,Riverside Boulder...  ...        0   \n",
       "118211517                                    Mertensia Falls  ...        0   \n",
       "105894693  Laem Phra Nang (Railay & Tonsai),Tonsai Bay,Du...  ...        0   \n",
       "\n",
       "           well protected chimney  offwidth  stem  arete  crimp  vertical  \\\n",
       "id                                                                          \n",
       "118210488               0       0         0     0      0      0         0   \n",
       "118210496               0       0         0     0      0      0         0   \n",
       "118210504               0       0         0     0      1      0         0   \n",
       "118211517               0       0         0     0      0      0         0   \n",
       "105894693               0       0         0     0      0      0         0   \n",
       "\n",
       "           powerful  in_range  \n",
       "id                             \n",
       "118210488         0         0  \n",
       "118210496         0         0  \n",
       "118210504         0         0  \n",
       "118211517         0         0  \n",
       "105894693         0         1  \n",
       "\n",
       "[5 rows x 50 columns]"
      ]
     },
     "execution_count": 16,
     "metadata": {},
     "output_type": "execute_result"
    }
   ],
   "source": [
    "df_numeric.tail()"
   ]
  },
  {
   "cell_type": "markdown",
   "metadata": {},
   "source": [
    "### Diff_grade cutoff WIP"
   ]
  },
  {
   "cell_type": "code",
   "execution_count": 17,
   "metadata": {
    "ExecuteTime": {
     "end_time": "2020-02-03T22:19:08.153860Z",
     "start_time": "2020-02-03T22:19:08.151532Z"
    }
   },
   "outputs": [],
   "source": [
    "###WIP call grade range function\n",
    "# pass in deets for target climb"
   ]
  },
  {
   "cell_type": "markdown",
   "metadata": {},
   "source": [
    "## Reccomender"
   ]
  },
  {
   "cell_type": "markdown",
   "metadata": {},
   "source": [
    "#### Kernel Imports"
   ]
  },
  {
   "cell_type": "code",
   "execution_count": 18,
   "metadata": {
    "ExecuteTime": {
     "end_time": "2020-02-03T22:19:23.983588Z",
     "start_time": "2020-02-03T22:19:23.965734Z"
    }
   },
   "outputs": [],
   "source": [
    "# Import kernels\n",
    "from sklearn.metrics.pairwise import linear_kernel\n",
    "from sklearn.metrics.pairwise import euclidean_distances\n",
    "from sklearn.metrics.pairwise import cosine_similarity\n",
    "from sklearn.metrics.pairwise import polynomial_kernel\n",
    "from sklearn.metrics.pairwise import sigmoid_kernel\n",
    "from sklearn.metrics.pairwise import rbf_kernel\n",
    "from sklearn.metrics.pairwise import laplacian_kernel\n",
    "from sklearn.metrics.pairwise import chi2_kernel\n",
    "\n"
   ]
  },
  {
   "cell_type": "code",
   "execution_count": 19,
   "metadata": {
    "ExecuteTime": {
     "end_time": "2020-02-03T22:19:39.543394Z",
     "start_time": "2020-02-03T22:19:39.540657Z"
    }
   },
   "outputs": [],
   "source": [
    "from sklearn.preprocessing import MinMaxScaler\n",
    "from sklearn.preprocessing import minmax_scale\n",
    "from sklearn.preprocessing import MaxAbsScaler\n",
    "from sklearn.preprocessing import StandardScaler"
   ]
  },
  {
   "cell_type": "markdown",
   "metadata": {},
   "source": [
    "#### Create df_in_range to run recommender in subset"
   ]
  },
  {
   "cell_type": "code",
   "execution_count": 20,
   "metadata": {
    "ExecuteTime": {
     "end_time": "2020-02-03T22:19:55.142176Z",
     "start_time": "2020-02-03T22:19:55.134722Z"
    }
   },
   "outputs": [
    {
     "data": {
      "text/plain": [
       "(1373, 51)"
      ]
     },
     "execution_count": 20,
     "metadata": {},
     "output_type": "execute_result"
    }
   ],
   "source": [
    "df_in_range = df_numeric[df_numeric['in_range']==1].reset_index()      \n",
    "target_index =df_in_range.index[df_in_range['id']==target_id][0] #store target climb index in subset that will be compared\n",
    "df_in_range.shape"
   ]
  },
  {
   "cell_type": "code",
   "execution_count": 21,
   "metadata": {
    "ExecuteTime": {
     "end_time": "2020-02-03T22:20:11.627345Z",
     "start_time": "2020-02-03T22:20:11.624148Z"
    }
   },
   "outputs": [
    {
     "data": {
      "text/plain": [
       "1372"
      ]
     },
     "execution_count": 21,
     "metadata": {},
     "output_type": "execute_result"
    }
   ],
   "source": [
    "target_index"
   ]
  },
  {
   "cell_type": "code",
   "execution_count": 22,
   "metadata": {
    "ExecuteTime": {
     "end_time": "2020-02-03T22:20:28.411139Z",
     "start_time": "2020-02-03T22:20:28.392515Z"
    }
   },
   "outputs": [
    {
     "data": {
      "text/html": [
       "<div>\n",
       "<style scoped>\n",
       "    .dataframe tbody tr th:only-of-type {\n",
       "        vertical-align: middle;\n",
       "    }\n",
       "\n",
       "    .dataframe tbody tr th {\n",
       "        vertical-align: top;\n",
       "    }\n",
       "\n",
       "    .dataframe thead th {\n",
       "        text-align: right;\n",
       "    }\n",
       "</style>\n",
       "<table border=\"1\" class=\"dataframe\">\n",
       "  <thead>\n",
       "    <tr style=\"text-align: right;\">\n",
       "      <th></th>\n",
       "      <th>id</th>\n",
       "      <th>name</th>\n",
       "      <th>rating</th>\n",
       "      <th>stars</th>\n",
       "      <th>starVotes</th>\n",
       "      <th>pitches</th>\n",
       "      <th>location</th>\n",
       "      <th>region</th>\n",
       "      <th>area</th>\n",
       "      <th>sub_area</th>\n",
       "      <th>...</th>\n",
       "      <th>run out</th>\n",
       "      <th>well protected</th>\n",
       "      <th>chimney</th>\n",
       "      <th>offwidth</th>\n",
       "      <th>stem</th>\n",
       "      <th>arete</th>\n",
       "      <th>crimp</th>\n",
       "      <th>vertical</th>\n",
       "      <th>powerful</th>\n",
       "      <th>in_range</th>\n",
       "    </tr>\n",
       "  </thead>\n",
       "  <tbody>\n",
       "    <tr>\n",
       "      <th>1368</th>\n",
       "      <td>118189308</td>\n",
       "      <td>Golgotha</td>\n",
       "      <td>V8-9</td>\n",
       "      <td>5.0</td>\n",
       "      <td>1</td>\n",
       "      <td>0</td>\n",
       "      <td>California</td>\n",
       "      <td>San Diego and Environs</td>\n",
       "      <td>North San Diego County</td>\n",
       "      <td>Lake Ramona</td>\n",
       "      <td>...</td>\n",
       "      <td>0</td>\n",
       "      <td>0</td>\n",
       "      <td>0</td>\n",
       "      <td>0</td>\n",
       "      <td>0</td>\n",
       "      <td>1</td>\n",
       "      <td>1</td>\n",
       "      <td>0</td>\n",
       "      <td>0</td>\n",
       "      <td>1</td>\n",
       "    </tr>\n",
       "    <tr>\n",
       "      <th>1369</th>\n",
       "      <td>118192124</td>\n",
       "      <td>Bloody L</td>\n",
       "      <td>5.7</td>\n",
       "      <td>4.0</td>\n",
       "      <td>2</td>\n",
       "      <td>1</td>\n",
       "      <td>California</td>\n",
       "      <td>Inland Empire</td>\n",
       "      <td>Big Rock Area</td>\n",
       "      <td>L-Slab/Lakeview Slab</td>\n",
       "      <td>...</td>\n",
       "      <td>0</td>\n",
       "      <td>0</td>\n",
       "      <td>0</td>\n",
       "      <td>0</td>\n",
       "      <td>0</td>\n",
       "      <td>0</td>\n",
       "      <td>0</td>\n",
       "      <td>0</td>\n",
       "      <td>0</td>\n",
       "      <td>1</td>\n",
       "    </tr>\n",
       "    <tr>\n",
       "      <th>1370</th>\n",
       "      <td>118202461</td>\n",
       "      <td>Pieces of Eight</td>\n",
       "      <td>5.10c/d PG13</td>\n",
       "      <td>4.0</td>\n",
       "      <td>2</td>\n",
       "      <td>1</td>\n",
       "      <td>California</td>\n",
       "      <td>Tahquitz &amp; Suicide Rocks</td>\n",
       "      <td>Suicide Rock</td>\n",
       "      <td>(l) Buttress of Cracks</td>\n",
       "      <td>...</td>\n",
       "      <td>0</td>\n",
       "      <td>0</td>\n",
       "      <td>0</td>\n",
       "      <td>0</td>\n",
       "      <td>0</td>\n",
       "      <td>0</td>\n",
       "      <td>0</td>\n",
       "      <td>0</td>\n",
       "      <td>0</td>\n",
       "      <td>1</td>\n",
       "    </tr>\n",
       "    <tr>\n",
       "      <th>1371</th>\n",
       "      <td>118208812</td>\n",
       "      <td>Coyote Traverse</td>\n",
       "      <td>5.8 V0+ PG13</td>\n",
       "      <td>3.5</td>\n",
       "      <td>2</td>\n",
       "      <td>1</td>\n",
       "      <td>California</td>\n",
       "      <td>San Diego and Environs</td>\n",
       "      <td>North San Diego County</td>\n",
       "      <td>Calavera lake</td>\n",
       "      <td>...</td>\n",
       "      <td>0</td>\n",
       "      <td>0</td>\n",
       "      <td>0</td>\n",
       "      <td>0</td>\n",
       "      <td>0</td>\n",
       "      <td>0</td>\n",
       "      <td>0</td>\n",
       "      <td>0</td>\n",
       "      <td>0</td>\n",
       "      <td>1</td>\n",
       "    </tr>\n",
       "    <tr>\n",
       "      <th>1372</th>\n",
       "      <td>105894693</td>\n",
       "      <td>Lion King</td>\n",
       "      <td>5.11c</td>\n",
       "      <td>4.4</td>\n",
       "      <td>81</td>\n",
       "      <td>1</td>\n",
       "      <td>International</td>\n",
       "      <td>Asia</td>\n",
       "      <td>Thailand</td>\n",
       "      <td>South - Islands &amp; Beaches</td>\n",
       "      <td>...</td>\n",
       "      <td>0</td>\n",
       "      <td>0</td>\n",
       "      <td>0</td>\n",
       "      <td>0</td>\n",
       "      <td>0</td>\n",
       "      <td>0</td>\n",
       "      <td>0</td>\n",
       "      <td>0</td>\n",
       "      <td>0</td>\n",
       "      <td>1</td>\n",
       "    </tr>\n",
       "  </tbody>\n",
       "</table>\n",
       "<p>5 rows × 51 columns</p>\n",
       "</div>"
      ],
      "text/plain": [
       "             id             name        rating  stars  starVotes  pitches  \\\n",
       "1368  118189308         Golgotha          V8-9    5.0          1        0   \n",
       "1369  118192124         Bloody L           5.7    4.0          2        1   \n",
       "1370  118202461  Pieces of Eight  5.10c/d PG13    4.0          2        1   \n",
       "1371  118208812  Coyote Traverse  5.8 V0+ PG13    3.5          2        1   \n",
       "1372  105894693        Lion King         5.11c    4.4         81        1   \n",
       "\n",
       "           location                    region                    area  \\\n",
       "1368     California    San Diego and Environs  North San Diego County   \n",
       "1369     California             Inland Empire           Big Rock Area   \n",
       "1370     California  Tahquitz & Suicide Rocks            Suicide Rock   \n",
       "1371     California    San Diego and Environs  North San Diego County   \n",
       "1372  International                      Asia                Thailand   \n",
       "\n",
       "                       sub_area  ... run out  well protected  chimney  \\\n",
       "1368                Lake Ramona  ...       0               0        0   \n",
       "1369       L-Slab/Lakeview Slab  ...       0               0        0   \n",
       "1370     (l) Buttress of Cracks  ...       0               0        0   \n",
       "1371              Calavera lake  ...       0               0        0   \n",
       "1372  South - Islands & Beaches  ...       0               0        0   \n",
       "\n",
       "     offwidth  stem  arete  crimp  vertical  powerful  in_range  \n",
       "1368        0     0      1      1         0         0         1  \n",
       "1369        0     0      0      0         0         0         1  \n",
       "1370        0     0      0      0         0         0         1  \n",
       "1371        0     0      0      0         0         0         1  \n",
       "1372        0     0      0      0         0         0         1  \n",
       "\n",
       "[5 rows x 51 columns]"
      ]
     },
     "execution_count": 22,
     "metadata": {},
     "output_type": "execute_result"
    }
   ],
   "source": [
    "df_in_range.tail()"
   ]
  },
  {
   "cell_type": "markdown",
   "metadata": {},
   "source": [
    "### Scale Features"
   ]
  },
  {
   "cell_type": "markdown",
   "metadata": {},
   "source": [
    "#### Create Features DF"
   ]
  },
  {
   "cell_type": "code",
   "execution_count": 23,
   "metadata": {
    "ExecuteTime": {
     "end_time": "2020-02-03T22:20:45.189217Z",
     "start_time": "2020-02-03T22:20:45.186779Z"
    }
   },
   "outputs": [],
   "source": [
    "pd.options.display.max_columns = 500 # this will set limit of columns to 500\n"
   ]
  },
  {
   "cell_type": "code",
   "execution_count": 24,
   "metadata": {
    "ExecuteTime": {
     "end_time": "2020-02-03T22:21:02.223312Z",
     "start_time": "2020-02-03T22:21:02.199049Z"
    }
   },
   "outputs": [
    {
     "data": {
      "text/html": [
       "<div>\n",
       "<style scoped>\n",
       "    .dataframe tbody tr th:only-of-type {\n",
       "        vertical-align: middle;\n",
       "    }\n",
       "\n",
       "    .dataframe tbody tr th {\n",
       "        vertical-align: top;\n",
       "    }\n",
       "\n",
       "    .dataframe thead th {\n",
       "        text-align: right;\n",
       "    }\n",
       "</style>\n",
       "<table border=\"1\" class=\"dataframe\">\n",
       "  <thead>\n",
       "    <tr style=\"text-align: right;\">\n",
       "      <th></th>\n",
       "      <th>id</th>\n",
       "      <th>name</th>\n",
       "      <th>rating</th>\n",
       "      <th>stars</th>\n",
       "      <th>starVotes</th>\n",
       "      <th>pitches</th>\n",
       "      <th>location</th>\n",
       "      <th>region</th>\n",
       "      <th>area</th>\n",
       "      <th>sub_area</th>\n",
       "      <th>wall</th>\n",
       "      <th>longitude</th>\n",
       "      <th>latitude</th>\n",
       "      <th>url</th>\n",
       "      <th>Sport</th>\n",
       "      <th>Trad</th>\n",
       "      <th>Boulder</th>\n",
       "      <th>TR</th>\n",
       "      <th>Alpine</th>\n",
       "      <th>Aid</th>\n",
       "      <th>Ice</th>\n",
       "      <th>Snow</th>\n",
       "      <th>Mixed</th>\n",
       "      <th>danger</th>\n",
       "      <th>rope_grade</th>\n",
       "      <th>boulder_grade</th>\n",
       "      <th>infos</th>\n",
       "      <th>slab</th>\n",
       "      <th>traverse</th>\n",
       "      <th>roof</th>\n",
       "      <th>corner</th>\n",
       "      <th>crack</th>\n",
       "      <th>hand</th>\n",
       "      <th>face</th>\n",
       "      <th>flake</th>\n",
       "      <th>fingers</th>\n",
       "      <th>jug</th>\n",
       "      <th>exposed</th>\n",
       "      <th>dihedral</th>\n",
       "      <th>sustained</th>\n",
       "      <th>technical</th>\n",
       "      <th>run out</th>\n",
       "      <th>well protected</th>\n",
       "      <th>chimney</th>\n",
       "      <th>offwidth</th>\n",
       "      <th>stem</th>\n",
       "      <th>arete</th>\n",
       "      <th>crimp</th>\n",
       "      <th>vertical</th>\n",
       "      <th>powerful</th>\n",
       "      <th>in_range</th>\n",
       "    </tr>\n",
       "  </thead>\n",
       "  <tbody>\n",
       "    <tr>\n",
       "      <th>0</th>\n",
       "      <td>105722227</td>\n",
       "      <td>Overseer</td>\n",
       "      <td>5.9</td>\n",
       "      <td>4.1</td>\n",
       "      <td>329</td>\n",
       "      <td>1</td>\n",
       "      <td>California</td>\n",
       "      <td>Joshua Tree National Park</td>\n",
       "      <td>Lost Horse Area</td>\n",
       "      <td>Hemingway Buttress</td>\n",
       "      <td>Hemingway Buttress (East Face Left)</td>\n",
       "      <td>-117.759</td>\n",
       "      <td>33.9106</td>\n",
       "      <td>https://www.mountainproject.com/route/10572222...</td>\n",
       "      <td>0</td>\n",
       "      <td>1</td>\n",
       "      <td>0</td>\n",
       "      <td>0</td>\n",
       "      <td>0</td>\n",
       "      <td>0</td>\n",
       "      <td>0</td>\n",
       "      <td>0</td>\n",
       "      <td>0</td>\n",
       "      <td>0</td>\n",
       "      <td>17</td>\n",
       "      <td>0</td>\n",
       "      <td>Start up the hollow-sounding expando flake to ...</td>\n",
       "      <td>0</td>\n",
       "      <td>1</td>\n",
       "      <td>0</td>\n",
       "      <td>0</td>\n",
       "      <td>0</td>\n",
       "      <td>0</td>\n",
       "      <td>0</td>\n",
       "      <td>1</td>\n",
       "      <td>0</td>\n",
       "      <td>0</td>\n",
       "      <td>0</td>\n",
       "      <td>0</td>\n",
       "      <td>0</td>\n",
       "      <td>0</td>\n",
       "      <td>0</td>\n",
       "      <td>0</td>\n",
       "      <td>0</td>\n",
       "      <td>0</td>\n",
       "      <td>0</td>\n",
       "      <td>0</td>\n",
       "      <td>0</td>\n",
       "      <td>1</td>\n",
       "      <td>0</td>\n",
       "      <td>1</td>\n",
       "    </tr>\n",
       "    <tr>\n",
       "      <th>1</th>\n",
       "      <td>105737333</td>\n",
       "      <td>Only Way To Fly</td>\n",
       "      <td>5.10c</td>\n",
       "      <td>4.2</td>\n",
       "      <td>61</td>\n",
       "      <td>1</td>\n",
       "      <td>California</td>\n",
       "      <td>Central Coast</td>\n",
       "      <td>San Luis Obispo</td>\n",
       "      <td>Bishop Peak</td>\n",
       "      <td>Cracked Wall</td>\n",
       "      <td>-117.660</td>\n",
       "      <td>33.6846</td>\n",
       "      <td>https://www.mountainproject.com/route/10573733...</td>\n",
       "      <td>1</td>\n",
       "      <td>0</td>\n",
       "      <td>0</td>\n",
       "      <td>1</td>\n",
       "      <td>0</td>\n",
       "      <td>0</td>\n",
       "      <td>0</td>\n",
       "      <td>0</td>\n",
       "      <td>0</td>\n",
       "      <td>0</td>\n",
       "      <td>25</td>\n",
       "      <td>0</td>\n",
       "      <td>The route starts on the left side of the dark ...</td>\n",
       "      <td>0</td>\n",
       "      <td>1</td>\n",
       "      <td>0</td>\n",
       "      <td>0</td>\n",
       "      <td>0</td>\n",
       "      <td>0</td>\n",
       "      <td>0</td>\n",
       "      <td>0</td>\n",
       "      <td>0</td>\n",
       "      <td>0</td>\n",
       "      <td>0</td>\n",
       "      <td>0</td>\n",
       "      <td>0</td>\n",
       "      <td>0</td>\n",
       "      <td>0</td>\n",
       "      <td>0</td>\n",
       "      <td>0</td>\n",
       "      <td>0</td>\n",
       "      <td>0</td>\n",
       "      <td>0</td>\n",
       "      <td>0</td>\n",
       "      <td>0</td>\n",
       "      <td>0</td>\n",
       "      <td>1</td>\n",
       "    </tr>\n",
       "    <tr>\n",
       "      <th>2</th>\n",
       "      <td>105788042</td>\n",
       "      <td>Surprise</td>\n",
       "      <td>5.8 R</td>\n",
       "      <td>3.9</td>\n",
       "      <td>53</td>\n",
       "      <td>3</td>\n",
       "      <td>California</td>\n",
       "      <td>Tahquitz &amp; Suicide Rocks</td>\n",
       "      <td>Suicide Rock</td>\n",
       "      <td>(m) The Weeping Wall</td>\n",
       "      <td>0</td>\n",
       "      <td>-116.695</td>\n",
       "      <td>33.7703</td>\n",
       "      <td>https://www.mountainproject.com/route/10578804...</td>\n",
       "      <td>0</td>\n",
       "      <td>1</td>\n",
       "      <td>0</td>\n",
       "      <td>0</td>\n",
       "      <td>0</td>\n",
       "      <td>0</td>\n",
       "      <td>0</td>\n",
       "      <td>0</td>\n",
       "      <td>0</td>\n",
       "      <td>2</td>\n",
       "      <td>14</td>\n",
       "      <td>0</td>\n",
       "      <td>This was the first climb established on the We...</td>\n",
       "      <td>1</td>\n",
       "      <td>0</td>\n",
       "      <td>0</td>\n",
       "      <td>1</td>\n",
       "      <td>0</td>\n",
       "      <td>0</td>\n",
       "      <td>1</td>\n",
       "      <td>1</td>\n",
       "      <td>0</td>\n",
       "      <td>0</td>\n",
       "      <td>0</td>\n",
       "      <td>0</td>\n",
       "      <td>0</td>\n",
       "      <td>0</td>\n",
       "      <td>0</td>\n",
       "      <td>0</td>\n",
       "      <td>0</td>\n",
       "      <td>0</td>\n",
       "      <td>1</td>\n",
       "      <td>0</td>\n",
       "      <td>0</td>\n",
       "      <td>0</td>\n",
       "      <td>0</td>\n",
       "      <td>1</td>\n",
       "    </tr>\n",
       "    <tr>\n",
       "      <th>3</th>\n",
       "      <td>105788045</td>\n",
       "      <td>Surprise Direct</td>\n",
       "      <td>5.9 R</td>\n",
       "      <td>3.7</td>\n",
       "      <td>15</td>\n",
       "      <td>3</td>\n",
       "      <td>California</td>\n",
       "      <td>Tahquitz &amp; Suicide Rocks</td>\n",
       "      <td>Suicide Rock</td>\n",
       "      <td>(m) The Weeping Wall</td>\n",
       "      <td>0</td>\n",
       "      <td>-116.695</td>\n",
       "      <td>33.7703</td>\n",
       "      <td>https://www.mountainproject.com/route/10578804...</td>\n",
       "      <td>0</td>\n",
       "      <td>1</td>\n",
       "      <td>0</td>\n",
       "      <td>0</td>\n",
       "      <td>0</td>\n",
       "      <td>0</td>\n",
       "      <td>0</td>\n",
       "      <td>0</td>\n",
       "      <td>0</td>\n",
       "      <td>2</td>\n",
       "      <td>17</td>\n",
       "      <td>0</td>\n",
       "      <td>This is a third pitch variation to Surprise th...</td>\n",
       "      <td>1</td>\n",
       "      <td>0</td>\n",
       "      <td>0</td>\n",
       "      <td>1</td>\n",
       "      <td>0</td>\n",
       "      <td>0</td>\n",
       "      <td>1</td>\n",
       "      <td>1</td>\n",
       "      <td>0</td>\n",
       "      <td>0</td>\n",
       "      <td>0</td>\n",
       "      <td>0</td>\n",
       "      <td>0</td>\n",
       "      <td>0</td>\n",
       "      <td>0</td>\n",
       "      <td>0</td>\n",
       "      <td>0</td>\n",
       "      <td>0</td>\n",
       "      <td>1</td>\n",
       "      <td>0</td>\n",
       "      <td>0</td>\n",
       "      <td>0</td>\n",
       "      <td>0</td>\n",
       "      <td>1</td>\n",
       "    </tr>\n",
       "    <tr>\n",
       "      <th>4</th>\n",
       "      <td>105788065</td>\n",
       "      <td>Duck Soup</td>\n",
       "      <td>5.10c PG13</td>\n",
       "      <td>3.6</td>\n",
       "      <td>13</td>\n",
       "      <td>3</td>\n",
       "      <td>California</td>\n",
       "      <td>Tahquitz &amp; Suicide Rocks</td>\n",
       "      <td>Suicide Rock</td>\n",
       "      <td>(m) The Weeping Wall</td>\n",
       "      <td>0</td>\n",
       "      <td>-116.695</td>\n",
       "      <td>33.7703</td>\n",
       "      <td>https://www.mountainproject.com/route/10578806...</td>\n",
       "      <td>0</td>\n",
       "      <td>1</td>\n",
       "      <td>0</td>\n",
       "      <td>0</td>\n",
       "      <td>0</td>\n",
       "      <td>0</td>\n",
       "      <td>0</td>\n",
       "      <td>0</td>\n",
       "      <td>0</td>\n",
       "      <td>1</td>\n",
       "      <td>25</td>\n",
       "      <td>0</td>\n",
       "      <td>This route takes the plumline up the face and ...</td>\n",
       "      <td>0</td>\n",
       "      <td>0</td>\n",
       "      <td>0</td>\n",
       "      <td>1</td>\n",
       "      <td>0</td>\n",
       "      <td>0</td>\n",
       "      <td>1</td>\n",
       "      <td>0</td>\n",
       "      <td>0</td>\n",
       "      <td>0</td>\n",
       "      <td>0</td>\n",
       "      <td>0</td>\n",
       "      <td>0</td>\n",
       "      <td>0</td>\n",
       "      <td>0</td>\n",
       "      <td>0</td>\n",
       "      <td>0</td>\n",
       "      <td>0</td>\n",
       "      <td>1</td>\n",
       "      <td>0</td>\n",
       "      <td>0</td>\n",
       "      <td>0</td>\n",
       "      <td>0</td>\n",
       "      <td>1</td>\n",
       "    </tr>\n",
       "  </tbody>\n",
       "</table>\n",
       "</div>"
      ],
      "text/plain": [
       "          id             name      rating  stars  starVotes  pitches  \\\n",
       "0  105722227         Overseer         5.9    4.1        329        1   \n",
       "1  105737333  Only Way To Fly       5.10c    4.2         61        1   \n",
       "2  105788042         Surprise       5.8 R    3.9         53        3   \n",
       "3  105788045  Surprise Direct       5.9 R    3.7         15        3   \n",
       "4  105788065        Duck Soup  5.10c PG13    3.6         13        3   \n",
       "\n",
       "     location                     region             area  \\\n",
       "0  California  Joshua Tree National Park  Lost Horse Area   \n",
       "1  California              Central Coast  San Luis Obispo   \n",
       "2  California   Tahquitz & Suicide Rocks     Suicide Rock   \n",
       "3  California   Tahquitz & Suicide Rocks     Suicide Rock   \n",
       "4  California   Tahquitz & Suicide Rocks     Suicide Rock   \n",
       "\n",
       "               sub_area                                 wall  longitude  \\\n",
       "0    Hemingway Buttress  Hemingway Buttress (East Face Left)   -117.759   \n",
       "1           Bishop Peak                         Cracked Wall   -117.660   \n",
       "2  (m) The Weeping Wall                                    0   -116.695   \n",
       "3  (m) The Weeping Wall                                    0   -116.695   \n",
       "4  (m) The Weeping Wall                                    0   -116.695   \n",
       "\n",
       "   latitude                                                url  Sport  Trad  \\\n",
       "0   33.9106  https://www.mountainproject.com/route/10572222...      0     1   \n",
       "1   33.6846  https://www.mountainproject.com/route/10573733...      1     0   \n",
       "2   33.7703  https://www.mountainproject.com/route/10578804...      0     1   \n",
       "3   33.7703  https://www.mountainproject.com/route/10578804...      0     1   \n",
       "4   33.7703  https://www.mountainproject.com/route/10578806...      0     1   \n",
       "\n",
       "   Boulder  TR  Alpine  Aid  Ice  Snow  Mixed  danger  rope_grade  \\\n",
       "0        0   0       0    0    0     0      0       0          17   \n",
       "1        0   1       0    0    0     0      0       0          25   \n",
       "2        0   0       0    0    0     0      0       2          14   \n",
       "3        0   0       0    0    0     0      0       2          17   \n",
       "4        0   0       0    0    0     0      0       1          25   \n",
       "\n",
       "   boulder_grade                                              infos  slab  \\\n",
       "0              0  Start up the hollow-sounding expando flake to ...     0   \n",
       "1              0  The route starts on the left side of the dark ...     0   \n",
       "2              0  This was the first climb established on the We...     1   \n",
       "3              0  This is a third pitch variation to Surprise th...     1   \n",
       "4              0  This route takes the plumline up the face and ...     0   \n",
       "\n",
       "   traverse  roof  corner  crack  hand  face  flake  fingers  jug  exposed  \\\n",
       "0         1     0       0      0     0     0      1        0    0        0   \n",
       "1         1     0       0      0     0     0      0        0    0        0   \n",
       "2         0     0       1      0     0     1      1        0    0        0   \n",
       "3         0     0       1      0     0     1      1        0    0        0   \n",
       "4         0     0       1      0     0     1      0        0    0        0   \n",
       "\n",
       "   dihedral  sustained  technical  run out  well protected  chimney  offwidth  \\\n",
       "0         0          0          0        0               0        0         0   \n",
       "1         0          0          0        0               0        0         0   \n",
       "2         0          0          0        0               0        0         0   \n",
       "3         0          0          0        0               0        0         0   \n",
       "4         0          0          0        0               0        0         0   \n",
       "\n",
       "   stem  arete  crimp  vertical  powerful  in_range  \n",
       "0     0      0      0         1         0         1  \n",
       "1     0      0      0         0         0         1  \n",
       "2     1      0      0         0         0         1  \n",
       "3     1      0      0         0         0         1  \n",
       "4     1      0      0         0         0         1  "
      ]
     },
     "execution_count": 24,
     "metadata": {},
     "output_type": "execute_result"
    }
   ],
   "source": [
    "df_in_range.head()"
   ]
  },
  {
   "cell_type": "code",
   "execution_count": 26,
   "metadata": {
    "ExecuteTime": {
     "end_time": "2020-02-03T22:22:37.566941Z",
     "start_time": "2020-02-03T22:22:37.561705Z"
    }
   },
   "outputs": [],
   "source": [
    "#creates features from df_in_range used for comparison\n",
    "features = df_in_range.loc[:,['stars', 'pitches', 'Sport', 'Trad', 'Boulder', 'TR', 'Alpine', 'Aid',\n",
    "       'Ice', 'Snow', 'Mixed', 'danger', 'rope_grade', 'boulder_grade', 'slab', 'traverse', 'roof', \n",
    "                'corner', 'crack', 'hand', 'face','flake', 'fingers',\n",
    "                 'jug', 'exposed', 'dihedral', 'sustained', 'technical','run out', 'well protected',\n",
    "                 'chimney', 'offwidth', 'stem', 'arete','crimp', 'vertical', 'powerful']] #,'longitude','latitude',"
   ]
  },
  {
   "cell_type": "code",
   "execution_count": 27,
   "metadata": {
    "ExecuteTime": {
     "end_time": "2020-02-03T22:22:55.511399Z",
     "start_time": "2020-02-03T22:22:55.507609Z"
    },
    "scrolled": true
   },
   "outputs": [
    {
     "data": {
      "text/plain": [
       "(1373, 37)"
      ]
     },
     "execution_count": 27,
     "metadata": {},
     "output_type": "execute_result"
    }
   ],
   "source": [
    "features.shape"
   ]
  },
  {
   "cell_type": "markdown",
   "metadata": {},
   "source": [
    "#### Pick scaling type (AND UPDATE WEIGHTS)"
   ]
  },
  {
   "cell_type": "code",
   "execution_count": 28,
   "metadata": {
    "ExecuteTime": {
     "end_time": "2020-02-03T22:26:24.925163Z",
     "start_time": "2020-02-03T22:26:24.922296Z"
    }
   },
   "outputs": [],
   "source": [
    "min_max_scaler = MinMaxScaler()\n",
    "scalar = StandardScaler()"
   ]
  },
  {
   "cell_type": "code",
   "execution_count": 29,
   "metadata": {
    "ExecuteTime": {
     "end_time": "2020-02-03T22:26:43.569033Z",
     "start_time": "2020-02-03T22:26:43.560520Z"
    }
   },
   "outputs": [],
   "source": [
    "##### Pick a scaling option ###############################\n",
    "\n",
    "# features_scaled = scalar.fit_transform(features)\n",
    "# features_scaled = min_max_scaler.fit_transform(features.drop(columns=['danger','pitches']))\n",
    "\n",
    "features_scaled = min_max_scaler.fit_transform(features)\n",
    "\n",
    "# scale danger and pitches using ss and add into features scaled df\n",
    "# features_scaled = np.concatenate((features_scaled, scalar.fit_transform(features[['danger', 'pitches']])), axis=1)\n",
    "\n",
    "##################################################################\n",
    "\n",
    "for i in range(features_scaled.shape[0]):\n",
    "    features_scaled[i][10]=features_scaled[i][12]*10  #weight rope_grade higher\n",
    "    features_scaled[i][11]=features_scaled[i][13]*10 #weight boulder_grade higher"
   ]
  },
  {
   "cell_type": "markdown",
   "metadata": {},
   "source": [
    "### Now lets fit the similarity model"
   ]
  },
  {
   "cell_type": "markdown",
   "metadata": {},
   "source": [
    "#### Rec function"
   ]
  },
  {
   "cell_type": "code",
   "execution_count": 30,
   "metadata": {
    "ExecuteTime": {
     "end_time": "2020-02-03T22:27:02.431495Z",
     "start_time": "2020-02-03T22:27:02.425996Z"
    }
   },
   "outputs": [],
   "source": [
    "def get_recommendations(idx, kernel_type):\n",
    "\n",
    "    #value to store scores and indicies\n",
    "    score_matrix = np.ndarray(shape=(len(df_in_range),2), dtype=float)\n",
    "\n",
    "    #go through the target climb vs all onthers in our db and populate score mtx with index and similarity\n",
    "    for i in range(df_in_range.shape[0]):\n",
    "        score = kernel_type(features_scaled[idx].reshape(1,-1),features_scaled[i].reshape(1,-1))\n",
    "        score_matrix[i][0] =  i        ##the index comparison corresponding to the score\n",
    "        score_matrix[i][1] = score     ##the score for the current index\n",
    "\n",
    "    # Sort the climbs based on the similarity scores\n",
    "    score_matrix = sorted(score_matrix, key=lambda x: x[1], reverse=True)\n",
    "    \n",
    "\n",
    "#########################  WIP ADD/calculate SIMilarity VALUE from tf-idf infos comparison #######################\n",
    "\n",
    "    # # Get the scores of the 20 most similar climbs\n",
    "    score_matrix = score_matrix[1:11]\n",
    "\n",
    "    # # Get the climb indices (& cast to ints)\n",
    "    climb_indices = [int(i[0]) for i in score_matrix]\n",
    "    \n",
    "    # Return the top 20 most similar climbs\n",
    "    return df_in_range.loc[climb_indices,:]"
   ]
  },
  {
   "cell_type": "markdown",
   "metadata": {},
   "source": [
    "#### Cells for comparison (delete later)"
   ]
  },
  {
   "cell_type": "code",
   "execution_count": 31,
   "metadata": {
    "ExecuteTime": {
     "end_time": "2020-02-03T22:27:21.244470Z",
     "start_time": "2020-02-03T22:27:21.238303Z"
    }
   },
   "outputs": [
    {
     "data": {
      "text/plain": [
       "name                                                      Lion King\n",
       "rating                                                        5.11c\n",
       "stars                                                           4.4\n",
       "starVotes                                                        81\n",
       "pitches                                                           1\n",
       "location                                              International\n",
       "region                                                         Asia\n",
       "area                                                       Thailand\n",
       "sub_area                                  South - Islands & Beaches\n",
       "wall              Laem Phra Nang (Railay & Tonsai),Tonsai Bay,Du...\n",
       "longitude                                                   98.9921\n",
       "latitude                                                    18.7689\n",
       "url               https://www.mountainproject.com/route/10589469...\n",
       "Sport                                                             1\n",
       "Trad                                                              0\n",
       "Boulder                                                           0\n",
       "TR                                                                0\n",
       "Alpine                                                            0\n",
       "Aid                                                               0\n",
       "Ice                                                               0\n",
       "Snow                                                              0\n",
       "Mixed                                                             0\n",
       "danger                                                            0\n",
       "rope_grade                                                       35\n",
       "boulder_grade                                                     0\n",
       "infos             The Lion King has a huge distinctive flake on ...\n",
       "slab                                                              0\n",
       "traverse                                                          1\n",
       "roof                                                              0\n",
       "corner                                                            0\n",
       "crack                                                             0\n",
       "hand                                                              0\n",
       "face                                                              0\n",
       "flake                                                             1\n",
       "fingers                                                           0\n",
       "jug                                                               0\n",
       "exposed                                                           0\n",
       "dihedral                                                          0\n",
       "sustained                                                         0\n",
       "technical                                                         0\n",
       "run out                                                           0\n",
       "well protected                                                    0\n",
       "chimney                                                           0\n",
       "offwidth                                                          0\n",
       "stem                                                              0\n",
       "arete                                                             0\n",
       "crimp                                                             0\n",
       "vertical                                                          0\n",
       "powerful                                                          0\n",
       "in_range                                                          1\n",
       "Name: 105894693, dtype: object"
      ]
     },
     "execution_count": 31,
     "metadata": {},
     "output_type": "execute_result"
    }
   ],
   "source": [
    "df_numeric.loc[target_id, :]"
   ]
  },
  {
   "cell_type": "code",
   "execution_count": 32,
   "metadata": {
    "ExecuteTime": {
     "end_time": "2020-02-03T22:27:40.050496Z",
     "start_time": "2020-02-03T22:27:40.046244Z"
    }
   },
   "outputs": [
    {
     "data": {
      "text/plain": [
       "1372"
      ]
     },
     "execution_count": 32,
     "metadata": {},
     "output_type": "execute_result"
    }
   ],
   "source": [
    "target_index"
   ]
  },
  {
   "cell_type": "markdown",
   "metadata": {},
   "source": [
    "#### Call rec fxn"
   ]
  },
  {
   "cell_type": "code",
   "execution_count": 33,
   "metadata": {
    "ExecuteTime": {
     "end_time": "2020-02-03T22:27:59.296472Z",
     "start_time": "2020-02-03T22:27:59.294229Z"
    }
   },
   "outputs": [],
   "source": [
    "# pd.set_option('max_colwidth', 100)"
   ]
  },
  {
   "cell_type": "code",
   "execution_count": 34,
   "metadata": {
    "ExecuteTime": {
     "end_time": "2020-02-03T22:28:18.668809Z",
     "start_time": "2020-02-03T22:28:18.355220Z"
    }
   },
   "outputs": [
    {
     "data": {
      "text/html": [
       "<div>\n",
       "<style scoped>\n",
       "    .dataframe tbody tr th:only-of-type {\n",
       "        vertical-align: middle;\n",
       "    }\n",
       "\n",
       "    .dataframe tbody tr th {\n",
       "        vertical-align: top;\n",
       "    }\n",
       "\n",
       "    .dataframe thead th {\n",
       "        text-align: right;\n",
       "    }\n",
       "</style>\n",
       "<table border=\"1\" class=\"dataframe\">\n",
       "  <thead>\n",
       "    <tr style=\"text-align: right;\">\n",
       "      <th></th>\n",
       "      <th>id</th>\n",
       "      <th>name</th>\n",
       "      <th>rating</th>\n",
       "      <th>stars</th>\n",
       "      <th>starVotes</th>\n",
       "      <th>pitches</th>\n",
       "      <th>location</th>\n",
       "      <th>region</th>\n",
       "      <th>area</th>\n",
       "      <th>sub_area</th>\n",
       "      <th>wall</th>\n",
       "      <th>longitude</th>\n",
       "      <th>latitude</th>\n",
       "      <th>url</th>\n",
       "      <th>Sport</th>\n",
       "      <th>Trad</th>\n",
       "      <th>Boulder</th>\n",
       "      <th>TR</th>\n",
       "      <th>Alpine</th>\n",
       "      <th>Aid</th>\n",
       "      <th>Ice</th>\n",
       "      <th>Snow</th>\n",
       "      <th>Mixed</th>\n",
       "      <th>danger</th>\n",
       "      <th>rope_grade</th>\n",
       "      <th>boulder_grade</th>\n",
       "      <th>infos</th>\n",
       "      <th>slab</th>\n",
       "      <th>traverse</th>\n",
       "      <th>roof</th>\n",
       "      <th>corner</th>\n",
       "      <th>crack</th>\n",
       "      <th>hand</th>\n",
       "      <th>face</th>\n",
       "      <th>flake</th>\n",
       "      <th>fingers</th>\n",
       "      <th>jug</th>\n",
       "      <th>exposed</th>\n",
       "      <th>dihedral</th>\n",
       "      <th>sustained</th>\n",
       "      <th>technical</th>\n",
       "      <th>run out</th>\n",
       "      <th>well protected</th>\n",
       "      <th>chimney</th>\n",
       "      <th>offwidth</th>\n",
       "      <th>stem</th>\n",
       "      <th>arete</th>\n",
       "      <th>crimp</th>\n",
       "      <th>vertical</th>\n",
       "      <th>powerful</th>\n",
       "      <th>in_range</th>\n",
       "    </tr>\n",
       "  </thead>\n",
       "  <tbody>\n",
       "    <tr>\n",
       "      <th>522</th>\n",
       "      <td>106988149</td>\n",
       "      <td>Technicolor Tango</td>\n",
       "      <td>5.12c</td>\n",
       "      <td>4.3</td>\n",
       "      <td>8</td>\n",
       "      <td>1</td>\n",
       "      <td>California</td>\n",
       "      <td>Inland Empire</td>\n",
       "      <td>Riverside Quarry</td>\n",
       "      <td>(f) Torture Machine Area</td>\n",
       "      <td>0</td>\n",
       "      <td>-117.416</td>\n",
       "      <td>34.0176</td>\n",
       "      <td>https://www.mountainproject.com/route/10698814...</td>\n",
       "      <td>1</td>\n",
       "      <td>0</td>\n",
       "      <td>0</td>\n",
       "      <td>0</td>\n",
       "      <td>0</td>\n",
       "      <td>0</td>\n",
       "      <td>0</td>\n",
       "      <td>0</td>\n",
       "      <td>0</td>\n",
       "      <td>0</td>\n",
       "      <td>45</td>\n",
       "      <td>0</td>\n",
       "      <td>The route starts on a technical slab that requ...</td>\n",
       "      <td>0</td>\n",
       "      <td>1</td>\n",
       "      <td>0</td>\n",
       "      <td>0</td>\n",
       "      <td>0</td>\n",
       "      <td>0</td>\n",
       "      <td>0</td>\n",
       "      <td>0</td>\n",
       "      <td>0</td>\n",
       "      <td>0</td>\n",
       "      <td>0</td>\n",
       "      <td>0</td>\n",
       "      <td>0</td>\n",
       "      <td>0</td>\n",
       "      <td>0</td>\n",
       "      <td>0</td>\n",
       "      <td>0</td>\n",
       "      <td>0</td>\n",
       "      <td>0</td>\n",
       "      <td>0</td>\n",
       "      <td>0</td>\n",
       "      <td>0</td>\n",
       "      <td>0</td>\n",
       "      <td>1</td>\n",
       "    </tr>\n",
       "    <tr>\n",
       "      <th>382</th>\n",
       "      <td>106364007</td>\n",
       "      <td>Depends</td>\n",
       "      <td>5.10c</td>\n",
       "      <td>3.5</td>\n",
       "      <td>2</td>\n",
       "      <td>1</td>\n",
       "      <td>California</td>\n",
       "      <td>San Diego and Environs</td>\n",
       "      <td>South San Diego County</td>\n",
       "      <td>Corte Madera</td>\n",
       "      <td>Coulter Grove/Rest Home</td>\n",
       "      <td>-116.591</td>\n",
       "      <td>32.7555</td>\n",
       "      <td>https://www.mountainproject.com/route/10636400...</td>\n",
       "      <td>1</td>\n",
       "      <td>0</td>\n",
       "      <td>0</td>\n",
       "      <td>0</td>\n",
       "      <td>0</td>\n",
       "      <td>0</td>\n",
       "      <td>0</td>\n",
       "      <td>0</td>\n",
       "      <td>0</td>\n",
       "      <td>0</td>\n",
       "      <td>25</td>\n",
       "      <td>0</td>\n",
       "      <td>Great route up to the flake and out left. Inte...</td>\n",
       "      <td>0</td>\n",
       "      <td>0</td>\n",
       "      <td>0</td>\n",
       "      <td>0</td>\n",
       "      <td>0</td>\n",
       "      <td>0</td>\n",
       "      <td>0</td>\n",
       "      <td>1</td>\n",
       "      <td>0</td>\n",
       "      <td>0</td>\n",
       "      <td>0</td>\n",
       "      <td>0</td>\n",
       "      <td>0</td>\n",
       "      <td>0</td>\n",
       "      <td>0</td>\n",
       "      <td>0</td>\n",
       "      <td>0</td>\n",
       "      <td>0</td>\n",
       "      <td>0</td>\n",
       "      <td>0</td>\n",
       "      <td>0</td>\n",
       "      <td>0</td>\n",
       "      <td>0</td>\n",
       "      <td>1</td>\n",
       "    </tr>\n",
       "    <tr>\n",
       "      <th>568</th>\n",
       "      <td>107096154</td>\n",
       "      <td>Natural Selection</td>\n",
       "      <td>5.12c</td>\n",
       "      <td>4.3</td>\n",
       "      <td>4</td>\n",
       "      <td>1</td>\n",
       "      <td>California</td>\n",
       "      <td>Inland Empire</td>\n",
       "      <td>Riverside Quarry</td>\n",
       "      <td>(e) Right of the Roof</td>\n",
       "      <td>0</td>\n",
       "      <td>-117.417</td>\n",
       "      <td>34.0169</td>\n",
       "      <td>https://www.mountainproject.com/route/10709615...</td>\n",
       "      <td>1</td>\n",
       "      <td>0</td>\n",
       "      <td>0</td>\n",
       "      <td>0</td>\n",
       "      <td>0</td>\n",
       "      <td>0</td>\n",
       "      <td>0</td>\n",
       "      <td>0</td>\n",
       "      <td>0</td>\n",
       "      <td>0</td>\n",
       "      <td>45</td>\n",
       "      <td>0</td>\n",
       "      <td>The first crux starts around the third bolt an...</td>\n",
       "      <td>0</td>\n",
       "      <td>1</td>\n",
       "      <td>0</td>\n",
       "      <td>0</td>\n",
       "      <td>0</td>\n",
       "      <td>0</td>\n",
       "      <td>0</td>\n",
       "      <td>0</td>\n",
       "      <td>0</td>\n",
       "      <td>0</td>\n",
       "      <td>0</td>\n",
       "      <td>0</td>\n",
       "      <td>0</td>\n",
       "      <td>0</td>\n",
       "      <td>0</td>\n",
       "      <td>0</td>\n",
       "      <td>0</td>\n",
       "      <td>0</td>\n",
       "      <td>0</td>\n",
       "      <td>0</td>\n",
       "      <td>1</td>\n",
       "      <td>0</td>\n",
       "      <td>0</td>\n",
       "      <td>1</td>\n",
       "    </tr>\n",
       "    <tr>\n",
       "      <th>677</th>\n",
       "      <td>107861689</td>\n",
       "      <td>The World Below</td>\n",
       "      <td>5.12a</td>\n",
       "      <td>4.5</td>\n",
       "      <td>4</td>\n",
       "      <td>1</td>\n",
       "      <td>California</td>\n",
       "      <td>Inland Empire</td>\n",
       "      <td>Riverside Quarry</td>\n",
       "      <td>(j) The Tall Wall</td>\n",
       "      <td>0</td>\n",
       "      <td>-117.417</td>\n",
       "      <td>34.0169</td>\n",
       "      <td>https://www.mountainproject.com/route/10786168...</td>\n",
       "      <td>1</td>\n",
       "      <td>0</td>\n",
       "      <td>0</td>\n",
       "      <td>0</td>\n",
       "      <td>0</td>\n",
       "      <td>0</td>\n",
       "      <td>0</td>\n",
       "      <td>0</td>\n",
       "      <td>0</td>\n",
       "      <td>0</td>\n",
       "      <td>39</td>\n",
       "      <td>0</td>\n",
       "      <td>Route begin 10ft right of Sliver Streaker, jus...</td>\n",
       "      <td>0</td>\n",
       "      <td>0</td>\n",
       "      <td>0</td>\n",
       "      <td>0</td>\n",
       "      <td>0</td>\n",
       "      <td>0</td>\n",
       "      <td>1</td>\n",
       "      <td>1</td>\n",
       "      <td>0</td>\n",
       "      <td>0</td>\n",
       "      <td>0</td>\n",
       "      <td>0</td>\n",
       "      <td>0</td>\n",
       "      <td>0</td>\n",
       "      <td>0</td>\n",
       "      <td>0</td>\n",
       "      <td>0</td>\n",
       "      <td>0</td>\n",
       "      <td>0</td>\n",
       "      <td>0</td>\n",
       "      <td>0</td>\n",
       "      <td>0</td>\n",
       "      <td>0</td>\n",
       "      <td>1</td>\n",
       "    </tr>\n",
       "    <tr>\n",
       "      <th>579</th>\n",
       "      <td>107174569</td>\n",
       "      <td>Rocking the Dalai Lama</td>\n",
       "      <td>5.11+</td>\n",
       "      <td>4.4</td>\n",
       "      <td>12</td>\n",
       "      <td>1</td>\n",
       "      <td>California</td>\n",
       "      <td>San Diego and Environs</td>\n",
       "      <td>South San Diego County</td>\n",
       "      <td>Mission Gorge</td>\n",
       "      <td>Middle Earth</td>\n",
       "      <td>-117.051</td>\n",
       "      <td>32.8243</td>\n",
       "      <td>https://www.mountainproject.com/route/10717456...</td>\n",
       "      <td>1</td>\n",
       "      <td>0</td>\n",
       "      <td>0</td>\n",
       "      <td>0</td>\n",
       "      <td>0</td>\n",
       "      <td>0</td>\n",
       "      <td>0</td>\n",
       "      <td>0</td>\n",
       "      <td>0</td>\n",
       "      <td>0</td>\n",
       "      <td>36</td>\n",
       "      <td>0</td>\n",
       "      <td>Will edit with more pertinent info after leadi...</td>\n",
       "      <td>0</td>\n",
       "      <td>0</td>\n",
       "      <td>0</td>\n",
       "      <td>0</td>\n",
       "      <td>0</td>\n",
       "      <td>0</td>\n",
       "      <td>0</td>\n",
       "      <td>0</td>\n",
       "      <td>0</td>\n",
       "      <td>0</td>\n",
       "      <td>0</td>\n",
       "      <td>0</td>\n",
       "      <td>0</td>\n",
       "      <td>0</td>\n",
       "      <td>0</td>\n",
       "      <td>0</td>\n",
       "      <td>0</td>\n",
       "      <td>0</td>\n",
       "      <td>0</td>\n",
       "      <td>0</td>\n",
       "      <td>0</td>\n",
       "      <td>0</td>\n",
       "      <td>0</td>\n",
       "      <td>1</td>\n",
       "    </tr>\n",
       "    <tr>\n",
       "      <th>617</th>\n",
       "      <td>107432346</td>\n",
       "      <td>Quantum Leap</td>\n",
       "      <td>5.11b/c</td>\n",
       "      <td>4.4</td>\n",
       "      <td>8</td>\n",
       "      <td>1</td>\n",
       "      <td>California</td>\n",
       "      <td>San Diego and Environs</td>\n",
       "      <td>South San Diego County</td>\n",
       "      <td>Mission Gorge</td>\n",
       "      <td>Main Wall</td>\n",
       "      <td>-117.051</td>\n",
       "      <td>32.8266</td>\n",
       "      <td>https://www.mountainproject.com/route/10743234...</td>\n",
       "      <td>1</td>\n",
       "      <td>0</td>\n",
       "      <td>0</td>\n",
       "      <td>0</td>\n",
       "      <td>0</td>\n",
       "      <td>0</td>\n",
       "      <td>0</td>\n",
       "      <td>0</td>\n",
       "      <td>0</td>\n",
       "      <td>0</td>\n",
       "      <td>34</td>\n",
       "      <td>0</td>\n",
       "      <td>Hard to onsite unless you are amazing, the cru...</td>\n",
       "      <td>0</td>\n",
       "      <td>0</td>\n",
       "      <td>0</td>\n",
       "      <td>0</td>\n",
       "      <td>0</td>\n",
       "      <td>0</td>\n",
       "      <td>0</td>\n",
       "      <td>0</td>\n",
       "      <td>0</td>\n",
       "      <td>0</td>\n",
       "      <td>0</td>\n",
       "      <td>0</td>\n",
       "      <td>0</td>\n",
       "      <td>0</td>\n",
       "      <td>0</td>\n",
       "      <td>0</td>\n",
       "      <td>0</td>\n",
       "      <td>0</td>\n",
       "      <td>0</td>\n",
       "      <td>0</td>\n",
       "      <td>0</td>\n",
       "      <td>0</td>\n",
       "      <td>0</td>\n",
       "      <td>1</td>\n",
       "    </tr>\n",
       "    <tr>\n",
       "      <th>359</th>\n",
       "      <td>106300807</td>\n",
       "      <td>Nostalgia</td>\n",
       "      <td>5.11c</td>\n",
       "      <td>4.5</td>\n",
       "      <td>46</td>\n",
       "      <td>1</td>\n",
       "      <td>California</td>\n",
       "      <td>Inland Empire</td>\n",
       "      <td>Riverside Quarry</td>\n",
       "      <td>(d) Roof Area</td>\n",
       "      <td>0</td>\n",
       "      <td>-117.417</td>\n",
       "      <td>34.0169</td>\n",
       "      <td>https://www.mountainproject.com/route/10630080...</td>\n",
       "      <td>1</td>\n",
       "      <td>0</td>\n",
       "      <td>0</td>\n",
       "      <td>0</td>\n",
       "      <td>0</td>\n",
       "      <td>0</td>\n",
       "      <td>0</td>\n",
       "      <td>0</td>\n",
       "      <td>0</td>\n",
       "      <td>0</td>\n",
       "      <td>35</td>\n",
       "      <td>0</td>\n",
       "      <td>A hard stand up move at the 2nd bolt starts of...</td>\n",
       "      <td>0</td>\n",
       "      <td>0</td>\n",
       "      <td>0</td>\n",
       "      <td>0</td>\n",
       "      <td>0</td>\n",
       "      <td>0</td>\n",
       "      <td>0</td>\n",
       "      <td>0</td>\n",
       "      <td>0</td>\n",
       "      <td>0</td>\n",
       "      <td>0</td>\n",
       "      <td>0</td>\n",
       "      <td>0</td>\n",
       "      <td>0</td>\n",
       "      <td>0</td>\n",
       "      <td>0</td>\n",
       "      <td>0</td>\n",
       "      <td>0</td>\n",
       "      <td>0</td>\n",
       "      <td>0</td>\n",
       "      <td>0</td>\n",
       "      <td>0</td>\n",
       "      <td>0</td>\n",
       "      <td>1</td>\n",
       "    </tr>\n",
       "    <tr>\n",
       "      <th>491</th>\n",
       "      <td>106873390</td>\n",
       "      <td>Raging Raptor</td>\n",
       "      <td>5.12a</td>\n",
       "      <td>4.6</td>\n",
       "      <td>40</td>\n",
       "      <td>1</td>\n",
       "      <td>California</td>\n",
       "      <td>Inland Empire</td>\n",
       "      <td>Riverside Quarry</td>\n",
       "      <td>(c) Left of the Roof</td>\n",
       "      <td>0</td>\n",
       "      <td>-117.417</td>\n",
       "      <td>34.0169</td>\n",
       "      <td>https://www.mountainproject.com/route/10687339...</td>\n",
       "      <td>1</td>\n",
       "      <td>0</td>\n",
       "      <td>0</td>\n",
       "      <td>0</td>\n",
       "      <td>0</td>\n",
       "      <td>0</td>\n",
       "      <td>0</td>\n",
       "      <td>0</td>\n",
       "      <td>0</td>\n",
       "      <td>0</td>\n",
       "      <td>39</td>\n",
       "      <td>0</td>\n",
       "      <td>Fun crimping from the start leads to easier cl...</td>\n",
       "      <td>0</td>\n",
       "      <td>0</td>\n",
       "      <td>0</td>\n",
       "      <td>0</td>\n",
       "      <td>0</td>\n",
       "      <td>0</td>\n",
       "      <td>0</td>\n",
       "      <td>0</td>\n",
       "      <td>0</td>\n",
       "      <td>0</td>\n",
       "      <td>0</td>\n",
       "      <td>0</td>\n",
       "      <td>0</td>\n",
       "      <td>0</td>\n",
       "      <td>0</td>\n",
       "      <td>0</td>\n",
       "      <td>0</td>\n",
       "      <td>0</td>\n",
       "      <td>0</td>\n",
       "      <td>0</td>\n",
       "      <td>0</td>\n",
       "      <td>0</td>\n",
       "      <td>0</td>\n",
       "      <td>1</td>\n",
       "    </tr>\n",
       "    <tr>\n",
       "      <th>410</th>\n",
       "      <td>106550154</td>\n",
       "      <td>Survival of the Fittest</td>\n",
       "      <td>5.12b</td>\n",
       "      <td>4.4</td>\n",
       "      <td>19</td>\n",
       "      <td>1</td>\n",
       "      <td>California</td>\n",
       "      <td>Inland Empire</td>\n",
       "      <td>Riverside Quarry</td>\n",
       "      <td>(e) Right of the Roof</td>\n",
       "      <td>0</td>\n",
       "      <td>-117.417</td>\n",
       "      <td>34.0169</td>\n",
       "      <td>https://www.mountainproject.com/route/10655015...</td>\n",
       "      <td>1</td>\n",
       "      <td>0</td>\n",
       "      <td>0</td>\n",
       "      <td>0</td>\n",
       "      <td>0</td>\n",
       "      <td>0</td>\n",
       "      <td>0</td>\n",
       "      <td>0</td>\n",
       "      <td>0</td>\n",
       "      <td>0</td>\n",
       "      <td>42</td>\n",
       "      <td>0</td>\n",
       "      <td>Great long route.-Left of Natural Selection (5...</td>\n",
       "      <td>0</td>\n",
       "      <td>0</td>\n",
       "      <td>0</td>\n",
       "      <td>0</td>\n",
       "      <td>0</td>\n",
       "      <td>0</td>\n",
       "      <td>0</td>\n",
       "      <td>0</td>\n",
       "      <td>0</td>\n",
       "      <td>0</td>\n",
       "      <td>0</td>\n",
       "      <td>0</td>\n",
       "      <td>0</td>\n",
       "      <td>0</td>\n",
       "      <td>0</td>\n",
       "      <td>0</td>\n",
       "      <td>0</td>\n",
       "      <td>0</td>\n",
       "      <td>0</td>\n",
       "      <td>0</td>\n",
       "      <td>0</td>\n",
       "      <td>0</td>\n",
       "      <td>0</td>\n",
       "      <td>1</td>\n",
       "    </tr>\n",
       "    <tr>\n",
       "      <th>887</th>\n",
       "      <td>109150884</td>\n",
       "      <td>Lucky</td>\n",
       "      <td>5.12a</td>\n",
       "      <td>4.8</td>\n",
       "      <td>4</td>\n",
       "      <td>1</td>\n",
       "      <td>California</td>\n",
       "      <td>Inland Empire</td>\n",
       "      <td>Riverside Quarry</td>\n",
       "      <td>(j) The Tall Wall</td>\n",
       "      <td>0</td>\n",
       "      <td>-117.417</td>\n",
       "      <td>34.0169</td>\n",
       "      <td>https://www.mountainproject.com/route/10915088...</td>\n",
       "      <td>1</td>\n",
       "      <td>0</td>\n",
       "      <td>0</td>\n",
       "      <td>0</td>\n",
       "      <td>0</td>\n",
       "      <td>0</td>\n",
       "      <td>0</td>\n",
       "      <td>0</td>\n",
       "      <td>0</td>\n",
       "      <td>0</td>\n",
       "      <td>39</td>\n",
       "      <td>0</td>\n",
       "      <td>Right most line on the Tall Wall. Begin at the...</td>\n",
       "      <td>0</td>\n",
       "      <td>0</td>\n",
       "      <td>0</td>\n",
       "      <td>0</td>\n",
       "      <td>0</td>\n",
       "      <td>0</td>\n",
       "      <td>0</td>\n",
       "      <td>0</td>\n",
       "      <td>0</td>\n",
       "      <td>0</td>\n",
       "      <td>0</td>\n",
       "      <td>0</td>\n",
       "      <td>0</td>\n",
       "      <td>0</td>\n",
       "      <td>0</td>\n",
       "      <td>0</td>\n",
       "      <td>0</td>\n",
       "      <td>0</td>\n",
       "      <td>0</td>\n",
       "      <td>0</td>\n",
       "      <td>0</td>\n",
       "      <td>0</td>\n",
       "      <td>0</td>\n",
       "      <td>1</td>\n",
       "    </tr>\n",
       "  </tbody>\n",
       "</table>\n",
       "</div>"
      ],
      "text/plain": [
       "            id                     name   rating  stars  starVotes  pitches  \\\n",
       "522  106988149        Technicolor Tango    5.12c    4.3          8        1   \n",
       "382  106364007                  Depends    5.10c    3.5          2        1   \n",
       "568  107096154        Natural Selection    5.12c    4.3          4        1   \n",
       "677  107861689          The World Below    5.12a    4.5          4        1   \n",
       "579  107174569   Rocking the Dalai Lama    5.11+    4.4         12        1   \n",
       "617  107432346             Quantum Leap  5.11b/c    4.4          8        1   \n",
       "359  106300807                Nostalgia    5.11c    4.5         46        1   \n",
       "491  106873390            Raging Raptor    5.12a    4.6         40        1   \n",
       "410  106550154  Survival of the Fittest    5.12b    4.4         19        1   \n",
       "887  109150884                    Lucky    5.12a    4.8          4        1   \n",
       "\n",
       "       location                  region                    area  \\\n",
       "522  California           Inland Empire        Riverside Quarry   \n",
       "382  California  San Diego and Environs  South San Diego County   \n",
       "568  California           Inland Empire        Riverside Quarry   \n",
       "677  California           Inland Empire        Riverside Quarry   \n",
       "579  California  San Diego and Environs  South San Diego County   \n",
       "617  California  San Diego and Environs  South San Diego County   \n",
       "359  California           Inland Empire        Riverside Quarry   \n",
       "491  California           Inland Empire        Riverside Quarry   \n",
       "410  California           Inland Empire        Riverside Quarry   \n",
       "887  California           Inland Empire        Riverside Quarry   \n",
       "\n",
       "                     sub_area                     wall  longitude  latitude  \\\n",
       "522  (f) Torture Machine Area                        0   -117.416   34.0176   \n",
       "382              Corte Madera  Coulter Grove/Rest Home   -116.591   32.7555   \n",
       "568     (e) Right of the Roof                        0   -117.417   34.0169   \n",
       "677         (j) The Tall Wall                        0   -117.417   34.0169   \n",
       "579             Mission Gorge             Middle Earth   -117.051   32.8243   \n",
       "617             Mission Gorge                Main Wall   -117.051   32.8266   \n",
       "359             (d) Roof Area                        0   -117.417   34.0169   \n",
       "491      (c) Left of the Roof                        0   -117.417   34.0169   \n",
       "410     (e) Right of the Roof                        0   -117.417   34.0169   \n",
       "887         (j) The Tall Wall                        0   -117.417   34.0169   \n",
       "\n",
       "                                                   url  Sport  Trad  Boulder  \\\n",
       "522  https://www.mountainproject.com/route/10698814...      1     0        0   \n",
       "382  https://www.mountainproject.com/route/10636400...      1     0        0   \n",
       "568  https://www.mountainproject.com/route/10709615...      1     0        0   \n",
       "677  https://www.mountainproject.com/route/10786168...      1     0        0   \n",
       "579  https://www.mountainproject.com/route/10717456...      1     0        0   \n",
       "617  https://www.mountainproject.com/route/10743234...      1     0        0   \n",
       "359  https://www.mountainproject.com/route/10630080...      1     0        0   \n",
       "491  https://www.mountainproject.com/route/10687339...      1     0        0   \n",
       "410  https://www.mountainproject.com/route/10655015...      1     0        0   \n",
       "887  https://www.mountainproject.com/route/10915088...      1     0        0   \n",
       "\n",
       "     TR  Alpine  Aid  Ice  Snow  Mixed  danger  rope_grade  boulder_grade  \\\n",
       "522   0       0    0    0     0      0       0          45              0   \n",
       "382   0       0    0    0     0      0       0          25              0   \n",
       "568   0       0    0    0     0      0       0          45              0   \n",
       "677   0       0    0    0     0      0       0          39              0   \n",
       "579   0       0    0    0     0      0       0          36              0   \n",
       "617   0       0    0    0     0      0       0          34              0   \n",
       "359   0       0    0    0     0      0       0          35              0   \n",
       "491   0       0    0    0     0      0       0          39              0   \n",
       "410   0       0    0    0     0      0       0          42              0   \n",
       "887   0       0    0    0     0      0       0          39              0   \n",
       "\n",
       "                                                 infos  slab  traverse  roof  \\\n",
       "522  The route starts on a technical slab that requ...     0         1     0   \n",
       "382  Great route up to the flake and out left. Inte...     0         0     0   \n",
       "568  The first crux starts around the third bolt an...     0         1     0   \n",
       "677  Route begin 10ft right of Sliver Streaker, jus...     0         0     0   \n",
       "579  Will edit with more pertinent info after leadi...     0         0     0   \n",
       "617  Hard to onsite unless you are amazing, the cru...     0         0     0   \n",
       "359  A hard stand up move at the 2nd bolt starts of...     0         0     0   \n",
       "491  Fun crimping from the start leads to easier cl...     0         0     0   \n",
       "410  Great long route.-Left of Natural Selection (5...     0         0     0   \n",
       "887  Right most line on the Tall Wall. Begin at the...     0         0     0   \n",
       "\n",
       "     corner  crack  hand  face  flake  fingers  jug  exposed  dihedral  \\\n",
       "522       0      0     0     0      0        0    0        0         0   \n",
       "382       0      0     0     0      1        0    0        0         0   \n",
       "568       0      0     0     0      0        0    0        0         0   \n",
       "677       0      0     0     1      1        0    0        0         0   \n",
       "579       0      0     0     0      0        0    0        0         0   \n",
       "617       0      0     0     0      0        0    0        0         0   \n",
       "359       0      0     0     0      0        0    0        0         0   \n",
       "491       0      0     0     0      0        0    0        0         0   \n",
       "410       0      0     0     0      0        0    0        0         0   \n",
       "887       0      0     0     0      0        0    0        0         0   \n",
       "\n",
       "     sustained  technical  run out  well protected  chimney  offwidth  stem  \\\n",
       "522          0          0        0               0        0         0     0   \n",
       "382          0          0        0               0        0         0     0   \n",
       "568          0          0        0               0        0         0     0   \n",
       "677          0          0        0               0        0         0     0   \n",
       "579          0          0        0               0        0         0     0   \n",
       "617          0          0        0               0        0         0     0   \n",
       "359          0          0        0               0        0         0     0   \n",
       "491          0          0        0               0        0         0     0   \n",
       "410          0          0        0               0        0         0     0   \n",
       "887          0          0        0               0        0         0     0   \n",
       "\n",
       "     arete  crimp  vertical  powerful  in_range  \n",
       "522      0      0         0         0         1  \n",
       "382      0      0         0         0         1  \n",
       "568      0      1         0         0         1  \n",
       "677      0      0         0         0         1  \n",
       "579      0      0         0         0         1  \n",
       "617      0      0         0         0         1  \n",
       "359      0      0         0         0         1  \n",
       "491      0      0         0         0         1  \n",
       "410      0      0         0         0         1  \n",
       "887      0      0         0         0         1  "
      ]
     },
     "execution_count": 34,
     "metadata": {},
     "output_type": "execute_result"
    }
   ],
   "source": [
    "rec=get_recommendations(target_index, cosine_similarity)\n",
    "rec"
   ]
  },
  {
   "cell_type": "code",
   "execution_count": null,
   "metadata": {
    "ExecuteTime": {
     "end_time": "2020-01-21T21:47:43.958404Z",
     "start_time": "2020-01-21T21:47:43.728833Z"
    }
   },
   "outputs": [],
   "source": [
    "rec=get_recommendations(target_index, rbf_kernel)\n",
    "rec"
   ]
  },
  {
   "cell_type": "code",
   "execution_count": null,
   "metadata": {
    "ExecuteTime": {
     "end_time": "2020-01-20T19:03:49.445134Z",
     "start_time": "2020-01-20T19:03:49.228855Z"
    }
   },
   "outputs": [],
   "source": [
    "rec=get_recommendations(target_index, laplacian_kernel)\n",
    "rec"
   ]
  },
  {
   "cell_type": "code",
   "execution_count": null,
   "metadata": {
    "ExecuteTime": {
     "end_time": "2020-01-20T19:55:27.247275Z",
     "start_time": "2020-01-20T19:55:27.245160Z"
    }
   },
   "outputs": [],
   "source": [
    "# rec=get_recommendations(target_index, euclidean_distances)\n",
    "# rec"
   ]
  },
  {
   "cell_type": "code",
   "execution_count": null,
   "metadata": {
    "ExecuteTime": {
     "end_time": "2020-01-20T19:55:28.044734Z",
     "start_time": "2020-01-20T19:55:28.042276Z"
    }
   },
   "outputs": [],
   "source": [
    "# rec=get_recommendations(target_index, linear_kernel)\n",
    "# rec"
   ]
  },
  {
   "cell_type": "code",
   "execution_count": null,
   "metadata": {
    "ExecuteTime": {
     "end_time": "2020-01-20T19:55:28.713949Z",
     "start_time": "2020-01-20T19:55:28.711590Z"
    }
   },
   "outputs": [],
   "source": [
    "# rec=get_recommendations(target_index, polynomial_kernel)\n",
    "# rec"
   ]
  },
  {
   "cell_type": "code",
   "execution_count": null,
   "metadata": {
    "ExecuteTime": {
     "end_time": "2020-01-20T19:55:29.384012Z",
     "start_time": "2020-01-20T19:55:29.382299Z"
    }
   },
   "outputs": [],
   "source": [
    "# rec=get_recommendations(target_index, sigmoid_kernel)\n",
    "# rec"
   ]
  },
  {
   "cell_type": "code",
   "execution_count": null,
   "metadata": {
    "ExecuteTime": {
     "end_time": "2020-01-20T19:55:30.059805Z",
     "start_time": "2020-01-20T19:55:30.057957Z"
    }
   },
   "outputs": [],
   "source": [
    "# rec=get_recommendations(climb_id, chi2_kernel)\n",
    "# rec"
   ]
  },
  {
   "cell_type": "markdown",
   "metadata": {
    "heading_collapsed": true
   },
   "source": [
    "## NLP (work in progress)"
   ]
  },
  {
   "cell_type": "markdown",
   "metadata": {
    "heading_collapsed": true,
    "hidden": true
   },
   "source": [
    "### Import NLP Data (redundent delete later)"
   ]
  },
  {
   "cell_type": "code",
   "execution_count": null,
   "metadata": {
    "ExecuteTime": {
     "end_time": "2020-01-21T19:13:20.299633Z",
     "start_time": "2020-01-21T19:13:18.121878Z"
    },
    "hidden": true,
    "scrolled": false
   },
   "outputs": [],
   "source": [
    "df_nlp = query_helper.query_to_df('SELECT * FROM route_description;')\n",
    "df_nlp.set_index('id', inplace=True)\n",
    "df_nlp.head()"
   ]
  },
  {
   "cell_type": "code",
   "execution_count": null,
   "metadata": {
    "hidden": true
   },
   "outputs": [],
   "source": [
    "key_words = ['slab', 'traverse', 'roof', 'corner', 'ledge', 'crack', 'face','flake', 'finger', 'fingers',\n",
    "             'hand', 'hands', 'arch', 'balancy', 'balance', 'jug', 'squeeze', 'mantel', 'sustained',  \n",
    "             'ramp', 'overhung', 'dihedral', 'sporty', 'heady', 'pump', 'pumpy', 'technical',\n",
    "             'run out', 'mental', 'well protected', 'chimney', 'offwidth', 'stem', 'arete', 'exposed', 'exposure',\n",
    "             'crimp','crimpy', 'vertical', 'slabby', 'cave', 'steep', 'bouldery'. 'powerful']"
   ]
  },
  {
   "cell_type": "code",
   "execution_count": null,
   "metadata": {
    "ExecuteTime": {
     "end_time": "2020-01-14T19:29:11.530067Z",
     "start_time": "2020-01-14T19:29:11.526644Z"
    },
    "hidden": true
   },
   "outputs": [],
   "source": [
    "col_key_words = ['slab', 'traverse', 'roof', 'corner', 'ledge', 'crack', 'face','flake', 'finger',\n",
    "             'hand', 'arch', 'balancy', 'jug', 'squeeze', 'mantel', 'exposed', \n",
    "             'ramp', 'overhung', 'dihedral', 'sporty', 'sustained','pump', 'technical',\n",
    "             'run out', 'mental', 'well protected', 'chimney', 'offwidth', 'stem', 'arete',\n",
    "             'crimp', 'vertical', 'cave', 'steep', 'bouldery', 'powerful']"
   ]
  },
  {
   "cell_type": "code",
   "execution_count": null,
   "metadata": {
    "ExecuteTime": {
     "end_time": "2020-01-14T19:34:29.126715Z",
     "start_time": "2020-01-14T19:34:29.067098Z"
    },
    "hidden": true
   },
   "outputs": [],
   "source": [
    "df_numeric"
   ]
  },
  {
   "cell_type": "code",
   "execution_count": null,
   "metadata": {
    "ExecuteTime": {
     "end_time": "2020-01-14T19:49:43.566041Z",
     "start_time": "2020-01-14T19:49:43.535242Z"
    },
    "hidden": true
   },
   "outputs": [],
   "source": [
    "df_full = df_numeric.join(df_nlp)\n",
    "df_full.head()"
   ]
  },
  {
   "cell_type": "code",
   "execution_count": null,
   "metadata": {
    "ExecuteTime": {
     "end_time": "2020-01-14T19:47:23.165606Z",
     "start_time": "2020-01-14T19:47:23.146174Z"
    },
    "hidden": true
   },
   "outputs": [],
   "source": [
    "df_numeric.head()"
   ]
  },
  {
   "cell_type": "markdown",
   "metadata": {
    "hidden": true
   },
   "source": [
    "### Break descriptions into rope and boulder"
   ]
  },
  {
   "cell_type": "markdown",
   "metadata": {
    "hidden": true
   },
   "source": [
    "#### Rope"
   ]
  },
  {
   "cell_type": "code",
   "execution_count": null,
   "metadata": {
    "ExecuteTime": {
     "end_time": "2020-01-14T16:51:01.240404Z",
     "start_time": "2020-01-14T16:51:01.204956Z"
    },
    "hidden": true
   },
   "outputs": [],
   "source": [
    "df_sub = df_numeric[(df_numeric['Boulder']==0)]\n",
    "df_sub = df_sub[(df_numeric['Ice']==0)]\n",
    "df_sub = df_sub[(df_numeric['Snow']==0)]\n",
    "\n",
    "df_sub.head()"
   ]
  },
  {
   "cell_type": "code",
   "execution_count": null,
   "metadata": {
    "ExecuteTime": {
     "end_time": "2020-01-14T16:51:43.371737Z",
     "start_time": "2020-01-14T16:51:43.366434Z"
    },
    "hidden": true
   },
   "outputs": [],
   "source": [
    "df_sub.Boulder.value_counts()"
   ]
  },
  {
   "cell_type": "code",
   "execution_count": null,
   "metadata": {
    "ExecuteTime": {
     "end_time": "2020-01-14T16:52:24.275152Z",
     "start_time": "2020-01-14T16:52:24.271602Z"
    },
    "hidden": true
   },
   "outputs": [],
   "source": [
    "len(df_sub.index)"
   ]
  },
  {
   "cell_type": "code",
   "execution_count": null,
   "metadata": {
    "ExecuteTime": {
     "end_time": "2020-01-14T16:53:32.519370Z",
     "start_time": "2020-01-14T16:53:32.513576Z"
    },
    "hidden": true
   },
   "outputs": [],
   "source": [
    "len(df_nlp.loc[df_sub.index])"
   ]
  },
  {
   "cell_type": "code",
   "execution_count": null,
   "metadata": {
    "ExecuteTime": {
     "end_time": "2020-01-14T16:54:01.641269Z",
     "start_time": "2020-01-14T16:54:01.636660Z"
    },
    "hidden": true
   },
   "outputs": [],
   "source": [
    "nlp_rope =df_nlp.loc[df_sub.index]"
   ]
  },
  {
   "cell_type": "code",
   "execution_count": null,
   "metadata": {
    "ExecuteTime": {
     "end_time": "2020-01-14T16:54:20.169674Z",
     "start_time": "2020-01-14T16:54:20.162642Z"
    },
    "hidden": true
   },
   "outputs": [],
   "source": [
    "nlp_rope.head()"
   ]
  },
  {
   "cell_type": "markdown",
   "metadata": {
    "hidden": true
   },
   "source": [
    "#### Boulder"
   ]
  },
  {
   "cell_type": "code",
   "execution_count": null,
   "metadata": {
    "hidden": true
   },
   "outputs": [],
   "source": []
  },
  {
   "cell_type": "code",
   "execution_count": null,
   "metadata": {
    "hidden": true
   },
   "outputs": [],
   "source": []
  },
  {
   "cell_type": "markdown",
   "metadata": {
    "hidden": true
   },
   "source": [
    "#### Tokenizer"
   ]
  },
  {
   "cell_type": "code",
   "execution_count": null,
   "metadata": {
    "ExecuteTime": {
     "end_time": "2020-01-15T16:31:30.759654Z",
     "start_time": "2020-01-15T16:31:29.385302Z"
    },
    "hidden": true
   },
   "outputs": [],
   "source": [
    "import string\n",
    "import spacy\n",
    "from spacy.lang.en.stop_words import STOP_WORDS\n",
    "from spacy.lang.en import English\n",
    "\n",
    "# Create our list of punctuation marks\n",
    "punctuations = string.punctuation\n",
    "\n",
    "# Create our list of stopwords\n",
    "nlp = spacy.load('en_core_web_sm')\n",
    "stop_words = spacy.lang.en.stop_words.STOP_WORDS\n",
    "\n",
    "# Load English tokenizer, tagger, parser, NER and word vectors\n",
    "parser = English()"
   ]
  },
  {
   "cell_type": "code",
   "execution_count": null,
   "metadata": {
    "ExecuteTime": {
     "end_time": "2020-01-14T18:07:36.736472Z",
     "start_time": "2020-01-14T18:07:36.732893Z"
    },
    "hidden": true
   },
   "outputs": [],
   "source": [
    "extra_stop = ['climb','climbing', 'crux', 'rope', 'leave', 'use', 'start', 'end',\n",
    "              'look', 'rock', 'tree', 'follow', 'continue', 'belay', 'photo', 'add', 'climber', 'route', \n",
    "              'lot', 'anchor', '...', '1', '2', '3', '4', '--', 'pitch', 'page', 'cold', 'hot', 'warm',\n",
    "              'belayer', 'fun', 'like', 'unknown', 'rap', 'left', 'right', 'wide', 'leader']\n"
   ]
  },
  {
   "cell_type": "code",
   "execution_count": null,
   "metadata": {
    "ExecuteTime": {
     "end_time": "2020-01-14T18:07:37.859618Z",
     "start_time": "2020-01-14T18:07:37.857191Z"
    },
    "hidden": true
   },
   "outputs": [],
   "source": [
    "for word in extra_stop:\n",
    "    stop_words.add(word)"
   ]
  },
  {
   "cell_type": "code",
   "execution_count": null,
   "metadata": {
    "ExecuteTime": {
     "end_time": "2020-01-14T18:06:46.276385Z",
     "start_time": "2020-01-14T18:06:46.270105Z"
    },
    "hidden": true
   },
   "outputs": [],
   "source": [
    "stop_words"
   ]
  },
  {
   "cell_type": "code",
   "execution_count": null,
   "metadata": {
    "hidden": true
   },
   "outputs": [],
   "source": []
  },
  {
   "cell_type": "code",
   "execution_count": null,
   "metadata": {
    "ExecuteTime": {
     "end_time": "2020-01-15T16:31:34.397702Z",
     "start_time": "2020-01-15T16:31:34.393258Z"
    },
    "hidden": true
   },
   "outputs": [],
   "source": [
    "# Creating our tokenizer function\n",
    "def spacy_tokenizer(text):\n",
    "    # Creating our token object, which is used to create documents with linguistic annotations.\n",
    "    mytokens = nlp(text)\n",
    "    \n",
    "#     mytokens = [word for word in mytokens if word.pos_ != \"PROPN\"]\n",
    "    \n",
    "    mytokens = [ word if word.pos_ != \"-PRON-\" else word.lower_ for word in mytokens ]\n",
    "\n",
    "    # Lemmatizing each token and converting each token into lowercase\n",
    "    mytokens = [ word.lemma_.lower().strip() if word.lemma_ != \"-PRON-\" else word.lower_ for word in mytokens ]\n",
    "\n",
    "    # Removing stop words\n",
    "    mytokens = [ word for word in mytokens if word not in stop_words and word not in punctuations ]\n",
    "\n",
    "    # return preprocessed list of tokens\n",
    "    return mytokens"
   ]
  },
  {
   "cell_type": "code",
   "execution_count": null,
   "metadata": {
    "hidden": true
   },
   "outputs": [],
   "source": []
  },
  {
   "cell_type": "code",
   "execution_count": null,
   "metadata": {
    "hidden": true
   },
   "outputs": [],
   "source": []
  },
  {
   "cell_type": "markdown",
   "metadata": {
    "hidden": true
   },
   "source": [
    "### TF-IDF Vectorizer"
   ]
  },
  {
   "cell_type": "markdown",
   "metadata": {
    "hidden": true
   },
   "source": [
    "#### Run the vectorizer"
   ]
  },
  {
   "cell_type": "code",
   "execution_count": null,
   "metadata": {
    "ExecuteTime": {
     "end_time": "2020-01-15T16:50:20.810380Z",
     "start_time": "2020-01-15T16:50:20.805679Z"
    },
    "hidden": true
   },
   "outputs": [],
   "source": [
    "df_nlp.loc[105714722,:]"
   ]
  },
  {
   "cell_type": "code",
   "execution_count": null,
   "metadata": {
    "ExecuteTime": {
     "end_time": "2020-01-15T16:50:51.703422Z",
     "start_time": "2020-01-15T16:50:51.693776Z"
    },
    "hidden": true
   },
   "outputs": [],
   "source": [
    "df_nlp[df_nlp.isna().values]"
   ]
  },
  {
   "cell_type": "code",
   "execution_count": null,
   "metadata": {
    "ExecuteTime": {
     "end_time": "2020-01-15T16:40:53.500567Z",
     "start_time": "2020-01-15T16:31:45.054845Z"
    },
    "hidden": true
   },
   "outputs": [],
   "source": [
    "#Import TfIdfVectorizer from scikit-learn\n",
    "from sklearn.feature_extraction.text import TfidfVectorizer\n",
    "\n",
    "#Define a TF-IDF Vectorizer Object. Remove all english stop words such as 'the', 'a'\n",
    "tfidf = TfidfVectorizer(tokenizer=spacy_tokenizer, min_df=5, max_df=.7)\n",
    "\n",
    "\n",
    "#Construct the required TF-IDF matrix by fitting and transforming the data\n",
    "tfidf_matrix = tfidf.fit_transform(df_nlp['infos'])\n",
    "\n",
    "#Output the shape of tfidf_matrix\n",
    "tfidf_matrix.shape"
   ]
  },
  {
   "cell_type": "markdown",
   "metadata": {
    "hidden": true
   },
   "source": [
    "#### Save it to load later"
   ]
  },
  {
   "cell_type": "code",
   "execution_count": 36,
   "metadata": {
    "ExecuteTime": {
     "end_time": "2020-02-03T22:33:05.589496Z",
     "start_time": "2020-02-03T22:33:05.569073Z"
    },
    "hidden": true
   },
   "outputs": [],
   "source": [
    "# Save the trained model as a pickle string. \n",
    "from sklearn.externals import joblib \n",
    "import pickle\n",
    "tfidf_5_7 = pickle.dumps(tfidf_matrix) \n",
    "\n",
    "  \n",
    "# Save the model as a pickle in a file \n",
    "joblib.dump(tfidf_matrix, 'tfidf_5_7.pkl') \n",
    "  \n",
    "# Load the model from the file \n",
    "# tfidf_loaded = joblib.load('tfidf_5_7.pkl')  \n",
    "  "
   ]
  },
  {
   "cell_type": "markdown",
   "metadata": {
    "hidden": true
   },
   "source": [
    "### Get original index"
   ]
  },
  {
   "cell_type": "code",
   "execution_count": null,
   "metadata": {
    "ExecuteTime": {
     "end_time": "2020-01-14T15:29:30.698327Z",
     "start_time": "2020-01-14T15:29:30.693939Z"
    },
    "hidden": true
   },
   "outputs": [],
   "source": [
    "#get index to iterate over\n",
    "search_range = df_in_range.orig_index\n",
    "\n",
    "# get index for target in reference to whole matrix\n",
    "nlp_target_index = int(df_in_range.orig_index[df_in_range['id']==target_id].values)\n",
    "print('target_index:',nlp_target_index)"
   ]
  },
  {
   "cell_type": "code",
   "execution_count": null,
   "metadata": {
    "ExecuteTime": {
     "end_time": "2020-01-13T22:45:34.714406Z",
     "start_time": "2020-01-13T22:45:34.709962Z"
    },
    "hidden": true
   },
   "outputs": [],
   "source": [
    "df_nlp.loc[105793305]"
   ]
  },
  {
   "cell_type": "code",
   "execution_count": null,
   "metadata": {
    "ExecuteTime": {
     "end_time": "2020-01-13T23:33:49.738992Z",
     "start_time": "2020-01-13T23:33:49.733309Z"
    },
    "hidden": true
   },
   "outputs": [],
   "source": [
    "######NEED TO COMBINE WITH get_recommendations so we can get average weighted score#########################\n",
    "def get_recommendations_for_nlp(idx, kernel_type):\n",
    "\n",
    "    #value to store scores and indicies\n",
    "    score_matrix = np.ndarray(shape=(len(df_in_range),2), dtype=float)\n",
    "    \n",
    "    for iter_,i in enumerate(search_range.values):\n",
    "        score = kernel_type(tfidf_matrix[idx],tfidf_matrix[i])\n",
    "        score_matrix[iter_][0] =  i        ##the index comparison corresponding to the score\n",
    "        score_matrix[iter_][1] = score     ##the score for the current index\n",
    "\n",
    "    # Sort the climbs based on the similarity scores\n",
    "    score_matrix = sorted(score_matrix, key=lambda x: x[1], reverse=True)\n",
    "    \n",
    "    # score_matrix\n",
    "#########################  ADD/calculate SIMilarity VALUE   ###########################\n",
    "\n",
    "    # # Get the scores of the 20 most similar climbs\n",
    "    score_matrix = score_matrix[1:20]\n",
    "\n",
    "    # # Get the climb indices (& cast to ints)\n",
    "    climb_indices = [int(i[0]) for i in score_matrix]\n",
    "    \n",
    "    # Return the top 20 most similar climbs\n",
    "    return df_numeric.iloc[climb_indices,:]"
   ]
  },
  {
   "cell_type": "code",
   "execution_count": null,
   "metadata": {
    "ExecuteTime": {
     "end_time": "2020-01-13T23:34:33.578189Z",
     "start_time": "2020-01-13T23:34:12.616040Z"
    },
    "hidden": true
   },
   "outputs": [],
   "source": [
    "rec = get_recommendations_for_nlp(nlp_target_index, cosine_similarity)\n",
    "rec"
   ]
  },
  {
   "cell_type": "code",
   "execution_count": null,
   "metadata": {
    "ExecuteTime": {
     "end_time": "2020-01-14T15:24:00.009521Z",
     "start_time": "2020-01-14T15:23:59.964685Z"
    },
    "hidden": true
   },
   "outputs": [],
   "source": [
    "df_nlp.loc[rec.index]"
   ]
  },
  {
   "cell_type": "code",
   "execution_count": null,
   "metadata": {
    "hidden": true
   },
   "outputs": [],
   "source": []
  },
  {
   "cell_type": "markdown",
   "metadata": {
    "hidden": true
   },
   "source": [
    "### LDA"
   ]
  },
  {
   "cell_type": "markdown",
   "metadata": {
    "hidden": true
   },
   "source": [
    "#### CV"
   ]
  },
  {
   "cell_type": "code",
   "execution_count": null,
   "metadata": {
    "ExecuteTime": {
     "end_time": "2020-01-14T18:07:45.140285Z",
     "start_time": "2020-01-14T18:07:45.137984Z"
    },
    "hidden": true
   },
   "outputs": [],
   "source": [
    "from sklearn.feature_extraction.text import CountVectorizer"
   ]
  },
  {
   "cell_type": "code",
   "execution_count": null,
   "metadata": {
    "ExecuteTime": {
     "end_time": "2020-01-14T18:07:45.641396Z",
     "start_time": "2020-01-14T18:07:45.638002Z"
    },
    "hidden": true
   },
   "outputs": [],
   "source": [
    "cv = CountVectorizer(tokenizer=spacy_tokenizer, max_df=0.90, min_df=5, stop_words='english', ngram_range=(1,1))"
   ]
  },
  {
   "cell_type": "code",
   "execution_count": null,
   "metadata": {
    "ExecuteTime": {
     "end_time": "2020-01-14T18:08:06.432008Z",
     "start_time": "2020-01-14T18:07:46.019752Z"
    },
    "hidden": true
   },
   "outputs": [],
   "source": [
    "dtm = cv.fit_transform(nlp_rope['info'].sample(n=1000, random_state=1))"
   ]
  },
  {
   "cell_type": "markdown",
   "metadata": {
    "hidden": true
   },
   "source": [
    "#### LDA Model"
   ]
  },
  {
   "cell_type": "code",
   "execution_count": null,
   "metadata": {
    "ExecuteTime": {
     "end_time": "2020-01-14T18:08:06.757781Z",
     "start_time": "2020-01-14T18:08:06.755456Z"
    },
    "hidden": true
   },
   "outputs": [],
   "source": [
    "from sklearn.decomposition import LatentDirichletAllocation"
   ]
  },
  {
   "cell_type": "code",
   "execution_count": null,
   "metadata": {
    "ExecuteTime": {
     "end_time": "2020-01-14T18:08:07.089358Z",
     "start_time": "2020-01-14T18:08:07.085587Z"
    },
    "hidden": true
   },
   "outputs": [],
   "source": [
    "# Build LDA Model\n",
    "lda_model = LatentDirichletAllocation(n_components=10,               # Number of topics\n",
    "                                      max_iter=20,               # Max learning iterations\n",
    "                                      learning_method='online',   \n",
    "                                      random_state=100,          # Random state\n",
    "                                      batch_size=32,            # n docs in each learning iter\n",
    "                                      evaluate_every = -1,       # compute perplexity every n iters, default: Don't\n",
    "                                      n_jobs = -1,               # Use all available CPUs\n",
    "                                     )\n",
    "\n",
    "print(lda_model)  # Model attributes"
   ]
  },
  {
   "cell_type": "code",
   "execution_count": null,
   "metadata": {
    "ExecuteTime": {
     "end_time": "2020-01-14T18:08:16.398220Z",
     "start_time": "2020-01-14T18:08:07.409388Z"
    },
    "hidden": true
   },
   "outputs": [],
   "source": [
    "# This can take awhile, we're dealing with a large amount of documents!\n",
    "\n",
    "lda_output = lda_model.fit_transform(dtm)\n"
   ]
  },
  {
   "cell_type": "markdown",
   "metadata": {
    "hidden": true
   },
   "source": [
    "#### Diagnose model performance with perplexity and log-likelihood\n",
    "A model with higher log-likelihood and lower perplexity (exp(-1. * log-likelihood per word)) is considered to be good. Let’s check for our model.\n",
    "\n"
   ]
  },
  {
   "cell_type": "code",
   "execution_count": null,
   "metadata": {
    "ExecuteTime": {
     "end_time": "2020-01-14T18:08:16.580319Z",
     "start_time": "2020-01-14T18:08:16.400239Z"
    },
    "hidden": true
   },
   "outputs": [],
   "source": [
    "# Log Likelyhood: Higher the better\n",
    "print(\"Log Likelihood: \", lda_model.score(dtm))\n",
    "\n",
    "# Perplexity: Lower the better. Perplexity = exp(-1. * log-likelihood per word)\n",
    "print(\"Perplexity: \", lda_model.perplexity(dtm))\n",
    "\n",
    "# See model parameters\n",
    "print(lda_model.get_params())"
   ]
  },
  {
   "cell_type": "code",
   "execution_count": null,
   "metadata": {
    "ExecuteTime": {
     "end_time": "2020-01-14T16:21:29.674277Z",
     "start_time": "2020-01-14T16:21:29.664515Z"
    },
    "hidden": true
   },
   "outputs": [],
   "source": []
  },
  {
   "cell_type": "code",
   "execution_count": null,
   "metadata": {
    "ExecuteTime": {
     "end_time": "2020-01-14T18:08:17.193851Z",
     "start_time": "2020-01-14T18:08:17.190761Z"
    },
    "hidden": true
   },
   "outputs": [],
   "source": [
    "len(lda_model.components_)"
   ]
  },
  {
   "cell_type": "code",
   "execution_count": null,
   "metadata": {
    "ExecuteTime": {
     "end_time": "2020-01-14T18:08:17.509158Z",
     "start_time": "2020-01-14T18:08:17.507055Z"
    },
    "hidden": true
   },
   "outputs": [],
   "source": [
    "single_topic = lda_model.components_[0]"
   ]
  },
  {
   "cell_type": "code",
   "execution_count": null,
   "metadata": {
    "ExecuteTime": {
     "end_time": "2020-01-14T18:08:17.841038Z",
     "start_time": "2020-01-14T18:08:17.838450Z"
    },
    "hidden": true,
    "scrolled": true
   },
   "outputs": [],
   "source": [
    "top_word_indices = single_topic.argsort()[-10:]"
   ]
  },
  {
   "cell_type": "code",
   "execution_count": null,
   "metadata": {
    "ExecuteTime": {
     "end_time": "2020-01-14T18:08:18.185324Z",
     "start_time": "2020-01-14T18:08:18.176400Z"
    },
    "hidden": true
   },
   "outputs": [],
   "source": [
    "for index in top_word_indices:\n",
    "    print(cv.get_feature_names()[index])"
   ]
  },
  {
   "cell_type": "markdown",
   "metadata": {
    "hidden": true
   },
   "source": [
    "#### Top words for all groups"
   ]
  },
  {
   "cell_type": "code",
   "execution_count": null,
   "metadata": {
    "ExecuteTime": {
     "end_time": "2020-01-14T18:16:12.007378Z",
     "start_time": "2020-01-14T18:16:11.843345Z"
    },
    "hidden": true
   },
   "outputs": [],
   "source": [
    "for index,topic in enumerate(lda_model.components_):\n",
    "    print(f'THE TOP 15 WORDS FOR TOPIC #{index}')\n",
    "    print([cv.get_feature_names()[i] for i in topic.argsort()[-30:]])\n",
    "    print('\\n')"
   ]
  },
  {
   "cell_type": "code",
   "execution_count": null,
   "metadata": {
    "hidden": true
   },
   "outputs": [],
   "source": []
  },
  {
   "cell_type": "code",
   "execution_count": null,
   "metadata": {
    "ExecuteTime": {
     "end_time": "2020-01-14T17:31:50.300746Z",
     "start_time": "2020-01-14T17:31:50.297261Z"
    },
    "hidden": true
   },
   "outputs": [],
   "source": [
    "extra_stop = ['climb','climbing', 'crux', 'rope', 'leave', 'use', 'start', 'end',\n",
    "              'look', 'rock', 'tree', 'follow', 'continue', 'belay', 'photo', 'add', 'climber', 'route', \n",
    "              'lot', 'anchor', '...', '1', '2', '3', '4', '--', 'pitch', 'page', 'cold', 'hot', 'warm',\n",
    "              'belayer', 'fun', 'like', 'unknown', 'rap', 'left', 'right']\n",
    "\n"
   ]
  },
  {
   "cell_type": "code",
   "execution_count": null,
   "metadata": {
    "hidden": true
   },
   "outputs": [],
   "source": []
  },
  {
   "cell_type": "markdown",
   "metadata": {
    "hidden": true
   },
   "source": [
    "### Try new reverse tokenizer"
   ]
  },
  {
   "cell_type": "code",
   "execution_count": null,
   "metadata": {
    "ExecuteTime": {
     "end_time": "2020-01-14T18:18:48.553092Z",
     "start_time": "2020-01-14T18:18:48.549162Z"
    },
    "hidden": true
   },
   "outputs": [],
   "source": [
    "key_words = ['slab', 'traverse', 'roof', 'corner', 'ledge', 'crack', 'face','flake', 'bolt', 'finger', 'fingers'\n",
    "             'cam', 'camalot', 'hand', 'hands', 'arch', 'balancy', 'jug', 'squeeze', 'mantel', 'sustained', 'nut', \n",
    "             'gear', 'ramp', 'overhung', 'balance', 'dihedral', 'sporty', 'heady', 'pump', 'pumpy', 'technical',\n",
    "             'run out', 'mental', 'well protected', 'chimney', 'offwidth', 'stem', 'arete', 'exposed', 'exposure',\n",
    "             'crimp','crimpy', 'vertical', 'slabby', 'cave', 'steep', 'sidepull','bouldery']"
   ]
  },
  {
   "cell_type": "code",
   "execution_count": null,
   "metadata": {
    "ExecuteTime": {
     "end_time": "2020-01-14T18:18:50.597864Z",
     "start_time": "2020-01-14T18:18:50.592592Z"
    },
    "hidden": true
   },
   "outputs": [],
   "source": [
    "# Creating our tokenizer function\n",
    "def spacy_tokenizer_reverse(text):\n",
    "    # Creating our token object, which is used to create documents with linguistic annotations.\n",
    "    mytokens = nlp(text)\n",
    "    \n",
    "#     mytokens = [word for word in mytokens if word.pos_ != \"PROPN\"]\n",
    "    \n",
    "    mytokens = [ word if word.pos_ != \"-PRON-\" else word.lower_ for word in mytokens ]\n",
    "\n",
    "    # Lemmatizing each token and converting each token into lowercase\n",
    "    mytokens = [ word.lemma_.lower().strip() if word.lemma_ != \"-PRON-\" else word.lower_ for word in mytokens ]\n",
    "\n",
    "    # Removing stop words\n",
    "    mytokens = [ word for word in mytokens if word not in stop_words and word not in punctuations ]\n",
    "    \n",
    "    #grab only my key words\n",
    "    my_sub_tokens =[]\n",
    "    for word in set(mytokens):\n",
    "        if word in key_words:\n",
    "            my_sub_tokens.append(word)\n",
    "\n",
    "    # return preprocessed list of tokens\n",
    "    return my_sub_tokens"
   ]
  },
  {
   "cell_type": "markdown",
   "metadata": {
    "hidden": true
   },
   "source": [
    "#### CV"
   ]
  },
  {
   "cell_type": "code",
   "execution_count": null,
   "metadata": {
    "ExecuteTime": {
     "end_time": "2020-01-14T18:18:53.447866Z",
     "start_time": "2020-01-14T18:18:53.444791Z"
    },
    "hidden": true
   },
   "outputs": [],
   "source": [
    "cv = CountVectorizer(tokenizer=spacy_tokenizer_reverse,  stop_words='english', ngram_range=(1,1))"
   ]
  },
  {
   "cell_type": "code",
   "execution_count": null,
   "metadata": {
    "ExecuteTime": {
     "end_time": "2020-01-14T18:19:11.866458Z",
     "start_time": "2020-01-14T18:18:53.835885Z"
    },
    "hidden": true
   },
   "outputs": [],
   "source": [
    "dtm = cv.fit_transform(nlp_rope['info'].sample(n=1000, random_state=1))"
   ]
  },
  {
   "cell_type": "markdown",
   "metadata": {
    "hidden": true
   },
   "source": [
    "#### LDA Model"
   ]
  },
  {
   "cell_type": "code",
   "execution_count": null,
   "metadata": {
    "ExecuteTime": {
     "end_time": "2020-01-14T18:19:12.172426Z",
     "start_time": "2020-01-14T18:19:12.170199Z"
    },
    "hidden": true
   },
   "outputs": [],
   "source": [
    "from sklearn.decomposition import LatentDirichletAllocation"
   ]
  },
  {
   "cell_type": "code",
   "execution_count": null,
   "metadata": {
    "ExecuteTime": {
     "end_time": "2020-01-14T18:19:12.482946Z",
     "start_time": "2020-01-14T18:19:12.478894Z"
    },
    "hidden": true
   },
   "outputs": [],
   "source": [
    "# Build LDA Model\n",
    "lda_model = LatentDirichletAllocation(n_components=6,               # Number of topics\n",
    "                                      max_iter=20,               # Max learning iterations\n",
    "                                      learning_method='online',   \n",
    "                                      random_state=100,          # Random state\n",
    "                                      batch_size=32,            # n docs in each learning iter\n",
    "                                      evaluate_every = -1,       # compute perplexity every n iters, default: Don't\n",
    "                                      n_jobs = -1,               # Use all available CPUs\n",
    "                                     )\n",
    "\n",
    "print(lda_model)  # Model attributes"
   ]
  },
  {
   "cell_type": "code",
   "execution_count": null,
   "metadata": {
    "ExecuteTime": {
     "end_time": "2020-01-14T18:19:18.873542Z",
     "start_time": "2020-01-14T18:19:12.798986Z"
    },
    "hidden": true
   },
   "outputs": [],
   "source": [
    "# This can take awhile, we're dealing with a large amount of documents!\n",
    "\n",
    "lda_output = lda_model.fit_transform(dtm)\n"
   ]
  },
  {
   "cell_type": "markdown",
   "metadata": {
    "hidden": true
   },
   "source": [
    "#### Diagnose model performance with perplexity and log-likelihood\n",
    "A model with higher log-likelihood and lower perplexity (exp(-1. * log-likelihood per word)) is considered to be good. Let’s check for our model.\n",
    "\n"
   ]
  },
  {
   "cell_type": "code",
   "execution_count": null,
   "metadata": {
    "ExecuteTime": {
     "end_time": "2020-01-14T18:19:19.361128Z",
     "start_time": "2020-01-14T18:19:19.209154Z"
    },
    "hidden": true
   },
   "outputs": [],
   "source": [
    "# Log Likelyhood: Higher the better\n",
    "print(\"Log Likelihood: \", lda_model.score(dtm))\n",
    "\n",
    "# Perplexity: Lower the better. Perplexity = exp(-1. * log-likelihood per word)\n",
    "print(\"Perplexity: \", lda_model.perplexity(dtm))\n",
    "\n",
    "# See model parameters\n",
    "print(lda_model.get_params())"
   ]
  },
  {
   "cell_type": "markdown",
   "metadata": {
    "hidden": true
   },
   "source": [
    "#### Top words for all groups"
   ]
  },
  {
   "cell_type": "code",
   "execution_count": null,
   "metadata": {
    "ExecuteTime": {
     "end_time": "2020-01-14T18:24:15.582488Z",
     "start_time": "2020-01-14T18:24:15.576973Z"
    },
    "hidden": true
   },
   "outputs": [],
   "source": [
    "for index,topic in enumerate(lda_model.components_):\n",
    "    print(f'THE TOP 15 WORDS FOR TOPIC #{index}')\n",
    "    print([cv.get_feature_names()[i] for i in topic.argsort()[-10:]])\n",
    "    print('\\n')"
   ]
  },
  {
   "cell_type": "code",
   "execution_count": null,
   "metadata": {
    "hidden": true
   },
   "outputs": [],
   "source": []
  },
  {
   "cell_type": "code",
   "execution_count": null,
   "metadata": {
    "hidden": true
   },
   "outputs": [],
   "source": []
  }
 ],
 "metadata": {
  "kernelspec": {
   "display_name": "Python 3",
   "language": "python",
   "name": "python3"
  },
  "language_info": {
   "codemirror_mode": {
    "name": "ipython",
    "version": 3
   },
   "file_extension": ".py",
   "mimetype": "text/x-python",
   "name": "python",
   "nbconvert_exporter": "python",
   "pygments_lexer": "ipython3",
   "version": "3.7.7"
  },
  "varInspector": {
   "cols": {
    "lenName": 16,
    "lenType": 16,
    "lenVar": 40
   },
   "kernels_config": {
    "python": {
     "delete_cmd_postfix": "",
     "delete_cmd_prefix": "del ",
     "library": "var_list.py",
     "varRefreshCmd": "print(var_dic_list())"
    },
    "r": {
     "delete_cmd_postfix": ") ",
     "delete_cmd_prefix": "rm(",
     "library": "var_list.r",
     "varRefreshCmd": "cat(var_dic_list()) "
    }
   },
   "position": {
    "height": "567px",
    "left": "1321px",
    "right": "20px",
    "top": "120px",
    "width": "338px"
   },
   "types_to_exclude": [
    "module",
    "function",
    "builtin_function_or_method",
    "instance",
    "_Feature"
   ],
   "window_display": false
  }
 },
 "nbformat": 4,
 "nbformat_minor": 2
}
