{
 "cells": [
  {
   "cell_type": "markdown",
   "metadata": {},
   "source": [
    "# ML Models"
   ]
  },
  {
   "cell_type": "code",
   "execution_count": 1,
   "metadata": {
    "ExecuteTime": {
     "end_time": "2020-01-08T22:11:44.414364Z",
     "start_time": "2020-01-08T22:11:43.310777Z"
    }
   },
   "outputs": [],
   "source": [
    "import pandas as pd\n",
    "import seaborn as sns\n",
    "from sklearn import preprocessing\n"
   ]
  },
  {
   "cell_type": "code",
   "execution_count": 2,
   "metadata": {
    "ExecuteTime": {
     "end_time": "2020-01-08T22:11:44.448170Z",
     "start_time": "2020-01-08T22:11:44.434606Z"
    },
    "code_folding": [
     1
    ]
   },
   "outputs": [],
   "source": [
    "#start by making dict of grades/ratings\n",
    "diff_grade = {'Rope': ['3rd',\n",
    "  '4th',\n",
    "  'Easy 5th',\n",
    "  '5.0',\n",
    "  '5.1',\n",
    "  '5.2',\n",
    "  '5.3',\n",
    "  '5.4',\n",
    "  '5.5',\n",
    "  '5.6',\n",
    "  '5.7',\n",
    "  '5.7+',\n",
    "  '5.8-',\n",
    "  '5.8',\n",
    "  '5.8+',\n",
    "  '5.9-',\n",
    "  '5.9',\n",
    "  '5.9+',\n",
    "  '5.10a',\n",
    "  '5.10-',\n",
    "  '5.10a/b',\n",
    "  '5.10b',\n",
    "  '5.10',\n",
    "  '5.10b/c',\n",
    "  '5.10c',\n",
    "  '5.10+',\n",
    "  '5.10c/d',\n",
    "  '5.10d',\n",
    "  '5.11a',\n",
    "  '5.11-',\n",
    "  '5.11a/b',\n",
    "  '5.11b',\n",
    "  '5.11',\n",
    "  '5.11b/c',\n",
    "  '5.11c',\n",
    "  '5.11+',\n",
    "  '5.11c/d',\n",
    "  '5.11d',\n",
    "  '5.12a',\n",
    "  '5.12-',\n",
    "  '5.12a/b',\n",
    "  '5.12b',\n",
    "  '5.12',\n",
    "  '5.12b/c',\n",
    "  '5.12c',\n",
    "  '5.12+',\n",
    "  '5.12c/d',\n",
    "  '5.12d',\n",
    "  '5.13a',\n",
    "  '5.13-',\n",
    "  '5.13a/b',\n",
    "  '5.13b',\n",
    "  '5.13',\n",
    "  '5.13b/c',\n",
    "  '5.13c',\n",
    "  '5.13+',\n",
    "  '5.13c/d',\n",
    "  '5.13d',\n",
    "  '5.14a',\n",
    "  '5.14-',\n",
    "  '5.14a/b',\n",
    "  '5.14b',\n",
    "  '5.14',\n",
    "  '5.14b/c',\n",
    "  '5.14c',\n",
    "  '5.14+',\n",
    "  '5.14c/d',\n",
    "  '5.14d',\n",
    "  '5.15a',\n",
    "  '5.15-',\n",
    "  '5.15a/b',\n",
    "  '5.15b',\n",
    "  '5.15',\n",
    "  '5.15c',\n",
    "  '5.15+',\n",
    "  '5.15c/d',\n",
    "  '5.15d'],\n",
    " 'Boulder': ['V-easy',\n",
    "  'V0-',\n",
    "  'V0',\n",
    "  'V0+',\n",
    "  'V0-1',\n",
    "  'V1-',\n",
    "  'V1',\n",
    "  'V1+',\n",
    "  'V1-2',\n",
    "  'V2-',\n",
    "  'V2',\n",
    "  'V2+',\n",
    "  'V2-3',\n",
    "  'V3-',\n",
    "  'V3',\n",
    "  'V3+',\n",
    "  'V3-4',\n",
    "  'V4-',\n",
    "  'V4',\n",
    "  'V4+',\n",
    "  'V4-5',\n",
    "  'V5-',\n",
    "  'V5',\n",
    "  'V5+',\n",
    "  'V5-6',\n",
    "  'V6-',\n",
    "  'V6',\n",
    "  'V6+',\n",
    "  'V6-7',\n",
    "  'V7-',\n",
    "  'V7',\n",
    "  'V7+',\n",
    "  'V7-8',\n",
    "  'V8-',\n",
    "  'V8',\n",
    "  'V8+',\n",
    "  'V8-9',\n",
    "  'V9-',\n",
    "  'V9',\n",
    "  'V9+',\n",
    "  'V9-10',\n",
    "  'V10-',\n",
    "  'V10',\n",
    "  'V10+',\n",
    "  'V10-11',\n",
    "  'V11-',\n",
    "  'V11',\n",
    "  'V11+',\n",
    "  'V11-12',\n",
    "  'V12-',\n",
    "  'V12',\n",
    "  'V12+',\n",
    "  'V12-13',\n",
    "  'V13-',\n",
    "  'V13',\n",
    "  'V13+',\n",
    "  'V13-14',\n",
    "  'V14-',\n",
    "  'V14',\n",
    "  'V14+',\n",
    "  'V14-15',\n",
    "  'V15-',\n",
    "  'V15',\n",
    "  'V15+',\n",
    "  'V15-16',\n",
    "  'V16-',\n",
    "  'V16',\n",
    "  'V16+',\n",
    "  'V16-17',\n",
    "  'V17-',\n",
    "  'V17'],\n",
    " 'Ice': ['WI1',\n",
    "  'WI2-',\n",
    "  'WI2',\n",
    "  'WI2+',\n",
    "  'WI2-3',\n",
    "  'WI3-',\n",
    "  'WI3',\n",
    "  'WI3+',\n",
    "  'WI3-4',\n",
    "  'WI4-',\n",
    "  'WI4',\n",
    "  'WI4+',\n",
    "  'WI4-5',\n",
    "  'WI5-',\n",
    "  'WI5',\n",
    "  'WI5+',\n",
    "  'WI5-6',\n",
    "  'WI6-',\n",
    "  'WI6',\n",
    "  'WI6+',\n",
    "  'WI6-7',\n",
    "  'WI7-',\n",
    "  'WI7',\n",
    "  'WI7+',\n",
    "  'WI7-8',\n",
    "  'WI8-',\n",
    "  'WI8',\n",
    "  'AI1',\n",
    "  'AI1-2',\n",
    "  'AI2',\n",
    "  'AI2-3',\n",
    "  'AI3',\n",
    "  'AI3-4',\n",
    "  'AI4',\n",
    "  'AI4-5',\n",
    "  'AI5',\n",
    "  'AI5-6',\n",
    "  'AI6'],\n",
    " 'Aid': ['C0',\n",
    "  'A0',\n",
    "  'C0+',\n",
    "  'A0+',\n",
    "  'C0-1',\n",
    "  'A0-1',\n",
    "  'C1-',\n",
    "  'A1-',\n",
    "  'C1',\n",
    "  'A1',\n",
    "  'C1+',\n",
    "  'A1+',\n",
    "  'C1-2',\n",
    "  'A1-2',\n",
    "  'C2-',\n",
    "  'A2-',\n",
    "  'C2',\n",
    "  'A2',\n",
    "  'C2+',\n",
    "  'A2+',\n",
    "  'C2-3',\n",
    "  'A2-3',\n",
    "  'C3-',\n",
    "  'A3-',\n",
    "  'C3',\n",
    "  'A3',\n",
    "  'C3+',\n",
    "  'A3+',\n",
    "  'C3-4',\n",
    "  'A3-4',\n",
    "  'C4-',\n",
    "  'A4-',\n",
    "  'C4',\n",
    "  'A4',\n",
    "  'C4+',\n",
    "  'A4+',\n",
    "  'C4-5',\n",
    "  'A4-5',\n",
    "  'C5-',\n",
    "  'A5-',\n",
    "  'C5',\n",
    "  'A5',\n",
    "  'C5+',\n",
    "  'A5+'],\n",
    " 'Mixed': ['M1',\n",
    "  'M1+',\n",
    "  'M1-2',\n",
    "  'M2-',\n",
    "  'M2',\n",
    "  'M2+',\n",
    "  'M2-3',\n",
    "  'M3-',\n",
    "  'M3',\n",
    "  'M3+',\n",
    "  'M3-4',\n",
    "  'M4-',\n",
    "  'M4',\n",
    "  'M4+',\n",
    "  'M4-5',\n",
    "  'M5-',\n",
    "  'M5',\n",
    "  'M5+',\n",
    "  'M5-6',\n",
    "  'M6-',\n",
    "  'M6',\n",
    "  'M6+',\n",
    "  'M6-7',\n",
    "  'M7-',\n",
    "  'M7',\n",
    "  'M7+',\n",
    "  'M7-8',\n",
    "  'M8-',\n",
    "  'M8',\n",
    "  'M8+',\n",
    "  'M8-9',\n",
    "  'M9-',\n",
    "  'M9',\n",
    "  'M9+',\n",
    "  'M9-10',\n",
    "  'M10-',\n",
    "  'M10',\n",
    "  'M10+',\n",
    "  'M10-11',\n",
    "  'M11-',\n",
    "  'M11',\n",
    "  'M11+',\n",
    "  'M12-',\n",
    "  'M12',\n",
    "  'M12+',\n",
    "  'M13-',\n",
    "  'M13',\n",
    "  'M13+'],\n",
    " 'Snow': ['Easy Snow', 'Mod. Snow', 'Steep Snow'],\n",
    " 'Safety': [\n",
    " 'PG13',\n",
    "  'R',\n",
    "  'X'],\n",
    " 'Mountaineering': ['I', 'II', 'III', 'IV', 'V', 'VI']}"
   ]
  },
  {
   "cell_type": "code",
   "execution_count": 3,
   "metadata": {
    "ExecuteTime": {
     "end_time": "2020-01-08T22:11:44.687705Z",
     "start_time": "2020-01-08T22:11:44.470310Z"
    }
   },
   "outputs": [
    {
     "data": {
      "text/html": [
       "<div>\n",
       "<style scoped>\n",
       "    .dataframe tbody tr th:only-of-type {\n",
       "        vertical-align: middle;\n",
       "    }\n",
       "\n",
       "    .dataframe tbody tr th {\n",
       "        vertical-align: top;\n",
       "    }\n",
       "\n",
       "    .dataframe thead th {\n",
       "        text-align: right;\n",
       "    }\n",
       "</style>\n",
       "<table border=\"1\" class=\"dataframe\">\n",
       "  <thead>\n",
       "    <tr style=\"text-align: right;\">\n",
       "      <th></th>\n",
       "      <th>Unnamed: 0</th>\n",
       "      <th>id</th>\n",
       "      <th>name</th>\n",
       "      <th>rating</th>\n",
       "      <th>stars</th>\n",
       "      <th>starVotes</th>\n",
       "      <th>pitches</th>\n",
       "      <th>location</th>\n",
       "      <th>region</th>\n",
       "      <th>area</th>\n",
       "      <th>sub_area</th>\n",
       "      <th>wall</th>\n",
       "      <th>longitude</th>\n",
       "      <th>latitude</th>\n",
       "      <th>url</th>\n",
       "      <th>Sport</th>\n",
       "      <th>Trad</th>\n",
       "      <th>Boulder</th>\n",
       "      <th>TR</th>\n",
       "      <th>Alpine</th>\n",
       "      <th>Aid</th>\n",
       "      <th>Ice</th>\n",
       "      <th>Snow</th>\n",
       "      <th>Mixed</th>\n",
       "      <th>danger</th>\n",
       "      <th>rope_grade</th>\n",
       "      <th>boulder_grade</th>\n",
       "    </tr>\n",
       "  </thead>\n",
       "  <tbody>\n",
       "    <tr>\n",
       "      <th>0</th>\n",
       "      <td>0</td>\n",
       "      <td>105714722</td>\n",
       "      <td>Central Yellow Wall</td>\n",
       "      <td>V3 R</td>\n",
       "      <td>4.4</td>\n",
       "      <td>22</td>\n",
       "      <td>0</td>\n",
       "      <td>South Dakota</td>\n",
       "      <td>Custer State Park</td>\n",
       "      <td>Sylvan Lake</td>\n",
       "      <td>Sylvan Lake Bouldering</td>\n",
       "      <td>Campground Boulder</td>\n",
       "      <td>-103.564</td>\n",
       "      <td>43.8463</td>\n",
       "      <td>https://www.mountainproject.com/route/10571472...</td>\n",
       "      <td>0</td>\n",
       "      <td>0</td>\n",
       "      <td>1</td>\n",
       "      <td>1</td>\n",
       "      <td>0</td>\n",
       "      <td>0</td>\n",
       "      <td>0</td>\n",
       "      <td>0</td>\n",
       "      <td>0</td>\n",
       "      <td>R</td>\n",
       "      <td>0</td>\n",
       "      <td>V3</td>\n",
       "    </tr>\n",
       "    <tr>\n",
       "      <th>1</th>\n",
       "      <td>1</td>\n",
       "      <td>105714728</td>\n",
       "      <td>Waves</td>\n",
       "      <td>5.8</td>\n",
       "      <td>4.6</td>\n",
       "      <td>217</td>\n",
       "      <td>2</td>\n",
       "      <td>South Dakota</td>\n",
       "      <td>The Needles Of Rushmore</td>\n",
       "      <td>Mount Rushmore National Memorial</td>\n",
       "      <td>South Seas</td>\n",
       "      <td>Shipyard Rock</td>\n",
       "      <td>-103.466</td>\n",
       "      <td>43.8865</td>\n",
       "      <td>https://www.mountainproject.com/route/10571472...</td>\n",
       "      <td>1</td>\n",
       "      <td>0</td>\n",
       "      <td>0</td>\n",
       "      <td>0</td>\n",
       "      <td>0</td>\n",
       "      <td>0</td>\n",
       "      <td>0</td>\n",
       "      <td>0</td>\n",
       "      <td>0</td>\n",
       "      <td>G</td>\n",
       "      <td>5.8</td>\n",
       "      <td>0</td>\n",
       "    </tr>\n",
       "    <tr>\n",
       "      <th>2</th>\n",
       "      <td>2</td>\n",
       "      <td>105714731</td>\n",
       "      <td>East Chimney Variation</td>\n",
       "      <td>5.7</td>\n",
       "      <td>4.1</td>\n",
       "      <td>40</td>\n",
       "      <td>2</td>\n",
       "      <td>South Dakota</td>\n",
       "      <td>Custer State Park</td>\n",
       "      <td>Cathedral Spires</td>\n",
       "      <td>Station 13</td>\n",
       "      <td>0</td>\n",
       "      <td>-103.534</td>\n",
       "      <td>43.8488</td>\n",
       "      <td>https://www.mountainproject.com/route/10571473...</td>\n",
       "      <td>0</td>\n",
       "      <td>1</td>\n",
       "      <td>0</td>\n",
       "      <td>0</td>\n",
       "      <td>0</td>\n",
       "      <td>0</td>\n",
       "      <td>0</td>\n",
       "      <td>0</td>\n",
       "      <td>0</td>\n",
       "      <td>G</td>\n",
       "      <td>5.7</td>\n",
       "      <td>0</td>\n",
       "    </tr>\n",
       "    <tr>\n",
       "      <th>3</th>\n",
       "      <td>3</td>\n",
       "      <td>105714734</td>\n",
       "      <td>Conn Diagonal</td>\n",
       "      <td>5.7</td>\n",
       "      <td>4.9</td>\n",
       "      <td>151</td>\n",
       "      <td>3</td>\n",
       "      <td>South Dakota</td>\n",
       "      <td>Custer State Park</td>\n",
       "      <td>Sylvan Lake</td>\n",
       "      <td>Outlets</td>\n",
       "      <td>Outer Outlet</td>\n",
       "      <td>-103.568</td>\n",
       "      <td>43.8487</td>\n",
       "      <td>https://www.mountainproject.com/route/10571473...</td>\n",
       "      <td>0</td>\n",
       "      <td>1</td>\n",
       "      <td>0</td>\n",
       "      <td>0</td>\n",
       "      <td>0</td>\n",
       "      <td>0</td>\n",
       "      <td>0</td>\n",
       "      <td>0</td>\n",
       "      <td>0</td>\n",
       "      <td>G</td>\n",
       "      <td>5.7</td>\n",
       "      <td>0</td>\n",
       "    </tr>\n",
       "    <tr>\n",
       "      <th>4</th>\n",
       "      <td>4</td>\n",
       "      <td>105714737</td>\n",
       "      <td>Bolts for Bobs</td>\n",
       "      <td>5.8</td>\n",
       "      <td>3.5</td>\n",
       "      <td>125</td>\n",
       "      <td>1</td>\n",
       "      <td>South Dakota</td>\n",
       "      <td>The Needles Of Rushmore</td>\n",
       "      <td>Mount Rushmore National Memorial</td>\n",
       "      <td>South Seas</td>\n",
       "      <td>Borneo</td>\n",
       "      <td>-103.469</td>\n",
       "      <td>43.8870</td>\n",
       "      <td>https://www.mountainproject.com/route/10571473...</td>\n",
       "      <td>1</td>\n",
       "      <td>0</td>\n",
       "      <td>0</td>\n",
       "      <td>0</td>\n",
       "      <td>0</td>\n",
       "      <td>0</td>\n",
       "      <td>0</td>\n",
       "      <td>0</td>\n",
       "      <td>0</td>\n",
       "      <td>G</td>\n",
       "      <td>5.8</td>\n",
       "      <td>0</td>\n",
       "    </tr>\n",
       "  </tbody>\n",
       "</table>\n",
       "</div>"
      ],
      "text/plain": [
       "   Unnamed: 0         id                    name rating  stars  starVotes  \\\n",
       "0           0  105714722     Central Yellow Wall   V3 R    4.4         22   \n",
       "1           1  105714728                   Waves    5.8    4.6        217   \n",
       "2           2  105714731  East Chimney Variation    5.7    4.1         40   \n",
       "3           3  105714734           Conn Diagonal    5.7    4.9        151   \n",
       "4           4  105714737          Bolts for Bobs    5.8    3.5        125   \n",
       "\n",
       "   pitches      location                   region  \\\n",
       "0        0  South Dakota        Custer State Park   \n",
       "1        2  South Dakota  The Needles Of Rushmore   \n",
       "2        2  South Dakota        Custer State Park   \n",
       "3        3  South Dakota        Custer State Park   \n",
       "4        1  South Dakota  The Needles Of Rushmore   \n",
       "\n",
       "                               area                sub_area  \\\n",
       "0                       Sylvan Lake  Sylvan Lake Bouldering   \n",
       "1  Mount Rushmore National Memorial              South Seas   \n",
       "2                  Cathedral Spires              Station 13   \n",
       "3                       Sylvan Lake                 Outlets   \n",
       "4  Mount Rushmore National Memorial              South Seas   \n",
       "\n",
       "                 wall  longitude  latitude  \\\n",
       "0  Campground Boulder   -103.564   43.8463   \n",
       "1       Shipyard Rock   -103.466   43.8865   \n",
       "2                   0   -103.534   43.8488   \n",
       "3        Outer Outlet   -103.568   43.8487   \n",
       "4              Borneo   -103.469   43.8870   \n",
       "\n",
       "                                                 url  Sport  Trad  Boulder  \\\n",
       "0  https://www.mountainproject.com/route/10571472...      0     0        1   \n",
       "1  https://www.mountainproject.com/route/10571472...      1     0        0   \n",
       "2  https://www.mountainproject.com/route/10571473...      0     1        0   \n",
       "3  https://www.mountainproject.com/route/10571473...      0     1        0   \n",
       "4  https://www.mountainproject.com/route/10571473...      1     0        0   \n",
       "\n",
       "   TR  Alpine  Aid  Ice  Snow  Mixed danger rope_grade boulder_grade  \n",
       "0   1       0    0    0     0      0      R          0            V3  \n",
       "1   0       0    0    0     0      0      G        5.8             0  \n",
       "2   0       0    0    0     0      0      G        5.7             0  \n",
       "3   0       0    0    0     0      0      G        5.7             0  \n",
       "4   0       0    0    0     0      0      G        5.8             0  "
      ]
     },
     "execution_count": 3,
     "metadata": {},
     "output_type": "execute_result"
    }
   ],
   "source": [
    "df = pd.read_csv('clean_data.csv')\n",
    "pd.set_option('display.max_columns', 50)\n",
    "df.head()"
   ]
  },
  {
   "cell_type": "markdown",
   "metadata": {
    "heading_collapsed": true
   },
   "source": [
    "## Making Data Numeric"
   ]
  },
  {
   "cell_type": "code",
   "execution_count": 4,
   "metadata": {
    "ExecuteTime": {
     "end_time": "2020-01-08T22:11:47.352358Z",
     "start_time": "2020-01-08T22:11:47.316793Z"
    },
    "hidden": true,
    "scrolled": true
   },
   "outputs": [
    {
     "name": "stdout",
     "output_type": "stream",
     "text": [
      "<class 'pandas.core.frame.DataFrame'>\n",
      "RangeIndex: 36609 entries, 0 to 36608\n",
      "Data columns (total 27 columns):\n",
      "Unnamed: 0       36609 non-null int64\n",
      "id               36609 non-null int64\n",
      "name             36609 non-null object\n",
      "rating           36603 non-null object\n",
      "stars            36609 non-null float64\n",
      "starVotes        36609 non-null int64\n",
      "pitches          36609 non-null int64\n",
      "location         36609 non-null object\n",
      "region           36609 non-null object\n",
      "area             36609 non-null object\n",
      "sub_area         36609 non-null object\n",
      "wall             36609 non-null object\n",
      "longitude        36609 non-null float64\n",
      "latitude         36609 non-null float64\n",
      "url              36609 non-null object\n",
      "Sport            36609 non-null int64\n",
      "Trad             36609 non-null int64\n",
      "Boulder          36609 non-null int64\n",
      "TR               36609 non-null int64\n",
      "Alpine           36609 non-null int64\n",
      "Aid              36609 non-null int64\n",
      "Ice              36609 non-null int64\n",
      "Snow             36609 non-null int64\n",
      "Mixed            36609 non-null int64\n",
      "danger           36609 non-null object\n",
      "rope_grade       36609 non-null object\n",
      "boulder_grade    36609 non-null object\n",
      "dtypes: float64(3), int64(13), object(11)\n",
      "memory usage: 7.5+ MB\n"
     ]
    }
   ],
   "source": [
    "df.info()"
   ]
  },
  {
   "cell_type": "code",
   "execution_count": 5,
   "metadata": {
    "ExecuteTime": {
     "end_time": "2020-01-08T22:11:47.554385Z",
     "start_time": "2020-01-08T22:11:47.550758Z"
    },
    "hidden": true
   },
   "outputs": [
    {
     "data": {
      "text/plain": [
       "77"
      ]
     },
     "execution_count": 5,
     "metadata": {},
     "output_type": "execute_result"
    }
   ],
   "source": [
    "len(diff_grade['Rope'])"
   ]
  },
  {
   "cell_type": "code",
   "execution_count": 6,
   "metadata": {
    "ExecuteTime": {
     "end_time": "2020-01-08T22:11:47.782651Z",
     "start_time": "2020-01-08T22:11:47.779848Z"
    },
    "hidden": true
   },
   "outputs": [],
   "source": [
    "###if i want a grade scale use enumerate through diff_grade dict and assign i\n",
    "def get_rope_grades(grade, catagory):\n",
    "    for i,match in enumerate(diff_grade[catagory]):\n",
    "        if match==grade:\n",
    "            return i+1\n",
    "    return 0"
   ]
  },
  {
   "cell_type": "code",
   "execution_count": 7,
   "metadata": {
    "ExecuteTime": {
     "end_time": "2020-01-08T22:11:48.049398Z",
     "start_time": "2020-01-08T22:11:48.047083Z"
    },
    "hidden": true
   },
   "outputs": [],
   "source": [
    "df_numeric = df"
   ]
  },
  {
   "cell_type": "markdown",
   "metadata": {
    "hidden": true
   },
   "source": [
    "#### Make grade columns numeric"
   ]
  },
  {
   "cell_type": "code",
   "execution_count": 8,
   "metadata": {
    "ExecuteTime": {
     "end_time": "2020-01-08T22:11:48.631300Z",
     "start_time": "2020-01-08T22:11:48.628059Z"
    },
    "hidden": true
   },
   "outputs": [
    {
     "data": {
      "text/plain": [
       "dict_keys(['Rope', 'Boulder', 'Ice', 'Aid', 'Mixed', 'Snow', 'Safety', 'Mountaineering'])"
      ]
     },
     "execution_count": 8,
     "metadata": {},
     "output_type": "execute_result"
    }
   ],
   "source": [
    "diff_grade.keys()"
   ]
  },
  {
   "cell_type": "code",
   "execution_count": 9,
   "metadata": {
    "ExecuteTime": {
     "end_time": "2020-01-08T22:11:49.184339Z",
     "start_time": "2020-01-08T22:11:48.945596Z"
    },
    "hidden": true
   },
   "outputs": [
    {
     "data": {
      "text/html": [
       "<div>\n",
       "<style scoped>\n",
       "    .dataframe tbody tr th:only-of-type {\n",
       "        vertical-align: middle;\n",
       "    }\n",
       "\n",
       "    .dataframe tbody tr th {\n",
       "        vertical-align: top;\n",
       "    }\n",
       "\n",
       "    .dataframe thead th {\n",
       "        text-align: right;\n",
       "    }\n",
       "</style>\n",
       "<table border=\"1\" class=\"dataframe\">\n",
       "  <thead>\n",
       "    <tr style=\"text-align: right;\">\n",
       "      <th></th>\n",
       "      <th>Unnamed: 0</th>\n",
       "      <th>id</th>\n",
       "      <th>name</th>\n",
       "      <th>rating</th>\n",
       "      <th>stars</th>\n",
       "      <th>starVotes</th>\n",
       "      <th>pitches</th>\n",
       "      <th>location</th>\n",
       "      <th>region</th>\n",
       "      <th>area</th>\n",
       "      <th>sub_area</th>\n",
       "      <th>wall</th>\n",
       "      <th>longitude</th>\n",
       "      <th>latitude</th>\n",
       "      <th>url</th>\n",
       "      <th>Sport</th>\n",
       "      <th>Trad</th>\n",
       "      <th>Boulder</th>\n",
       "      <th>TR</th>\n",
       "      <th>Alpine</th>\n",
       "      <th>Aid</th>\n",
       "      <th>Ice</th>\n",
       "      <th>Snow</th>\n",
       "      <th>Mixed</th>\n",
       "      <th>danger</th>\n",
       "      <th>rope_grade</th>\n",
       "      <th>boulder_grade</th>\n",
       "    </tr>\n",
       "  </thead>\n",
       "  <tbody>\n",
       "    <tr>\n",
       "      <th>0</th>\n",
       "      <td>0</td>\n",
       "      <td>105714722</td>\n",
       "      <td>Central Yellow Wall</td>\n",
       "      <td>V3 R</td>\n",
       "      <td>4.4</td>\n",
       "      <td>22</td>\n",
       "      <td>0</td>\n",
       "      <td>South Dakota</td>\n",
       "      <td>Custer State Park</td>\n",
       "      <td>Sylvan Lake</td>\n",
       "      <td>Sylvan Lake Bouldering</td>\n",
       "      <td>Campground Boulder</td>\n",
       "      <td>-103.564</td>\n",
       "      <td>43.8463</td>\n",
       "      <td>https://www.mountainproject.com/route/10571472...</td>\n",
       "      <td>0</td>\n",
       "      <td>0</td>\n",
       "      <td>1</td>\n",
       "      <td>1</td>\n",
       "      <td>0</td>\n",
       "      <td>0</td>\n",
       "      <td>0</td>\n",
       "      <td>0</td>\n",
       "      <td>0</td>\n",
       "      <td>2</td>\n",
       "      <td>0</td>\n",
       "      <td>15</td>\n",
       "    </tr>\n",
       "    <tr>\n",
       "      <th>1</th>\n",
       "      <td>1</td>\n",
       "      <td>105714728</td>\n",
       "      <td>Waves</td>\n",
       "      <td>5.8</td>\n",
       "      <td>4.6</td>\n",
       "      <td>217</td>\n",
       "      <td>2</td>\n",
       "      <td>South Dakota</td>\n",
       "      <td>The Needles Of Rushmore</td>\n",
       "      <td>Mount Rushmore National Memorial</td>\n",
       "      <td>South Seas</td>\n",
       "      <td>Shipyard Rock</td>\n",
       "      <td>-103.466</td>\n",
       "      <td>43.8865</td>\n",
       "      <td>https://www.mountainproject.com/route/10571472...</td>\n",
       "      <td>1</td>\n",
       "      <td>0</td>\n",
       "      <td>0</td>\n",
       "      <td>0</td>\n",
       "      <td>0</td>\n",
       "      <td>0</td>\n",
       "      <td>0</td>\n",
       "      <td>0</td>\n",
       "      <td>0</td>\n",
       "      <td>0</td>\n",
       "      <td>14</td>\n",
       "      <td>0</td>\n",
       "    </tr>\n",
       "    <tr>\n",
       "      <th>2</th>\n",
       "      <td>2</td>\n",
       "      <td>105714731</td>\n",
       "      <td>East Chimney Variation</td>\n",
       "      <td>5.7</td>\n",
       "      <td>4.1</td>\n",
       "      <td>40</td>\n",
       "      <td>2</td>\n",
       "      <td>South Dakota</td>\n",
       "      <td>Custer State Park</td>\n",
       "      <td>Cathedral Spires</td>\n",
       "      <td>Station 13</td>\n",
       "      <td>0</td>\n",
       "      <td>-103.534</td>\n",
       "      <td>43.8488</td>\n",
       "      <td>https://www.mountainproject.com/route/10571473...</td>\n",
       "      <td>0</td>\n",
       "      <td>1</td>\n",
       "      <td>0</td>\n",
       "      <td>0</td>\n",
       "      <td>0</td>\n",
       "      <td>0</td>\n",
       "      <td>0</td>\n",
       "      <td>0</td>\n",
       "      <td>0</td>\n",
       "      <td>0</td>\n",
       "      <td>11</td>\n",
       "      <td>0</td>\n",
       "    </tr>\n",
       "    <tr>\n",
       "      <th>3</th>\n",
       "      <td>3</td>\n",
       "      <td>105714734</td>\n",
       "      <td>Conn Diagonal</td>\n",
       "      <td>5.7</td>\n",
       "      <td>4.9</td>\n",
       "      <td>151</td>\n",
       "      <td>3</td>\n",
       "      <td>South Dakota</td>\n",
       "      <td>Custer State Park</td>\n",
       "      <td>Sylvan Lake</td>\n",
       "      <td>Outlets</td>\n",
       "      <td>Outer Outlet</td>\n",
       "      <td>-103.568</td>\n",
       "      <td>43.8487</td>\n",
       "      <td>https://www.mountainproject.com/route/10571473...</td>\n",
       "      <td>0</td>\n",
       "      <td>1</td>\n",
       "      <td>0</td>\n",
       "      <td>0</td>\n",
       "      <td>0</td>\n",
       "      <td>0</td>\n",
       "      <td>0</td>\n",
       "      <td>0</td>\n",
       "      <td>0</td>\n",
       "      <td>0</td>\n",
       "      <td>11</td>\n",
       "      <td>0</td>\n",
       "    </tr>\n",
       "    <tr>\n",
       "      <th>4</th>\n",
       "      <td>4</td>\n",
       "      <td>105714737</td>\n",
       "      <td>Bolts for Bobs</td>\n",
       "      <td>5.8</td>\n",
       "      <td>3.5</td>\n",
       "      <td>125</td>\n",
       "      <td>1</td>\n",
       "      <td>South Dakota</td>\n",
       "      <td>The Needles Of Rushmore</td>\n",
       "      <td>Mount Rushmore National Memorial</td>\n",
       "      <td>South Seas</td>\n",
       "      <td>Borneo</td>\n",
       "      <td>-103.469</td>\n",
       "      <td>43.8870</td>\n",
       "      <td>https://www.mountainproject.com/route/10571473...</td>\n",
       "      <td>1</td>\n",
       "      <td>0</td>\n",
       "      <td>0</td>\n",
       "      <td>0</td>\n",
       "      <td>0</td>\n",
       "      <td>0</td>\n",
       "      <td>0</td>\n",
       "      <td>0</td>\n",
       "      <td>0</td>\n",
       "      <td>0</td>\n",
       "      <td>14</td>\n",
       "      <td>0</td>\n",
       "    </tr>\n",
       "  </tbody>\n",
       "</table>\n",
       "</div>"
      ],
      "text/plain": [
       "   Unnamed: 0         id                    name rating  stars  starVotes  \\\n",
       "0           0  105714722     Central Yellow Wall   V3 R    4.4         22   \n",
       "1           1  105714728                   Waves    5.8    4.6        217   \n",
       "2           2  105714731  East Chimney Variation    5.7    4.1         40   \n",
       "3           3  105714734           Conn Diagonal    5.7    4.9        151   \n",
       "4           4  105714737          Bolts for Bobs    5.8    3.5        125   \n",
       "\n",
       "   pitches      location                   region  \\\n",
       "0        0  South Dakota        Custer State Park   \n",
       "1        2  South Dakota  The Needles Of Rushmore   \n",
       "2        2  South Dakota        Custer State Park   \n",
       "3        3  South Dakota        Custer State Park   \n",
       "4        1  South Dakota  The Needles Of Rushmore   \n",
       "\n",
       "                               area                sub_area  \\\n",
       "0                       Sylvan Lake  Sylvan Lake Bouldering   \n",
       "1  Mount Rushmore National Memorial              South Seas   \n",
       "2                  Cathedral Spires              Station 13   \n",
       "3                       Sylvan Lake                 Outlets   \n",
       "4  Mount Rushmore National Memorial              South Seas   \n",
       "\n",
       "                 wall  longitude  latitude  \\\n",
       "0  Campground Boulder   -103.564   43.8463   \n",
       "1       Shipyard Rock   -103.466   43.8865   \n",
       "2                   0   -103.534   43.8488   \n",
       "3        Outer Outlet   -103.568   43.8487   \n",
       "4              Borneo   -103.469   43.8870   \n",
       "\n",
       "                                                 url  Sport  Trad  Boulder  \\\n",
       "0  https://www.mountainproject.com/route/10571472...      0     0        1   \n",
       "1  https://www.mountainproject.com/route/10571472...      1     0        0   \n",
       "2  https://www.mountainproject.com/route/10571473...      0     1        0   \n",
       "3  https://www.mountainproject.com/route/10571473...      0     1        0   \n",
       "4  https://www.mountainproject.com/route/10571473...      1     0        0   \n",
       "\n",
       "   TR  Alpine  Aid  Ice  Snow  Mixed  danger  rope_grade  boulder_grade  \n",
       "0   1       0    0    0     0      0       2           0             15  \n",
       "1   0       0    0    0     0      0       0          14              0  \n",
       "2   0       0    0    0     0      0       0          11              0  \n",
       "3   0       0    0    0     0      0       0          11              0  \n",
       "4   0       0    0    0     0      0       0          14              0  "
      ]
     },
     "execution_count": 9,
     "metadata": {},
     "output_type": "execute_result"
    }
   ],
   "source": [
    "df_numeric['rope_grade']=df['rope_grade'].apply(lambda x: get_rope_grades(x,'Rope'))\n",
    "df_numeric['boulder_grade']=df['boulder_grade'].apply(lambda x: get_rope_grades(x,'Boulder'))\n",
    "df_numeric['danger']=df['danger'].apply(lambda x: get_rope_grades(x,'Safety'))\n",
    "\n",
    "df_numeric.head()"
   ]
  },
  {
   "cell_type": "code",
   "execution_count": null,
   "metadata": {
    "hidden": true
   },
   "outputs": [],
   "source": []
  },
  {
   "cell_type": "markdown",
   "metadata": {
    "heading_collapsed": true
   },
   "source": [
    "## Reccomender"
   ]
  },
  {
   "cell_type": "code",
   "execution_count": null,
   "metadata": {
    "ExecuteTime": {
     "end_time": "2020-01-07T23:27:51.790043Z",
     "start_time": "2020-01-07T23:27:51.787651Z"
    },
    "hidden": true
   },
   "outputs": [],
   "source": [
    "df_test= df"
   ]
  },
  {
   "cell_type": "code",
   "execution_count": null,
   "metadata": {
    "ExecuteTime": {
     "end_time": "2020-01-07T23:27:52.477468Z",
     "start_time": "2020-01-07T23:27:52.474062Z"
    },
    "hidden": true
   },
   "outputs": [],
   "source": [
    "###if i want a grade scale use enumerate through diff_grade dict and assign i\n",
    "def get_rope_grades(grade, catagory):\n",
    "    for i,match in enumerate(diff_grade[catagory]):\n",
    "        if match==grade:\n",
    "            return i+1\n",
    "    return 0"
   ]
  },
  {
   "cell_type": "code",
   "execution_count": null,
   "metadata": {
    "ExecuteTime": {
     "end_time": "2020-01-07T23:27:53.727936Z",
     "start_time": "2020-01-07T23:27:53.616937Z"
    },
    "hidden": true
   },
   "outputs": [],
   "source": [
    "df_test['rating']=df['rope_grade'].apply(lambda x: get_rope_grades(x,'Rope'))\n",
    "df.head()"
   ]
  },
  {
   "cell_type": "code",
   "execution_count": null,
   "metadata": {
    "ExecuteTime": {
     "end_time": "2020-01-07T23:31:22.616552Z",
     "start_time": "2020-01-07T23:31:22.609055Z"
    },
    "hidden": true
   },
   "outputs": [],
   "source": [
    "df_test=df_test[df_test.rating!=0]"
   ]
  },
  {
   "cell_type": "code",
   "execution_count": null,
   "metadata": {
    "ExecuteTime": {
     "end_time": "2020-01-08T00:05:10.222049Z",
     "start_time": "2020-01-08T00:05:10.201334Z"
    },
    "hidden": true
   },
   "outputs": [],
   "source": [
    "df_test.head()"
   ]
  },
  {
   "cell_type": "code",
   "execution_count": null,
   "metadata": {
    "ExecuteTime": {
     "end_time": "2020-01-08T00:05:18.005862Z",
     "start_time": "2020-01-08T00:05:17.998520Z"
    },
    "hidden": true
   },
   "outputs": [],
   "source": [
    "\n",
    "min_max_scaler = preprocessing.MinMaxScaler()\n",
    "\n",
    "climbs = min_max_scaler.fit_transform(df_test[['rating', 'stars']])\n",
    "# climbs['name'] = df_test['name']\n",
    "climbs_norm = pd.DataFrame(climbs, columns=['norm_weighted_rating', 'norm_stars'])"
   ]
  },
  {
   "cell_type": "code",
   "execution_count": null,
   "metadata": {
    "ExecuteTime": {
     "end_time": "2020-01-08T00:05:19.187919Z",
     "start_time": "2020-01-08T00:05:19.184587Z"
    },
    "hidden": true
   },
   "outputs": [],
   "source": [
    "df_test.shape"
   ]
  },
  {
   "cell_type": "code",
   "execution_count": null,
   "metadata": {
    "ExecuteTime": {
     "end_time": "2020-01-08T00:05:22.924518Z",
     "start_time": "2020-01-08T00:05:22.921084Z"
    },
    "hidden": true
   },
   "outputs": [],
   "source": [
    "climbs_norm.shape"
   ]
  },
  {
   "cell_type": "code",
   "execution_count": null,
   "metadata": {
    "ExecuteTime": {
     "end_time": "2020-01-08T00:07:31.904320Z",
     "start_time": "2020-01-08T00:07:31.824593Z"
    },
    "hidden": true,
    "scrolled": true
   },
   "outputs": [],
   "source": [
    "df_test.reset_index()"
   ]
  },
  {
   "cell_type": "code",
   "execution_count": null,
   "metadata": {
    "ExecuteTime": {
     "end_time": "2020-01-08T00:07:36.040258Z",
     "start_time": "2020-01-08T00:07:36.035956Z"
    },
    "hidden": true
   },
   "outputs": [],
   "source": [
    "climbs_norm['name'] = df_test['name']"
   ]
  },
  {
   "cell_type": "code",
   "execution_count": null,
   "metadata": {
    "ExecuteTime": {
     "end_time": "2020-01-08T00:08:37.914637Z",
     "start_time": "2020-01-08T00:08:37.907015Z"
    },
    "hidden": true
   },
   "outputs": [],
   "source": [
    "climbs_norm.head()"
   ]
  },
  {
   "cell_type": "code",
   "execution_count": null,
   "metadata": {
    "ExecuteTime": {
     "end_time": "2020-01-08T00:08:40.510990Z",
     "start_time": "2020-01-08T00:08:40.508711Z"
    },
    "hidden": true,
    "scrolled": false
   },
   "outputs": [],
   "source": [
    "df_test_clean = climbs_norm"
   ]
  },
  {
   "cell_type": "code",
   "execution_count": null,
   "metadata": {
    "ExecuteTime": {
     "end_time": "2020-01-08T00:08:41.186356Z",
     "start_time": "2020-01-08T00:08:41.179021Z"
    },
    "hidden": true
   },
   "outputs": [],
   "source": [
    "# df_test_clean.columns = ['norm_weighted_rating', 'norm_stars', 'name']\n",
    "df_test_clean.head()"
   ]
  },
  {
   "cell_type": "code",
   "execution_count": null,
   "metadata": {
    "ExecuteTime": {
     "end_time": "2020-01-08T00:09:17.464140Z",
     "start_time": "2020-01-08T00:09:17.445760Z"
    },
    "hidden": true
   },
   "outputs": [],
   "source": [
    "\n",
    "df_test_clean['score'] = df_test_clean['norm_weighted_rating'] * 0.5 + df_test_clean['norm_stars'] * 0.5\n",
    "df_test_scored = df_test_clean.sort_values(['score'], ascending=False)\n",
    "df_test_scored[['name', 'norm_weighted_rating', 'norm_stars', 'score']].head(20)"
   ]
  },
  {
   "cell_type": "markdown",
   "metadata": {},
   "source": [
    "## KNN"
   ]
  },
  {
   "cell_type": "markdown",
   "metadata": {},
   "source": [
    "### Using Standard Scalar"
   ]
  },
  {
   "cell_type": "code",
   "execution_count": null,
   "metadata": {
    "ExecuteTime": {
     "end_time": "2020-01-08T21:23:12.509610Z",
     "start_time": "2020-01-08T21:23:12.506744Z"
    }
   },
   "outputs": [],
   "source": [
    "from sklearn.preprocessing import MinMaxScaler\n",
    "from sklearn.preprocessing import minmax_scale\n",
    "from sklearn.preprocessing import MaxAbsScaler\n",
    "from sklearn.preprocessing import StandardScaler"
   ]
  },
  {
   "cell_type": "markdown",
   "metadata": {},
   "source": [
    "########\n",
    "Need to decide how to scale Non rope routes (maybe assigned a constant value len x from target)\n",
    "#####"
   ]
  },
  {
   "cell_type": "code",
   "execution_count": null,
   "metadata": {
    "ExecuteTime": {
     "end_time": "2020-01-08T21:23:15.533569Z",
     "start_time": "2020-01-08T21:23:15.514543Z"
    }
   },
   "outputs": [],
   "source": [
    "df_numeric.head()"
   ]
  },
  {
   "cell_type": "code",
   "execution_count": null,
   "metadata": {
    "ExecuteTime": {
     "end_time": "2020-01-08T21:24:25.649636Z",
     "start_time": "2020-01-08T21:24:25.574439Z"
    }
   },
   "outputs": [],
   "source": [
    "df_numeric.drop(columns='Unnamed: 0')"
   ]
  },
  {
   "cell_type": "code",
   "execution_count": null,
   "metadata": {
    "ExecuteTime": {
     "end_time": "2020-01-08T21:24:33.576352Z",
     "start_time": "2020-01-08T21:24:33.572665Z"
    }
   },
   "outputs": [],
   "source": [
    "df_numeric.columns"
   ]
  },
  {
   "cell_type": "code",
   "execution_count": null,
   "metadata": {
    "ExecuteTime": {
     "end_time": "2020-01-08T21:24:37.157791Z",
     "start_time": "2020-01-08T21:24:37.151371Z"
    }
   },
   "outputs": [],
   "source": [
    "features = df_numeric[['stars', 'pitches','longitude',\n",
    "       'latitude', 'Sport', 'Trad', 'Boulder', 'TR', 'Alpine', 'Aid',\n",
    "       'Ice', 'Snow', 'Mixed', 'danger', 'rope_grade', 'boulder_grade']]"
   ]
  },
  {
   "cell_type": "code",
   "execution_count": null,
   "metadata": {
    "ExecuteTime": {
     "end_time": "2020-01-08T21:24:38.115403Z",
     "start_time": "2020-01-08T21:24:38.113413Z"
    },
    "scrolled": true
   },
   "outputs": [],
   "source": [
    "#sets id as index so we can match best fit\n",
    "# features.set_index('id',inplace=True)"
   ]
  },
  {
   "cell_type": "code",
   "execution_count": null,
   "metadata": {
    "ExecuteTime": {
     "end_time": "2020-01-08T21:24:48.606330Z",
     "start_time": "2020-01-08T21:24:48.603880Z"
    }
   },
   "outputs": [],
   "source": [
    "min_max_scaler = MinMaxScaler()\n",
    "scalar = StandardScaler()"
   ]
  },
  {
   "cell_type": "code",
   "execution_count": null,
   "metadata": {
    "ExecuteTime": {
     "end_time": "2020-01-08T21:24:49.768183Z",
     "start_time": "2020-01-08T21:24:49.746789Z"
    }
   },
   "outputs": [],
   "source": [
    "##### Pick a scaling option\n",
    "\n",
    "features_scaled = scalar.fit_transform(features)\n",
    "# features_scaled = min_max_scaler.fit_transform(features)"
   ]
  },
  {
   "cell_type": "markdown",
   "metadata": {},
   "source": [
    "### Now lets fit the similarity model"
   ]
  },
  {
   "cell_type": "markdown",
   "metadata": {
    "heading_collapsed": true
   },
   "source": [
    "#### Matrix comparison (too big to use ~10GB)"
   ]
  },
  {
   "cell_type": "code",
   "execution_count": null,
   "metadata": {
    "ExecuteTime": {
     "end_time": "2020-01-08T21:24:56.348508Z",
     "start_time": "2020-01-08T21:24:56.328620Z"
    },
    "hidden": true
   },
   "outputs": [],
   "source": [
    "##################################################################\n",
    "# Import kernels\n",
    "from sklearn.metrics.pairwise import linear_kernel\n",
    "from sklearn.metrics.pairwise import cosine_similarity\n",
    "from sklearn.metrics.pairwise import polynomial_kernel\n",
    "from sklearn.metrics.pairwise import sigmoid_kernel\n",
    "from sklearn.metrics.pairwise import rbf_kernel\n",
    "from sklearn.metrics.pairwise import laplacian_kernel\n",
    "from sklearn.metrics.pairwise import chi2_kernel\n"
   ]
  },
  {
   "cell_type": "code",
   "execution_count": null,
   "metadata": {
    "ExecuteTime": {
     "end_time": "2020-01-08T21:25:17.109548Z",
     "start_time": "2020-01-08T21:25:05.871623Z"
    },
    "hidden": true,
    "scrolled": true
   },
   "outputs": [],
   "source": [
    "# Compute the similarity matrix for each kernal\n",
    "kernel_lin = linear_kernel(features_scaled, features_scaled)"
   ]
  },
  {
   "cell_type": "code",
   "execution_count": null,
   "metadata": {
    "ExecuteTime": {
     "end_time": "2020-01-08T21:26:55.069191Z",
     "start_time": "2020-01-08T21:26:55.063847Z"
    },
    "hidden": true
   },
   "outputs": [],
   "source": [
    "import sys\n",
    "sys.getsizeof(kernel_lin)"
   ]
  },
  {
   "cell_type": "code",
   "execution_count": null,
   "metadata": {
    "ExecuteTime": {
     "end_time": "2020-01-08T21:29:12.834686Z",
     "start_time": "2020-01-08T21:29:12.831017Z"
    },
    "hidden": true
   },
   "outputs": [],
   "source": [
    "kernel_lin.shape"
   ]
  },
  {
   "cell_type": "code",
   "execution_count": null,
   "metadata": {
    "ExecuteTime": {
     "end_time": "2020-01-08T21:45:07.237365Z",
     "start_time": "2020-01-08T21:45:07.233804Z"
    },
    "hidden": true
   },
   "outputs": [],
   "source": [
    "kernel_lin[0].shape"
   ]
  },
  {
   "cell_type": "code",
   "execution_count": null,
   "metadata": {
    "hidden": true
   },
   "outputs": [],
   "source": [
    "kernel_cos = cosine_similarity(features_scaled, features_scaled)"
   ]
  },
  {
   "cell_type": "code",
   "execution_count": null,
   "metadata": {
    "hidden": true
   },
   "outputs": [],
   "source": [
    "kernel_cos = polynomial_kernel(features_scaled, features_scaled)"
   ]
  },
  {
   "cell_type": "code",
   "execution_count": null,
   "metadata": {
    "hidden": true
   },
   "outputs": [],
   "source": [
    "kernel_sig = sigmoid_kernel(features_scaled, features_scaled)"
   ]
  },
  {
   "cell_type": "code",
   "execution_count": null,
   "metadata": {
    "hidden": true
   },
   "outputs": [],
   "source": [
    "kernel_rbf = rbf_kernel(features_scaled, features_scaled)"
   ]
  },
  {
   "cell_type": "code",
   "execution_count": null,
   "metadata": {
    "hidden": true
   },
   "outputs": [],
   "source": [
    "kernel_lap = laplacian_kernel(features_scaled, features_scaled)"
   ]
  },
  {
   "cell_type": "code",
   "execution_count": null,
   "metadata": {
    "hidden": true
   },
   "outputs": [],
   "source": [
    "kernel_chi = chi2_kernel(features_scaled, features_scaled)"
   ]
  },
  {
   "cell_type": "code",
   "execution_count": null,
   "metadata": {
    "ExecuteTime": {
     "end_time": "2020-01-08T21:30:09.426473Z",
     "start_time": "2020-01-08T21:30:09.420105Z"
    },
    "hidden": true
   },
   "outputs": [],
   "source": [
    "#Construct a reverse map of indices and movie titles\n",
    "indices = pd.Series(df.index, index=df['id'])"
   ]
  },
  {
   "cell_type": "code",
   "execution_count": null,
   "metadata": {
    "ExecuteTime": {
     "end_time": "2020-01-08T19:23:57.572917Z",
     "start_time": "2020-01-08T19:23:57.569490Z"
    },
    "hidden": true,
    "scrolled": true
   },
   "outputs": [],
   "source": [
    "indices[105793305]"
   ]
  },
  {
   "cell_type": "code",
   "execution_count": null,
   "metadata": {
    "ExecuteTime": {
     "end_time": "2020-01-08T19:25:51.066234Z",
     "start_time": "2020-01-08T19:25:51.061417Z"
    },
    "hidden": true
   },
   "outputs": [],
   "source": [
    "df.iloc[3599]"
   ]
  },
  {
   "cell_type": "code",
   "execution_count": null,
   "metadata": {
    "ExecuteTime": {
     "end_time": "2020-01-08T19:26:53.334273Z",
     "start_time": "2020-01-08T19:26:53.329409Z"
    },
    "hidden": true
   },
   "outputs": [],
   "source": [
    "df.iloc[15213]"
   ]
  },
  {
   "cell_type": "code",
   "execution_count": null,
   "metadata": {
    "ExecuteTime": {
     "end_time": "2020-01-08T18:54:53.963142Z",
     "start_time": "2020-01-08T18:54:53.960824Z"
    },
    "hidden": true
   },
   "outputs": [],
   "source": [
    "# from sklearn.neighbors import NearestNeighbors\n",
    "# model_knn = NearestNeighbors(metric='cosine', algorithm='brute', n_neighbors=20, n_jobs=-1)"
   ]
  },
  {
   "cell_type": "code",
   "execution_count": null,
   "metadata": {
    "ExecuteTime": {
     "end_time": "2020-01-08T21:29:50.837502Z",
     "start_time": "2020-01-08T21:29:50.833239Z"
    },
    "hidden": true
   },
   "outputs": [],
   "source": [
    "def get_recommendations(title, similarity_metric):\n",
    "    # Get the index of the climb that matches the title\n",
    "    idx = indices[title]\n",
    "\n",
    "    # Get the pairwsie similarity scores of all climbs with that climb\n",
    "    sim_scores = list(enumerate(similarity_metric[idx]))\n",
    "\n",
    "    # Sort the climbs based on the similarity scores\n",
    "    sim_scores = sorted(sim_scores, key=lambda x: x[1], reverse=True)\n",
    "\n",
    "    # Get the scores of the 10 most similar climbs\n",
    "    sim_scores = sim_scores[1:11]\n",
    "\n",
    "    # Get the climb indices\n",
    "    climb_indices = [i[0] for i in sim_scores]\n",
    "\n",
    "    # Return the top 10 most similar movies\n",
    "    return df['id'].iloc[climb_indices]"
   ]
  },
  {
   "cell_type": "markdown",
   "metadata": {
    "heading_collapsed": true
   },
   "source": [
    "#### Call rec fxn"
   ]
  },
  {
   "cell_type": "code",
   "execution_count": null,
   "metadata": {
    "ExecuteTime": {
     "end_time": "2020-01-08T21:30:14.882396Z",
     "start_time": "2020-01-08T21:30:14.667332Z"
    },
    "hidden": true
   },
   "outputs": [],
   "source": [
    "rec=pd.DataFrame(get_recommendations(105793305, kernel_lin))"
   ]
  },
  {
   "cell_type": "code",
   "execution_count": null,
   "metadata": {
    "ExecuteTime": {
     "end_time": "2020-01-08T21:30:16.954187Z",
     "start_time": "2020-01-08T21:30:16.950223Z"
    },
    "hidden": true
   },
   "outputs": [],
   "source": [
    "rec.index"
   ]
  },
  {
   "cell_type": "markdown",
   "metadata": {
    "heading_collapsed": true
   },
   "source": [
    "#### Look at results"
   ]
  },
  {
   "cell_type": "code",
   "execution_count": null,
   "metadata": {
    "ExecuteTime": {
     "end_time": "2020-01-08T21:31:40.246199Z",
     "start_time": "2020-01-08T21:31:40.222910Z"
    },
    "hidden": true
   },
   "outputs": [],
   "source": [
    "results =df.loc[rec.index,:]\n",
    "results"
   ]
  },
  {
   "cell_type": "code",
   "execution_count": null,
   "metadata": {
    "ExecuteTime": {
     "end_time": "2020-01-08T21:30:59.527085Z",
     "start_time": "2020-01-08T21:30:59.436365Z"
    },
    "hidden": true
   },
   "outputs": [],
   "source": [
    "df.describe()"
   ]
  },
  {
   "cell_type": "code",
   "execution_count": null,
   "metadata": {
    "ExecuteTime": {
     "end_time": "2020-01-08T21:31:03.393876Z",
     "start_time": "2020-01-08T21:31:03.332191Z"
    },
    "hidden": true
   },
   "outputs": [],
   "source": [
    "results.describe()"
   ]
  },
  {
   "cell_type": "code",
   "execution_count": null,
   "metadata": {
    "ExecuteTime": {
     "end_time": "2020-01-08T21:31:15.099901Z",
     "start_time": "2020-01-08T21:31:15.092454Z"
    },
    "hidden": true
   },
   "outputs": [],
   "source": [
    "results.stars.value_counts()"
   ]
  },
  {
   "cell_type": "markdown",
   "metadata": {
    "heading_collapsed": true
   },
   "source": [
    "#### Make grade columns numeric (Now dong this above, can probably delete)"
   ]
  },
  {
   "cell_type": "code",
   "execution_count": null,
   "metadata": {
    "ExecuteTime": {
     "end_time": "2020-01-08T18:15:35.351475Z",
     "start_time": "2020-01-08T18:15:35.348230Z"
    },
    "hidden": true
   },
   "outputs": [],
   "source": [
    "diff_grade.keys()"
   ]
  },
  {
   "cell_type": "code",
   "execution_count": null,
   "metadata": {
    "ExecuteTime": {
     "end_time": "2020-01-08T18:16:40.048843Z",
     "start_time": "2020-01-08T18:16:39.761880Z"
    },
    "hidden": true
   },
   "outputs": [],
   "source": [
    "df_knn['rope_grade']=df['rope_grade'].apply(lambda x: get_rope_grades(x,'Rope'))\n",
    "df_knn['boulder_grade']=df['boulder_grade'].apply(lambda x: get_rope_grades(x,'Boulder'))\n",
    "df_knn['danger']=df['danger'].apply(lambda x: get_rope_grades(x,'Safety'))\n",
    "\n",
    "df.head()"
   ]
  },
  {
   "cell_type": "markdown",
   "metadata": {
    "heading_collapsed": true
   },
   "source": [
    "#### Place Holder Header"
   ]
  },
  {
   "cell_type": "code",
   "execution_count": null,
   "metadata": {
    "hidden": true
   },
   "outputs": [],
   "source": []
  },
  {
   "cell_type": "code",
   "execution_count": null,
   "metadata": {
    "hidden": true
   },
   "outputs": [],
   "source": []
  },
  {
   "cell_type": "code",
   "execution_count": null,
   "metadata": {
    "hidden": true
   },
   "outputs": [],
   "source": []
  },
  {
   "cell_type": "code",
   "execution_count": null,
   "metadata": {
    "hidden": true
   },
   "outputs": [],
   "source": []
  },
  {
   "cell_type": "code",
   "execution_count": null,
   "metadata": {
    "hidden": true
   },
   "outputs": [],
   "source": []
  },
  {
   "cell_type": "code",
   "execution_count": null,
   "metadata": {
    "hidden": true
   },
   "outputs": [],
   "source": []
  },
  {
   "cell_type": "code",
   "execution_count": null,
   "metadata": {
    "hidden": true
   },
   "outputs": [],
   "source": []
  },
  {
   "cell_type": "code",
   "execution_count": null,
   "metadata": {
    "hidden": true
   },
   "outputs": [],
   "source": []
  },
  {
   "cell_type": "code",
   "execution_count": null,
   "metadata": {
    "hidden": true
   },
   "outputs": [],
   "source": []
  },
  {
   "cell_type": "code",
   "execution_count": null,
   "metadata": {
    "hidden": true
   },
   "outputs": [],
   "source": []
  }
 ],
 "metadata": {
  "kernelspec": {
   "display_name": "Python 3",
   "language": "python",
   "name": "python3"
  },
  "language_info": {
   "codemirror_mode": {
    "name": "ipython",
    "version": 3
   },
   "file_extension": ".py",
   "mimetype": "text/x-python",
   "name": "python",
   "nbconvert_exporter": "python",
   "pygments_lexer": "ipython3",
   "version": "3.7.3"
  },
  "varInspector": {
   "cols": {
    "lenName": 16,
    "lenType": 16,
    "lenVar": 40
   },
   "kernels_config": {
    "python": {
     "delete_cmd_postfix": "",
     "delete_cmd_prefix": "del ",
     "library": "var_list.py",
     "varRefreshCmd": "print(var_dic_list())"
    },
    "r": {
     "delete_cmd_postfix": ") ",
     "delete_cmd_prefix": "rm(",
     "library": "var_list.r",
     "varRefreshCmd": "cat(var_dic_list()) "
    }
   },
   "position": {
    "height": "567px",
    "left": "1321px",
    "right": "20px",
    "top": "120px",
    "width": "338px"
   },
   "types_to_exclude": [
    "module",
    "function",
    "builtin_function_or_method",
    "instance",
    "_Feature"
   ],
   "window_display": false
  }
 },
 "nbformat": 4,
 "nbformat_minor": 2
}
