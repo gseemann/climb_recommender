{
 "cells": [
  {
   "cell_type": "markdown",
   "metadata": {},
   "source": [
    "# ML Models"
   ]
  },
  {
   "cell_type": "markdown",
   "metadata": {},
   "source": [
    "## Import Libraries & Load Dataframe from AWS DB"
   ]
  },
  {
   "cell_type": "code",
   "execution_count": 1,
   "metadata": {
    "ExecuteTime": {
     "end_time": "2020-01-13T17:24:07.686693Z",
     "start_time": "2020-01-13T17:24:06.385256Z"
    }
   },
   "outputs": [],
   "source": [
    "import pandas as pd\n",
    "import numpy as np\n",
    "import seaborn as sns\n",
    "from sklearn import preprocessing\n",
    "from math import sin, cos, sqrt, atan2, radians\n"
   ]
  },
  {
   "cell_type": "code",
   "execution_count": 2,
   "metadata": {
    "ExecuteTime": {
     "end_time": "2020-01-13T17:24:07.834808Z",
     "start_time": "2020-01-13T17:24:07.817683Z"
    },
    "code_folding": [
     1
    ]
   },
   "outputs": [],
   "source": [
    "#start by making dict of grades/ratings\n",
    "diff_grade = {'Rope': ['3rd',\n",
    "  '4th',\n",
    "  'Easy 5th',\n",
    "  '5.0',\n",
    "  '5.1',\n",
    "  '5.2',\n",
    "  '5.3',\n",
    "  '5.4',\n",
    "  '5.5',\n",
    "  '5.6',\n",
    "  '5.7',\n",
    "  '5.7+',\n",
    "  '5.8-',\n",
    "  '5.8',\n",
    "  '5.8+',\n",
    "  '5.9-',\n",
    "  '5.9',\n",
    "  '5.9+',\n",
    "  '5.10a',\n",
    "  '5.10-',\n",
    "  '5.10a/b',\n",
    "  '5.10b',\n",
    "  '5.10',\n",
    "  '5.10b/c',\n",
    "  '5.10c',\n",
    "  '5.10+',\n",
    "  '5.10c/d',\n",
    "  '5.10d',\n",
    "  '5.11a',\n",
    "  '5.11-',\n",
    "  '5.11a/b',\n",
    "  '5.11b',\n",
    "  '5.11',\n",
    "  '5.11b/c',\n",
    "  '5.11c',\n",
    "  '5.11+',\n",
    "  '5.11c/d',\n",
    "  '5.11d',\n",
    "  '5.12a',\n",
    "  '5.12-',\n",
    "  '5.12a/b',\n",
    "  '5.12b',\n",
    "  '5.12',\n",
    "  '5.12b/c',\n",
    "  '5.12c',\n",
    "  '5.12+',\n",
    "  '5.12c/d',\n",
    "  '5.12d',\n",
    "  '5.13a',\n",
    "  '5.13-',\n",
    "  '5.13a/b',\n",
    "  '5.13b',\n",
    "  '5.13',\n",
    "  '5.13b/c',\n",
    "  '5.13c',\n",
    "  '5.13+',\n",
    "  '5.13c/d',\n",
    "  '5.13d',\n",
    "  '5.14a',\n",
    "  '5.14-',\n",
    "  '5.14a/b',\n",
    "  '5.14b',\n",
    "  '5.14',\n",
    "  '5.14b/c',\n",
    "  '5.14c',\n",
    "  '5.14+',\n",
    "  '5.14c/d',\n",
    "  '5.14d',\n",
    "  '5.15a',\n",
    "  '5.15-',\n",
    "  '5.15a/b',\n",
    "  '5.15b',\n",
    "  '5.15',\n",
    "  '5.15c',\n",
    "  '5.15+',\n",
    "  '5.15c/d',\n",
    "  '5.15d'],\n",
    " 'Boulder': ['V-easy',\n",
    "  'V0-',\n",
    "  'V0',\n",
    "  'V0+',\n",
    "  'V0-1',\n",
    "  'V1-',\n",
    "  'V1',\n",
    "  'V1+',\n",
    "  'V1-2',\n",
    "  'V2-',\n",
    "  'V2',\n",
    "  'V2+',\n",
    "  'V2-3',\n",
    "  'V3-',\n",
    "  'V3',\n",
    "  'V3+',\n",
    "  'V3-4',\n",
    "  'V4-',\n",
    "  'V4',\n",
    "  'V4+',\n",
    "  'V4-5',\n",
    "  'V5-',\n",
    "  'V5',\n",
    "  'V5+',\n",
    "  'V5-6',\n",
    "  'V6-',\n",
    "  'V6',\n",
    "  'V6+',\n",
    "  'V6-7',\n",
    "  'V7-',\n",
    "  'V7',\n",
    "  'V7+',\n",
    "  'V7-8',\n",
    "  'V8-',\n",
    "  'V8',\n",
    "  'V8+',\n",
    "  'V8-9',\n",
    "  'V9-',\n",
    "  'V9',\n",
    "  'V9+',\n",
    "  'V9-10',\n",
    "  'V10-',\n",
    "  'V10',\n",
    "  'V10+',\n",
    "  'V10-11',\n",
    "  'V11-',\n",
    "  'V11',\n",
    "  'V11+',\n",
    "  'V11-12',\n",
    "  'V12-',\n",
    "  'V12',\n",
    "  'V12+',\n",
    "  'V12-13',\n",
    "  'V13-',\n",
    "  'V13',\n",
    "  'V13+',\n",
    "  'V13-14',\n",
    "  'V14-',\n",
    "  'V14',\n",
    "  'V14+',\n",
    "  'V14-15',\n",
    "  'V15-',\n",
    "  'V15',\n",
    "  'V15+',\n",
    "  'V15-16',\n",
    "  'V16-',\n",
    "  'V16',\n",
    "  'V16+',\n",
    "  'V16-17',\n",
    "  'V17-',\n",
    "  'V17'],\n",
    " 'Ice': ['WI1',\n",
    "  'WI2-',\n",
    "  'WI2',\n",
    "  'WI2+',\n",
    "  'WI2-3',\n",
    "  'WI3-',\n",
    "  'WI3',\n",
    "  'WI3+',\n",
    "  'WI3-4',\n",
    "  'WI4-',\n",
    "  'WI4',\n",
    "  'WI4+',\n",
    "  'WI4-5',\n",
    "  'WI5-',\n",
    "  'WI5',\n",
    "  'WI5+',\n",
    "  'WI5-6',\n",
    "  'WI6-',\n",
    "  'WI6',\n",
    "  'WI6+',\n",
    "  'WI6-7',\n",
    "  'WI7-',\n",
    "  'WI7',\n",
    "  'WI7+',\n",
    "  'WI7-8',\n",
    "  'WI8-',\n",
    "  'WI8',\n",
    "  'AI1',\n",
    "  'AI1-2',\n",
    "  'AI2',\n",
    "  'AI2-3',\n",
    "  'AI3',\n",
    "  'AI3-4',\n",
    "  'AI4',\n",
    "  'AI4-5',\n",
    "  'AI5',\n",
    "  'AI5-6',\n",
    "  'AI6'],\n",
    " 'Aid': ['C0',\n",
    "  'A0',\n",
    "  'C0+',\n",
    "  'A0+',\n",
    "  'C0-1',\n",
    "  'A0-1',\n",
    "  'C1-',\n",
    "  'A1-',\n",
    "  'C1',\n",
    "  'A1',\n",
    "  'C1+',\n",
    "  'A1+',\n",
    "  'C1-2',\n",
    "  'A1-2',\n",
    "  'C2-',\n",
    "  'A2-',\n",
    "  'C2',\n",
    "  'A2',\n",
    "  'C2+',\n",
    "  'A2+',\n",
    "  'C2-3',\n",
    "  'A2-3',\n",
    "  'C3-',\n",
    "  'A3-',\n",
    "  'C3',\n",
    "  'A3',\n",
    "  'C3+',\n",
    "  'A3+',\n",
    "  'C3-4',\n",
    "  'A3-4',\n",
    "  'C4-',\n",
    "  'A4-',\n",
    "  'C4',\n",
    "  'A4',\n",
    "  'C4+',\n",
    "  'A4+',\n",
    "  'C4-5',\n",
    "  'A4-5',\n",
    "  'C5-',\n",
    "  'A5-',\n",
    "  'C5',\n",
    "  'A5',\n",
    "  'C5+',\n",
    "  'A5+'],\n",
    " 'Mixed': ['M1',\n",
    "  'M1+',\n",
    "  'M1-2',\n",
    "  'M2-',\n",
    "  'M2',\n",
    "  'M2+',\n",
    "  'M2-3',\n",
    "  'M3-',\n",
    "  'M3',\n",
    "  'M3+',\n",
    "  'M3-4',\n",
    "  'M4-',\n",
    "  'M4',\n",
    "  'M4+',\n",
    "  'M4-5',\n",
    "  'M5-',\n",
    "  'M5',\n",
    "  'M5+',\n",
    "  'M5-6',\n",
    "  'M6-',\n",
    "  'M6',\n",
    "  'M6+',\n",
    "  'M6-7',\n",
    "  'M7-',\n",
    "  'M7',\n",
    "  'M7+',\n",
    "  'M7-8',\n",
    "  'M8-',\n",
    "  'M8',\n",
    "  'M8+',\n",
    "  'M8-9',\n",
    "  'M9-',\n",
    "  'M9',\n",
    "  'M9+',\n",
    "  'M9-10',\n",
    "  'M10-',\n",
    "  'M10',\n",
    "  'M10+',\n",
    "  'M10-11',\n",
    "  'M11-',\n",
    "  'M11',\n",
    "  'M11+',\n",
    "  'M12-',\n",
    "  'M12',\n",
    "  'M12+',\n",
    "  'M13-',\n",
    "  'M13',\n",
    "  'M13+'],\n",
    " 'Snow': ['Easy Snow', 'Mod. Snow', 'Steep Snow'],\n",
    " 'Safety': [\n",
    " 'PG13',\n",
    "  'R',\n",
    "  'X'],\n",
    " 'Mountaineering': ['I', 'II', 'III', 'IV', 'V', 'VI']}"
   ]
  },
  {
   "cell_type": "code",
   "execution_count": 3,
   "metadata": {
    "ExecuteTime": {
     "end_time": "2020-01-13T17:24:08.938287Z",
     "start_time": "2020-01-13T17:24:08.698446Z"
    }
   },
   "outputs": [
    {
     "data": {
      "text/html": [
       "<div>\n",
       "<style scoped>\n",
       "    .dataframe tbody tr th:only-of-type {\n",
       "        vertical-align: middle;\n",
       "    }\n",
       "\n",
       "    .dataframe tbody tr th {\n",
       "        vertical-align: top;\n",
       "    }\n",
       "\n",
       "    .dataframe thead th {\n",
       "        text-align: right;\n",
       "    }\n",
       "</style>\n",
       "<table border=\"1\" class=\"dataframe\">\n",
       "  <thead>\n",
       "    <tr style=\"text-align: right;\">\n",
       "      <th></th>\n",
       "      <th>name</th>\n",
       "      <th>rating</th>\n",
       "      <th>stars</th>\n",
       "      <th>starVotes</th>\n",
       "      <th>pitches</th>\n",
       "      <th>location</th>\n",
       "      <th>region</th>\n",
       "      <th>area</th>\n",
       "      <th>sub_area</th>\n",
       "      <th>wall</th>\n",
       "      <th>longitude</th>\n",
       "      <th>latitude</th>\n",
       "      <th>url</th>\n",
       "      <th>Sport</th>\n",
       "      <th>Trad</th>\n",
       "      <th>Boulder</th>\n",
       "      <th>TR</th>\n",
       "      <th>Alpine</th>\n",
       "      <th>Aid</th>\n",
       "      <th>Ice</th>\n",
       "      <th>Snow</th>\n",
       "      <th>Mixed</th>\n",
       "      <th>danger</th>\n",
       "      <th>rope_grade</th>\n",
       "      <th>boulder_grade</th>\n",
       "    </tr>\n",
       "    <tr>\n",
       "      <th>id</th>\n",
       "      <th></th>\n",
       "      <th></th>\n",
       "      <th></th>\n",
       "      <th></th>\n",
       "      <th></th>\n",
       "      <th></th>\n",
       "      <th></th>\n",
       "      <th></th>\n",
       "      <th></th>\n",
       "      <th></th>\n",
       "      <th></th>\n",
       "      <th></th>\n",
       "      <th></th>\n",
       "      <th></th>\n",
       "      <th></th>\n",
       "      <th></th>\n",
       "      <th></th>\n",
       "      <th></th>\n",
       "      <th></th>\n",
       "      <th></th>\n",
       "      <th></th>\n",
       "      <th></th>\n",
       "      <th></th>\n",
       "      <th></th>\n",
       "      <th></th>\n",
       "    </tr>\n",
       "  </thead>\n",
       "  <tbody>\n",
       "    <tr>\n",
       "      <th>105714722</th>\n",
       "      <td>Central Yellow Wall</td>\n",
       "      <td>V3 R</td>\n",
       "      <td>4.4</td>\n",
       "      <td>22</td>\n",
       "      <td>0</td>\n",
       "      <td>South Dakota</td>\n",
       "      <td>Custer State Park</td>\n",
       "      <td>Sylvan Lake</td>\n",
       "      <td>Sylvan Lake Bouldering</td>\n",
       "      <td>Campground Boulder</td>\n",
       "      <td>-103.564</td>\n",
       "      <td>43.8463</td>\n",
       "      <td>https://www.mountainproject.com/route/10571472...</td>\n",
       "      <td>0</td>\n",
       "      <td>0</td>\n",
       "      <td>1</td>\n",
       "      <td>1</td>\n",
       "      <td>0</td>\n",
       "      <td>0</td>\n",
       "      <td>0</td>\n",
       "      <td>0</td>\n",
       "      <td>0</td>\n",
       "      <td>R</td>\n",
       "      <td>0</td>\n",
       "      <td>V3</td>\n",
       "    </tr>\n",
       "    <tr>\n",
       "      <th>105714728</th>\n",
       "      <td>Waves</td>\n",
       "      <td>5.8</td>\n",
       "      <td>4.6</td>\n",
       "      <td>217</td>\n",
       "      <td>2</td>\n",
       "      <td>South Dakota</td>\n",
       "      <td>The Needles Of Rushmore</td>\n",
       "      <td>Mount Rushmore National Memorial</td>\n",
       "      <td>South Seas</td>\n",
       "      <td>Shipyard Rock</td>\n",
       "      <td>-103.466</td>\n",
       "      <td>43.8865</td>\n",
       "      <td>https://www.mountainproject.com/route/10571472...</td>\n",
       "      <td>1</td>\n",
       "      <td>0</td>\n",
       "      <td>0</td>\n",
       "      <td>0</td>\n",
       "      <td>0</td>\n",
       "      <td>0</td>\n",
       "      <td>0</td>\n",
       "      <td>0</td>\n",
       "      <td>0</td>\n",
       "      <td>G</td>\n",
       "      <td>5.8</td>\n",
       "      <td>0</td>\n",
       "    </tr>\n",
       "    <tr>\n",
       "      <th>105714731</th>\n",
       "      <td>East Chimney Variation</td>\n",
       "      <td>5.7</td>\n",
       "      <td>4.1</td>\n",
       "      <td>40</td>\n",
       "      <td>2</td>\n",
       "      <td>South Dakota</td>\n",
       "      <td>Custer State Park</td>\n",
       "      <td>Cathedral Spires</td>\n",
       "      <td>Station 13</td>\n",
       "      <td>0</td>\n",
       "      <td>-103.534</td>\n",
       "      <td>43.8488</td>\n",
       "      <td>https://www.mountainproject.com/route/10571473...</td>\n",
       "      <td>0</td>\n",
       "      <td>1</td>\n",
       "      <td>0</td>\n",
       "      <td>0</td>\n",
       "      <td>0</td>\n",
       "      <td>0</td>\n",
       "      <td>0</td>\n",
       "      <td>0</td>\n",
       "      <td>0</td>\n",
       "      <td>G</td>\n",
       "      <td>5.7</td>\n",
       "      <td>0</td>\n",
       "    </tr>\n",
       "    <tr>\n",
       "      <th>105714734</th>\n",
       "      <td>Conn Diagonal</td>\n",
       "      <td>5.7</td>\n",
       "      <td>4.9</td>\n",
       "      <td>151</td>\n",
       "      <td>3</td>\n",
       "      <td>South Dakota</td>\n",
       "      <td>Custer State Park</td>\n",
       "      <td>Sylvan Lake</td>\n",
       "      <td>Outlets</td>\n",
       "      <td>Outer Outlet</td>\n",
       "      <td>-103.568</td>\n",
       "      <td>43.8487</td>\n",
       "      <td>https://www.mountainproject.com/route/10571473...</td>\n",
       "      <td>0</td>\n",
       "      <td>1</td>\n",
       "      <td>0</td>\n",
       "      <td>0</td>\n",
       "      <td>0</td>\n",
       "      <td>0</td>\n",
       "      <td>0</td>\n",
       "      <td>0</td>\n",
       "      <td>0</td>\n",
       "      <td>G</td>\n",
       "      <td>5.7</td>\n",
       "      <td>0</td>\n",
       "    </tr>\n",
       "    <tr>\n",
       "      <th>105714737</th>\n",
       "      <td>Bolts for Bobs</td>\n",
       "      <td>5.8</td>\n",
       "      <td>3.5</td>\n",
       "      <td>125</td>\n",
       "      <td>1</td>\n",
       "      <td>South Dakota</td>\n",
       "      <td>The Needles Of Rushmore</td>\n",
       "      <td>Mount Rushmore National Memorial</td>\n",
       "      <td>South Seas</td>\n",
       "      <td>Borneo</td>\n",
       "      <td>-103.469</td>\n",
       "      <td>43.8870</td>\n",
       "      <td>https://www.mountainproject.com/route/10571473...</td>\n",
       "      <td>1</td>\n",
       "      <td>0</td>\n",
       "      <td>0</td>\n",
       "      <td>0</td>\n",
       "      <td>0</td>\n",
       "      <td>0</td>\n",
       "      <td>0</td>\n",
       "      <td>0</td>\n",
       "      <td>0</td>\n",
       "      <td>G</td>\n",
       "      <td>5.8</td>\n",
       "      <td>0</td>\n",
       "    </tr>\n",
       "  </tbody>\n",
       "</table>\n",
       "</div>"
      ],
      "text/plain": [
       "                             name rating  stars  starVotes  pitches  \\\n",
       "id                                                                    \n",
       "105714722     Central Yellow Wall   V3 R    4.4         22        0   \n",
       "105714728                   Waves    5.8    4.6        217        2   \n",
       "105714731  East Chimney Variation    5.7    4.1         40        2   \n",
       "105714734           Conn Diagonal    5.7    4.9        151        3   \n",
       "105714737          Bolts for Bobs    5.8    3.5        125        1   \n",
       "\n",
       "               location                   region  \\\n",
       "id                                                 \n",
       "105714722  South Dakota        Custer State Park   \n",
       "105714728  South Dakota  The Needles Of Rushmore   \n",
       "105714731  South Dakota        Custer State Park   \n",
       "105714734  South Dakota        Custer State Park   \n",
       "105714737  South Dakota  The Needles Of Rushmore   \n",
       "\n",
       "                                       area                sub_area  \\\n",
       "id                                                                    \n",
       "105714722                       Sylvan Lake  Sylvan Lake Bouldering   \n",
       "105714728  Mount Rushmore National Memorial              South Seas   \n",
       "105714731                  Cathedral Spires              Station 13   \n",
       "105714734                       Sylvan Lake                 Outlets   \n",
       "105714737  Mount Rushmore National Memorial              South Seas   \n",
       "\n",
       "                         wall  longitude  latitude  \\\n",
       "id                                                   \n",
       "105714722  Campground Boulder   -103.564   43.8463   \n",
       "105714728       Shipyard Rock   -103.466   43.8865   \n",
       "105714731                   0   -103.534   43.8488   \n",
       "105714734        Outer Outlet   -103.568   43.8487   \n",
       "105714737              Borneo   -103.469   43.8870   \n",
       "\n",
       "                                                         url  Sport  Trad  \\\n",
       "id                                                                          \n",
       "105714722  https://www.mountainproject.com/route/10571472...      0     0   \n",
       "105714728  https://www.mountainproject.com/route/10571472...      1     0   \n",
       "105714731  https://www.mountainproject.com/route/10571473...      0     1   \n",
       "105714734  https://www.mountainproject.com/route/10571473...      0     1   \n",
       "105714737  https://www.mountainproject.com/route/10571473...      1     0   \n",
       "\n",
       "           Boulder  TR  Alpine  Aid  Ice  Snow  Mixed danger rope_grade  \\\n",
       "id                                                                        \n",
       "105714722        1   1       0    0    0     0      0      R          0   \n",
       "105714728        0   0       0    0    0     0      0      G        5.8   \n",
       "105714731        0   0       0    0    0     0      0      G        5.7   \n",
       "105714734        0   0       0    0    0     0      0      G        5.7   \n",
       "105714737        0   0       0    0    0     0      0      G        5.8   \n",
       "\n",
       "          boulder_grade  \n",
       "id                       \n",
       "105714722            V3  \n",
       "105714728             0  \n",
       "105714731             0  \n",
       "105714734             0  \n",
       "105714737             0  "
      ]
     },
     "execution_count": 3,
     "metadata": {},
     "output_type": "execute_result"
    }
   ],
   "source": [
    "df = pd.read_csv('clean_data.csv')\n",
    "pd.set_option('display.max_columns', 50)\n",
    "df.drop(columns='Unnamed: 0', inplace=True)\n",
    "df.set_index('id', inplace=True)\n",
    "df.head()"
   ]
  },
  {
   "cell_type": "markdown",
   "metadata": {},
   "source": [
    "## Get input from user for recommendation"
   ]
  },
  {
   "cell_type": "code",
   "execution_count": 13,
   "metadata": {
    "ExecuteTime": {
     "end_time": "2020-01-13T17:25:55.507527Z",
     "start_time": "2020-01-13T17:25:55.504833Z"
    }
   },
   "outputs": [],
   "source": [
    "target_id = 105793305\n",
    "target_lat = 32.9127 \n",
    "target_lon = -116.882\n",
    "target_radius_range=50\n",
    "###other parameters to be added here later"
   ]
  },
  {
   "cell_type": "markdown",
   "metadata": {
    "heading_collapsed": true
   },
   "source": [
    "### To begin, see if if the climb already exists in db"
   ]
  },
  {
   "cell_type": "code",
   "execution_count": 6,
   "metadata": {
    "ExecuteTime": {
     "end_time": "2020-01-13T17:24:36.307289Z",
     "start_time": "2020-01-13T17:24:36.302860Z"
    },
    "hidden": true
   },
   "outputs": [
    {
     "name": "stdout",
     "output_type": "stream",
     "text": [
      "We have climb already\n"
     ]
    }
   ],
   "source": [
    "if target_id in df.index:\n",
    "    print('We have climb already')\n",
    "else:\n",
    "    print('Making API call and Scraping climb data')\n",
    "    ####call functions to do this"
   ]
  },
  {
   "cell_type": "code",
   "execution_count": null,
   "metadata": {
    "ExecuteTime": {
     "end_time": "2020-01-13T16:32:07.258524Z",
     "start_time": "2020-01-13T16:32:07.256803Z"
    },
    "hidden": true
   },
   "outputs": [],
   "source": [
    "##after all necessary steps target infoshould be loaded into df_target\n",
    "#we then append this info to our df \n",
    "#NOTE index should be id\n",
    "\n",
    "# df.append(df_target)"
   ]
  },
  {
   "cell_type": "code",
   "execution_count": null,
   "metadata": {
    "hidden": true
   },
   "outputs": [],
   "source": []
  },
  {
   "cell_type": "markdown",
   "metadata": {},
   "source": [
    "## Making Data Numeric"
   ]
  },
  {
   "cell_type": "code",
   "execution_count": 7,
   "metadata": {
    "ExecuteTime": {
     "end_time": "2020-01-13T17:24:42.438642Z",
     "start_time": "2020-01-13T17:24:42.436418Z"
    }
   },
   "outputs": [],
   "source": [
    "#use df_numeric as we make data numeric\n",
    "df_numeric = df"
   ]
  },
  {
   "cell_type": "markdown",
   "metadata": {},
   "source": [
    "#### Catagories to numeric fxn"
   ]
  },
  {
   "cell_type": "code",
   "execution_count": 8,
   "metadata": {
    "ExecuteTime": {
     "end_time": "2020-01-13T17:24:43.728629Z",
     "start_time": "2020-01-13T17:24:43.725661Z"
    }
   },
   "outputs": [],
   "source": [
    "### make ordinal columns for rope_grade, boulder_grade and danger\n",
    "def get_rope_grades(grade, catagory):\n",
    "    for i,match in enumerate(diff_grade[catagory]):\n",
    "        if match==grade:\n",
    "            return i+1\n",
    "    return 0    "
   ]
  },
  {
   "cell_type": "markdown",
   "metadata": {},
   "source": [
    "#### Make grade columns numeric and add in_range column (defaults to True)"
   ]
  },
  {
   "cell_type": "code",
   "execution_count": 9,
   "metadata": {
    "ExecuteTime": {
     "end_time": "2020-01-13T17:24:45.385991Z",
     "start_time": "2020-01-13T17:24:45.143578Z"
    }
   },
   "outputs": [
    {
     "data": {
      "text/html": [
       "<div>\n",
       "<style scoped>\n",
       "    .dataframe tbody tr th:only-of-type {\n",
       "        vertical-align: middle;\n",
       "    }\n",
       "\n",
       "    .dataframe tbody tr th {\n",
       "        vertical-align: top;\n",
       "    }\n",
       "\n",
       "    .dataframe thead th {\n",
       "        text-align: right;\n",
       "    }\n",
       "</style>\n",
       "<table border=\"1\" class=\"dataframe\">\n",
       "  <thead>\n",
       "    <tr style=\"text-align: right;\">\n",
       "      <th></th>\n",
       "      <th>name</th>\n",
       "      <th>rating</th>\n",
       "      <th>stars</th>\n",
       "      <th>starVotes</th>\n",
       "      <th>pitches</th>\n",
       "      <th>location</th>\n",
       "      <th>region</th>\n",
       "      <th>area</th>\n",
       "      <th>sub_area</th>\n",
       "      <th>wall</th>\n",
       "      <th>longitude</th>\n",
       "      <th>latitude</th>\n",
       "      <th>url</th>\n",
       "      <th>Sport</th>\n",
       "      <th>Trad</th>\n",
       "      <th>Boulder</th>\n",
       "      <th>TR</th>\n",
       "      <th>Alpine</th>\n",
       "      <th>Aid</th>\n",
       "      <th>Ice</th>\n",
       "      <th>Snow</th>\n",
       "      <th>Mixed</th>\n",
       "      <th>danger</th>\n",
       "      <th>rope_grade</th>\n",
       "      <th>boulder_grade</th>\n",
       "      <th>in_range</th>\n",
       "    </tr>\n",
       "    <tr>\n",
       "      <th>id</th>\n",
       "      <th></th>\n",
       "      <th></th>\n",
       "      <th></th>\n",
       "      <th></th>\n",
       "      <th></th>\n",
       "      <th></th>\n",
       "      <th></th>\n",
       "      <th></th>\n",
       "      <th></th>\n",
       "      <th></th>\n",
       "      <th></th>\n",
       "      <th></th>\n",
       "      <th></th>\n",
       "      <th></th>\n",
       "      <th></th>\n",
       "      <th></th>\n",
       "      <th></th>\n",
       "      <th></th>\n",
       "      <th></th>\n",
       "      <th></th>\n",
       "      <th></th>\n",
       "      <th></th>\n",
       "      <th></th>\n",
       "      <th></th>\n",
       "      <th></th>\n",
       "      <th></th>\n",
       "    </tr>\n",
       "  </thead>\n",
       "  <tbody>\n",
       "    <tr>\n",
       "      <th>105714722</th>\n",
       "      <td>Central Yellow Wall</td>\n",
       "      <td>V3 R</td>\n",
       "      <td>4.4</td>\n",
       "      <td>22</td>\n",
       "      <td>0</td>\n",
       "      <td>South Dakota</td>\n",
       "      <td>Custer State Park</td>\n",
       "      <td>Sylvan Lake</td>\n",
       "      <td>Sylvan Lake Bouldering</td>\n",
       "      <td>Campground Boulder</td>\n",
       "      <td>-103.564</td>\n",
       "      <td>43.8463</td>\n",
       "      <td>https://www.mountainproject.com/route/10571472...</td>\n",
       "      <td>0</td>\n",
       "      <td>0</td>\n",
       "      <td>1</td>\n",
       "      <td>1</td>\n",
       "      <td>0</td>\n",
       "      <td>0</td>\n",
       "      <td>0</td>\n",
       "      <td>0</td>\n",
       "      <td>0</td>\n",
       "      <td>0</td>\n",
       "      <td>0</td>\n",
       "      <td>0</td>\n",
       "      <td>1</td>\n",
       "    </tr>\n",
       "    <tr>\n",
       "      <th>105714728</th>\n",
       "      <td>Waves</td>\n",
       "      <td>5.8</td>\n",
       "      <td>4.6</td>\n",
       "      <td>217</td>\n",
       "      <td>2</td>\n",
       "      <td>South Dakota</td>\n",
       "      <td>The Needles Of Rushmore</td>\n",
       "      <td>Mount Rushmore National Memorial</td>\n",
       "      <td>South Seas</td>\n",
       "      <td>Shipyard Rock</td>\n",
       "      <td>-103.466</td>\n",
       "      <td>43.8865</td>\n",
       "      <td>https://www.mountainproject.com/route/10571472...</td>\n",
       "      <td>1</td>\n",
       "      <td>0</td>\n",
       "      <td>0</td>\n",
       "      <td>0</td>\n",
       "      <td>0</td>\n",
       "      <td>0</td>\n",
       "      <td>0</td>\n",
       "      <td>0</td>\n",
       "      <td>0</td>\n",
       "      <td>0</td>\n",
       "      <td>14</td>\n",
       "      <td>0</td>\n",
       "      <td>1</td>\n",
       "    </tr>\n",
       "    <tr>\n",
       "      <th>105714731</th>\n",
       "      <td>East Chimney Variation</td>\n",
       "      <td>5.7</td>\n",
       "      <td>4.1</td>\n",
       "      <td>40</td>\n",
       "      <td>2</td>\n",
       "      <td>South Dakota</td>\n",
       "      <td>Custer State Park</td>\n",
       "      <td>Cathedral Spires</td>\n",
       "      <td>Station 13</td>\n",
       "      <td>0</td>\n",
       "      <td>-103.534</td>\n",
       "      <td>43.8488</td>\n",
       "      <td>https://www.mountainproject.com/route/10571473...</td>\n",
       "      <td>0</td>\n",
       "      <td>1</td>\n",
       "      <td>0</td>\n",
       "      <td>0</td>\n",
       "      <td>0</td>\n",
       "      <td>0</td>\n",
       "      <td>0</td>\n",
       "      <td>0</td>\n",
       "      <td>0</td>\n",
       "      <td>0</td>\n",
       "      <td>11</td>\n",
       "      <td>0</td>\n",
       "      <td>1</td>\n",
       "    </tr>\n",
       "    <tr>\n",
       "      <th>105714734</th>\n",
       "      <td>Conn Diagonal</td>\n",
       "      <td>5.7</td>\n",
       "      <td>4.9</td>\n",
       "      <td>151</td>\n",
       "      <td>3</td>\n",
       "      <td>South Dakota</td>\n",
       "      <td>Custer State Park</td>\n",
       "      <td>Sylvan Lake</td>\n",
       "      <td>Outlets</td>\n",
       "      <td>Outer Outlet</td>\n",
       "      <td>-103.568</td>\n",
       "      <td>43.8487</td>\n",
       "      <td>https://www.mountainproject.com/route/10571473...</td>\n",
       "      <td>0</td>\n",
       "      <td>1</td>\n",
       "      <td>0</td>\n",
       "      <td>0</td>\n",
       "      <td>0</td>\n",
       "      <td>0</td>\n",
       "      <td>0</td>\n",
       "      <td>0</td>\n",
       "      <td>0</td>\n",
       "      <td>0</td>\n",
       "      <td>11</td>\n",
       "      <td>0</td>\n",
       "      <td>1</td>\n",
       "    </tr>\n",
       "    <tr>\n",
       "      <th>105714737</th>\n",
       "      <td>Bolts for Bobs</td>\n",
       "      <td>5.8</td>\n",
       "      <td>3.5</td>\n",
       "      <td>125</td>\n",
       "      <td>1</td>\n",
       "      <td>South Dakota</td>\n",
       "      <td>The Needles Of Rushmore</td>\n",
       "      <td>Mount Rushmore National Memorial</td>\n",
       "      <td>South Seas</td>\n",
       "      <td>Borneo</td>\n",
       "      <td>-103.469</td>\n",
       "      <td>43.8870</td>\n",
       "      <td>https://www.mountainproject.com/route/10571473...</td>\n",
       "      <td>1</td>\n",
       "      <td>0</td>\n",
       "      <td>0</td>\n",
       "      <td>0</td>\n",
       "      <td>0</td>\n",
       "      <td>0</td>\n",
       "      <td>0</td>\n",
       "      <td>0</td>\n",
       "      <td>0</td>\n",
       "      <td>0</td>\n",
       "      <td>14</td>\n",
       "      <td>0</td>\n",
       "      <td>1</td>\n",
       "    </tr>\n",
       "  </tbody>\n",
       "</table>\n",
       "</div>"
      ],
      "text/plain": [
       "                             name rating  stars  starVotes  pitches  \\\n",
       "id                                                                    \n",
       "105714722     Central Yellow Wall   V3 R    4.4         22        0   \n",
       "105714728                   Waves    5.8    4.6        217        2   \n",
       "105714731  East Chimney Variation    5.7    4.1         40        2   \n",
       "105714734           Conn Diagonal    5.7    4.9        151        3   \n",
       "105714737          Bolts for Bobs    5.8    3.5        125        1   \n",
       "\n",
       "               location                   region  \\\n",
       "id                                                 \n",
       "105714722  South Dakota        Custer State Park   \n",
       "105714728  South Dakota  The Needles Of Rushmore   \n",
       "105714731  South Dakota        Custer State Park   \n",
       "105714734  South Dakota        Custer State Park   \n",
       "105714737  South Dakota  The Needles Of Rushmore   \n",
       "\n",
       "                                       area                sub_area  \\\n",
       "id                                                                    \n",
       "105714722                       Sylvan Lake  Sylvan Lake Bouldering   \n",
       "105714728  Mount Rushmore National Memorial              South Seas   \n",
       "105714731                  Cathedral Spires              Station 13   \n",
       "105714734                       Sylvan Lake                 Outlets   \n",
       "105714737  Mount Rushmore National Memorial              South Seas   \n",
       "\n",
       "                         wall  longitude  latitude  \\\n",
       "id                                                   \n",
       "105714722  Campground Boulder   -103.564   43.8463   \n",
       "105714728       Shipyard Rock   -103.466   43.8865   \n",
       "105714731                   0   -103.534   43.8488   \n",
       "105714734        Outer Outlet   -103.568   43.8487   \n",
       "105714737              Borneo   -103.469   43.8870   \n",
       "\n",
       "                                                         url  Sport  Trad  \\\n",
       "id                                                                          \n",
       "105714722  https://www.mountainproject.com/route/10571472...      0     0   \n",
       "105714728  https://www.mountainproject.com/route/10571472...      1     0   \n",
       "105714731  https://www.mountainproject.com/route/10571473...      0     1   \n",
       "105714734  https://www.mountainproject.com/route/10571473...      0     1   \n",
       "105714737  https://www.mountainproject.com/route/10571473...      1     0   \n",
       "\n",
       "           Boulder  TR  Alpine  Aid  Ice  Snow  Mixed  danger  rope_grade  \\\n",
       "id                                                                          \n",
       "105714722        1   1       0    0    0     0      0       0           0   \n",
       "105714728        0   0       0    0    0     0      0       0          14   \n",
       "105714731        0   0       0    0    0     0      0       0          11   \n",
       "105714734        0   0       0    0    0     0      0       0          11   \n",
       "105714737        0   0       0    0    0     0      0       0          14   \n",
       "\n",
       "           boulder_grade  in_range  \n",
       "id                                  \n",
       "105714722              0         1  \n",
       "105714728              0         1  \n",
       "105714731              0         1  \n",
       "105714734              0         1  \n",
       "105714737              0         1  "
      ]
     },
     "execution_count": 9,
     "metadata": {},
     "output_type": "execute_result"
    }
   ],
   "source": [
    "df_numeric['rope_grade']=df['rating'].apply(lambda x: get_rope_grades(x,'Rope'))\n",
    "df_numeric['boulder_grade']=df['rating'].apply(lambda x: get_rope_grades(x,'Boulder'))\n",
    "df_numeric['danger']=df['rating'].apply(lambda x: get_rope_grades(x,'Safety'))\n",
    "df_numeric['in_range'] = 1\n",
    "\n",
    "df_numeric.head()"
   ]
  },
  {
   "cell_type": "markdown",
   "metadata": {},
   "source": [
    "## Reccomender"
   ]
  },
  {
   "cell_type": "markdown",
   "metadata": {},
   "source": [
    "#### Kernel Imports"
   ]
  },
  {
   "cell_type": "code",
   "execution_count": 10,
   "metadata": {
    "ExecuteTime": {
     "end_time": "2020-01-13T17:24:57.130251Z",
     "start_time": "2020-01-13T17:24:57.108007Z"
    }
   },
   "outputs": [],
   "source": [
    "# Import kernels\n",
    "from sklearn.metrics.pairwise import linear_kernel\n",
    "from sklearn.metrics.pairwise import euclidean_distances\n",
    "from sklearn.metrics.pairwise import cosine_similarity\n",
    "from sklearn.metrics.pairwise import polynomial_kernel\n",
    "from sklearn.metrics.pairwise import sigmoid_kernel\n",
    "from sklearn.metrics.pairwise import rbf_kernel\n",
    "from sklearn.metrics.pairwise import laplacian_kernel\n",
    "from sklearn.metrics.pairwise import chi2_kernel\n",
    "\n"
   ]
  },
  {
   "cell_type": "code",
   "execution_count": 11,
   "metadata": {
    "ExecuteTime": {
     "end_time": "2020-01-13T17:24:58.422241Z",
     "start_time": "2020-01-13T17:24:58.419730Z"
    }
   },
   "outputs": [],
   "source": [
    "from sklearn.preprocessing import MinMaxScaler\n",
    "from sklearn.preprocessing import minmax_scale\n",
    "from sklearn.preprocessing import MaxAbsScaler\n",
    "from sklearn.preprocessing import StandardScaler"
   ]
  },
  {
   "cell_type": "markdown",
   "metadata": {},
   "source": [
    "#### Create fxn to see if climb is in search range"
   ]
  },
  {
   "cell_type": "code",
   "execution_count": 12,
   "metadata": {
    "ExecuteTime": {
     "end_time": "2020-01-13T17:25:00.247329Z",
     "start_time": "2020-01-13T17:25:00.241254Z"
    }
   },
   "outputs": [],
   "source": [
    "#function takes search param range and assigns to original df if climb in_range\n",
    "def in_range(df_fxn, lat, lon, radius_range=50):\n",
    "    R= 3958.8 \n",
    "    if lat == None:\n",
    "        df_fxn['in_range'] = 1\n",
    "    else:\n",
    "        #assign target coords and set to radians for calc\n",
    "        lat1 = radians(lat)\n",
    "        lon1 = radians(lon)\n",
    "        for index, row in df_fxn.iterrows():\n",
    "            #assign the lat and lon for each climb\n",
    "            lat2 = radians(row['latitude'])\n",
    "            lon2 = radians(row['longitude'])\n",
    "\n",
    "            dlon = lon2 - lon1\n",
    "            dlat = lat2 - lat1\n",
    "\n",
    "            a = sin(dlat / 2)**2 + cos(lat1) * cos(lat2) * sin(dlon / 2)**2\n",
    "            c = 2 * atan2(sqrt(a), sqrt(1 - a))\n",
    "\n",
    "            distance = R * c\n",
    "            \n",
    "            #assign in_range col to 1 if the climb is in range\n",
    "            if distance < radius_range:\n",
    "                df_fxn.at[index,'in_range']=1\n",
    "            else:\n",
    "                df_fxn.at[index,'in_range']=0   \n",
    "\n"
   ]
  },
  {
   "cell_type": "markdown",
   "metadata": {},
   "source": [
    "#### Call function to assign if climb in range"
   ]
  },
  {
   "cell_type": "code",
   "execution_count": 14,
   "metadata": {
    "ExecuteTime": {
     "end_time": "2020-01-13T17:26:33.942808Z",
     "start_time": "2020-01-13T17:26:30.755345Z"
    }
   },
   "outputs": [],
   "source": [
    "## used to get list of climbs allowed for comparison\n",
    "in_range(df_numeric, lat = target_lat, lon = target_lon, radius_range=target_radius_range)"
   ]
  },
  {
   "cell_type": "markdown",
   "metadata": {},
   "source": [
    "#### Create df_in_range to run recommender in subset"
   ]
  },
  {
   "cell_type": "code",
   "execution_count": 15,
   "metadata": {
    "ExecuteTime": {
     "end_time": "2020-01-13T17:26:35.546792Z",
     "start_time": "2020-01-13T17:26:35.524066Z"
    }
   },
   "outputs": [
    {
     "data": {
      "text/html": [
       "<div>\n",
       "<style scoped>\n",
       "    .dataframe tbody tr th:only-of-type {\n",
       "        vertical-align: middle;\n",
       "    }\n",
       "\n",
       "    .dataframe tbody tr th {\n",
       "        vertical-align: top;\n",
       "    }\n",
       "\n",
       "    .dataframe thead th {\n",
       "        text-align: right;\n",
       "    }\n",
       "</style>\n",
       "<table border=\"1\" class=\"dataframe\">\n",
       "  <thead>\n",
       "    <tr style=\"text-align: right;\">\n",
       "      <th></th>\n",
       "      <th>id</th>\n",
       "      <th>name</th>\n",
       "      <th>rating</th>\n",
       "      <th>stars</th>\n",
       "      <th>starVotes</th>\n",
       "      <th>pitches</th>\n",
       "      <th>location</th>\n",
       "      <th>region</th>\n",
       "      <th>area</th>\n",
       "      <th>sub_area</th>\n",
       "      <th>wall</th>\n",
       "      <th>longitude</th>\n",
       "      <th>latitude</th>\n",
       "      <th>url</th>\n",
       "      <th>Sport</th>\n",
       "      <th>Trad</th>\n",
       "      <th>Boulder</th>\n",
       "      <th>TR</th>\n",
       "      <th>Alpine</th>\n",
       "      <th>Aid</th>\n",
       "      <th>Ice</th>\n",
       "      <th>Snow</th>\n",
       "      <th>Mixed</th>\n",
       "      <th>danger</th>\n",
       "      <th>rope_grade</th>\n",
       "      <th>boulder_grade</th>\n",
       "      <th>in_range</th>\n",
       "    </tr>\n",
       "  </thead>\n",
       "  <tbody>\n",
       "    <tr>\n",
       "      <th>0</th>\n",
       "      <td>105724579</td>\n",
       "      <td>Bacon Flake</td>\n",
       "      <td>5.8</td>\n",
       "      <td>3.2</td>\n",
       "      <td>69</td>\n",
       "      <td>1</td>\n",
       "      <td>California</td>\n",
       "      <td>Joshua Tree National Park</td>\n",
       "      <td>Echo Rock Area</td>\n",
       "      <td>Echo Cove</td>\n",
       "      <td>Echo Cove - South Face</td>\n",
       "      <td>-117.074</td>\n",
       "      <td>33.0866</td>\n",
       "      <td>https://www.mountainproject.com/route/10572457...</td>\n",
       "      <td>0</td>\n",
       "      <td>1</td>\n",
       "      <td>0</td>\n",
       "      <td>1</td>\n",
       "      <td>0</td>\n",
       "      <td>0</td>\n",
       "      <td>0</td>\n",
       "      <td>0</td>\n",
       "      <td>0</td>\n",
       "      <td>0</td>\n",
       "      <td>14</td>\n",
       "      <td>0</td>\n",
       "      <td>1</td>\n",
       "    </tr>\n",
       "    <tr>\n",
       "      <th>1</th>\n",
       "      <td>105791087</td>\n",
       "      <td>Knob Job</td>\n",
       "      <td>5.8</td>\n",
       "      <td>3.0</td>\n",
       "      <td>63</td>\n",
       "      <td>1</td>\n",
       "      <td>California</td>\n",
       "      <td>San Diego and Environs</td>\n",
       "      <td>South San Diego County</td>\n",
       "      <td>Mission Gorge</td>\n",
       "      <td>Main Wall</td>\n",
       "      <td>-117.051</td>\n",
       "      <td>32.8269</td>\n",
       "      <td>https://www.mountainproject.com/route/10579108...</td>\n",
       "      <td>0</td>\n",
       "      <td>0</td>\n",
       "      <td>0</td>\n",
       "      <td>1</td>\n",
       "      <td>0</td>\n",
       "      <td>0</td>\n",
       "      <td>0</td>\n",
       "      <td>0</td>\n",
       "      <td>0</td>\n",
       "      <td>0</td>\n",
       "      <td>14</td>\n",
       "      <td>0</td>\n",
       "      <td>1</td>\n",
       "    </tr>\n",
       "    <tr>\n",
       "      <th>2</th>\n",
       "      <td>105791105</td>\n",
       "      <td>Hangman's Climb</td>\n",
       "      <td>5.10a</td>\n",
       "      <td>3.6</td>\n",
       "      <td>83</td>\n",
       "      <td>1</td>\n",
       "      <td>California</td>\n",
       "      <td>San Diego and Environs</td>\n",
       "      <td>South San Diego County</td>\n",
       "      <td>Mission Gorge</td>\n",
       "      <td>Main Wall</td>\n",
       "      <td>-117.051</td>\n",
       "      <td>32.8266</td>\n",
       "      <td>https://www.mountainproject.com/route/10579110...</td>\n",
       "      <td>1</td>\n",
       "      <td>0</td>\n",
       "      <td>0</td>\n",
       "      <td>1</td>\n",
       "      <td>0</td>\n",
       "      <td>0</td>\n",
       "      <td>0</td>\n",
       "      <td>0</td>\n",
       "      <td>0</td>\n",
       "      <td>0</td>\n",
       "      <td>19</td>\n",
       "      <td>0</td>\n",
       "      <td>1</td>\n",
       "    </tr>\n",
       "    <tr>\n",
       "      <th>3</th>\n",
       "      <td>105791139</td>\n",
       "      <td>Mariah</td>\n",
       "      <td>5.10a</td>\n",
       "      <td>3.9</td>\n",
       "      <td>54</td>\n",
       "      <td>1</td>\n",
       "      <td>California</td>\n",
       "      <td>San Diego and Environs</td>\n",
       "      <td>South San Diego County</td>\n",
       "      <td>Mission Gorge</td>\n",
       "      <td>Main Wall</td>\n",
       "      <td>-117.051</td>\n",
       "      <td>32.8266</td>\n",
       "      <td>https://www.mountainproject.com/route/10579113...</td>\n",
       "      <td>0</td>\n",
       "      <td>1</td>\n",
       "      <td>0</td>\n",
       "      <td>1</td>\n",
       "      <td>0</td>\n",
       "      <td>0</td>\n",
       "      <td>0</td>\n",
       "      <td>0</td>\n",
       "      <td>0</td>\n",
       "      <td>0</td>\n",
       "      <td>19</td>\n",
       "      <td>0</td>\n",
       "      <td>1</td>\n",
       "    </tr>\n",
       "    <tr>\n",
       "      <th>4</th>\n",
       "      <td>105791566</td>\n",
       "      <td>Suzie's Wild Ride</td>\n",
       "      <td>5.9-</td>\n",
       "      <td>3.6</td>\n",
       "      <td>201</td>\n",
       "      <td>1</td>\n",
       "      <td>California</td>\n",
       "      <td>San Diego and Environs</td>\n",
       "      <td>South San Diego County</td>\n",
       "      <td>Mission Gorge</td>\n",
       "      <td>Main Wall</td>\n",
       "      <td>-117.051</td>\n",
       "      <td>32.8267</td>\n",
       "      <td>https://www.mountainproject.com/route/10579156...</td>\n",
       "      <td>1</td>\n",
       "      <td>0</td>\n",
       "      <td>0</td>\n",
       "      <td>0</td>\n",
       "      <td>0</td>\n",
       "      <td>0</td>\n",
       "      <td>0</td>\n",
       "      <td>0</td>\n",
       "      <td>0</td>\n",
       "      <td>0</td>\n",
       "      <td>16</td>\n",
       "      <td>0</td>\n",
       "      <td>1</td>\n",
       "    </tr>\n",
       "  </tbody>\n",
       "</table>\n",
       "</div>"
      ],
      "text/plain": [
       "          id               name rating  stars  starVotes  pitches    location  \\\n",
       "0  105724579        Bacon Flake    5.8    3.2         69        1  California   \n",
       "1  105791087           Knob Job    5.8    3.0         63        1  California   \n",
       "2  105791105    Hangman's Climb  5.10a    3.6         83        1  California   \n",
       "3  105791139             Mariah  5.10a    3.9         54        1  California   \n",
       "4  105791566  Suzie's Wild Ride   5.9-    3.6        201        1  California   \n",
       "\n",
       "                      region                    area       sub_area  \\\n",
       "0  Joshua Tree National Park          Echo Rock Area      Echo Cove   \n",
       "1     San Diego and Environs  South San Diego County  Mission Gorge   \n",
       "2     San Diego and Environs  South San Diego County  Mission Gorge   \n",
       "3     San Diego and Environs  South San Diego County  Mission Gorge   \n",
       "4     San Diego and Environs  South San Diego County  Mission Gorge   \n",
       "\n",
       "                     wall  longitude  latitude  \\\n",
       "0  Echo Cove - South Face   -117.074   33.0866   \n",
       "1               Main Wall   -117.051   32.8269   \n",
       "2               Main Wall   -117.051   32.8266   \n",
       "3               Main Wall   -117.051   32.8266   \n",
       "4               Main Wall   -117.051   32.8267   \n",
       "\n",
       "                                                 url  Sport  Trad  Boulder  \\\n",
       "0  https://www.mountainproject.com/route/10572457...      0     1        0   \n",
       "1  https://www.mountainproject.com/route/10579108...      0     0        0   \n",
       "2  https://www.mountainproject.com/route/10579110...      1     0        0   \n",
       "3  https://www.mountainproject.com/route/10579113...      0     1        0   \n",
       "4  https://www.mountainproject.com/route/10579156...      1     0        0   \n",
       "\n",
       "   TR  Alpine  Aid  Ice  Snow  Mixed  danger  rope_grade  boulder_grade  \\\n",
       "0   1       0    0    0     0      0       0          14              0   \n",
       "1   1       0    0    0     0      0       0          14              0   \n",
       "2   1       0    0    0     0      0       0          19              0   \n",
       "3   1       0    0    0     0      0       0          19              0   \n",
       "4   0       0    0    0     0      0       0          16              0   \n",
       "\n",
       "   in_range  \n",
       "0         1  \n",
       "1         1  \n",
       "2         1  \n",
       "3         1  \n",
       "4         1  "
      ]
     },
     "execution_count": 15,
     "metadata": {},
     "output_type": "execute_result"
    }
   ],
   "source": [
    "df_in_range = df_numeric[df_numeric['in_range']==1].reset_index()\n",
    "target_index =df_in_range.index[df_in_range['id']==target_id][0]\n",
    "df_in_range.head()"
   ]
  },
  {
   "cell_type": "markdown",
   "metadata": {},
   "source": [
    "### Scale Features"
   ]
  },
  {
   "cell_type": "markdown",
   "metadata": {},
   "source": [
    "#### Create Features DF"
   ]
  },
  {
   "cell_type": "code",
   "execution_count": 16,
   "metadata": {
    "ExecuteTime": {
     "end_time": "2020-01-13T17:26:58.264299Z",
     "start_time": "2020-01-13T17:26:58.259794Z"
    }
   },
   "outputs": [],
   "source": [
    "#creates features df used for comparison\n",
    "features = df_in_range.loc[:,['stars', 'pitches', 'Sport', 'Trad', 'Boulder', 'TR', 'Alpine', 'Aid',\n",
    "       'Ice', 'Snow', 'Mixed', 'danger', 'rope_grade', 'boulder_grade']] #,'longitude','latitude',"
   ]
  },
  {
   "cell_type": "code",
   "execution_count": 17,
   "metadata": {
    "ExecuteTime": {
     "end_time": "2020-01-13T17:27:00.229389Z",
     "start_time": "2020-01-13T17:27:00.219697Z"
    }
   },
   "outputs": [
    {
     "data": {
      "text/html": [
       "<div>\n",
       "<style scoped>\n",
       "    .dataframe tbody tr th:only-of-type {\n",
       "        vertical-align: middle;\n",
       "    }\n",
       "\n",
       "    .dataframe tbody tr th {\n",
       "        vertical-align: top;\n",
       "    }\n",
       "\n",
       "    .dataframe thead th {\n",
       "        text-align: right;\n",
       "    }\n",
       "</style>\n",
       "<table border=\"1\" class=\"dataframe\">\n",
       "  <thead>\n",
       "    <tr style=\"text-align: right;\">\n",
       "      <th></th>\n",
       "      <th>stars</th>\n",
       "      <th>pitches</th>\n",
       "      <th>Sport</th>\n",
       "      <th>Trad</th>\n",
       "      <th>Boulder</th>\n",
       "      <th>TR</th>\n",
       "      <th>Alpine</th>\n",
       "      <th>Aid</th>\n",
       "      <th>Ice</th>\n",
       "      <th>Snow</th>\n",
       "      <th>Mixed</th>\n",
       "      <th>danger</th>\n",
       "      <th>rope_grade</th>\n",
       "      <th>boulder_grade</th>\n",
       "    </tr>\n",
       "  </thead>\n",
       "  <tbody>\n",
       "    <tr>\n",
       "      <th>0</th>\n",
       "      <td>3.2</td>\n",
       "      <td>1</td>\n",
       "      <td>0</td>\n",
       "      <td>1</td>\n",
       "      <td>0</td>\n",
       "      <td>1</td>\n",
       "      <td>0</td>\n",
       "      <td>0</td>\n",
       "      <td>0</td>\n",
       "      <td>0</td>\n",
       "      <td>0</td>\n",
       "      <td>0</td>\n",
       "      <td>14</td>\n",
       "      <td>0</td>\n",
       "    </tr>\n",
       "    <tr>\n",
       "      <th>1</th>\n",
       "      <td>3.0</td>\n",
       "      <td>1</td>\n",
       "      <td>0</td>\n",
       "      <td>0</td>\n",
       "      <td>0</td>\n",
       "      <td>1</td>\n",
       "      <td>0</td>\n",
       "      <td>0</td>\n",
       "      <td>0</td>\n",
       "      <td>0</td>\n",
       "      <td>0</td>\n",
       "      <td>0</td>\n",
       "      <td>14</td>\n",
       "      <td>0</td>\n",
       "    </tr>\n",
       "    <tr>\n",
       "      <th>2</th>\n",
       "      <td>3.6</td>\n",
       "      <td>1</td>\n",
       "      <td>1</td>\n",
       "      <td>0</td>\n",
       "      <td>0</td>\n",
       "      <td>1</td>\n",
       "      <td>0</td>\n",
       "      <td>0</td>\n",
       "      <td>0</td>\n",
       "      <td>0</td>\n",
       "      <td>0</td>\n",
       "      <td>0</td>\n",
       "      <td>19</td>\n",
       "      <td>0</td>\n",
       "    </tr>\n",
       "    <tr>\n",
       "      <th>3</th>\n",
       "      <td>3.9</td>\n",
       "      <td>1</td>\n",
       "      <td>0</td>\n",
       "      <td>1</td>\n",
       "      <td>0</td>\n",
       "      <td>1</td>\n",
       "      <td>0</td>\n",
       "      <td>0</td>\n",
       "      <td>0</td>\n",
       "      <td>0</td>\n",
       "      <td>0</td>\n",
       "      <td>0</td>\n",
       "      <td>19</td>\n",
       "      <td>0</td>\n",
       "    </tr>\n",
       "    <tr>\n",
       "      <th>4</th>\n",
       "      <td>3.6</td>\n",
       "      <td>1</td>\n",
       "      <td>1</td>\n",
       "      <td>0</td>\n",
       "      <td>0</td>\n",
       "      <td>0</td>\n",
       "      <td>0</td>\n",
       "      <td>0</td>\n",
       "      <td>0</td>\n",
       "      <td>0</td>\n",
       "      <td>0</td>\n",
       "      <td>0</td>\n",
       "      <td>16</td>\n",
       "      <td>0</td>\n",
       "    </tr>\n",
       "  </tbody>\n",
       "</table>\n",
       "</div>"
      ],
      "text/plain": [
       "   stars  pitches  Sport  Trad  Boulder  TR  Alpine  Aid  Ice  Snow  Mixed  \\\n",
       "0    3.2        1      0     1        0   1       0    0    0     0      0   \n",
       "1    3.0        1      0     0        0   1       0    0    0     0      0   \n",
       "2    3.6        1      1     0        0   1       0    0    0     0      0   \n",
       "3    3.9        1      0     1        0   1       0    0    0     0      0   \n",
       "4    3.6        1      1     0        0   0       0    0    0     0      0   \n",
       "\n",
       "   danger  rope_grade  boulder_grade  \n",
       "0       0          14              0  \n",
       "1       0          14              0  \n",
       "2       0          19              0  \n",
       "3       0          19              0  \n",
       "4       0          16              0  "
      ]
     },
     "execution_count": 17,
     "metadata": {},
     "output_type": "execute_result"
    }
   ],
   "source": [
    "features.head()"
   ]
  },
  {
   "cell_type": "markdown",
   "metadata": {},
   "source": [
    "#### Pick scaling type"
   ]
  },
  {
   "cell_type": "code",
   "execution_count": 18,
   "metadata": {
    "ExecuteTime": {
     "end_time": "2020-01-13T17:27:04.394834Z",
     "start_time": "2020-01-13T17:27:04.392476Z"
    }
   },
   "outputs": [],
   "source": [
    "min_max_scaler = MinMaxScaler()\n",
    "scalar = StandardScaler()"
   ]
  },
  {
   "cell_type": "code",
   "execution_count": 19,
   "metadata": {
    "ExecuteTime": {
     "end_time": "2020-01-13T17:27:06.303073Z",
     "start_time": "2020-01-13T17:27:06.297963Z"
    }
   },
   "outputs": [],
   "source": [
    "##### Pick a scaling option ###############################\n",
    "\n",
    "features_scaled = scalar.fit_transform(features)\n",
    "# features_scaled = min_max_scaler.fit_transform(features)\n",
    "\n",
    "##################################################################"
   ]
  },
  {
   "cell_type": "markdown",
   "metadata": {},
   "source": [
    "### Now lets fit the similarity model"
   ]
  },
  {
   "cell_type": "markdown",
   "metadata": {},
   "source": [
    "#### Rec function"
   ]
  },
  {
   "cell_type": "code",
   "execution_count": null,
   "metadata": {
    "ExecuteTime": {
     "end_time": "2020-01-13T17:14:39.980948Z",
     "start_time": "2020-01-13T17:14:39.974990Z"
    }
   },
   "outputs": [],
   "source": [
    "def get_recommendations(idx, kernel_type):\n",
    "\n",
    "    #value to store scores and indicies\n",
    "    score_matrix = np.ndarray(shape=(len(df_in_range),2), dtype=float)\n",
    "\n",
    "    #go through the target climb vs all onthers in our db and populate score mtx with index and similarity\n",
    "    for i in range(df_in_range.shape[0]):\n",
    "        score = kernel_type(features_scaled[idx].reshape(1,-1),features_scaled[i].reshape(1,-1))\n",
    "        score_matrix[i][0] =  i        ##the index comparison corresponding to the score\n",
    "        score_matrix[i][1] = score     ##the score for the current index\n",
    "\n",
    "    # Sort the climbs based on the similarity scores\n",
    "    score_matrix = sorted(score_matrix, key=lambda x: x[1], reverse=True)\n",
    "    \n",
    "    # score_matrix\n",
    "#########################  ADD/calculate SIMilarity VALUE   ###########################\n",
    "    # # Get the scores of the 20 most similar climbs\n",
    "    score_matrix = score_matrix[1:20]\n",
    "\n",
    "    # # Get the climb indices (& cast to ints)\n",
    "    climb_indices = [int(i[0]) for i in score_matrix]\n",
    "    \n",
    "    # Return the top 20 most similar climbs\n",
    "    return df_in_range.loc[climb_indices,:]"
   ]
  },
  {
   "cell_type": "markdown",
   "metadata": {},
   "source": [
    "#### Call rec fxn"
   ]
  },
  {
   "cell_type": "code",
   "execution_count": null,
   "metadata": {
    "ExecuteTime": {
     "end_time": "2020-01-13T16:59:11.446994Z",
     "start_time": "2020-01-13T16:59:11.423657Z"
    }
   },
   "outputs": [],
   "source": [
    "df[df['name']=='Leonids']"
   ]
  },
  {
   "cell_type": "code",
   "execution_count": null,
   "metadata": {
    "ExecuteTime": {
     "end_time": "2020-01-10T15:49:21.368118Z",
     "start_time": "2020-01-10T15:49:21.351812Z"
    }
   },
   "outputs": [],
   "source": [
    "df[df['id']==climb_id]"
   ]
  },
  {
   "cell_type": "code",
   "execution_count": null,
   "metadata": {
    "ExecuteTime": {
     "end_time": "2020-01-10T15:36:44.027046Z",
     "start_time": "2020-01-10T15:36:44.007595Z"
    }
   },
   "outputs": [],
   "source": [
    "df[(df['boulder_grade']==47) & (df['danger']>=2)]"
   ]
  },
  {
   "cell_type": "code",
   "execution_count": null,
   "metadata": {
    "ExecuteTime": {
     "end_time": "2020-01-13T17:14:45.709022Z",
     "start_time": "2020-01-13T17:14:45.470027Z"
    },
    "scrolled": true
   },
   "outputs": [],
   "source": [
    "rec=get_recommendations(110, cosine_similarity)\n",
    "rec"
   ]
  },
  {
   "cell_type": "code",
   "execution_count": null,
   "metadata": {
    "ExecuteTime": {
     "end_time": "2020-01-13T16:57:32.734812Z",
     "start_time": "2020-01-13T16:57:32.730093Z"
    }
   },
   "outputs": [],
   "source": [
    "cosine_similarity(features_scaled[target_index].reshape(1,-1),features_scaled[898].reshape(1,-1))"
   ]
  },
  {
   "cell_type": "code",
   "execution_count": null,
   "metadata": {
    "ExecuteTime": {
     "end_time": "2020-01-13T17:03:50.835411Z",
     "start_time": "2020-01-13T17:03:50.621897Z"
    },
    "scrolled": true
   },
   "outputs": [],
   "source": [
    "rec=get_recommendations(target_index, cosine_similarity)\n",
    "rec"
   ]
  },
  {
   "cell_type": "code",
   "execution_count": null,
   "metadata": {
    "ExecuteTime": {
     "end_time": "2020-01-13T17:03:53.525015Z",
     "start_time": "2020-01-13T17:03:53.353163Z"
    },
    "scrolled": true
   },
   "outputs": [],
   "source": [
    "rec=get_recommendations(target_index, rbf_kernel)\n",
    "rec"
   ]
  },
  {
   "cell_type": "code",
   "execution_count": null,
   "metadata": {
    "ExecuteTime": {
     "end_time": "2020-01-13T17:03:56.102687Z",
     "start_time": "2020-01-13T17:03:55.922169Z"
    },
    "scrolled": true
   },
   "outputs": [],
   "source": [
    "rec=get_recommendations(target_index, laplacian_kernel)\n",
    "rec"
   ]
  },
  {
   "cell_type": "code",
   "execution_count": null,
   "metadata": {
    "ExecuteTime": {
     "end_time": "2020-01-13T17:03:58.505792Z",
     "start_time": "2020-01-13T17:03:58.387989Z"
    }
   },
   "outputs": [],
   "source": [
    "rec=get_recommendations(target_index, euclidean_distances)\n",
    "rec"
   ]
  },
  {
   "cell_type": "code",
   "execution_count": null,
   "metadata": {
    "ExecuteTime": {
     "end_time": "2020-01-13T17:04:00.966440Z",
     "start_time": "2020-01-13T17:04:00.872352Z"
    }
   },
   "outputs": [],
   "source": [
    "rec=get_recommendations(target_index, linear_kernel)\n",
    "rec"
   ]
  },
  {
   "cell_type": "code",
   "execution_count": null,
   "metadata": {
    "ExecuteTime": {
     "end_time": "2020-01-13T17:04:03.725584Z",
     "start_time": "2020-01-13T17:04:03.605778Z"
    }
   },
   "outputs": [],
   "source": [
    "rec=get_recommendations(target_index, polynomial_kernel)\n",
    "rec"
   ]
  },
  {
   "cell_type": "code",
   "execution_count": null,
   "metadata": {
    "ExecuteTime": {
     "end_time": "2020-01-13T17:21:28.382317Z",
     "start_time": "2020-01-13T17:21:28.250783Z"
    }
   },
   "outputs": [],
   "source": [
    "rec=get_recommendations(target_index, sigmoid_kernel)\n",
    "rec"
   ]
  },
  {
   "cell_type": "code",
   "execution_count": null,
   "metadata": {
    "ExecuteTime": {
     "end_time": "2020-01-09T17:20:20.787092Z",
     "start_time": "2020-01-09T17:20:20.770433Z"
    }
   },
   "outputs": [],
   "source": [
    "# rec=get_recommendations(climb_id, chi2_kernel)\n",
    "# rec"
   ]
  },
  {
   "cell_type": "code",
   "execution_count": null,
   "metadata": {},
   "outputs": [],
   "source": []
  },
  {
   "cell_type": "code",
   "execution_count": null,
   "metadata": {},
   "outputs": [],
   "source": []
  },
  {
   "cell_type": "code",
   "execution_count": null,
   "metadata": {},
   "outputs": [],
   "source": []
  },
  {
   "cell_type": "code",
   "execution_count": null,
   "metadata": {},
   "outputs": [],
   "source": []
  },
  {
   "cell_type": "code",
   "execution_count": null,
   "metadata": {},
   "outputs": [],
   "source": []
  }
 ],
 "metadata": {
  "kernelspec": {
   "display_name": "Python 3",
   "language": "python",
   "name": "python3"
  },
  "language_info": {
   "codemirror_mode": {
    "name": "ipython",
    "version": 3
   },
   "file_extension": ".py",
   "mimetype": "text/x-python",
   "name": "python",
   "nbconvert_exporter": "python",
   "pygments_lexer": "ipython3",
   "version": "3.7.3"
  },
  "varInspector": {
   "cols": {
    "lenName": 16,
    "lenType": 16,
    "lenVar": 40
   },
   "kernels_config": {
    "python": {
     "delete_cmd_postfix": "",
     "delete_cmd_prefix": "del ",
     "library": "var_list.py",
     "varRefreshCmd": "print(var_dic_list())"
    },
    "r": {
     "delete_cmd_postfix": ") ",
     "delete_cmd_prefix": "rm(",
     "library": "var_list.r",
     "varRefreshCmd": "cat(var_dic_list()) "
    }
   },
   "position": {
    "height": "567px",
    "left": "1321px",
    "right": "20px",
    "top": "120px",
    "width": "338px"
   },
   "types_to_exclude": [
    "module",
    "function",
    "builtin_function_or_method",
    "instance",
    "_Feature"
   ],
   "window_display": false
  }
 },
 "nbformat": 4,
 "nbformat_minor": 2
}
